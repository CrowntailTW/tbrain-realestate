{
 "cells": [
  {
   "cell_type": "code",
   "execution_count": 1,
   "metadata": {},
   "outputs": [
    {
     "data": {
      "application/javascript": [
       "IPython.notebook.set_autosave_interval(0)"
      ]
     },
     "metadata": {},
     "output_type": "display_data"
    },
    {
     "name": "stdout",
     "output_type": "stream",
     "text": [
      "Autosave disabled\n"
     ]
    }
   ],
   "source": [
    "%autosave 0"
   ]
  },
  {
   "cell_type": "code",
   "execution_count": 2,
   "metadata": {},
   "outputs": [],
   "source": [
    "import os\n",
    "import numpy as np\n",
    "import pandas as pd\n",
    "from scipy.optimize import minimize\n",
    "from sklearn.metrics import mean_squared_error, mean_absolute_error\n",
    "from utilities import cal_score, cal_mape"
   ]
  },
  {
   "cell_type": "code",
   "execution_count": 3,
   "metadata": {},
   "outputs": [],
   "source": [
    "stack_idx = '14'\n",
    "models = '1-22'\n",
    "use_test_kfold = set([2, 7, 8, 12, 13])\n",
    "\n",
    "is_per_area = True\n",
    "add_intercept = True"
   ]
  },
  {
   "cell_type": "markdown",
   "metadata": {},
   "source": [
    "### Read CV predictions and test"
   ]
  },
  {
   "cell_type": "code",
   "execution_count": 4,
   "metadata": {},
   "outputs": [],
   "source": [
    "def parse_models(exp):\n",
    "    exp_split = exp.split(',')\n",
    "    idx_models = []\n",
    "    for e in exp_split:\n",
    "        if '-' in e:\n",
    "            n0, n1 = e.split('-')\n",
    "            idx_models.extend(list(range(int(n0), int(n1)+1, 1)))\n",
    "        else:\n",
    "            idx_models.append(int(e))\n",
    "    return idx_models"
   ]
  },
  {
   "cell_type": "code",
   "execution_count": 5,
   "metadata": {},
   "outputs": [
    {
     "name": "stdout",
     "output_type": "stream",
     "text": [
      "[1, 2, 3, 4, 5, 6, 7, 8, 9, 10, 11, 12, 13, 14, 15, 16, 17, 18, 19, 20, 21, 22]\n"
     ]
    }
   ],
   "source": [
    "idx_models = parse_models(models)\n",
    "print(idx_models)"
   ]
  },
  {
   "cell_type": "code",
   "execution_count": 6,
   "metadata": {},
   "outputs": [],
   "source": [
    "files_in_output = [f for f in os.listdir('output/') if os.path.isfile('output/'+f)]\n",
    "files_cv = {idx: [f for f in files_in_output \n",
    "                  if f.startswith('model-%02d-' % idx) and f.endswith('cv.csv')][0] \n",
    "            for idx in idx_models}\n",
    "files_test_one = {idx: [f for f in files_in_output \n",
    "                        if f.startswith('model-%02d-' % idx) and f.endswith('test-one.csv')][0]\n",
    "                  for idx in idx_models}\n",
    "files_test_kf = {idx: [f for f in files_in_output \n",
    "                       if f.startswith('model-%02d-' % idx) and f.endswith('test-kfold.csv')][0]\n",
    "                 for idx in idx_models}"
   ]
  },
  {
   "cell_type": "code",
   "execution_count": 7,
   "metadata": {
    "scrolled": true
   },
   "outputs": [
    {
     "name": "stdout",
     "output_type": "stream",
     "text": [
      " 1 model-01-lgb-cv.csv\n",
      " 1 model-01-lgb-test-kfold.csv\n",
      " 1 model-01-lgb-test-one.csv\n",
      " 2 model-02-keras-search-cv.csv\n",
      " 2 model-02-keras-search-test-kfold.csv\n",
      " 2 model-02-keras-search-test-one.csv\n",
      " 3 model-03-lgb-feats-selection-cv.csv\n",
      " 3 model-03-lgb-feats-selection-test-kfold.csv\n",
      " 3 model-03-lgb-feats-selection-test-one.csv\n",
      " 4 model-04-lgb-PCA-cv.csv\n",
      " 4 model-04-lgb-PCA-test-kfold.csv\n",
      " 4 model-04-lgb-PCA-test-one.csv\n",
      " 5 model-05-lgb-wo-per-area-cv.csv\n",
      " 5 model-05-lgb-wo-per-area-test-kfold.csv\n",
      " 5 model-05-lgb-wo-per-area-test-one.csv\n",
      " 6 model-06-lgb-lr0.001-cv.csv\n",
      " 6 model-06-lgb-lr0.001-test-kfold.csv\n",
      " 6 model-06-lgb-lr0.001-test-one.csv\n",
      " 7 model-07-keras-embedding-cv.csv\n",
      " 7 model-07-keras-embedding-test-kfold.csv\n",
      " 7 model-07-keras-embedding-test-one.csv\n",
      " 8 model-08-keras-search-long-cv.csv\n",
      " 8 model-08-keras-search-long-test-kfold.csv\n",
      " 8 model-08-keras-search-long-test-one.csv\n",
      " 9 model-09-lgb-feats-selection-75-cv.csv\n",
      " 9 model-09-lgb-feats-selection-75-test-kfold.csv\n",
      " 9 model-09-lgb-feats-selection-75-test-one.csv\n",
      "10 model-10-lgb-feats-selection-75-lr-0.001-cv.csv\n",
      "10 model-10-lgb-feats-selection-75-lr-0.001-test-kfold.csv\n",
      "10 model-10-lgb-feats-selection-75-lr-0.001-test-one.csv\n",
      "11 model-11-rf-cv.csv\n",
      "11 model-11-rf-test-kfold.csv\n",
      "11 model-11-rf-test-one.csv\n",
      "12 model-12-predict-keras-search-prelu-cv.csv\n",
      "12 model-12-predict-keras-search-prelu-test-kfold.csv\n",
      "12 model-12-predict-keras-search-prelu-test-one.csv\n",
      "13 model-13-predict-keras-he_uni-cv.csv\n",
      "13 model-13-predict-keras-he_uni-test-kfold.csv\n",
      "13 model-13-predict-keras-he_uni-test-one.csv\n",
      "14 model-14-lgb-feats-selection-75-lr-0.001-rand-cv.csv\n",
      "14 model-14-lgb-feats-selection-75-lr-0.001-rand-test-kfold.csv\n",
      "14 model-14-lgb-feats-selection-75-lr-0.001-rand-test-one.csv\n",
      "15 model-15-lgb-feats-selection-75-lr-0.001-rand323-cv.csv\n",
      "15 model-15-lgb-feats-selection-75-lr-0.001-rand323-test-kfold.csv\n",
      "15 model-15-lgb-feats-selection-75-lr-0.001-rand323-test-one.csv\n",
      "16 model-16-lgb-feats-selection-68-lr-0.001-mix5-cv.csv\n",
      "16 model-16-lgb-feats-selection-68-lr-0.001-mix5-test-kfold.csv\n",
      "16 model-16-lgb-feats-selection-68-lr-0.001-mix5-test-one.csv\n",
      "17 model-17-lgb-feats-selection-70-lr-0.001-mix5-cv.csv\n",
      "17 model-17-lgb-feats-selection-70-lr-0.001-mix5-test-kfold.csv\n",
      "17 model-17-lgb-feats-selection-70-lr-0.001-mix5-test-one.csv\n",
      "18 model-18-lgb-feats-selection-70-lr-0.001-p5-cv.csv\n",
      "18 model-18-lgb-feats-selection-70-lr-0.001-p5-test-kfold.csv\n",
      "18 model-18-lgb-feats-selection-70-lr-0.001-p5-test-one.csv\n",
      "19 model-19-lgb-search-bins-lr-0.0005-cv.csv\n",
      "19 model-19-lgb-search-bins-lr-0.0005-test-kfold.csv\n",
      "19 model-19-lgb-search-bins-lr-0.0005-test-one.csv\n",
      "20 model-20-lgb-lr-0.0008-mix5-cv.csv\n",
      "20 model-20-lgb-lr-0.0008-mix5-test-kfold.csv\n",
      "20 model-20-lgb-lr-0.0008-mix5-test-one.csv\n",
      "21 model-21-lgb-wo-per-area-long-cv.csv\n",
      "21 model-21-lgb-wo-per-area-long-test-kfold.csv\n",
      "21 model-21-lgb-wo-per-area-long-test-one.csv\n",
      "22 model-22-lgb-wo-per-area-long-2-cv.csv\n",
      "22 model-22-lgb-wo-per-area-long-2-test-kfold.csv\n",
      "22 model-22-lgb-wo-per-area-long-2-test-one.csv\n"
     ]
    }
   ],
   "source": [
    "for k in files_cv: \n",
    "    print('%2d'%k, files_cv[k])\n",
    "    print('%2d'%k, files_test_kf[k])\n",
    "    print('%2d'%k, files_test_one[k])"
   ]
  },
  {
   "cell_type": "markdown",
   "metadata": {},
   "source": [
    "#### Load area"
   ]
  },
  {
   "cell_type": "code",
   "execution_count": 8,
   "metadata": {},
   "outputs": [],
   "source": [
    "df_train = pd.read_csv('dataset/train.csv')\n",
    "df_test = pd.read_csv('dataset/test.csv')"
   ]
  },
  {
   "cell_type": "code",
   "execution_count": 9,
   "metadata": {},
   "outputs": [],
   "source": [
    "cv = df_train[['building_id', 'building_area', 'total_price']]\n",
    "test = df_test[['building_id', 'building_area']]"
   ]
  },
  {
   "cell_type": "code",
   "execution_count": 10,
   "metadata": {},
   "outputs": [
    {
     "name": "stdout",
     "output_type": "stream",
     "text": [
      "CV predictions:\n",
      "No. 0 file: model-01-lgb-cv.csv\n",
      "No. 1 file: model-02-keras-search-cv.csv\n",
      "No. 2 file: model-03-lgb-feats-selection-cv.csv\n",
      "No. 3 file: model-04-lgb-PCA-cv.csv\n",
      "No. 4 file: model-05-lgb-wo-per-area-cv.csv\n",
      "No. 5 file: model-06-lgb-lr0.001-cv.csv\n",
      "No. 6 file: model-07-keras-embedding-cv.csv\n",
      "No. 7 file: model-08-keras-search-long-cv.csv\n",
      "No. 8 file: model-09-lgb-feats-selection-75-cv.csv\n",
      "No. 9 file: model-10-lgb-feats-selection-75-lr-0.001-cv.csv\n",
      "No. 10 file: model-11-rf-cv.csv\n",
      "No. 11 file: model-12-predict-keras-search-prelu-cv.csv\n",
      "No. 12 file: model-13-predict-keras-he_uni-cv.csv\n",
      "No. 13 file: model-14-lgb-feats-selection-75-lr-0.001-rand-cv.csv\n",
      "No. 14 file: model-15-lgb-feats-selection-75-lr-0.001-rand323-cv.csv\n",
      "No. 15 file: model-16-lgb-feats-selection-68-lr-0.001-mix5-cv.csv\n",
      "No. 16 file: model-17-lgb-feats-selection-70-lr-0.001-mix5-cv.csv\n",
      "No. 17 file: model-18-lgb-feats-selection-70-lr-0.001-p5-cv.csv\n",
      "No. 18 file: model-19-lgb-search-bins-lr-0.0005-cv.csv\n",
      "No. 19 file: model-20-lgb-lr-0.0008-mix5-cv.csv\n",
      "No. 20 file: model-21-lgb-wo-per-area-long-cv.csv\n",
      "No. 21 file: model-22-lgb-wo-per-area-long-2-cv.csv\n"
     ]
    }
   ],
   "source": [
    "print('CV predictions:')\n",
    "for i, idx_model in enumerate(idx_models):\n",
    "    f = files_cv[idx_model]\n",
    "    print('No. {} file: {}'.format(i, f))\n",
    "    df = pd.read_csv('output/'+f)\n",
    "    \n",
    "    cv = pd.merge(cv, df[['building_id', 'total_price_predict']], on='building_id')\n",
    "    \n",
    "    cv = cv.rename(columns = {'total_price_predict': 'pred_{}'.format(idx_model)})\n",
    "    cv[f'log_pred_{idx_model}'] = np.log1p(cv[f'pred_{idx_model}'])\n",
    "    cv[f'log_parea_pred_{idx_model}'] = np.log1p( cv[f'pred_{idx_model}'] / cv['building_area'] )"
   ]
  },
  {
   "cell_type": "code",
   "execution_count": 11,
   "metadata": {},
   "outputs": [
    {
     "name": "stdout",
     "output_type": "stream",
     "text": [
      "Test predictions:\n",
      "No. 0 file: model-01-lgb-test-one.csv\n",
      "No. 1 file: model-02-keras-search-test-kfold.csv\n",
      "No. 2 file: model-03-lgb-feats-selection-test-one.csv\n",
      "No. 3 file: model-04-lgb-PCA-test-one.csv\n",
      "No. 4 file: model-05-lgb-wo-per-area-test-one.csv\n",
      "No. 5 file: model-06-lgb-lr0.001-test-one.csv\n",
      "No. 6 file: model-07-keras-embedding-test-kfold.csv\n",
      "No. 7 file: model-08-keras-search-long-test-kfold.csv\n",
      "No. 8 file: model-09-lgb-feats-selection-75-test-one.csv\n",
      "No. 9 file: model-10-lgb-feats-selection-75-lr-0.001-test-one.csv\n",
      "No. 10 file: model-11-rf-test-one.csv\n",
      "No. 11 file: model-12-predict-keras-search-prelu-test-kfold.csv\n",
      "No. 12 file: model-13-predict-keras-he_uni-test-kfold.csv\n",
      "No. 13 file: model-14-lgb-feats-selection-75-lr-0.001-rand-test-one.csv\n",
      "No. 14 file: model-15-lgb-feats-selection-75-lr-0.001-rand323-test-one.csv\n",
      "No. 15 file: model-16-lgb-feats-selection-68-lr-0.001-mix5-test-one.csv\n",
      "No. 16 file: model-17-lgb-feats-selection-70-lr-0.001-mix5-test-one.csv\n",
      "No. 17 file: model-18-lgb-feats-selection-70-lr-0.001-p5-test-one.csv\n",
      "No. 18 file: model-19-lgb-search-bins-lr-0.0005-test-one.csv\n",
      "No. 19 file: model-20-lgb-lr-0.0008-mix5-test-one.csv\n",
      "No. 20 file: model-21-lgb-wo-per-area-long-test-one.csv\n",
      "No. 21 file: model-22-lgb-wo-per-area-long-2-test-one.csv\n"
     ]
    }
   ],
   "source": [
    "cv['log_total_price'] = np.log1p(cv['total_price'])\n",
    "cv['log_parea_total_price'] = np.log1p( cv['total_price'] / cv['building_area'] )\n",
    "\n",
    "print('Test predictions:')\n",
    "for i, idx in enumerate(idx_models):\n",
    "    f = files_test_kf[idx] if idx in use_test_kfold else files_test_one[idx]\n",
    "    print('No. {} file: {}'.format(i, f))\n",
    "    df = pd.read_csv('output/'+f)\n",
    "\n",
    "    test = pd.merge(test, df[['building_id','total_price']], on='building_id')\n",
    "        \n",
    "    test = test.rename(columns = {'total_price': 'pred_{}'.format(idx)})\n",
    "    test[f'log_pred_{idx}'] = np.log1p(test[f'pred_{idx}'])\n",
    "    test[f'log_parea_pred_{idx}'] = np.log1p( test[f'pred_{idx}'] / test['building_area'] )"
   ]
  },
  {
   "cell_type": "code",
   "execution_count": 12,
   "metadata": {},
   "outputs": [
    {
     "data": {
      "text/html": [
       "<div>\n",
       "<style scoped>\n",
       "    .dataframe tbody tr th:only-of-type {\n",
       "        vertical-align: middle;\n",
       "    }\n",
       "\n",
       "    .dataframe tbody tr th {\n",
       "        vertical-align: top;\n",
       "    }\n",
       "\n",
       "    .dataframe thead th {\n",
       "        text-align: right;\n",
       "    }\n",
       "</style>\n",
       "<table border=\"1\" class=\"dataframe\">\n",
       "  <thead>\n",
       "    <tr style=\"text-align: right;\">\n",
       "      <th></th>\n",
       "      <th>building_id</th>\n",
       "      <th>building_area</th>\n",
       "      <th>total_price</th>\n",
       "      <th>pred_1</th>\n",
       "      <th>log_pred_1</th>\n",
       "      <th>log_parea_pred_1</th>\n",
       "      <th>pred_2</th>\n",
       "      <th>log_pred_2</th>\n",
       "      <th>log_parea_pred_2</th>\n",
       "      <th>pred_3</th>\n",
       "      <th>...</th>\n",
       "      <th>log_pred_20</th>\n",
       "      <th>log_parea_pred_20</th>\n",
       "      <th>pred_21</th>\n",
       "      <th>log_pred_21</th>\n",
       "      <th>log_parea_pred_21</th>\n",
       "      <th>pred_22</th>\n",
       "      <th>log_pred_22</th>\n",
       "      <th>log_parea_pred_22</th>\n",
       "      <th>log_total_price</th>\n",
       "      <th>log_parea_total_price</th>\n",
       "    </tr>\n",
       "  </thead>\n",
       "  <tbody>\n",
       "    <tr>\n",
       "      <th>0</th>\n",
       "      <td>e3mMIMR3JJqCaXz1</td>\n",
       "      <td>3.418175</td>\n",
       "      <td>6.476038e+05</td>\n",
       "      <td>6.331552e+05</td>\n",
       "      <td>13.358472</td>\n",
       "      <td>12.129369</td>\n",
       "      <td>717209.94</td>\n",
       "      <td>13.483125</td>\n",
       "      <td>12.254022</td>\n",
       "      <td>6.656891e+05</td>\n",
       "      <td>...</td>\n",
       "      <td>13.367018</td>\n",
       "      <td>12.137915</td>\n",
       "      <td>6.959114e+05</td>\n",
       "      <td>13.452979</td>\n",
       "      <td>12.223876</td>\n",
       "      <td>6.949261e+05</td>\n",
       "      <td>13.451562</td>\n",
       "      <td>12.222459</td>\n",
       "      <td>13.381036</td>\n",
       "      <td>12.151933</td>\n",
       "    </tr>\n",
       "    <tr>\n",
       "      <th>1</th>\n",
       "      <td>LgwzgklNvy4QCtq5</td>\n",
       "      <td>4.041309</td>\n",
       "      <td>3.321452e+06</td>\n",
       "      <td>3.064324e+06</td>\n",
       "      <td>14.935338</td>\n",
       "      <td>13.538770</td>\n",
       "      <td>2899842.20</td>\n",
       "      <td>14.880167</td>\n",
       "      <td>13.483600</td>\n",
       "      <td>3.079196e+06</td>\n",
       "      <td>...</td>\n",
       "      <td>14.969561</td>\n",
       "      <td>13.572994</td>\n",
       "      <td>3.125225e+06</td>\n",
       "      <td>14.955017</td>\n",
       "      <td>13.558450</td>\n",
       "      <td>3.130663e+06</td>\n",
       "      <td>14.956756</td>\n",
       "      <td>13.560188</td>\n",
       "      <td>15.015913</td>\n",
       "      <td>13.619345</td>\n",
       "    </tr>\n",
       "    <tr>\n",
       "      <th>2</th>\n",
       "      <td>ucIR2NLLsC3T650L</td>\n",
       "      <td>5.584279</td>\n",
       "      <td>9.570885e+06</td>\n",
       "      <td>9.827776e+06</td>\n",
       "      <td>16.100723</td>\n",
       "      <td>14.380769</td>\n",
       "      <td>9766813.00</td>\n",
       "      <td>16.094501</td>\n",
       "      <td>14.374546</td>\n",
       "      <td>9.814852e+06</td>\n",
       "      <td>...</td>\n",
       "      <td>16.098194</td>\n",
       "      <td>14.378239</td>\n",
       "      <td>9.883518e+06</td>\n",
       "      <td>16.106379</td>\n",
       "      <td>14.386424</td>\n",
       "      <td>9.911790e+06</td>\n",
       "      <td>16.109236</td>\n",
       "      <td>14.389281</td>\n",
       "      <td>16.074236</td>\n",
       "      <td>14.354282</td>\n",
       "    </tr>\n",
       "    <tr>\n",
       "      <th>3</th>\n",
       "      <td>jre1pJhcQj91Kdky</td>\n",
       "      <td>13.563031</td>\n",
       "      <td>1.421501e+07</td>\n",
       "      <td>1.255350e+07</td>\n",
       "      <td>16.345510</td>\n",
       "      <td>13.738164</td>\n",
       "      <td>12699800.00</td>\n",
       "      <td>16.357097</td>\n",
       "      <td>13.749750</td>\n",
       "      <td>1.255981e+07</td>\n",
       "      <td>...</td>\n",
       "      <td>16.354260</td>\n",
       "      <td>13.746914</td>\n",
       "      <td>1.282443e+07</td>\n",
       "      <td>16.366863</td>\n",
       "      <td>13.759516</td>\n",
       "      <td>1.279904e+07</td>\n",
       "      <td>16.364881</td>\n",
       "      <td>13.757534</td>\n",
       "      <td>16.469809</td>\n",
       "      <td>13.862462</td>\n",
       "    </tr>\n",
       "    <tr>\n",
       "      <th>4</th>\n",
       "      <td>rQpYpY9nRG7X5mmr</td>\n",
       "      <td>4.688108</td>\n",
       "      <td>7.627120e+05</td>\n",
       "      <td>1.215194e+06</td>\n",
       "      <td>14.010415</td>\n",
       "      <td>12.465389</td>\n",
       "      <td>2012610.50</td>\n",
       "      <td>14.514944</td>\n",
       "      <td>12.969916</td>\n",
       "      <td>1.128419e+06</td>\n",
       "      <td>...</td>\n",
       "      <td>13.933257</td>\n",
       "      <td>12.388231</td>\n",
       "      <td>1.236214e+06</td>\n",
       "      <td>14.027565</td>\n",
       "      <td>12.482539</td>\n",
       "      <td>1.239269e+06</td>\n",
       "      <td>14.030033</td>\n",
       "      <td>12.485007</td>\n",
       "      <td>13.544637</td>\n",
       "      <td>11.999613</td>\n",
       "    </tr>\n",
       "  </tbody>\n",
       "</table>\n",
       "<p>5 rows × 71 columns</p>\n",
       "</div>"
      ],
      "text/plain": [
       "        building_id  building_area   total_price        pred_1  log_pred_1  \\\n",
       "0  e3mMIMR3JJqCaXz1       3.418175  6.476038e+05  6.331552e+05   13.358472   \n",
       "1  LgwzgklNvy4QCtq5       4.041309  3.321452e+06  3.064324e+06   14.935338   \n",
       "2  ucIR2NLLsC3T650L       5.584279  9.570885e+06  9.827776e+06   16.100723   \n",
       "3  jre1pJhcQj91Kdky      13.563031  1.421501e+07  1.255350e+07   16.345510   \n",
       "4  rQpYpY9nRG7X5mmr       4.688108  7.627120e+05  1.215194e+06   14.010415   \n",
       "\n",
       "   log_parea_pred_1       pred_2  log_pred_2  log_parea_pred_2        pred_3  \\\n",
       "0         12.129369    717209.94   13.483125         12.254022  6.656891e+05   \n",
       "1         13.538770   2899842.20   14.880167         13.483600  3.079196e+06   \n",
       "2         14.380769   9766813.00   16.094501         14.374546  9.814852e+06   \n",
       "3         13.738164  12699800.00   16.357097         13.749750  1.255981e+07   \n",
       "4         12.465389   2012610.50   14.514944         12.969916  1.128419e+06   \n",
       "\n",
       "   ...  log_pred_20  log_parea_pred_20       pred_21  log_pred_21  \\\n",
       "0  ...    13.367018          12.137915  6.959114e+05    13.452979   \n",
       "1  ...    14.969561          13.572994  3.125225e+06    14.955017   \n",
       "2  ...    16.098194          14.378239  9.883518e+06    16.106379   \n",
       "3  ...    16.354260          13.746914  1.282443e+07    16.366863   \n",
       "4  ...    13.933257          12.388231  1.236214e+06    14.027565   \n",
       "\n",
       "   log_parea_pred_21       pred_22  log_pred_22  log_parea_pred_22  \\\n",
       "0          12.223876  6.949261e+05    13.451562          12.222459   \n",
       "1          13.558450  3.130663e+06    14.956756          13.560188   \n",
       "2          14.386424  9.911790e+06    16.109236          14.389281   \n",
       "3          13.759516  1.279904e+07    16.364881          13.757534   \n",
       "4          12.482539  1.239269e+06    14.030033          12.485007   \n",
       "\n",
       "   log_total_price  log_parea_total_price  \n",
       "0        13.381036              12.151933  \n",
       "1        15.015913              13.619345  \n",
       "2        16.074236              14.354282  \n",
       "3        16.469809              13.862462  \n",
       "4        13.544637              11.999613  \n",
       "\n",
       "[5 rows x 71 columns]"
      ]
     },
     "metadata": {},
     "output_type": "display_data"
    },
    {
     "data": {
      "text/html": [
       "<div>\n",
       "<style scoped>\n",
       "    .dataframe tbody tr th:only-of-type {\n",
       "        vertical-align: middle;\n",
       "    }\n",
       "\n",
       "    .dataframe tbody tr th {\n",
       "        vertical-align: top;\n",
       "    }\n",
       "\n",
       "    .dataframe thead th {\n",
       "        text-align: right;\n",
       "    }\n",
       "</style>\n",
       "<table border=\"1\" class=\"dataframe\">\n",
       "  <thead>\n",
       "    <tr style=\"text-align: right;\">\n",
       "      <th></th>\n",
       "      <th>building_id</th>\n",
       "      <th>building_area</th>\n",
       "      <th>pred_1</th>\n",
       "      <th>log_pred_1</th>\n",
       "      <th>log_parea_pred_1</th>\n",
       "      <th>pred_2</th>\n",
       "      <th>log_pred_2</th>\n",
       "      <th>log_parea_pred_2</th>\n",
       "      <th>pred_3</th>\n",
       "      <th>log_pred_3</th>\n",
       "      <th>...</th>\n",
       "      <th>log_parea_pred_19</th>\n",
       "      <th>pred_20</th>\n",
       "      <th>log_pred_20</th>\n",
       "      <th>log_parea_pred_20</th>\n",
       "      <th>pred_21</th>\n",
       "      <th>log_pred_21</th>\n",
       "      <th>log_parea_pred_21</th>\n",
       "      <th>pred_22</th>\n",
       "      <th>log_pred_22</th>\n",
       "      <th>log_parea_pred_22</th>\n",
       "    </tr>\n",
       "  </thead>\n",
       "  <tbody>\n",
       "    <tr>\n",
       "      <th>0</th>\n",
       "      <td>X5gsdTWGS3W7JJQB</td>\n",
       "      <td>3.418175</td>\n",
       "      <td>1.526912e+07</td>\n",
       "      <td>16.541343</td>\n",
       "      <td>15.312236</td>\n",
       "      <td>12470072.0</td>\n",
       "      <td>16.338842</td>\n",
       "      <td>15.109735</td>\n",
       "      <td>1.531685e+07</td>\n",
       "      <td>16.544464</td>\n",
       "      <td>...</td>\n",
       "      <td>15.245864</td>\n",
       "      <td>1.478805e+07</td>\n",
       "      <td>16.509330</td>\n",
       "      <td>15.280223</td>\n",
       "      <td>1.237427e+07</td>\n",
       "      <td>16.331130</td>\n",
       "      <td>15.102023</td>\n",
       "      <td>1.201060e+07</td>\n",
       "      <td>16.301300</td>\n",
       "      <td>15.072193</td>\n",
       "    </tr>\n",
       "    <tr>\n",
       "      <th>1</th>\n",
       "      <td>BTshNOJyKHnT2YIT</td>\n",
       "      <td>7.726227</td>\n",
       "      <td>3.924241e+06</td>\n",
       "      <td>15.182684</td>\n",
       "      <td>13.138065</td>\n",
       "      <td>3916552.2</td>\n",
       "      <td>15.180723</td>\n",
       "      <td>13.136104</td>\n",
       "      <td>3.977095e+06</td>\n",
       "      <td>15.196062</td>\n",
       "      <td>...</td>\n",
       "      <td>13.134906</td>\n",
       "      <td>3.918591e+06</td>\n",
       "      <td>15.181243</td>\n",
       "      <td>13.136624</td>\n",
       "      <td>3.933908e+06</td>\n",
       "      <td>15.185144</td>\n",
       "      <td>13.140525</td>\n",
       "      <td>3.933533e+06</td>\n",
       "      <td>15.185049</td>\n",
       "      <td>13.140430</td>\n",
       "    </tr>\n",
       "    <tr>\n",
       "      <th>2</th>\n",
       "      <td>dhdymr0lV8N5kZOT</td>\n",
       "      <td>12.170581</td>\n",
       "      <td>1.096127e+07</td>\n",
       "      <td>16.209879</td>\n",
       "      <td>13.710858</td>\n",
       "      <td>11912735.0</td>\n",
       "      <td>16.293119</td>\n",
       "      <td>13.794098</td>\n",
       "      <td>1.084967e+07</td>\n",
       "      <td>16.199646</td>\n",
       "      <td>...</td>\n",
       "      <td>13.686933</td>\n",
       "      <td>1.069408e+07</td>\n",
       "      <td>16.185201</td>\n",
       "      <td>13.686181</td>\n",
       "      <td>1.137126e+07</td>\n",
       "      <td>16.246599</td>\n",
       "      <td>13.747579</td>\n",
       "      <td>1.146014e+07</td>\n",
       "      <td>16.254386</td>\n",
       "      <td>13.755365</td>\n",
       "    </tr>\n",
       "    <tr>\n",
       "      <th>3</th>\n",
       "      <td>VEwyGGMcD56w5BOc</td>\n",
       "      <td>2.252256</td>\n",
       "      <td>6.155550e+06</td>\n",
       "      <td>15.632865</td>\n",
       "      <td>14.820933</td>\n",
       "      <td>5940670.0</td>\n",
       "      <td>15.597333</td>\n",
       "      <td>14.785400</td>\n",
       "      <td>6.015238e+06</td>\n",
       "      <td>15.609807</td>\n",
       "      <td>...</td>\n",
       "      <td>14.796868</td>\n",
       "      <td>6.033528e+06</td>\n",
       "      <td>15.612843</td>\n",
       "      <td>14.800910</td>\n",
       "      <td>5.784739e+06</td>\n",
       "      <td>15.570734</td>\n",
       "      <td>14.758802</td>\n",
       "      <td>5.778982e+06</td>\n",
       "      <td>15.569738</td>\n",
       "      <td>14.757806</td>\n",
       "    </tr>\n",
       "    <tr>\n",
       "      <th>4</th>\n",
       "      <td>wmUeMoJZfsqaSX9b</td>\n",
       "      <td>5.813985</td>\n",
       "      <td>1.062995e+06</td>\n",
       "      <td>13.876602</td>\n",
       "      <td>12.116340</td>\n",
       "      <td>1088488.1</td>\n",
       "      <td>13.900301</td>\n",
       "      <td>12.140039</td>\n",
       "      <td>1.027248e+06</td>\n",
       "      <td>13.842395</td>\n",
       "      <td>...</td>\n",
       "      <td>12.138313</td>\n",
       "      <td>1.089268e+06</td>\n",
       "      <td>13.901017</td>\n",
       "      <td>12.140755</td>\n",
       "      <td>1.010440e+06</td>\n",
       "      <td>13.825898</td>\n",
       "      <td>12.065636</td>\n",
       "      <td>9.995482e+05</td>\n",
       "      <td>13.815060</td>\n",
       "      <td>12.054798</td>\n",
       "    </tr>\n",
       "  </tbody>\n",
       "</table>\n",
       "<p>5 rows × 68 columns</p>\n",
       "</div>"
      ],
      "text/plain": [
       "        building_id  building_area        pred_1  log_pred_1  \\\n",
       "0  X5gsdTWGS3W7JJQB       3.418175  1.526912e+07   16.541343   \n",
       "1  BTshNOJyKHnT2YIT       7.726227  3.924241e+06   15.182684   \n",
       "2  dhdymr0lV8N5kZOT      12.170581  1.096127e+07   16.209879   \n",
       "3  VEwyGGMcD56w5BOc       2.252256  6.155550e+06   15.632865   \n",
       "4  wmUeMoJZfsqaSX9b       5.813985  1.062995e+06   13.876602   \n",
       "\n",
       "   log_parea_pred_1      pred_2  log_pred_2  log_parea_pred_2        pred_3  \\\n",
       "0         15.312236  12470072.0   16.338842         15.109735  1.531685e+07   \n",
       "1         13.138065   3916552.2   15.180723         13.136104  3.977095e+06   \n",
       "2         13.710858  11912735.0   16.293119         13.794098  1.084967e+07   \n",
       "3         14.820933   5940670.0   15.597333         14.785400  6.015238e+06   \n",
       "4         12.116340   1088488.1   13.900301         12.140039  1.027248e+06   \n",
       "\n",
       "   log_pred_3  ...  log_parea_pred_19       pred_20  log_pred_20  \\\n",
       "0   16.544464  ...          15.245864  1.478805e+07    16.509330   \n",
       "1   15.196062  ...          13.134906  3.918591e+06    15.181243   \n",
       "2   16.199646  ...          13.686933  1.069408e+07    16.185201   \n",
       "3   15.609807  ...          14.796868  6.033528e+06    15.612843   \n",
       "4   13.842395  ...          12.138313  1.089268e+06    13.901017   \n",
       "\n",
       "   log_parea_pred_20       pred_21  log_pred_21  log_parea_pred_21  \\\n",
       "0          15.280223  1.237427e+07    16.331130          15.102023   \n",
       "1          13.136624  3.933908e+06    15.185144          13.140525   \n",
       "2          13.686181  1.137126e+07    16.246599          13.747579   \n",
       "3          14.800910  5.784739e+06    15.570734          14.758802   \n",
       "4          12.140755  1.010440e+06    13.825898          12.065636   \n",
       "\n",
       "        pred_22  log_pred_22  log_parea_pred_22  \n",
       "0  1.201060e+07    16.301300          15.072193  \n",
       "1  3.933533e+06    15.185049          13.140430  \n",
       "2  1.146014e+07    16.254386          13.755365  \n",
       "3  5.778982e+06    15.569738          14.757806  \n",
       "4  9.995482e+05    13.815060          12.054798  \n",
       "\n",
       "[5 rows x 68 columns]"
      ]
     },
     "metadata": {},
     "output_type": "display_data"
    }
   ],
   "source": [
    "display(cv.head())\n",
    "display(test.head())"
   ]
  },
  {
   "cell_type": "markdown",
   "metadata": {},
   "source": [
    "### Check models scores"
   ]
  },
  {
   "cell_type": "code",
   "execution_count": 13,
   "metadata": {},
   "outputs": [
    {
     "name": "stdout",
     "output_type": "stream",
     "text": [
      " 0 model-01 5870.873059\n",
      " 1 model-02 5400.852164\n",
      " 2 model-03 5877.873452\n",
      " 3 model-04 5713.867808\n",
      " 4 model-05 5724.869598\n",
      " 5 model-06 5886.873769\n",
      " 6 model-07 5171.836449\n",
      " 7 model-08 5514.858826\n",
      " 8 model-09 5872.873118\n",
      " 9 model-10 5897.873845\n",
      "10 model-11 5075.838018\n",
      "11 model-12 5486.856963\n",
      "12 model-13 5506.858055\n",
      "13 model-14 5908.873901\n",
      "14 model-15 5900.873836\n",
      "15 model-16 5907.874126\n",
      "16 model-17 5905.874165\n",
      "17 model-18 5908.874297\n",
      "18 model-19 5911.874156\n",
      "19 model-20 5908.874040\n",
      "20 model-21 5758.870702\n",
      "21 model-22 5752.870671\n"
     ]
    }
   ],
   "source": [
    "for i, idx_model in enumerate(idx_models):\n",
    "    print('%2d'%i, 'model-%02d'%idx_model, '%.6f'%cal_score(cv['total_price'], cv[f'pred_{idx_model}']))"
   ]
  },
  {
   "cell_type": "code",
   "execution_count": 14,
   "metadata": {},
   "outputs": [],
   "source": [
    "cv['constant_1'] = 1\n",
    "test['constant_1'] = 1\n",
    "\n",
    "if is_per_area:\n",
    "    cols_opt = [f'log_parea_pred_{idx}' for idx in idx_models]\n",
    "else:\n",
    "    cols_opt = [f'log_pred_{idx}' for idx in idx_models]\n",
    "\n",
    "if add_intercept:\n",
    "    cols_opt.append('constant_1')"
   ]
  },
  {
   "cell_type": "markdown",
   "metadata": {},
   "source": [
    "### Define opt function"
   ]
  },
  {
   "cell_type": "code",
   "execution_count": 15,
   "metadata": {},
   "outputs": [],
   "source": [
    "def objective(x, metric):\n",
    "    cv_pred_final = cv.loc[:,cols_opt].dot(x)\n",
    "    \n",
    "    if is_per_area:\n",
    "        cv_pred_final = np.expm1(cv_pred_final) * cv['building_area']\n",
    "    else:\n",
    "        cv_pred_final = np.expm1(cv_pred_final)\n",
    "\n",
    "    global best_score\n",
    "    global best_coeffs\n",
    "    score = cal_score(cv['total_price'], cv_pred_final)\n",
    "    if score > best_score[metric]:\n",
    "        best_score[metric] = score\n",
    "        best_coeffs[metric] = x.copy()\n",
    "        print('find better score:')\n",
    "        print('score: ', score)\n",
    "        print('coeffs: ', x)\n",
    "        print()\n",
    "    \n",
    "    if metric == 'mape':\n",
    "        return cal_mape(cv['total_price'], cv_pred_final)\n",
    "    elif metric == 'mse':\n",
    "        return mean_squared_error(cv['total_price'], cv_pred_final)\n",
    "    elif metric == 'mae':\n",
    "        return mean_absolute_error(cv['total_price'], cv_pred_final)\n",
    "    else:\n",
    "        raise Exception('metric unknown: {}'.format(metric))\n",
    "#    return 1 - (cal_score(cv['total_price'], cv_pred_final)/10000)"
   ]
  },
  {
   "cell_type": "markdown",
   "metadata": {},
   "source": [
    "### Optimize"
   ]
  },
  {
   "cell_type": "code",
   "execution_count": 16,
   "metadata": {
    "scrolled": false
   },
   "outputs": [
    {
     "name": "stdout",
     "output_type": "stream",
     "text": [
      "Optimizing with init x0: [0.043478260869565216, 0.043478260869565216, 0.043478260869565216, 0.043478260869565216, 0.043478260869565216, 0.043478260869565216, 0.043478260869565216, 0.043478260869565216, 0.043478260869565216, 0.043478260869565216, 0.043478260869565216, 0.043478260869565216, 0.043478260869565216, 0.043478260869565216, 0.043478260869565216, 0.043478260869565216, 0.043478260869565216, 0.043478260869565216, 0.043478260869565216, 0.043478260869565216, 0.043478260869565216, 0.043478260869565216, 0.043478260869565216]\n",
      "\n",
      "find better score:\n",
      "score:  136.5834708921144\n",
      "coeffs:  [0.04347826 0.04347826 0.04347826 0.04347826 0.04347826 0.04347826\n",
      " 0.04347826 0.04347826 0.04347826 0.04347826 0.04347826 0.04347826\n",
      " 0.04347826 0.04347826 0.04347826 0.04347826 0.04347826 0.04347826\n",
      " 0.04347826 0.04347826 0.04347826 0.04347826 0.04347826]\n",
      "\n",
      "find better score:\n",
      "score:  136.58347100473912\n",
      "coeffs:  [0.04347828 0.04347826 0.04347826 0.04347826 0.04347826 0.04347826\n",
      " 0.04347826 0.04347826 0.04347826 0.04347826 0.04347826 0.04347826\n",
      " 0.04347826 0.04347826 0.04347826 0.04347826 0.04347826 0.04347826\n",
      " 0.04347826 0.04347826 0.04347826 0.04347826 0.04347826]\n",
      "\n",
      "find better score:\n",
      "score:  136.58347100473952\n",
      "coeffs:  [0.04347826 0.04347826 0.04347828 0.04347826 0.04347826 0.04347826\n",
      " 0.04347826 0.04347826 0.04347826 0.04347826 0.04347826 0.04347826\n",
      " 0.04347826 0.04347826 0.04347826 0.04347826 0.04347826 0.04347826\n",
      " 0.04347826 0.04347826 0.04347826 0.04347826 0.04347826]\n",
      "\n",
      "find better score:\n",
      "score:  136.58347100474393\n",
      "coeffs:  [0.04347826 0.04347826 0.04347826 0.04347828 0.04347826 0.04347826\n",
      " 0.04347826 0.04347826 0.04347826 0.04347826 0.04347826 0.04347826\n",
      " 0.04347826 0.04347826 0.04347826 0.04347826 0.04347826 0.04347826\n",
      " 0.04347826 0.04347826 0.04347826 0.04347826 0.04347826]\n",
      "\n",
      "find better score:\n",
      "score:  136.5834710048034\n",
      "coeffs:  [0.04347826 0.04347826 0.04347826 0.04347826 0.04347826 0.04347826\n",
      " 0.04347826 0.04347826 0.04347826 0.04347826 0.04347828 0.04347826\n",
      " 0.04347826 0.04347826 0.04347826 0.04347826 0.04347826 0.04347826\n",
      " 0.04347826 0.04347826 0.04347826 0.04347826 0.04347826]\n",
      "\n",
      "find better score:\n",
      "score:  1502.7877778877048\n",
      "coeffs:  [0.04459223 0.04459193 0.04459224 0.04459228 0.04459228 0.04459223\n",
      " 0.04459179 0.04459228 0.04459223 0.04459223 0.04459287 0.04459222\n",
      " 0.04459215 0.04459223 0.04459224 0.04459223 0.04459223 0.04459223\n",
      " 0.04459223 0.04459223 0.04459228 0.04459228 0.04356086]\n",
      "\n",
      "find better score:\n",
      "score:  1502.7877780139916\n",
      "coeffs:  [0.04459225 0.04459193 0.04459224 0.04459228 0.04459228 0.04459223\n",
      " 0.04459179 0.04459228 0.04459223 0.04459223 0.04459287 0.04459222\n",
      " 0.04459215 0.04459223 0.04459224 0.04459223 0.04459223 0.04459223\n",
      " 0.04459223 0.04459223 0.04459228 0.04459228 0.04356086]\n",
      "\n",
      "find better score:\n",
      "score:  1502.7877780139947\n",
      "coeffs:  [0.04459223 0.04459193 0.04459225 0.04459228 0.04459228 0.04459223\n",
      " 0.04459179 0.04459228 0.04459223 0.04459223 0.04459287 0.04459222\n",
      " 0.04459215 0.04459223 0.04459224 0.04459223 0.04459223 0.04459223\n",
      " 0.04459223 0.04459223 0.04459228 0.04459228 0.04356086]\n",
      "\n",
      "find better score:\n",
      "score:  1502.7877780140052\n",
      "coeffs:  [0.04459223 0.04459193 0.04459224 0.04459228 0.04459229 0.04459223\n",
      " 0.04459179 0.04459228 0.04459223 0.04459223 0.04459287 0.04459222\n",
      " 0.04459215 0.04459223 0.04459224 0.04459223 0.04459223 0.04459223\n",
      " 0.04459223 0.04459223 0.04459228 0.04459228 0.04356086]\n",
      "\n",
      "find better score:\n",
      "score:  1502.7877780140059\n",
      "coeffs:  [0.04459223 0.04459193 0.04459224 0.04459228 0.04459228 0.04459223\n",
      " 0.04459179 0.04459228 0.04459223 0.04459223 0.04459287 0.04459222\n",
      " 0.04459215 0.04459223 0.04459224 0.04459223 0.04459223 0.04459223\n",
      " 0.04459223 0.04459223 0.04459228 0.0445923  0.04356086]\n",
      "\n",
      "find better score:\n",
      "score:  5840.874024805256\n",
      "coeffs:  [0.0452197  0.04521923 0.04521971 0.04521977 0.04521977 0.0452197\n",
      " 0.04521901 0.04521977 0.04521969 0.0452197  0.04522069 0.04521968\n",
      " 0.04521957 0.0452197  0.04521971 0.0452197  0.0452197  0.0452197\n",
      " 0.0452197  0.0452197  0.04521977 0.04521978 0.04360739]\n",
      "\n",
      "find better score:\n",
      "score:  5840.8740248294735\n",
      "coeffs:  [0.04521971 0.04521923 0.04521971 0.04521977 0.04521977 0.0452197\n",
      " 0.04521901 0.04521977 0.04521969 0.0452197  0.04522069 0.04521968\n",
      " 0.04521957 0.0452197  0.04521971 0.0452197  0.0452197  0.0452197\n",
      " 0.0452197  0.0452197  0.04521977 0.04521978 0.04360739]\n",
      "\n",
      "find better score:\n",
      "score:  5840.874024829479\n",
      "coeffs:  [0.0452197  0.04521923 0.04521972 0.04521977 0.04521977 0.0452197\n",
      " 0.04521901 0.04521977 0.04521969 0.0452197  0.04522069 0.04521968\n",
      " 0.04521957 0.0452197  0.04521971 0.0452197  0.0452197  0.0452197\n",
      " 0.0452197  0.0452197  0.04521977 0.04521978 0.04360739]\n",
      "\n",
      "find better score:\n",
      "score:  5840.874024829486\n",
      "coeffs:  [0.0452197  0.04521923 0.04521971 0.04521977 0.04521979 0.0452197\n",
      " 0.04521901 0.04521977 0.04521969 0.0452197  0.04522069 0.04521968\n",
      " 0.04521957 0.0452197  0.04521971 0.0452197  0.0452197  0.0452197\n",
      " 0.0452197  0.0452197  0.04521977 0.04521978 0.04360739]\n",
      "\n",
      "find better score:\n",
      "score:  5911.875038532666\n",
      "coeffs:  [0.04533034 0.0451003  0.04537004 0.04526651 0.04542199 0.04535038\n",
      " 0.04516452 0.04521842 0.04534236 0.04537895 0.04404917 0.04513797\n",
      " 0.04511302 0.0453851  0.04537459 0.04539412 0.04539686 0.04541077\n",
      " 0.04541366 0.04540823 0.04541629 0.04542219 0.04260294]\n",
      "\n",
      "find better score:\n",
      "score:  5911.87503853855\n",
      "coeffs:  [0.04533036 0.0451003  0.04537004 0.04526651 0.04542199 0.04535038\n",
      " 0.04516452 0.04521842 0.04534236 0.04537895 0.04404917 0.04513797\n",
      " 0.04511302 0.0453851  0.04537459 0.04539412 0.04539686 0.04541077\n",
      " 0.04541366 0.04540823 0.04541629 0.04542219 0.04260294]\n",
      "\n",
      "find better score:\n",
      "score:  5911.875038538556\n",
      "coeffs:  [0.04533034 0.0451003  0.04537006 0.04526651 0.04542199 0.04535038\n",
      " 0.04516452 0.04521842 0.04534236 0.04537895 0.04404917 0.04513797\n",
      " 0.04511302 0.0453851  0.04537459 0.04539412 0.04539686 0.04541077\n",
      " 0.04541366 0.04540823 0.04541629 0.04542219 0.04260294]\n",
      "\n",
      "find better score:\n",
      "score:  5911.875038538563\n",
      "coeffs:  [0.04533034 0.0451003  0.04537004 0.04526651 0.04542201 0.04535038\n",
      " 0.04516452 0.04521842 0.04534236 0.04537895 0.04404917 0.04513797\n",
      " 0.04511302 0.0453851  0.04537459 0.04539412 0.04539686 0.04541077\n",
      " 0.04541366 0.04540823 0.04541629 0.04542219 0.04260294]\n",
      "\n",
      "find better score:\n",
      "score:  5911.875038538564\n",
      "coeffs:  [0.04533034 0.0451003  0.04537004 0.04526651 0.04542199 0.04535038\n",
      " 0.04516452 0.04521842 0.04534236 0.04537895 0.04404917 0.04513797\n",
      " 0.04511302 0.0453851  0.04537459 0.04539412 0.04539686 0.04541077\n",
      " 0.04541366 0.04540823 0.04541629 0.04542221 0.04260294]\n",
      "\n",
      "find better score:\n",
      "score:  5918.875297528042\n",
      "coeffs:  [0.0459558  0.04383538 0.04638972 0.04516866 0.04692415 0.04617745\n",
      " 0.043836   0.04515151 0.04604174 0.04640787 0.03260925 0.04409033\n",
      " 0.04383015 0.04648564 0.04639305 0.04658761 0.04663573 0.04679379\n",
      " 0.04683706 0.04675422 0.04694186 0.04698202 0.03408994]\n",
      "\n",
      "find better score:\n",
      "score:  5936.875703625919\n",
      "coeffs:  [0.04753439 0.04026502 0.04907659 0.04500961 0.05091996 0.0483182\n",
      " 0.04003661 0.04508383 0.04784083 0.0491554  0.00180137 0.04130146\n",
      " 0.04043352 0.04942573 0.04909749 0.04979073 0.049951   0.0505148\n",
      " 0.0506776  0.05034836 0.05103389 0.05117819 0.01089   ]\n",
      "\n",
      "find better score:\n",
      "score:  5957.876218227303\n",
      "coeffs:  [ 0.05034239  0.03331307  0.05436646  0.04507004  0.05867989  0.05240603\n",
      "  0.03287165  0.04536033  0.05118987  0.05449076 -0.06001271  0.03590809\n",
      "  0.03394488  0.05519223  0.05434479  0.05613764  0.05654322  0.05799525\n",
      "  0.05843431  0.05752588  0.05891519  0.05930984 -0.03625956]\n",
      "\n",
      "Optimizing with init x0: [0, 0, 0, 0, 0, 0, 0, 0, 0, 0, 0, 0, 0, 0, 0, 0, 0, 0, 0, 0, 0, 0, 0]\n",
      "\n",
      "Optimizing with init x0: [0.1, 0.1, 0.1, 0.1, 0.1, 0.1, 0.1, 0.1, 0.1, 0.1, 0.1, 0.1, 0.1, 0.1, 0.1, 0.1, 0.1, 0.1, 0.1, 0.1, 0.1, 0.1, 0.1]\n",
      "\n",
      "Optimizing with init x0: [0.2, 0.2, 0.2, 0.2, 0.2, 0.2, 0.2, 0.2, 0.2, 0.2, 0.2, 0.2, 0.2, 0.2, 0.2, 0.2, 0.2, 0.2, 0.2, 0.2, 0.2, 0.2, 0.2]\n",
      "\n",
      "Optimizing with init x0: [0.5, 0.5, 0.5, 0.5, 0.5, 0.5, 0.5, 0.5, 0.5, 0.5, 0.5, 0.5, 0.5, 0.5, 0.5, 0.5, 0.5, 0.5, 0.5, 0.5, 0.5, 0.5, 0.5]\n",
      "\n"
     ]
    },
    {
     "name": "stderr",
     "output_type": "stream",
     "text": [
      "/usr/local/lib/python3.7/site-packages/ipykernel_launcher.py:5: RuntimeWarning: overflow encountered in expm1\n",
      "  \"\"\"\n",
      "/usr/local/lib/python3.7/site-packages/scipy/optimize/optimize.py:670: RuntimeWarning: invalid value encountered in double_scalars\n",
      "  grad[k] = (f(*((xk + d,) + args)) - f0) / d[k]\n",
      "/usr/local/lib/python3.7/site-packages/ipykernel_launcher.py:5: RuntimeWarning: overflow encountered in expm1\n",
      "  \"\"\"\n"
     ]
    },
    {
     "name": "stdout",
     "output_type": "stream",
     "text": [
      "Optimizing with init x0: [0.7931507616119692, 0.4686064646123077, -0.08621185216905122, -0.7943903092027026, -0.16190159709783478, -0.7126266370570911, -0.0025906376068806428, -1.1775103535197995, 0.23561308573085155, -0.20565408060703164, -0.6638682894932864, -1.0847661753734907, 0.8203978631106578, 0.5488248062857909, 0.8498001712946024, 0.9760917501435737, -0.011449369027859549, -0.29203304182812595, 0.3065497517214345, 0.08936748825770746, -1.0671558189982837, 0.04327507000288603, -0.27414385976161026]\n",
      "\n",
      "Optimizing with init x0: [-0.1591979686639504, -1.440654540282246, 0.5371628099505412, -1.4762054544265892, -0.4163846540539303, 0.39781308378938596, 1.4160377981942847, 1.7254375388849204, 0.23976068265577735, -0.13631624881720197, 0.9331300659710647, -0.20054929193162296, 0.5740999574395329, 0.24433136877709202, 1.8860165606478658, 0.8770221615696334, -1.1634272637420175, 0.3996912144431338, 0.20393703212219436, 1.087158113448183, 0.5102258968838387, 0.7294055348062487, -0.6008222472171934]\n",
      "\n"
     ]
    },
    {
     "name": "stderr",
     "output_type": "stream",
     "text": [
      "/usr/local/lib/python3.7/site-packages/ipykernel_launcher.py:5: RuntimeWarning: overflow encountered in expm1\n",
      "  \"\"\"\n",
      "/usr/local/lib/python3.7/site-packages/scipy/optimize/optimize.py:670: RuntimeWarning: invalid value encountered in double_scalars\n",
      "  grad[k] = (f(*((xk + d,) + args)) - f0) / d[k]\n",
      "/usr/local/lib/python3.7/site-packages/ipykernel_launcher.py:5: RuntimeWarning: overflow encountered in expm1\n",
      "  \"\"\"\n"
     ]
    },
    {
     "name": "stdout",
     "output_type": "stream",
     "text": [
      "Optimizing with init x0: [0.8877676201684432, 0.2024304959881361, -0.6896437107291689, 0.66007057685652, 0.3235392283582651, 2.0958745746064253, 1.0461900123324581, -0.14065907441243125, -0.9263997786615719, -1.916459350318427, -0.7214700310962704, -1.2613717675837661, 0.5272604010112955, -0.5465548783355041, 0.4798921586464916, 0.21811321840834402, 0.4516507826973596, 0.8532160644374269, 1.784592439006428, 1.781696703075298, -0.7849816928742746, 1.1940142119644441, -0.887826690381513]\n",
      "\n"
     ]
    }
   ],
   "source": [
    "best_score = {}\n",
    "best_coeffs = {}\n",
    "\n",
    "len_x = len(cols_opt)\n",
    "rev_len_x = 1/len_x\n",
    "x0s = [ [1/len_x for i in range(len_x)],\n",
    "       [0 for i in range(len_x)],\n",
    "       [0.1 for i in range(len_x)],\n",
    "       [0.2 for i in range(len_x)],\n",
    "       [0.5 for i in range(len_x)],\n",
    "       [np.random.randn()+1/len_x for i in range(len_x)],\n",
    "       [np.random.randn()+1/len_x for i in range(len_x)],\n",
    "       [np.random.randn()+1/len_x for i in range(len_x)] ]\n",
    "\n",
    "for metric in ['mape']:\n",
    "#for metric in ['mape', 'mae', 'mse']:\n",
    "    best_score[metric] = 0\n",
    "    best_coeffs[metric] = []\n",
    "    for x0 in x0s:\n",
    "        print('Optimizing with init x0: {}'.format(x0))\n",
    "        print()\n",
    "        minimize(objective, x0, args=(metric))"
   ]
  },
  {
   "cell_type": "code",
   "execution_count": 17,
   "metadata": {},
   "outputs": [
    {
     "data": {
      "text/plain": [
       "{'mape': 5957.876218227303}"
      ]
     },
     "metadata": {},
     "output_type": "display_data"
    },
    {
     "data": {
      "text/plain": [
       "{'mape': array([ 0.05034239,  0.03331307,  0.05436646,  0.04507004,  0.05867989,\n",
       "         0.05240603,  0.03287165,  0.04536033,  0.05118987,  0.05449076,\n",
       "        -0.06001271,  0.03590809,  0.03394488,  0.05519223,  0.05434479,\n",
       "         0.05613764,  0.05654322,  0.05799525,  0.05843431,  0.05752588,\n",
       "         0.05891519,  0.05930984, -0.03625956])}"
      ]
     },
     "metadata": {},
     "output_type": "display_data"
    }
   ],
   "source": [
    "display(best_score)\n",
    "display(best_coeffs)"
   ]
  },
  {
   "cell_type": "markdown",
   "metadata": {},
   "source": [
    "### Compute submission"
   ]
  },
  {
   "cell_type": "code",
   "execution_count": 18,
   "metadata": {},
   "outputs": [],
   "source": [
    "test_pred_final = pd.DataFrame({'building_id': test['building_id']})\n",
    "\n",
    "test_pred_final['total_price'] = test.loc[:,cols_opt].dot(best_coeffs['mape'])\n",
    "\n",
    "if is_per_area:\n",
    "    test_pred_final['total_price'] = np.expm1(test_pred_final['total_price']) * test['building_area'] \n",
    "else:\n",
    "    test_pred_final['total_price'] = np.expm1(test_pred_final['total_price'])\n",
    "    \n",
    "test_pred_final['total_price'] = np.clip(test_pred_final['total_price'], 0, None)\n",
    "\n",
    "if is_per_area:\n",
    "    test_pred_final.to_csv('output/stack_spopt-parea_{}_{}.csv'.format(stack_idx, models), index=False)\n",
    "else:\n",
    "    test_pred_final.to_csv('output/stack_spopt_{}_{}.csv'.format(stack_idx, models), index=False)"
   ]
  },
  {
   "cell_type": "markdown",
   "metadata": {},
   "source": [
    "### Plots"
   ]
  },
  {
   "cell_type": "code",
   "execution_count": 19,
   "metadata": {},
   "outputs": [],
   "source": [
    "import matplotlib.pyplot as plt"
   ]
  },
  {
   "cell_type": "code",
   "execution_count": 20,
   "metadata": {},
   "outputs": [
    {
     "name": "stderr",
     "output_type": "stream",
     "text": [
      "/usr/local/lib/python3.7/site-packages/matplotlib/axes/_axes.py:6521: MatplotlibDeprecationWarning: \n",
      "The 'normed' kwarg was deprecated in Matplotlib 2.1 and will be removed in 3.1. Use 'density' instead.\n",
      "  alternative=\"'density'\", removal=\"3.1\")\n"
     ]
    },
    {
     "data": {
      "image/png": "[encoded data removed]",
      "text/plain": [
       "<Figure size 432x288 with 1 Axes>"
      ]
     },
     "metadata": {
      "needs_background": "light"
     },
     "output_type": "display_data"
    }
   ],
   "source": [
    "plt.hist(cv['log_parea_total_price'], bins=100, label='train true', normed=True)\n",
    "plt.hist(np.log1p(test_pred_final['total_price'] / test['building_area']), bins=100, label='test',\n",
    "         normed=True, alpha=0.7)\n",
    "plt.xlabel('log(price/area + 1)'); plt.ylabel('ratio')\n",
    "plt.legend(); plt.grid(); plt.show()"
   ]
  },
  {
   "cell_type": "code",
   "execution_count": 21,
   "metadata": {},
   "outputs": [
    {
     "data": {
      "image/png": "[encoded data removed]",
      "text/plain": [
       "<Figure size 432x288 with 1 Axes>"
      ]
     },
     "metadata": {
      "needs_background": "light"
     },
     "output_type": "display_data"
    }
   ],
   "source": [
    "plt.hist(cv['log_total_price'], bins=100, label='train true', normed=True)\n",
    "plt.hist(np.log1p(test_pred_final['total_price']), bins=100, label='test', normed=True, alpha=0.7)\n",
    "plt.xlabel('log(price + 1)'); plt.ylabel('ratio')\n",
    "plt.legend(); plt.grid(); plt.show()"
   ]
  },
  {
   "cell_type": "code",
   "execution_count": 22,
   "metadata": {},
   "outputs": [
    {
     "data": {
      "image/png": "[encoded data removed]",
      "text/plain": [
       "<Figure size 432x288 with 1 Axes>"
      ]
     },
     "metadata": {
      "needs_background": "light"
     },
     "output_type": "display_data"
    }
   ],
   "source": [
    "plt.hist(np.log1p(cv['building_area']), bins=100, label='train', normed=True)\n",
    "plt.hist(np.log1p(test['building_area']), bins=100, label='test', normed=True, alpha=0.7)\n",
    "plt.xlabel('log(building_area + 1)'); plt.ylabel('ratio'); plt.yscale('log')\n",
    "plt.legend(); plt.grid(); plt.show()"
   ]
  }
 ],
 "metadata": {
  "kernelspec": {
   "display_name": "Python 3",
   "language": "python",
   "name": "python3"
  },
  "language_info": {
   "codemirror_mode": {
    "name": "ipython",
    "version": 3
   },
   "file_extension": ".py",
   "mimetype": "text/x-python",
   "name": "python",
   "nbconvert_exporter": "python",
   "pygments_lexer": "ipython3",
   "version": "3.7.3"
  },
  "toc": {
   "base_numbering": 1,
   "nav_menu": {},
   "number_sections": true,
   "sideBar": true,
   "skip_h1_title": true,
   "title_cell": "Table of Contents",
   "title_sidebar": "Contents",
   "toc_cell": false,
   "toc_position": {},
   "toc_section_display": true,
   "toc_window_display": true
  }
 },
 "nbformat": 4,
 "nbformat_minor": 2
}
