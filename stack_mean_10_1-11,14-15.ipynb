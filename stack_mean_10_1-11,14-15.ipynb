{
 "cells": [
  {
   "cell_type": "code",
   "execution_count": 3,
   "metadata": {},
   "outputs": [
    {
     "data": {
      "application/javascript": [
       "IPython.notebook.set_autosave_interval(0)"
      ]
     },
     "metadata": {},
     "output_type": "display_data"
    },
    {
     "name": "stdout",
     "output_type": "stream",
     "text": [
      "Autosave disabled\n"
     ]
    }
   ],
   "source": [
    "%autosave 0"
   ]
  },
  {
   "cell_type": "code",
   "execution_count": 4,
   "metadata": {},
   "outputs": [],
   "source": [
    "import os\n",
    "import numpy as np\n",
    "import pandas as pd\n",
    "#from sklearn.linear_model import Lasso, LassoCV, LinearRegression\n",
    "#from sklearn.model_selection import KFold\n",
    "from utilities import cal_score"
   ]
  },
  {
   "cell_type": "code",
   "execution_count": 52,
   "metadata": {},
   "outputs": [],
   "source": [
    "stack_idx = '10'\n",
    "models = '1-11,14-15'\n",
    "use_test_kfold = set([2, 7, 8])\n",
    "\n",
    "#is_per_area = False\n",
    "#is_log = False"
   ]
  },
  {
   "cell_type": "markdown",
   "metadata": {},
   "source": [
    "### Read CV predictions and test"
   ]
  },
  {
   "cell_type": "code",
   "execution_count": 6,
   "metadata": {},
   "outputs": [],
   "source": [
    "def parse_models(exp):\n",
    "    exp_split = exp.split(',')\n",
    "    idx_models = []\n",
    "    for e in exp_split:\n",
    "        if '-' in e:\n",
    "            n0, n1 = e.split('-')\n",
    "            idx_models.extend(list(range(int(n0), int(n1)+1, 1)))\n",
    "        else:\n",
    "            idx_models.append(int(e))\n",
    "    return idx_models"
   ]
  },
  {
   "cell_type": "code",
   "execution_count": 7,
   "metadata": {},
   "outputs": [
    {
     "name": "stdout",
     "output_type": "stream",
     "text": [
      "[1, 2, 3, 4, 5, 6, 7, 8, 9, 10, 11, 14, 15]\n"
     ]
    }
   ],
   "source": [
    "idx_models = parse_models(models)\n",
    "print(idx_models)"
   ]
  },
  {
   "cell_type": "code",
   "execution_count": 8,
   "metadata": {},
   "outputs": [],
   "source": [
    "files_in_output = [f for f in os.listdir('output/') if os.path.isfile('output/'+f)]\n",
    "files_cv = {idx: [f for f in files_in_output \n",
    "                  if f.startswith('model-%02d-' % idx) and f.endswith('cv.csv')][0] \n",
    "            for idx in idx_models}\n",
    "files_test_one = {idx: [f for f in files_in_output \n",
    "                        if f.startswith('model-%02d-' % idx) and f.endswith('test-one.csv')][0]\n",
    "                  for idx in idx_models}\n",
    "files_test_kf = {idx: [f for f in files_in_output \n",
    "                       if f.startswith('model-%02d-' % idx) and f.endswith('test-kfold.csv')][0]\n",
    "                 for idx in idx_models}"
   ]
  },
  {
   "cell_type": "code",
   "execution_count": 9,
   "metadata": {
    "scrolled": true
   },
   "outputs": [
    {
     "name": "stdout",
     "output_type": "stream",
     "text": [
      " 1 model-01-lgb-cv.csv\n",
      " 1 model-01-lgb-test-kfold.csv\n",
      " 1 model-01-lgb-test-one.csv\n",
      " 2 model-02-keras-search-cv.csv\n",
      " 2 model-02-keras-search-test-kfold.csv\n",
      " 2 model-02-keras-search-test-one.csv\n",
      " 3 model-03-lgb-feats-selection-cv.csv\n",
      " 3 model-03-lgb-feats-selection-test-kfold.csv\n",
      " 3 model-03-lgb-feats-selection-test-one.csv\n",
      " 4 model-04-lgb-PCA-cv.csv\n",
      " 4 model-04-lgb-PCA-test-kfold.csv\n",
      " 4 model-04-lgb-PCA-test-one.csv\n",
      " 5 model-05-lgb-wo-per-area-cv.csv\n",
      " 5 model-05-lgb-wo-per-area-test-kfold.csv\n",
      " 5 model-05-lgb-wo-per-area-test-one.csv\n",
      " 6 model-06-lgb-lr0.001-cv.csv\n",
      " 6 model-06-lgb-lr0.001-test-kfold.csv\n",
      " 6 model-06-lgb-lr0.001-test-one.csv\n",
      " 7 model-07-keras-embedding-cv.csv\n",
      " 7 model-07-keras-embedding-test-kfold.csv\n",
      " 7 model-07-keras-embedding-test-one.csv\n",
      " 8 model-08-keras-search-long-cv.csv\n",
      " 8 model-08-keras-search-long-test-kfold.csv\n",
      " 8 model-08-keras-search-long-test-one.csv\n",
      " 9 model-09-lgb-feats-selection-75-cv.csv\n",
      " 9 model-09-lgb-feats-selection-75-test-kfold.csv\n",
      " 9 model-09-lgb-feats-selection-75-test-one.csv\n",
      "10 model-10-lgb-feats-selection-75-lr-0.001-cv.csv\n",
      "10 model-10-lgb-feats-selection-75-lr-0.001-test-kfold.csv\n",
      "10 model-10-lgb-feats-selection-75-lr-0.001-test-one.csv\n",
      "11 model-11-rf-cv.csv\n",
      "11 model-11-rf-test-kfold.csv\n",
      "11 model-11-rf-test-one.csv\n",
      "14 model-14-lgb-feats-selection-75-lr-0.001-rand-cv.csv\n",
      "14 model-14-lgb-feats-selection-75-lr-0.001-rand-test-kfold.csv\n",
      "14 model-14-lgb-feats-selection-75-lr-0.001-rand-test-one.csv\n",
      "15 model-15-lgb-feats-selection-75-lr-0.001-rand323-cv.csv\n",
      "15 model-15-lgb-feats-selection-75-lr-0.001-rand323-test-kfold.csv\n",
      "15 model-15-lgb-feats-selection-75-lr-0.001-rand323-test-one.csv\n"
     ]
    }
   ],
   "source": [
    "for k in files_cv: \n",
    "    print('%2d'%k, files_cv[k])\n",
    "    print('%2d'%k, files_test_kf[k])\n",
    "    print('%2d'%k, files_test_one[k])"
   ]
  },
  {
   "cell_type": "markdown",
   "metadata": {},
   "source": [
    "#### Load area"
   ]
  },
  {
   "cell_type": "code",
   "execution_count": 10,
   "metadata": {},
   "outputs": [],
   "source": [
    "df_train = pd.read_csv('dataset/train.csv')\n",
    "df_test = pd.read_csv('dataset/test.csv')"
   ]
  },
  {
   "cell_type": "code",
   "execution_count": 11,
   "metadata": {},
   "outputs": [
    {
     "name": "stdout",
     "output_type": "stream",
     "text": [
      "CV predictions:\n",
      "No. 0 file: model-01-lgb-cv.csv\n",
      "No. 1 file: model-02-keras-search-cv.csv\n",
      "No. 2 file: model-03-lgb-feats-selection-cv.csv\n",
      "No. 3 file: model-04-lgb-PCA-cv.csv\n",
      "No. 4 file: model-05-lgb-wo-per-area-cv.csv\n",
      "No. 5 file: model-06-lgb-lr0.001-cv.csv\n",
      "No. 6 file: model-07-keras-embedding-cv.csv\n",
      "No. 7 file: model-08-keras-search-long-cv.csv\n",
      "No. 8 file: model-09-lgb-feats-selection-75-cv.csv\n",
      "No. 9 file: model-10-lgb-feats-selection-75-lr-0.001-cv.csv\n",
      "No. 10 file: model-11-rf-cv.csv\n",
      "No. 11 file: model-14-lgb-feats-selection-75-lr-0.001-rand-cv.csv\n",
      "No. 12 file: model-15-lgb-feats-selection-75-lr-0.001-rand323-cv.csv\n",
      "Test predictions:\n",
      "No. 0 file: model-01-lgb-test-one.csv\n",
      "No. 1 file: model-02-keras-search-test-kfold.csv\n",
      "No. 2 file: model-03-lgb-feats-selection-test-one.csv\n",
      "No. 3 file: model-04-lgb-PCA-test-one.csv\n",
      "No. 4 file: model-05-lgb-wo-per-area-test-one.csv\n",
      "No. 5 file: model-06-lgb-lr0.001-test-one.csv\n",
      "No. 6 file: model-07-keras-embedding-test-kfold.csv\n",
      "No. 7 file: model-08-keras-search-long-test-kfold.csv\n",
      "No. 8 file: model-09-lgb-feats-selection-75-test-one.csv\n",
      "No. 9 file: model-10-lgb-feats-selection-75-lr-0.001-test-one.csv\n",
      "No. 10 file: model-11-rf-test-one.csv\n",
      "No. 11 file: model-14-lgb-feats-selection-75-lr-0.001-rand-test-one.csv\n",
      "No. 12 file: model-15-lgb-feats-selection-75-lr-0.001-rand323-test-one.csv\n"
     ]
    }
   ],
   "source": [
    "cv = df_train[['building_id', 'building_area', 'total_price']]\n",
    "test = df_test[['building_id', 'building_area']]\n",
    "\n",
    "print('CV predictions:')\n",
    "for i, idx_model in enumerate(idx_models):\n",
    "    f = files_cv[idx_model]\n",
    "    print('No. {} file: {}'.format(i, f))\n",
    "    df = pd.read_csv('output/'+f)\n",
    "    \n",
    "    cv = pd.merge(cv, df[['building_id', 'total_price_predict']], on='building_id')\n",
    "    \n",
    "    cv = cv.rename(columns = {'total_price_predict': 'pred_{}'.format(idx_model)})\n",
    "    cv[f'log_pred_{idx_model}'] = np.log1p(cv[f'pred_{idx_model}'])\n",
    "    cv[f'log_parea_pred_{idx_model}'] = np.log1p( cv[f'pred_{idx_model}'] / cv['building_area'] )\n",
    "\n",
    "cv['log_total_price'] = np.log1p(cv['total_price'])\n",
    "cv['log_parea_total_price'] = np.log1p( cv['total_price'] / cv['building_area'] )\n",
    "\n",
    "print('Test predictions:')\n",
    "for i, idx in enumerate(idx_models):\n",
    "    f = files_test_kf[idx] if idx in use_test_kfold else files_test_one[idx]\n",
    "    print('No. {} file: {}'.format(i, f))\n",
    "    df = pd.read_csv('output/'+f)\n",
    "\n",
    "    test = pd.merge(test, df[['building_id','total_price']], on='building_id')\n",
    "        \n",
    "    test = test.rename(columns = {'total_price': 'pred_{}'.format(idx)})\n",
    "    test[f'log_pred_{idx}'] = np.log1p(test[f'pred_{idx}'])\n",
    "    test[f'log_parea_pred_{idx}'] = np.log1p( test[f'pred_{idx}'] / test['building_area'] )"
   ]
  },
  {
   "cell_type": "code",
   "execution_count": 12,
   "metadata": {},
   "outputs": [
    {
     "data": {
      "text/html": [
       "<div>\n",
       "<style scoped>\n",
       "    .dataframe tbody tr th:only-of-type {\n",
       "        vertical-align: middle;\n",
       "    }\n",
       "\n",
       "    .dataframe tbody tr th {\n",
       "        vertical-align: top;\n",
       "    }\n",
       "\n",
       "    .dataframe thead th {\n",
       "        text-align: right;\n",
       "    }\n",
       "</style>\n",
       "<table border=\"1\" class=\"dataframe\">\n",
       "  <thead>\n",
       "    <tr style=\"text-align: right;\">\n",
       "      <th></th>\n",
       "      <th>building_id</th>\n",
       "      <th>building_area</th>\n",
       "      <th>total_price</th>\n",
       "      <th>pred_1</th>\n",
       "      <th>log_pred_1</th>\n",
       "      <th>log_parea_pred_1</th>\n",
       "      <th>pred_2</th>\n",
       "      <th>log_pred_2</th>\n",
       "      <th>log_parea_pred_2</th>\n",
       "      <th>pred_3</th>\n",
       "      <th>...</th>\n",
       "      <th>log_pred_11</th>\n",
       "      <th>log_parea_pred_11</th>\n",
       "      <th>pred_14</th>\n",
       "      <th>log_pred_14</th>\n",
       "      <th>log_parea_pred_14</th>\n",
       "      <th>pred_15</th>\n",
       "      <th>log_pred_15</th>\n",
       "      <th>log_parea_pred_15</th>\n",
       "      <th>log_total_price</th>\n",
       "      <th>log_parea_total_price</th>\n",
       "    </tr>\n",
       "  </thead>\n",
       "  <tbody>\n",
       "    <tr>\n",
       "      <th>0</th>\n",
       "      <td>e3mMIMR3JJqCaXz1</td>\n",
       "      <td>3.418175</td>\n",
       "      <td>6.476038e+05</td>\n",
       "      <td>6.331552e+05</td>\n",
       "      <td>13.358472</td>\n",
       "      <td>12.129369</td>\n",
       "      <td>717209.94</td>\n",
       "      <td>13.483125</td>\n",
       "      <td>12.254022</td>\n",
       "      <td>6.656891e+05</td>\n",
       "      <td>...</td>\n",
       "      <td>13.847480</td>\n",
       "      <td>12.618375</td>\n",
       "      <td>6.694336e+05</td>\n",
       "      <td>13.414189</td>\n",
       "      <td>12.185085</td>\n",
       "      <td>6.675904e+05</td>\n",
       "      <td>13.411432</td>\n",
       "      <td>12.182328</td>\n",
       "      <td>13.381036</td>\n",
       "      <td>12.151933</td>\n",
       "    </tr>\n",
       "    <tr>\n",
       "      <th>1</th>\n",
       "      <td>LgwzgklNvy4QCtq5</td>\n",
       "      <td>4.041309</td>\n",
       "      <td>3.321452e+06</td>\n",
       "      <td>3.064324e+06</td>\n",
       "      <td>14.935338</td>\n",
       "      <td>13.538770</td>\n",
       "      <td>2899842.20</td>\n",
       "      <td>14.880167</td>\n",
       "      <td>13.483600</td>\n",
       "      <td>3.079196e+06</td>\n",
       "      <td>...</td>\n",
       "      <td>14.965090</td>\n",
       "      <td>13.568522</td>\n",
       "      <td>3.145496e+06</td>\n",
       "      <td>14.961483</td>\n",
       "      <td>13.564915</td>\n",
       "      <td>3.153173e+06</td>\n",
       "      <td>14.963920</td>\n",
       "      <td>13.567353</td>\n",
       "      <td>15.015913</td>\n",
       "      <td>13.619345</td>\n",
       "    </tr>\n",
       "    <tr>\n",
       "      <th>2</th>\n",
       "      <td>ucIR2NLLsC3T650L</td>\n",
       "      <td>5.584279</td>\n",
       "      <td>9.570885e+06</td>\n",
       "      <td>9.827776e+06</td>\n",
       "      <td>16.100723</td>\n",
       "      <td>14.380769</td>\n",
       "      <td>9766813.00</td>\n",
       "      <td>16.094501</td>\n",
       "      <td>14.374546</td>\n",
       "      <td>9.814852e+06</td>\n",
       "      <td>...</td>\n",
       "      <td>16.049143</td>\n",
       "      <td>14.329188</td>\n",
       "      <td>9.748917e+06</td>\n",
       "      <td>16.092667</td>\n",
       "      <td>14.372712</td>\n",
       "      <td>9.736865e+06</td>\n",
       "      <td>16.091430</td>\n",
       "      <td>14.371475</td>\n",
       "      <td>16.074236</td>\n",
       "      <td>14.354282</td>\n",
       "    </tr>\n",
       "    <tr>\n",
       "      <th>3</th>\n",
       "      <td>jre1pJhcQj91Kdky</td>\n",
       "      <td>13.563031</td>\n",
       "      <td>1.421501e+07</td>\n",
       "      <td>1.255350e+07</td>\n",
       "      <td>16.345510</td>\n",
       "      <td>13.738164</td>\n",
       "      <td>12699800.00</td>\n",
       "      <td>16.357097</td>\n",
       "      <td>13.749750</td>\n",
       "      <td>1.255981e+07</td>\n",
       "      <td>...</td>\n",
       "      <td>16.300959</td>\n",
       "      <td>13.693612</td>\n",
       "      <td>1.260445e+07</td>\n",
       "      <td>16.349560</td>\n",
       "      <td>13.742214</td>\n",
       "      <td>1.262550e+07</td>\n",
       "      <td>16.351229</td>\n",
       "      <td>13.743883</td>\n",
       "      <td>16.469809</td>\n",
       "      <td>13.862462</td>\n",
       "    </tr>\n",
       "    <tr>\n",
       "      <th>4</th>\n",
       "      <td>rQpYpY9nRG7X5mmr</td>\n",
       "      <td>4.688108</td>\n",
       "      <td>7.627120e+05</td>\n",
       "      <td>1.215194e+06</td>\n",
       "      <td>14.010415</td>\n",
       "      <td>12.465389</td>\n",
       "      <td>2012610.50</td>\n",
       "      <td>14.514944</td>\n",
       "      <td>12.969916</td>\n",
       "      <td>1.128419e+06</td>\n",
       "      <td>...</td>\n",
       "      <td>13.788663</td>\n",
       "      <td>12.243638</td>\n",
       "      <td>1.120621e+06</td>\n",
       "      <td>13.929394</td>\n",
       "      <td>12.384368</td>\n",
       "      <td>1.113775e+06</td>\n",
       "      <td>13.923267</td>\n",
       "      <td>12.378241</td>\n",
       "      <td>13.544637</td>\n",
       "      <td>11.999613</td>\n",
       "    </tr>\n",
       "  </tbody>\n",
       "</table>\n",
       "<p>5 rows × 44 columns</p>\n",
       "</div>"
      ],
      "text/plain": [
       "        building_id  building_area   total_price        pred_1  log_pred_1  \\\n",
       "0  e3mMIMR3JJqCaXz1       3.418175  6.476038e+05  6.331552e+05   13.358472   \n",
       "1  LgwzgklNvy4QCtq5       4.041309  3.321452e+06  3.064324e+06   14.935338   \n",
       "2  ucIR2NLLsC3T650L       5.584279  9.570885e+06  9.827776e+06   16.100723   \n",
       "3  jre1pJhcQj91Kdky      13.563031  1.421501e+07  1.255350e+07   16.345510   \n",
       "4  rQpYpY9nRG7X5mmr       4.688108  7.627120e+05  1.215194e+06   14.010415   \n",
       "\n",
       "   log_parea_pred_1       pred_2  log_pred_2  log_parea_pred_2        pred_3  \\\n",
       "0         12.129369    717209.94   13.483125         12.254022  6.656891e+05   \n",
       "1         13.538770   2899842.20   14.880167         13.483600  3.079196e+06   \n",
       "2         14.380769   9766813.00   16.094501         14.374546  9.814852e+06   \n",
       "3         13.738164  12699800.00   16.357097         13.749750  1.255981e+07   \n",
       "4         12.465389   2012610.50   14.514944         12.969916  1.128419e+06   \n",
       "\n",
       "           ...            log_pred_11  log_parea_pred_11       pred_14  \\\n",
       "0          ...              13.847480          12.618375  6.694336e+05   \n",
       "1          ...              14.965090          13.568522  3.145496e+06   \n",
       "2          ...              16.049143          14.329188  9.748917e+06   \n",
       "3          ...              16.300959          13.693612  1.260445e+07   \n",
       "4          ...              13.788663          12.243638  1.120621e+06   \n",
       "\n",
       "   log_pred_14  log_parea_pred_14       pred_15  log_pred_15  \\\n",
       "0    13.414189          12.185085  6.675904e+05    13.411432   \n",
       "1    14.961483          13.564915  3.153173e+06    14.963920   \n",
       "2    16.092667          14.372712  9.736865e+06    16.091430   \n",
       "3    16.349560          13.742214  1.262550e+07    16.351229   \n",
       "4    13.929394          12.384368  1.113775e+06    13.923267   \n",
       "\n",
       "   log_parea_pred_15  log_total_price  log_parea_total_price  \n",
       "0          12.182328        13.381036              12.151933  \n",
       "1          13.567353        15.015913              13.619345  \n",
       "2          14.371475        16.074236              14.354282  \n",
       "3          13.743883        16.469809              13.862462  \n",
       "4          12.378241        13.544637              11.999613  \n",
       "\n",
       "[5 rows x 44 columns]"
      ]
     },
     "execution_count": 12,
     "metadata": {},
     "output_type": "execute_result"
    }
   ],
   "source": [
    "cv.head()"
   ]
  },
  {
   "cell_type": "code",
   "execution_count": 13,
   "metadata": {},
   "outputs": [
    {
     "data": {
      "text/html": [
       "<div>\n",
       "<style scoped>\n",
       "    .dataframe tbody tr th:only-of-type {\n",
       "        vertical-align: middle;\n",
       "    }\n",
       "\n",
       "    .dataframe tbody tr th {\n",
       "        vertical-align: top;\n",
       "    }\n",
       "\n",
       "    .dataframe thead th {\n",
       "        text-align: right;\n",
       "    }\n",
       "</style>\n",
       "<table border=\"1\" class=\"dataframe\">\n",
       "  <thead>\n",
       "    <tr style=\"text-align: right;\">\n",
       "      <th></th>\n",
       "      <th>building_id</th>\n",
       "      <th>building_area</th>\n",
       "      <th>pred_1</th>\n",
       "      <th>log_pred_1</th>\n",
       "      <th>log_parea_pred_1</th>\n",
       "      <th>pred_2</th>\n",
       "      <th>log_pred_2</th>\n",
       "      <th>log_parea_pred_2</th>\n",
       "      <th>pred_3</th>\n",
       "      <th>log_pred_3</th>\n",
       "      <th>...</th>\n",
       "      <th>log_parea_pred_10</th>\n",
       "      <th>pred_11</th>\n",
       "      <th>log_pred_11</th>\n",
       "      <th>log_parea_pred_11</th>\n",
       "      <th>pred_14</th>\n",
       "      <th>log_pred_14</th>\n",
       "      <th>log_parea_pred_14</th>\n",
       "      <th>pred_15</th>\n",
       "      <th>log_pred_15</th>\n",
       "      <th>log_parea_pred_15</th>\n",
       "    </tr>\n",
       "  </thead>\n",
       "  <tbody>\n",
       "    <tr>\n",
       "      <th>0</th>\n",
       "      <td>X5gsdTWGS3W7JJQB</td>\n",
       "      <td>3.418175</td>\n",
       "      <td>1.526912e+07</td>\n",
       "      <td>16.541343</td>\n",
       "      <td>15.312236</td>\n",
       "      <td>12470072.0</td>\n",
       "      <td>16.338842</td>\n",
       "      <td>15.109735</td>\n",
       "      <td>1.531685e+07</td>\n",
       "      <td>16.544464</td>\n",
       "      <td>...</td>\n",
       "      <td>15.245186</td>\n",
       "      <td>1.084948e+07</td>\n",
       "      <td>16.199628</td>\n",
       "      <td>14.970521</td>\n",
       "      <td>1.464187e+07</td>\n",
       "      <td>16.499396</td>\n",
       "      <td>15.270289</td>\n",
       "      <td>1.476388e+07</td>\n",
       "      <td>16.507694</td>\n",
       "      <td>15.278587</td>\n",
       "    </tr>\n",
       "    <tr>\n",
       "      <th>1</th>\n",
       "      <td>BTshNOJyKHnT2YIT</td>\n",
       "      <td>7.726227</td>\n",
       "      <td>3.924241e+06</td>\n",
       "      <td>15.182684</td>\n",
       "      <td>13.138065</td>\n",
       "      <td>3916552.2</td>\n",
       "      <td>15.180723</td>\n",
       "      <td>13.136104</td>\n",
       "      <td>3.977095e+06</td>\n",
       "      <td>15.196062</td>\n",
       "      <td>...</td>\n",
       "      <td>13.137139</td>\n",
       "      <td>3.840545e+06</td>\n",
       "      <td>15.161125</td>\n",
       "      <td>13.116506</td>\n",
       "      <td>3.950248e+06</td>\n",
       "      <td>15.189289</td>\n",
       "      <td>13.144670</td>\n",
       "      <td>3.928353e+06</td>\n",
       "      <td>15.183731</td>\n",
       "      <td>13.139112</td>\n",
       "    </tr>\n",
       "    <tr>\n",
       "      <th>2</th>\n",
       "      <td>dhdymr0lV8N5kZOT</td>\n",
       "      <td>12.170581</td>\n",
       "      <td>1.096127e+07</td>\n",
       "      <td>16.209879</td>\n",
       "      <td>13.710858</td>\n",
       "      <td>11912735.0</td>\n",
       "      <td>16.293119</td>\n",
       "      <td>13.794098</td>\n",
       "      <td>1.084967e+07</td>\n",
       "      <td>16.199646</td>\n",
       "      <td>...</td>\n",
       "      <td>13.684070</td>\n",
       "      <td>8.393805e+06</td>\n",
       "      <td>15.943005</td>\n",
       "      <td>13.443984</td>\n",
       "      <td>1.059798e+07</td>\n",
       "      <td>16.176174</td>\n",
       "      <td>13.677153</td>\n",
       "      <td>1.062900e+07</td>\n",
       "      <td>16.179096</td>\n",
       "      <td>13.680076</td>\n",
       "    </tr>\n",
       "    <tr>\n",
       "      <th>3</th>\n",
       "      <td>VEwyGGMcD56w5BOc</td>\n",
       "      <td>2.252256</td>\n",
       "      <td>6.155550e+06</td>\n",
       "      <td>15.632865</td>\n",
       "      <td>14.820933</td>\n",
       "      <td>5940670.0</td>\n",
       "      <td>15.597333</td>\n",
       "      <td>14.785400</td>\n",
       "      <td>6.015238e+06</td>\n",
       "      <td>15.609807</td>\n",
       "      <td>...</td>\n",
       "      <td>14.808952</td>\n",
       "      <td>5.798727e+06</td>\n",
       "      <td>15.573149</td>\n",
       "      <td>14.761217</td>\n",
       "      <td>6.120056e+06</td>\n",
       "      <td>15.627082</td>\n",
       "      <td>14.815150</td>\n",
       "      <td>6.085773e+06</td>\n",
       "      <td>15.621464</td>\n",
       "      <td>14.809532</td>\n",
       "    </tr>\n",
       "    <tr>\n",
       "      <th>4</th>\n",
       "      <td>wmUeMoJZfsqaSX9b</td>\n",
       "      <td>5.813985</td>\n",
       "      <td>1.062995e+06</td>\n",
       "      <td>13.876602</td>\n",
       "      <td>12.116340</td>\n",
       "      <td>1088488.1</td>\n",
       "      <td>13.900301</td>\n",
       "      <td>12.140039</td>\n",
       "      <td>1.027248e+06</td>\n",
       "      <td>13.842395</td>\n",
       "      <td>...</td>\n",
       "      <td>12.113012</td>\n",
       "      <td>1.017048e+06</td>\n",
       "      <td>13.832416</td>\n",
       "      <td>12.072154</td>\n",
       "      <td>1.062834e+06</td>\n",
       "      <td>13.876451</td>\n",
       "      <td>12.116189</td>\n",
       "      <td>1.061918e+06</td>\n",
       "      <td>13.875588</td>\n",
       "      <td>12.115326</td>\n",
       "    </tr>\n",
       "  </tbody>\n",
       "</table>\n",
       "<p>5 rows × 41 columns</p>\n",
       "</div>"
      ],
      "text/plain": [
       "        building_id  building_area        pred_1  log_pred_1  \\\n",
       "0  X5gsdTWGS3W7JJQB       3.418175  1.526912e+07   16.541343   \n",
       "1  BTshNOJyKHnT2YIT       7.726227  3.924241e+06   15.182684   \n",
       "2  dhdymr0lV8N5kZOT      12.170581  1.096127e+07   16.209879   \n",
       "3  VEwyGGMcD56w5BOc       2.252256  6.155550e+06   15.632865   \n",
       "4  wmUeMoJZfsqaSX9b       5.813985  1.062995e+06   13.876602   \n",
       "\n",
       "   log_parea_pred_1      pred_2  log_pred_2  log_parea_pred_2        pred_3  \\\n",
       "0         15.312236  12470072.0   16.338842         15.109735  1.531685e+07   \n",
       "1         13.138065   3916552.2   15.180723         13.136104  3.977095e+06   \n",
       "2         13.710858  11912735.0   16.293119         13.794098  1.084967e+07   \n",
       "3         14.820933   5940670.0   15.597333         14.785400  6.015238e+06   \n",
       "4         12.116340   1088488.1   13.900301         12.140039  1.027248e+06   \n",
       "\n",
       "   log_pred_3        ...          log_parea_pred_10       pred_11  \\\n",
       "0   16.544464        ...                  15.245186  1.084948e+07   \n",
       "1   15.196062        ...                  13.137139  3.840545e+06   \n",
       "2   16.199646        ...                  13.684070  8.393805e+06   \n",
       "3   15.609807        ...                  14.808952  5.798727e+06   \n",
       "4   13.842395        ...                  12.113012  1.017048e+06   \n",
       "\n",
       "   log_pred_11  log_parea_pred_11       pred_14  log_pred_14  \\\n",
       "0    16.199628          14.970521  1.464187e+07    16.499396   \n",
       "1    15.161125          13.116506  3.950248e+06    15.189289   \n",
       "2    15.943005          13.443984  1.059798e+07    16.176174   \n",
       "3    15.573149          14.761217  6.120056e+06    15.627082   \n",
       "4    13.832416          12.072154  1.062834e+06    13.876451   \n",
       "\n",
       "   log_parea_pred_14       pred_15  log_pred_15  log_parea_pred_15  \n",
       "0          15.270289  1.476388e+07    16.507694          15.278587  \n",
       "1          13.144670  3.928353e+06    15.183731          13.139112  \n",
       "2          13.677153  1.062900e+07    16.179096          13.680076  \n",
       "3          14.815150  6.085773e+06    15.621464          14.809532  \n",
       "4          12.116189  1.061918e+06    13.875588          12.115326  \n",
       "\n",
       "[5 rows x 41 columns]"
      ]
     },
     "execution_count": 13,
     "metadata": {},
     "output_type": "execute_result"
    }
   ],
   "source": [
    "test.head()"
   ]
  },
  {
   "cell_type": "markdown",
   "metadata": {},
   "source": [
    "### Check models scores"
   ]
  },
  {
   "cell_type": "code",
   "execution_count": 14,
   "metadata": {},
   "outputs": [
    {
     "name": "stdout",
     "output_type": "stream",
     "text": [
      " 0 model-01 5870.873059\n",
      " 1 model-02 5400.852164\n",
      " 2 model-03 5877.873452\n",
      " 3 model-04 5713.867808\n",
      " 4 model-05 5724.869598\n",
      " 5 model-06 5886.873769\n",
      " 6 model-07 5171.836449\n",
      " 7 model-08 5514.858826\n",
      " 8 model-09 5872.873118\n",
      " 9 model-10 5897.873845\n",
      "10 model-11 5075.838018\n",
      "11 model-14 5908.873901\n",
      "12 model-15 5900.873836\n"
     ]
    }
   ],
   "source": [
    "for i, idx_model in enumerate(idx_models):\n",
    "    print('%2d'%i, 'model-%02d'%idx_model, '%.6f'%cal_score(cv['total_price'], cv[f'pred_{idx_model}']))"
   ]
  },
  {
   "cell_type": "markdown",
   "metadata": {},
   "source": [
    "### Search subset model mean "
   ]
  },
  {
   "cell_type": "code",
   "execution_count": 17,
   "metadata": {},
   "outputs": [],
   "source": [
    "def get_prefix(is_per_area, is_log):\n",
    "    if is_log:\n",
    "        if is_per_area:\n",
    "            col_prefix = 'log_parea_pred'\n",
    "        else:\n",
    "            col_prefix = 'log_pred'\n",
    "    else:\n",
    "        if is_per_area:\n",
    "            raise 'Not support'\n",
    "        else:\n",
    "            col_prefix = 'pred'\n",
    "    return col_prefix"
   ]
  },
  {
   "cell_type": "code",
   "execution_count": 18,
   "metadata": {},
   "outputs": [],
   "source": [
    "def mean_subset(df, idx_models, is_per_area, is_log):\n",
    "    col_prefix = get_prefix(is_per_area, is_log)\n",
    "    cols_models = [col_prefix+'_'+str(i) for i in idx_models]\n",
    "    return df[cols_models].mean(axis=1)"
   ]
  },
  {
   "cell_type": "code",
   "execution_count": 19,
   "metadata": {},
   "outputs": [],
   "source": [
    "def predict_mean_subset(df, idx_models, is_per_area, is_log):\n",
    "    y_pred = mean_subset(df, idx_models, is_per_area, is_log)\n",
    "    y_pred_final = y_pred\n",
    "    if is_log:\n",
    "        y_pred_final = np.expm1(y_pred_final)\n",
    "    if is_per_area:\n",
    "        y_pred_final = y_pred_final * df['building_area']\n",
    "    return y_pred_final"
   ]
  },
  {
   "cell_type": "code",
   "execution_count": 33,
   "metadata": {},
   "outputs": [],
   "source": [
    "def search_mean_subset(cv, idx_models, is_per_area, is_log):\n",
    "    idx_models_subset = idx_models.copy()\n",
    "    result_list = []\n",
    "    y_pred_cv = predict_mean_subset(cv, idx_models_subset, is_per_area=is_per_area, is_log=is_log)\n",
    "    score = cal_score(cv['total_price'], y_pred_cv)\n",
    "    print('%.6f'%score, idx_models_subset)\n",
    "    result_list.append([score, idx_models_subset])\n",
    "    while len(idx_models_subset) > 1:\n",
    "        print('N models remained:', len(idx_models_subset))\n",
    "        result_list_subset = []\n",
    "        for i_rm in range(len(idx_models_subset)):\n",
    "            idx_models_subset_next = idx_models_subset[:i_rm]+idx_models_subset[i_rm+1:]\n",
    "            y_pred_cv = predict_mean_subset(cv, idx_models_subset_next, is_per_area=is_per_area, is_log=is_log)\n",
    "            score = cal_score(cv['total_price'], y_pred_cv)\n",
    "            print('%.6f'%score, idx_models_subset_next)\n",
    "            result_list_subset.append([score, idx_models_subset_next])\n",
    "        result_list.extend(result_list_subset)\n",
    "        result_list_subset.sort(key=lambda x: x[0], reverse=True)\n",
    "        print('Best of the round:', result_list_subset[0][0], result_list_subset[0][1])\n",
    "        idx_models_subset = result_list_subset[0][1]\n",
    "        print()\n",
    "    result_list.sort(key=lambda x: x[0], reverse=True)\n",
    "    return result_list"
   ]
  },
  {
   "cell_type": "code",
   "execution_count": 54,
   "metadata": {},
   "outputs": [
    {
     "name": "stdout",
     "output_type": "stream",
     "text": [
      "5915.874200 [1, 2, 3, 4, 5, 6, 7, 8, 9, 10, 11, 14, 15]\n",
      "N models remained: 13\n",
      "5918.874059 [2, 3, 4, 5, 6, 7, 8, 9, 10, 11, 14, 15]\n",
      "5918.874161 [1, 3, 4, 5, 6, 7, 8, 9, 10, 11, 14, 15]\n",
      "5910.874028 [1, 2, 4, 5, 6, 7, 8, 9, 10, 11, 14, 15]\n",
      "5915.874113 [1, 2, 3, 5, 6, 7, 8, 9, 10, 11, 14, 15]\n",
      "5910.873889 [1, 2, 3, 4, 6, 7, 8, 9, 10, 11, 14, 15]\n",
      "5914.874044 [1, 2, 3, 4, 5, 7, 8, 9, 10, 11, 14, 15]\n",
      "5915.874171 [1, 2, 3, 4, 5, 6, 8, 9, 10, 11, 14, 15]\n",
      "5909.874103 [1, 2, 3, 4, 5, 6, 7, 9, 10, 11, 14, 15]\n",
      "5915.874058 [1, 2, 3, 4, 5, 6, 7, 8, 10, 11, 14, 15]\n",
      "5912.874014 [1, 2, 3, 4, 5, 6, 7, 8, 9, 11, 14, 15]\n",
      "5934.875025 [1, 2, 3, 4, 5, 6, 7, 8, 9, 10, 14, 15]\n",
      "5912.874009 [1, 2, 3, 4, 5, 6, 7, 8, 9, 10, 11, 15]\n",
      "5911.874016 [1, 2, 3, 4, 5, 6, 7, 8, 9, 10, 11, 14]\n",
      "Best of the round: 5934.875025293448 [1, 2, 3, 4, 5, 6, 7, 8, 9, 10, 14, 15]\n",
      "\n",
      "N models remained: 12\n",
      "5933.874961 [2, 3, 4, 5, 6, 7, 8, 9, 10, 14, 15]\n",
      "5931.875087 [1, 3, 4, 5, 6, 7, 8, 9, 10, 14, 15]\n",
      "5933.874923 [1, 2, 4, 5, 6, 7, 8, 9, 10, 14, 15]\n",
      "5930.874964 [1, 2, 3, 5, 6, 7, 8, 9, 10, 14, 15]\n",
      "5932.874771 [1, 2, 3, 4, 6, 7, 8, 9, 10, 14, 15]\n",
      "5933.874942 [1, 2, 3, 4, 5, 7, 8, 9, 10, 14, 15]\n",
      "5926.875127 [1, 2, 3, 4, 5, 6, 8, 9, 10, 14, 15]\n",
      "5929.875011 [1, 2, 3, 4, 5, 6, 7, 9, 10, 14, 15]\n",
      "5935.874955 [1, 2, 3, 4, 5, 6, 7, 8, 10, 14, 15]\n",
      "5929.874907 [1, 2, 3, 4, 5, 6, 7, 8, 9, 14, 15]\n",
      "5930.874900 [1, 2, 3, 4, 5, 6, 7, 8, 9, 10, 15]\n",
      "5930.874908 [1, 2, 3, 4, 5, 6, 7, 8, 9, 10, 14]\n",
      "Best of the round: 5935.87495549287 [1, 2, 3, 4, 5, 6, 7, 8, 10, 14, 15]\n",
      "\n",
      "N models remained: 11\n",
      "5935.874839 [2, 3, 4, 5, 6, 7, 8, 10, 14, 15]\n",
      "5937.875084 [1, 3, 4, 5, 6, 7, 8, 10, 14, 15]\n",
      "5934.874796 [1, 2, 4, 5, 6, 7, 8, 10, 14, 15]\n",
      "5931.874862 [1, 2, 3, 5, 6, 7, 8, 10, 14, 15]\n",
      "5930.874651 [1, 2, 3, 4, 6, 7, 8, 10, 14, 15]\n",
      "5931.874818 [1, 2, 3, 4, 5, 7, 8, 10, 14, 15]\n",
      "5926.875132 [1, 2, 3, 4, 5, 6, 8, 10, 14, 15]\n",
      "5930.874991 [1, 2, 3, 4, 5, 6, 7, 10, 14, 15]\n",
      "5928.874780 [1, 2, 3, 4, 5, 6, 7, 8, 14, 15]\n",
      "5929.874773 [1, 2, 3, 4, 5, 6, 7, 8, 10, 15]\n",
      "5928.874781 [1, 2, 3, 4, 5, 6, 7, 8, 10, 14]\n",
      "Best of the round: 5937.875084248003 [1, 3, 4, 5, 6, 7, 8, 10, 14, 15]\n",
      "\n",
      "N models remained: 10\n",
      "5940.875061 [3, 4, 5, 6, 7, 8, 10, 14, 15]\n",
      "5935.875010 [1, 4, 5, 6, 7, 8, 10, 14, 15]\n",
      "5934.875057 [1, 3, 5, 6, 7, 8, 10, 14, 15]\n",
      "5933.874837 [1, 3, 4, 6, 7, 8, 10, 14, 15]\n",
      "5940.875034 [1, 3, 4, 5, 7, 8, 10, 14, 15]\n",
      "5927.875072 [1, 3, 4, 5, 6, 8, 10, 14, 15]\n",
      "5927.874862 [1, 3, 4, 5, 6, 7, 10, 14, 15]\n",
      "5934.875000 [1, 3, 4, 5, 6, 7, 8, 14, 15]\n",
      "5933.874993 [1, 3, 4, 5, 6, 7, 8, 10, 15]\n",
      "5931.875001 [1, 3, 4, 5, 6, 7, 8, 10, 14]\n",
      "Best of the round: 5940.875061202151 [3, 4, 5, 6, 7, 8, 10, 14, 15]\n",
      "\n",
      "N models remained: 9\n",
      "5935.874926 [4, 5, 6, 7, 8, 10, 14, 15]\n",
      "5935.875010 [3, 5, 6, 7, 8, 10, 14, 15]\n",
      "5930.874763 [3, 4, 6, 7, 8, 10, 14, 15]\n",
      "5936.874948 [3, 4, 5, 7, 8, 10, 14, 15]\n",
      "5936.875143 [3, 4, 5, 6, 8, 10, 14, 15]\n",
      "5929.874875 [3, 4, 5, 6, 7, 10, 14, 15]\n",
      "5931.874921 [3, 4, 5, 6, 7, 8, 14, 15]\n",
      "5933.874912 [3, 4, 5, 6, 7, 8, 10, 15]\n",
      "5931.874921 [3, 4, 5, 6, 7, 8, 10, 14]\n",
      "Best of the round: 5936.8751425924465 [3, 4, 5, 6, 8, 10, 14, 15]\n",
      "\n",
      "N models remained: 8\n",
      "5932.875141 [4, 5, 6, 8, 10, 14, 15]\n",
      "5930.875194 [3, 5, 6, 8, 10, 14, 15]\n",
      "5928.874915 [3, 4, 6, 8, 10, 14, 15]\n",
      "5936.875162 [3, 4, 5, 8, 10, 14, 15]\n",
      "5907.874564 [3, 4, 5, 6, 10, 14, 15]\n",
      "5932.875136 [3, 4, 5, 6, 8, 14, 15]\n",
      "5929.875127 [3, 4, 5, 6, 8, 10, 15]\n",
      "5933.875139 [3, 4, 5, 6, 8, 10, 14]\n",
      "Best of the round: 5936.875162268151 [3, 4, 5, 8, 10, 14, 15]\n",
      "\n",
      "N models remained: 7\n",
      "5935.875105 [4, 5, 8, 10, 14, 15]\n",
      "5936.875229 [3, 5, 8, 10, 14, 15]\n",
      "5931.874897 [3, 4, 8, 10, 14, 15]\n",
      "5909.874560 [3, 4, 5, 10, 14, 15]\n",
      "5929.875117 [3, 4, 5, 8, 14, 15]\n",
      "5929.875108 [3, 4, 5, 8, 10, 15]\n",
      "5930.875121 [3, 4, 5, 8, 10, 14]\n",
      "Best of the round: 5936.875228832779 [3, 5, 8, 10, 14, 15]\n",
      "\n",
      "N models remained: 6\n",
      "5932.875167 [5, 8, 10, 14, 15]\n",
      "5934.874939 [3, 8, 10, 14, 15]\n",
      "5913.874511 [3, 5, 10, 14, 15]\n",
      "5931.875202 [3, 5, 8, 14, 15]\n",
      "5930.875189 [3, 5, 8, 10, 15]\n",
      "5928.875204 [3, 5, 8, 10, 14]\n",
      "Best of the round: 5934.874938801393 [3, 8, 10, 14, 15]\n",
      "\n",
      "N models remained: 5\n",
      "5930.874759 [8, 10, 14, 15]\n",
      "5905.874072 [3, 10, 14, 15]\n",
      "5930.874846 [3, 8, 14, 15]\n",
      "5926.874834 [3, 8, 10, 15]\n",
      "5928.874851 [3, 8, 10, 14]\n",
      "Best of the round: 5930.874846313455 [3, 8, 14, 15]\n",
      "\n",
      "N models remained: 4\n",
      "5919.874345 [8, 14, 15]\n",
      "5902.874087 [3, 14, 15]\n",
      "5912.874360 [3, 8, 15]\n",
      "5909.874384 [3, 8, 14]\n",
      "Best of the round: 5919.87434487826 [8, 14, 15]\n",
      "\n",
      "N models remained: 3\n",
      "5901.873900 [14, 15]\n",
      "5880.872452 [8, 15]\n",
      "5878.872485 [8, 14]\n",
      "Best of the round: 5901.873900278008 [14, 15]\n",
      "\n",
      "N models remained: 2\n",
      "5900.873836 [15]\n",
      "5908.873901 [14]\n",
      "Best of the round: 5908.873901266254 [14]\n",
      "\n"
     ]
    }
   ],
   "source": [
    "result_list_log = search_mean_subset(cv, idx_models, is_per_area=False, is_log=True)"
   ]
  },
  {
   "cell_type": "code",
   "execution_count": 56,
   "metadata": {},
   "outputs": [
    {
     "data": {
      "text/plain": [
       "[[5940.875061202151, [3, 4, 5, 6, 7, 8, 10, 14, 15]],\n",
       " [5940.8750342363855, [1, 3, 4, 5, 7, 8, 10, 14, 15]],\n",
       " [5937.875084248003, [1, 3, 4, 5, 6, 7, 8, 10, 14, 15]],\n",
       " [5936.875228832779, [3, 5, 8, 10, 14, 15]],\n",
       " [5936.875162268151, [3, 4, 5, 8, 10, 14, 15]],\n",
       " [5936.8751425924465, [3, 4, 5, 6, 8, 10, 14, 15]],\n",
       " [5936.874948244649, [3, 4, 5, 7, 8, 10, 14, 15]],\n",
       " [5935.875104500537, [4, 5, 8, 10, 14, 15]],\n",
       " [5935.875010084172, [1, 4, 5, 6, 7, 8, 10, 14, 15]],\n",
       " [5935.8750100742, [3, 5, 6, 7, 8, 10, 14, 15]]]"
      ]
     },
     "metadata": {},
     "output_type": "display_data"
    }
   ],
   "source": [
    "display(result_list_log[:10])"
   ]
  },
  {
   "cell_type": "code",
   "execution_count": 60,
   "metadata": {},
   "outputs": [
    {
     "name": "stdout",
     "output_type": "stream",
     "text": [
      "Best score and subset: 5940.875061 [3, 4, 5, 6, 7, 8, 10, 14, 15]\n"
     ]
    }
   ],
   "source": [
    "best_models_subset_log = result_list_log[0][1]\n",
    "print('Best score and subset:', '%.6f'%result_list_log[0][0], best_models_subset_log)"
   ]
  },
  {
   "cell_type": "code",
   "execution_count": 53,
   "metadata": {},
   "outputs": [],
   "source": [
    "# per area or not for the mean ensemble model are the same\n",
    "#result_list_per_area_log = search_mean_subset(cv, idx_models, is_per_area=True, is_log=True)\n",
    "#result_list_per_area_log"
   ]
  },
  {
   "cell_type": "code",
   "execution_count": 61,
   "metadata": {},
   "outputs": [
    {
     "name": "stdout",
     "output_type": "stream",
     "text": [
      "5914.872622 [1, 2, 3, 4, 5, 6, 7, 8, 9, 10, 11, 14, 15]\n",
      "N models remained: 13\n",
      "5910.872363 [2, 3, 4, 5, 6, 7, 8, 9, 10, 11, 14, 15]\n",
      "5918.872677 [1, 3, 4, 5, 6, 7, 8, 9, 10, 11, 14, 15]\n",
      "5906.872333 [1, 2, 4, 5, 6, 7, 8, 9, 10, 11, 14, 15]\n",
      "5910.872448 [1, 2, 3, 5, 6, 7, 8, 9, 10, 11, 14, 15]\n",
      "5904.872215 [1, 2, 3, 4, 6, 7, 8, 9, 10, 11, 14, 15]\n",
      "5908.872345 [1, 2, 3, 4, 5, 7, 8, 9, 10, 11, 14, 15]\n",
      "5913.873412 [1, 2, 3, 4, 5, 6, 8, 9, 10, 11, 14, 15]\n",
      "5900.872515 [1, 2, 3, 4, 5, 6, 7, 9, 10, 11, 14, 15]\n",
      "5906.872361 [1, 2, 3, 4, 5, 6, 7, 8, 10, 11, 14, 15]\n",
      "5908.872314 [1, 2, 3, 4, 5, 6, 7, 8, 9, 11, 14, 15]\n",
      "5934.873595 [1, 2, 3, 4, 5, 6, 7, 8, 9, 10, 14, 15]\n",
      "5910.872310 [1, 2, 3, 4, 5, 6, 7, 8, 9, 10, 11, 15]\n",
      "5910.872316 [1, 2, 3, 4, 5, 6, 7, 8, 9, 10, 11, 14]\n",
      "Best of the round: 5934.873594972163 [1, 2, 3, 4, 5, 6, 7, 8, 9, 10, 14, 15]\n",
      "\n",
      "N models remained: 12\n",
      "5932.873423 [2, 3, 4, 5, 6, 7, 8, 9, 10, 14, 15]\n",
      "5933.873766 [1, 3, 4, 5, 6, 7, 8, 9, 10, 14, 15]\n",
      "5930.873387 [1, 2, 4, 5, 6, 7, 8, 9, 10, 14, 15]\n",
      "5926.873467 [1, 2, 3, 5, 6, 7, 8, 9, 10, 14, 15]\n",
      "5928.873254 [1, 2, 3, 4, 6, 7, 8, 9, 10, 14, 15]\n",
      "5930.873401 [1, 2, 3, 4, 5, 7, 8, 9, 10, 14, 15]\n",
      "5928.874581 [1, 2, 3, 4, 5, 6, 8, 9, 10, 14, 15]\n",
      "5925.873581 [1, 2, 3, 4, 5, 6, 7, 9, 10, 14, 15]\n",
      "5934.873415 [1, 2, 3, 4, 5, 6, 7, 8, 10, 14, 15]\n",
      "5928.873365 [1, 2, 3, 4, 5, 6, 7, 8, 9, 14, 15]\n",
      "5930.873360 [1, 2, 3, 4, 5, 6, 7, 8, 9, 10, 15]\n",
      "5930.873368 [1, 2, 3, 4, 5, 6, 7, 8, 9, 10, 14]\n",
      "Best of the round: 5934.873414918807 [1, 2, 3, 4, 5, 6, 7, 8, 10, 14, 15]\n",
      "\n",
      "N models remained: 11\n",
      "5932.873173 [2, 3, 4, 5, 6, 7, 8, 10, 14, 15]\n",
      "5933.873644 [1, 3, 4, 5, 6, 7, 8, 10, 14, 15]\n",
      "5932.873134 [1, 2, 4, 5, 6, 7, 8, 10, 14, 15]\n",
      "5926.873241 [1, 2, 3, 5, 6, 7, 8, 10, 14, 15]\n",
      "5928.873006 [1, 2, 3, 4, 6, 7, 8, 10, 14, 15]\n",
      "5930.873148 [1, 2, 3, 4, 5, 7, 8, 10, 14, 15]\n",
      "5927.874545 [1, 2, 3, 4, 5, 6, 8, 10, 14, 15]\n",
      "5926.873433 [1, 2, 3, 4, 5, 6, 7, 10, 14, 15]\n",
      "5927.873110 [1, 2, 3, 4, 5, 6, 7, 8, 14, 15]\n",
      "5928.873105 [1, 2, 3, 4, 5, 6, 7, 8, 10, 15]\n",
      "5929.873112 [1, 2, 3, 4, 5, 6, 7, 8, 10, 14]\n",
      "Best of the round: 5933.873644207663 [1, 3, 4, 5, 6, 7, 8, 10, 14, 15]\n",
      "\n",
      "N models remained: 10\n",
      "5936.873480 [3, 4, 5, 6, 7, 8, 10, 14, 15]\n",
      "5931.873430 [1, 4, 5, 6, 7, 8, 10, 14, 15]\n",
      "5933.873522 [1, 3, 5, 6, 7, 8, 10, 14, 15]\n",
      "5931.873283 [1, 3, 4, 6, 7, 8, 10, 14, 15]\n",
      "5939.873448 [1, 3, 4, 5, 7, 8, 10, 14, 15]\n",
      "5927.874748 [1, 3, 4, 5, 6, 8, 10, 14, 15]\n",
      "5924.873436 [1, 3, 4, 5, 6, 7, 10, 14, 15]\n",
      "5934.873415 [1, 3, 4, 5, 6, 7, 8, 14, 15]\n",
      "5934.873408 [1, 3, 4, 5, 6, 7, 8, 10, 15]\n",
      "5934.873416 [1, 3, 4, 5, 6, 7, 8, 10, 14]\n",
      "Best of the round: 5939.8734477028265 [1, 3, 4, 5, 7, 8, 10, 14, 15]\n",
      "\n",
      "N models remained: 9\n",
      "5933.873190 [3, 4, 5, 7, 8, 10, 14, 15]\n",
      "5936.873137 [1, 4, 5, 7, 8, 10, 14, 15]\n",
      "5930.873276 [1, 3, 5, 7, 8, 10, 14, 15]\n",
      "5928.872999 [1, 3, 4, 7, 8, 10, 14, 15]\n",
      "5927.874752 [1, 3, 4, 5, 8, 10, 14, 15]\n",
      "5927.873247 [1, 3, 4, 5, 7, 10, 14, 15]\n",
      "5933.873126 [1, 3, 4, 5, 7, 8, 14, 15]\n",
      "5930.873119 [1, 3, 4, 5, 7, 8, 10, 15]\n",
      "5932.873129 [1, 3, 4, 5, 7, 8, 10, 14]\n",
      "Best of the round: 5936.873136744641 [1, 4, 5, 7, 8, 10, 14, 15]\n",
      "\n",
      "N models remained: 8\n",
      "5930.872728 [4, 5, 7, 8, 10, 14, 15]\n",
      "5926.872877 [1, 5, 7, 8, 10, 14, 15]\n",
      "5923.872551 [1, 4, 7, 8, 10, 14, 15]\n",
      "5928.874708 [1, 4, 5, 8, 10, 14, 15]\n",
      "5924.872940 [1, 4, 5, 7, 10, 14, 15]\n",
      "5928.872667 [1, 4, 5, 7, 8, 14, 15]\n",
      "5929.872659 [1, 4, 5, 7, 8, 10, 15]\n",
      "5928.872670 [1, 4, 5, 7, 8, 10, 14]\n",
      "Best of the round: 5930.872727607721 [4, 5, 7, 8, 10, 14, 15]\n",
      "\n",
      "N models remained: 7\n",
      "5916.872303 [5, 7, 8, 10, 14, 15]\n",
      "5915.871917 [4, 7, 8, 10, 14, 15]\n",
      "5934.874665 [4, 5, 8, 10, 14, 15]\n",
      "5924.872535 [4, 5, 7, 10, 14, 15]\n",
      "5920.872001 [4, 5, 7, 8, 14, 15]\n",
      "5920.871992 [4, 5, 7, 8, 10, 15]\n",
      "5918.872005 [4, 5, 7, 8, 10, 14]\n",
      "Best of the round: 5934.874664505704 [4, 5, 8, 10, 14, 15]\n",
      "\n",
      "N models remained: 6\n",
      "5934.874733 [5, 8, 10, 14, 15]\n",
      "5928.874300 [4, 8, 10, 14, 15]\n",
      "5906.874326 [4, 5, 10, 14, 15]\n",
      "5931.874446 [4, 5, 8, 14, 15]\n",
      "5932.874435 [4, 5, 8, 10, 15]\n",
      "5932.874449 [4, 5, 8, 10, 14]\n",
      "Best of the round: 5934.874733395895 [5, 8, 10, 14, 15]\n",
      "\n",
      "N models remained: 5\n",
      "5928.874313 [8, 10, 14, 15]\n",
      "5913.874347 [5, 10, 14, 15]\n",
      "5931.874479 [5, 8, 14, 15]\n",
      "5932.874466 [5, 8, 10, 15]\n",
      "5931.874486 [5, 8, 10, 14]\n",
      "Best of the round: 5932.874466493804 [5, 8, 10, 15]\n",
      "\n",
      "N models remained: 4\n",
      "5911.873792 [8, 10, 15]\n",
      "5904.874239 [5, 10, 15]\n",
      "5905.873642 [5, 8, 15]\n",
      "5908.873651 [5, 8, 10]\n",
      "Best of the round: 5911.873792297254 [8, 10, 15]\n",
      "\n",
      "N models remained: 3\n",
      "5904.873872 [10, 15]\n",
      "5881.871823 [8, 15]\n",
      "5879.871833 [8, 10]\n",
      "Best of the round: 5904.873872226054 [10, 15]\n",
      "\n",
      "N models remained: 2\n",
      "5900.873836 [15]\n",
      "5897.873845 [10]\n",
      "Best of the round: 5900.873835650492 [15]\n",
      "\n"
     ]
    }
   ],
   "source": [
    "result_list_none = search_mean_subset(cv, idx_models, is_per_area=False, is_log=False)"
   ]
  },
  {
   "cell_type": "code",
   "execution_count": 59,
   "metadata": {},
   "outputs": [
    {
     "data": {
      "text/plain": [
       "[[5939.8734477028265, [1, 3, 4, 5, 7, 8, 10, 14, 15]],\n",
       " [5936.87347959835, [3, 4, 5, 6, 7, 8, 10, 14, 15]],\n",
       " [5936.873136744641, [1, 4, 5, 7, 8, 10, 14, 15]],\n",
       " [5934.874733395895, [5, 8, 10, 14, 15]],\n",
       " [5934.874664505704, [4, 5, 8, 10, 14, 15]],\n",
       " [5934.873594972163, [1, 2, 3, 4, 5, 6, 7, 8, 9, 10, 14, 15]],\n",
       " [5934.873416492427, [1, 3, 4, 5, 6, 7, 8, 10, 14]],\n",
       " [5934.873415140758, [1, 3, 4, 5, 6, 7, 8, 14, 15]],\n",
       " [5934.873414918807, [1, 2, 3, 4, 5, 6, 7, 8, 10, 14, 15]],\n",
       " [5934.873407825717, [1, 3, 4, 5, 6, 7, 8, 10, 15]]]"
      ]
     },
     "metadata": {},
     "output_type": "display_data"
    }
   ],
   "source": [
    "display(result_list_none[:10])"
   ]
  },
  {
   "cell_type": "code",
   "execution_count": 63,
   "metadata": {},
   "outputs": [
    {
     "name": "stdout",
     "output_type": "stream",
     "text": [
      "Best score and subset: 5939.873448 [1, 3, 4, 5, 7, 8, 10, 14, 15]\n"
     ]
    }
   ],
   "source": [
    "best_models_subset_none = result_list_none[0][1]\n",
    "print('Best score and subset:', '%.6f'%result_list_none[0][0], best_models_subset_none)"
   ]
  },
  {
   "cell_type": "markdown",
   "metadata": {},
   "source": [
    "### Compute submission for mean log"
   ]
  },
  {
   "cell_type": "code",
   "execution_count": 65,
   "metadata": {},
   "outputs": [],
   "source": [
    "import matplotlib.pyplot as plt"
   ]
  },
  {
   "cell_type": "code",
   "execution_count": 88,
   "metadata": {},
   "outputs": [
    {
     "name": "stdout",
     "output_type": "stream",
     "text": [
      "Predict for mean log with [3, 4, 5, 6, 7, 8, 10, 14, 15]\n"
     ]
    }
   ],
   "source": [
    "print('Predict for mean log with', best_models_subset_log)\n",
    "test['total_price'] = predict_mean_subset(test, best_models_subset_log, is_per_area=False, is_log=True)"
   ]
  },
  {
   "cell_type": "code",
   "execution_count": 82,
   "metadata": {},
   "outputs": [
    {
     "name": "stderr",
     "output_type": "stream",
     "text": [
      "/Library/Frameworks/Python.framework/Versions/3.6/lib/python3.6/site-packages/matplotlib/axes/_axes.py:6571: UserWarning: The 'normed' kwarg is deprecated, and has been replaced by the 'density' kwarg.\n",
      "  warnings.warn(\"The 'normed' kwarg is deprecated, and has been \"\n"
     ]
    },
    {
     "data": {
      "image/png": "[encoded data removed]",
      "text/plain": [
       "<Figure size 432x288 with 1 Axes>"
      ]
     },
     "metadata": {
      "needs_background": "light"
     },
     "output_type": "display_data"
    },
    {
     "data": {
      "image/png": "[encoded data removed]",
      "text/plain": [
       "<Figure size 432x288 with 1 Axes>"
      ]
     },
     "metadata": {
      "needs_background": "light"
     },
     "output_type": "display_data"
    }
   ],
   "source": [
    "plt.hist(cv['log_parea_total_price'], bins=100, label='train true', normed=True)\n",
    "plt.hist(np.log1p(test['total_price'] / test['building_area']), bins=100, label='test',\n",
    "         normed=True, alpha=0.7)\n",
    "plt.xlabel('log(price/area + 1)'); plt.ylabel('ratio')\n",
    "plt.legend(); plt.grid(); plt.show()\n",
    "\n",
    "plt.hist(cv['log_total_price'], bins=100, label='train true', normed=True)\n",
    "plt.hist(np.log1p(test['total_price']), bins=100, label='test', normed=True, alpha=0.7)\n",
    "plt.xlabel('log(price + 1)'); plt.ylabel('ratio')\n",
    "plt.legend(); plt.grid(); plt.show()"
   ]
  },
  {
   "cell_type": "markdown",
   "metadata": {},
   "source": [
    "plt.hist(np.log1p(cv['building_area']), bins=100, label='train', normed=True)\n",
    "plt.hist(np.log1p(test['building_area']), bins=100, label='test', normed=True, alpha=0.7)\n",
    "plt.xlabel('log(building_area + 1)'); plt.ylabel('ratio'); plt.yscale('log')\n",
    "plt.legend(); plt.grid(); plt.show()"
   ]
  },
  {
   "cell_type": "code",
   "execution_count": 75,
   "metadata": {},
   "outputs": [
    {
     "data": {
      "text/html": [
       "<div>\n",
       "<style scoped>\n",
       "    .dataframe tbody tr th:only-of-type {\n",
       "        vertical-align: middle;\n",
       "    }\n",
       "\n",
       "    .dataframe tbody tr th {\n",
       "        vertical-align: top;\n",
       "    }\n",
       "\n",
       "    .dataframe thead th {\n",
       "        text-align: right;\n",
       "    }\n",
       "</style>\n",
       "<table border=\"1\" class=\"dataframe\">\n",
       "  <thead>\n",
       "    <tr style=\"text-align: right;\">\n",
       "      <th></th>\n",
       "      <th>building_id</th>\n",
       "      <th>total_price</th>\n",
       "    </tr>\n",
       "  </thead>\n",
       "  <tbody>\n",
       "    <tr>\n",
       "      <th>0</th>\n",
       "      <td>X5gsdTWGS3W7JJQB</td>\n",
       "      <td>1.390649e+07</td>\n",
       "    </tr>\n",
       "    <tr>\n",
       "      <th>1</th>\n",
       "      <td>BTshNOJyKHnT2YIT</td>\n",
       "      <td>3.932221e+06</td>\n",
       "    </tr>\n",
       "    <tr>\n",
       "      <th>2</th>\n",
       "      <td>dhdymr0lV8N5kZOT</td>\n",
       "      <td>1.116050e+07</td>\n",
       "    </tr>\n",
       "    <tr>\n",
       "      <th>3</th>\n",
       "      <td>VEwyGGMcD56w5BOc</td>\n",
       "      <td>6.030350e+06</td>\n",
       "    </tr>\n",
       "    <tr>\n",
       "      <th>4</th>\n",
       "      <td>wmUeMoJZfsqaSX9b</td>\n",
       "      <td>1.059908e+06</td>\n",
       "    </tr>\n",
       "    <tr>\n",
       "      <th>9995</th>\n",
       "      <td>UEeCDaAJzPwdKKKA</td>\n",
       "      <td>1.233662e+06</td>\n",
       "    </tr>\n",
       "    <tr>\n",
       "      <th>9996</th>\n",
       "      <td>i0fgbPaQsDWs7Q87</td>\n",
       "      <td>4.747701e+07</td>\n",
       "    </tr>\n",
       "    <tr>\n",
       "      <th>9997</th>\n",
       "      <td>YunNwAhcqkf6YclI</td>\n",
       "      <td>1.094867e+06</td>\n",
       "    </tr>\n",
       "    <tr>\n",
       "      <th>9998</th>\n",
       "      <td>A2NotxtRY9MYoWMl</td>\n",
       "      <td>2.974311e+06</td>\n",
       "    </tr>\n",
       "    <tr>\n",
       "      <th>9999</th>\n",
       "      <td>kKvgBXiA50gRmQhP</td>\n",
       "      <td>3.119895e+06</td>\n",
       "    </tr>\n",
       "  </tbody>\n",
       "</table>\n",
       "</div>"
      ],
      "text/plain": [
       "           building_id   total_price\n",
       "0     X5gsdTWGS3W7JJQB  1.390649e+07\n",
       "1     BTshNOJyKHnT2YIT  3.932221e+06\n",
       "2     dhdymr0lV8N5kZOT  1.116050e+07\n",
       "3     VEwyGGMcD56w5BOc  6.030350e+06\n",
       "4     wmUeMoJZfsqaSX9b  1.059908e+06\n",
       "9995  UEeCDaAJzPwdKKKA  1.233662e+06\n",
       "9996  i0fgbPaQsDWs7Q87  4.747701e+07\n",
       "9997  YunNwAhcqkf6YclI  1.094867e+06\n",
       "9998  A2NotxtRY9MYoWMl  2.974311e+06\n",
       "9999  kKvgBXiA50gRmQhP  3.119895e+06"
      ]
     },
     "metadata": {},
     "output_type": "display_data"
    },
    {
     "name": "stdout",
     "output_type": "stream",
     "text": [
      "shape = (10000, 2)\n"
     ]
    }
   ],
   "source": [
    "test[['building_id', 'total_price']].check()"
   ]
  },
  {
   "cell_type": "code",
   "execution_count": 92,
   "metadata": {},
   "outputs": [
    {
     "name": "stdout",
     "output_type": "stream",
     "text": [
      "Output file to: output/stack_meanlog_10_1-11,14-15.csv\n"
     ]
    }
   ],
   "source": [
    "output_filename = 'output/stack_meanlog_{}_{}.csv'.format(stack_idx, models)\n",
    "print('Output file to:', output_filename)"
   ]
  },
  {
   "cell_type": "code",
   "execution_count": 72,
   "metadata": {},
   "outputs": [],
   "source": [
    "test[['building_id', 'total_price']].to_csv(output_filename, index=False)"
   ]
  },
  {
   "cell_type": "code",
   "execution_count": 93,
   "metadata": {},
   "outputs": [
    {
     "data": {
      "text/html": [
       "<div>\n",
       "<style scoped>\n",
       "    .dataframe tbody tr th:only-of-type {\n",
       "        vertical-align: middle;\n",
       "    }\n",
       "\n",
       "    .dataframe tbody tr th {\n",
       "        vertical-align: top;\n",
       "    }\n",
       "\n",
       "    .dataframe thead th {\n",
       "        text-align: right;\n",
       "    }\n",
       "</style>\n",
       "<table border=\"1\" class=\"dataframe\">\n",
       "  <thead>\n",
       "    <tr style=\"text-align: right;\">\n",
       "      <th></th>\n",
       "      <th>building_id</th>\n",
       "      <th>total_price</th>\n",
       "    </tr>\n",
       "  </thead>\n",
       "  <tbody>\n",
       "    <tr>\n",
       "      <th>0</th>\n",
       "      <td>X5gsdTWGS3W7JJQB</td>\n",
       "      <td>1.390649e+07</td>\n",
       "    </tr>\n",
       "    <tr>\n",
       "      <th>1</th>\n",
       "      <td>BTshNOJyKHnT2YIT</td>\n",
       "      <td>3.932221e+06</td>\n",
       "    </tr>\n",
       "    <tr>\n",
       "      <th>2</th>\n",
       "      <td>dhdymr0lV8N5kZOT</td>\n",
       "      <td>1.116050e+07</td>\n",
       "    </tr>\n",
       "    <tr>\n",
       "      <th>3</th>\n",
       "      <td>VEwyGGMcD56w5BOc</td>\n",
       "      <td>6.030350e+06</td>\n",
       "    </tr>\n",
       "    <tr>\n",
       "      <th>4</th>\n",
       "      <td>wmUeMoJZfsqaSX9b</td>\n",
       "      <td>1.059908e+06</td>\n",
       "    </tr>\n",
       "    <tr>\n",
       "      <th>9995</th>\n",
       "      <td>UEeCDaAJzPwdKKKA</td>\n",
       "      <td>1.233662e+06</td>\n",
       "    </tr>\n",
       "    <tr>\n",
       "      <th>9996</th>\n",
       "      <td>i0fgbPaQsDWs7Q87</td>\n",
       "      <td>4.747701e+07</td>\n",
       "    </tr>\n",
       "    <tr>\n",
       "      <th>9997</th>\n",
       "      <td>YunNwAhcqkf6YclI</td>\n",
       "      <td>1.094867e+06</td>\n",
       "    </tr>\n",
       "    <tr>\n",
       "      <th>9998</th>\n",
       "      <td>A2NotxtRY9MYoWMl</td>\n",
       "      <td>2.974311e+06</td>\n",
       "    </tr>\n",
       "    <tr>\n",
       "      <th>9999</th>\n",
       "      <td>kKvgBXiA50gRmQhP</td>\n",
       "      <td>3.119895e+06</td>\n",
       "    </tr>\n",
       "  </tbody>\n",
       "</table>\n",
       "</div>"
      ],
      "text/plain": [
       "           building_id   total_price\n",
       "0     X5gsdTWGS3W7JJQB  1.390649e+07\n",
       "1     BTshNOJyKHnT2YIT  3.932221e+06\n",
       "2     dhdymr0lV8N5kZOT  1.116050e+07\n",
       "3     VEwyGGMcD56w5BOc  6.030350e+06\n",
       "4     wmUeMoJZfsqaSX9b  1.059908e+06\n",
       "9995  UEeCDaAJzPwdKKKA  1.233662e+06\n",
       "9996  i0fgbPaQsDWs7Q87  4.747701e+07\n",
       "9997  YunNwAhcqkf6YclI  1.094867e+06\n",
       "9998  A2NotxtRY9MYoWMl  2.974311e+06\n",
       "9999  kKvgBXiA50gRmQhP  3.119895e+06"
      ]
     },
     "metadata": {},
     "output_type": "display_data"
    },
    {
     "name": "stdout",
     "output_type": "stream",
     "text": [
      "shape = (10000, 2)\n"
     ]
    }
   ],
   "source": [
    "pd.read_csv(output_filename).check()"
   ]
  },
  {
   "cell_type": "markdown",
   "metadata": {},
   "source": [
    "### Compute submission for linear mean"
   ]
  },
  {
   "cell_type": "code",
   "execution_count": 65,
   "metadata": {},
   "outputs": [],
   "source": [
    "import matplotlib.pyplot as plt"
   ]
  },
  {
   "cell_type": "code",
   "execution_count": 83,
   "metadata": {},
   "outputs": [],
   "source": [
    "print('Predict for liear mean with', best_models_subset_none)\n",
    "test['total_price'] = predict_mean_subset(test, best_models_subset_none, is_per_area=False, is_log=False)"
   ]
  },
  {
   "cell_type": "code",
   "execution_count": 84,
   "metadata": {},
   "outputs": [
    {
     "name": "stderr",
     "output_type": "stream",
     "text": [
      "/Library/Frameworks/Python.framework/Versions/3.6/lib/python3.6/site-packages/matplotlib/axes/_axes.py:6571: UserWarning: The 'normed' kwarg is deprecated, and has been replaced by the 'density' kwarg.\n",
      "  warnings.warn(\"The 'normed' kwarg is deprecated, and has been \"\n"
     ]
    },
    {
     "data": {
      "image/png": "[encoded data removed]",
      "text/plain": [
       "<Figure size 432x288 with 1 Axes>"
      ]
     },
     "metadata": {
      "needs_background": "light"
     },
     "output_type": "display_data"
    },
    {
     "data": {
      "image/png": "[encoded data removed]",
      "text/plain": [
       "<Figure size 432x288 with 1 Axes>"
      ]
     },
     "metadata": {
      "needs_background": "light"
     },
     "output_type": "display_data"
    }
   ],
   "source": [
    "plt.hist(cv['log_parea_total_price'], bins=100, label='train true', normed=True)\n",
    "plt.hist(np.log1p(test['total_price'] / test['building_area']), bins=100, label='test',\n",
    "         normed=True, alpha=0.7)\n",
    "plt.xlabel('log(price/area + 1)'); plt.ylabel('ratio')\n",
    "plt.legend(); plt.grid(); plt.show()\n",
    "\n",
    "plt.hist(cv['log_total_price'], bins=100, label='train true', normed=True)\n",
    "plt.hist(np.log1p(test['total_price']), bins=100, label='test', normed=True, alpha=0.7)\n",
    "plt.xlabel('log(price + 1)'); plt.ylabel('ratio')\n",
    "plt.legend(); plt.grid(); plt.show()"
   ]
  },
  {
   "cell_type": "code",
   "execution_count": 85,
   "metadata": {},
   "outputs": [
    {
     "data": {
      "text/html": [
       "<div>\n",
       "<style scoped>\n",
       "    .dataframe tbody tr th:only-of-type {\n",
       "        vertical-align: middle;\n",
       "    }\n",
       "\n",
       "    .dataframe tbody tr th {\n",
       "        vertical-align: top;\n",
       "    }\n",
       "\n",
       "    .dataframe thead th {\n",
       "        text-align: right;\n",
       "    }\n",
       "</style>\n",
       "<table border=\"1\" class=\"dataframe\">\n",
       "  <thead>\n",
       "    <tr style=\"text-align: right;\">\n",
       "      <th></th>\n",
       "      <th>building_id</th>\n",
       "      <th>total_price</th>\n",
       "    </tr>\n",
       "  </thead>\n",
       "  <tbody>\n",
       "    <tr>\n",
       "      <th>0</th>\n",
       "      <td>X5gsdTWGS3W7JJQB</td>\n",
       "      <td>1.405136e+07</td>\n",
       "    </tr>\n",
       "    <tr>\n",
       "      <th>1</th>\n",
       "      <td>BTshNOJyKHnT2YIT</td>\n",
       "      <td>3.928897e+06</td>\n",
       "    </tr>\n",
       "    <tr>\n",
       "      <th>2</th>\n",
       "      <td>dhdymr0lV8N5kZOT</td>\n",
       "      <td>1.117513e+07</td>\n",
       "    </tr>\n",
       "    <tr>\n",
       "      <th>3</th>\n",
       "      <td>VEwyGGMcD56w5BOc</td>\n",
       "      <td>6.043538e+06</td>\n",
       "    </tr>\n",
       "    <tr>\n",
       "      <th>4</th>\n",
       "      <td>wmUeMoJZfsqaSX9b</td>\n",
       "      <td>1.061007e+06</td>\n",
       "    </tr>\n",
       "    <tr>\n",
       "      <th>9995</th>\n",
       "      <td>UEeCDaAJzPwdKKKA</td>\n",
       "      <td>1.235920e+06</td>\n",
       "    </tr>\n",
       "    <tr>\n",
       "      <th>9996</th>\n",
       "      <td>i0fgbPaQsDWs7Q87</td>\n",
       "      <td>4.752968e+07</td>\n",
       "    </tr>\n",
       "    <tr>\n",
       "      <th>9997</th>\n",
       "      <td>YunNwAhcqkf6YclI</td>\n",
       "      <td>1.094186e+06</td>\n",
       "    </tr>\n",
       "    <tr>\n",
       "      <th>9998</th>\n",
       "      <td>A2NotxtRY9MYoWMl</td>\n",
       "      <td>2.980076e+06</td>\n",
       "    </tr>\n",
       "    <tr>\n",
       "      <th>9999</th>\n",
       "      <td>kKvgBXiA50gRmQhP</td>\n",
       "      <td>3.119317e+06</td>\n",
       "    </tr>\n",
       "  </tbody>\n",
       "</table>\n",
       "</div>"
      ],
      "text/plain": [
       "           building_id   total_price\n",
       "0     X5gsdTWGS3W7JJQB  1.405136e+07\n",
       "1     BTshNOJyKHnT2YIT  3.928897e+06\n",
       "2     dhdymr0lV8N5kZOT  1.117513e+07\n",
       "3     VEwyGGMcD56w5BOc  6.043538e+06\n",
       "4     wmUeMoJZfsqaSX9b  1.061007e+06\n",
       "9995  UEeCDaAJzPwdKKKA  1.235920e+06\n",
       "9996  i0fgbPaQsDWs7Q87  4.752968e+07\n",
       "9997  YunNwAhcqkf6YclI  1.094186e+06\n",
       "9998  A2NotxtRY9MYoWMl  2.980076e+06\n",
       "9999  kKvgBXiA50gRmQhP  3.119317e+06"
      ]
     },
     "metadata": {},
     "output_type": "display_data"
    },
    {
     "name": "stdout",
     "output_type": "stream",
     "text": [
      "shape = (10000, 2)\n"
     ]
    }
   ],
   "source": [
    "test[['building_id', 'total_price']].check()"
   ]
  },
  {
   "cell_type": "code",
   "execution_count": 94,
   "metadata": {},
   "outputs": [
    {
     "name": "stdout",
     "output_type": "stream",
     "text": [
      "Output file to: output/stack_mean_10_1-11,14-15.csv\n"
     ]
    }
   ],
   "source": [
    "output_filename = 'output/stack_mean_{}_{}.csv'.format(stack_idx, models)\n",
    "print('Output file to:', output_filename)"
   ]
  },
  {
   "cell_type": "code",
   "execution_count": 86,
   "metadata": {},
   "outputs": [],
   "source": [
    "test[['building_id', 'total_price']].to_csv(output_filename, index=False)"
   ]
  },
  {
   "cell_type": "code",
   "execution_count": 95,
   "metadata": {},
   "outputs": [
    {
     "data": {
      "text/html": [
       "<div>\n",
       "<style scoped>\n",
       "    .dataframe tbody tr th:only-of-type {\n",
       "        vertical-align: middle;\n",
       "    }\n",
       "\n",
       "    .dataframe tbody tr th {\n",
       "        vertical-align: top;\n",
       "    }\n",
       "\n",
       "    .dataframe thead th {\n",
       "        text-align: right;\n",
       "    }\n",
       "</style>\n",
       "<table border=\"1\" class=\"dataframe\">\n",
       "  <thead>\n",
       "    <tr style=\"text-align: right;\">\n",
       "      <th></th>\n",
       "      <th>building_id</th>\n",
       "      <th>total_price</th>\n",
       "    </tr>\n",
       "  </thead>\n",
       "  <tbody>\n",
       "    <tr>\n",
       "      <th>0</th>\n",
       "      <td>X5gsdTWGS3W7JJQB</td>\n",
       "      <td>1.405136e+07</td>\n",
       "    </tr>\n",
       "    <tr>\n",
       "      <th>1</th>\n",
       "      <td>BTshNOJyKHnT2YIT</td>\n",
       "      <td>3.928897e+06</td>\n",
       "    </tr>\n",
       "    <tr>\n",
       "      <th>2</th>\n",
       "      <td>dhdymr0lV8N5kZOT</td>\n",
       "      <td>1.117513e+07</td>\n",
       "    </tr>\n",
       "    <tr>\n",
       "      <th>3</th>\n",
       "      <td>VEwyGGMcD56w5BOc</td>\n",
       "      <td>6.043538e+06</td>\n",
       "    </tr>\n",
       "    <tr>\n",
       "      <th>4</th>\n",
       "      <td>wmUeMoJZfsqaSX9b</td>\n",
       "      <td>1.061007e+06</td>\n",
       "    </tr>\n",
       "    <tr>\n",
       "      <th>9995</th>\n",
       "      <td>UEeCDaAJzPwdKKKA</td>\n",
       "      <td>1.235920e+06</td>\n",
       "    </tr>\n",
       "    <tr>\n",
       "      <th>9996</th>\n",
       "      <td>i0fgbPaQsDWs7Q87</td>\n",
       "      <td>4.752968e+07</td>\n",
       "    </tr>\n",
       "    <tr>\n",
       "      <th>9997</th>\n",
       "      <td>YunNwAhcqkf6YclI</td>\n",
       "      <td>1.094186e+06</td>\n",
       "    </tr>\n",
       "    <tr>\n",
       "      <th>9998</th>\n",
       "      <td>A2NotxtRY9MYoWMl</td>\n",
       "      <td>2.980076e+06</td>\n",
       "    </tr>\n",
       "    <tr>\n",
       "      <th>9999</th>\n",
       "      <td>kKvgBXiA50gRmQhP</td>\n",
       "      <td>3.119317e+06</td>\n",
       "    </tr>\n",
       "  </tbody>\n",
       "</table>\n",
       "</div>"
      ],
      "text/plain": [
       "           building_id   total_price\n",
       "0     X5gsdTWGS3W7JJQB  1.405136e+07\n",
       "1     BTshNOJyKHnT2YIT  3.928897e+06\n",
       "2     dhdymr0lV8N5kZOT  1.117513e+07\n",
       "3     VEwyGGMcD56w5BOc  6.043538e+06\n",
       "4     wmUeMoJZfsqaSX9b  1.061007e+06\n",
       "9995  UEeCDaAJzPwdKKKA  1.235920e+06\n",
       "9996  i0fgbPaQsDWs7Q87  4.752968e+07\n",
       "9997  YunNwAhcqkf6YclI  1.094186e+06\n",
       "9998  A2NotxtRY9MYoWMl  2.980076e+06\n",
       "9999  kKvgBXiA50gRmQhP  3.119317e+06"
      ]
     },
     "metadata": {},
     "output_type": "display_data"
    },
    {
     "name": "stdout",
     "output_type": "stream",
     "text": [
      "shape = (10000, 2)\n"
     ]
    }
   ],
   "source": [
    "pd.read_csv(output_filename).check()"
   ]
  },
  {
   "cell_type": "code",
   "execution_count": null,
   "metadata": {},
   "outputs": [],
   "source": []
  }
 ],
 "metadata": {
  "kernelspec": {
   "display_name": "Python 3",
   "language": "python",
   "name": "python3"
  },
  "language_info": {
   "codemirror_mode": {
    "name": "ipython",
    "version": 3
   },
   "file_extension": ".py",
   "mimetype": "text/x-python",
   "name": "python",
   "nbconvert_exporter": "python",
   "pygments_lexer": "ipython3",
   "version": "3.6.6"
  },
  "toc": {
   "base_numbering": 1,
   "nav_menu": {},
   "number_sections": true,
   "sideBar": true,
   "skip_h1_title": true,
   "title_cell": "Table of Contents",
   "title_sidebar": "Contents",
   "toc_cell": false,
   "toc_position": {},
   "toc_section_display": true,
   "toc_window_display": true
  }
 },
 "nbformat": 4,
 "nbformat_minor": 2
}
