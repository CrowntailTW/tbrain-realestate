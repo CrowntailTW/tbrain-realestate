{
 "cells": [
  {
   "cell_type": "code",
   "execution_count": 1,
   "metadata": {},
   "outputs": [],
   "source": [
    "import os\n",
    "import numpy as np\n",
    "import pandas as pd\n",
    "from scipy.optimize import minimize\n",
    "from sklearn.metrics import mean_squared_error, mean_absolute_error\n",
    "from utilities import cal_score, cal_mape, cal_score_smooth"
   ]
  },
  {
   "cell_type": "code",
   "execution_count": 2,
   "metadata": {},
   "outputs": [],
   "source": [
    "stack_idx = '18'\n",
    "models = '1-10,12-22,24-29'\n",
    "use_test_kfold = set([2, 7, 8, 12, 13])\n",
    "\n",
    "is_per_area = True\n",
    "add_intercept = True"
   ]
  },
  {
   "cell_type": "markdown",
   "metadata": {},
   "source": [
    "### Read CV predictions and test"
   ]
  },
  {
   "cell_type": "code",
   "execution_count": 3,
   "metadata": {},
   "outputs": [],
   "source": [
    "def parse_models(exp):\n",
    "    exp_split = exp.split(',')\n",
    "    idx_models = []\n",
    "    for e in exp_split:\n",
    "        if '-' in e:\n",
    "            n0, n1 = e.split('-')\n",
    "            idx_models.extend(list(range(int(n0), int(n1)+1, 1)))\n",
    "        else:\n",
    "            idx_models.append(int(e))\n",
    "    return idx_models"
   ]
  },
  {
   "cell_type": "code",
   "execution_count": 4,
   "metadata": {},
   "outputs": [
    {
     "name": "stdout",
     "output_type": "stream",
     "text": [
      "[1, 2, 3, 4, 5, 6, 7, 8, 9, 10, 12, 13, 14, 15, 16, 17, 18, 19, 20, 21, 22, 24, 25, 26, 27, 28, 29]\n"
     ]
    }
   ],
   "source": [
    "idx_models = parse_models(models)\n",
    "print(idx_models)"
   ]
  },
  {
   "cell_type": "code",
   "execution_count": 5,
   "metadata": {},
   "outputs": [],
   "source": [
    "files_in_output = [f for f in os.listdir('output/') if os.path.isfile('output/'+f)]\n",
    "files_cv = {idx: [f for f in files_in_output \n",
    "                  if f.startswith('model-%02d-' % idx) and f.endswith('cv.csv')][0] \n",
    "            for idx in idx_models}\n",
    "files_test_one = {idx: [f for f in files_in_output \n",
    "                        if f.startswith('model-%02d-' % idx) and f.endswith('test-one.csv')][0]\n",
    "                  for idx in idx_models}\n",
    "files_test_kf = {idx: [f for f in files_in_output \n",
    "                       if f.startswith('model-%02d-' % idx) and f.endswith('test-kfold.csv')][0]\n",
    "                 for idx in idx_models}"
   ]
  },
  {
   "cell_type": "code",
   "execution_count": 6,
   "metadata": {
    "scrolled": true
   },
   "outputs": [
    {
     "name": "stdout",
     "output_type": "stream",
     "text": [
      " 1 model-01-lgb-cv.csv\n",
      " 1 model-01-lgb-test-kfold.csv\n",
      " 1 model-01-lgb-test-one.csv\n",
      " 2 model-02-keras-search-cv.csv\n",
      " 2 model-02-keras-search-test-kfold.csv\n",
      " 2 model-02-keras-search-test-one.csv\n",
      " 3 model-03-lgb-feats-selection-cv.csv\n",
      " 3 model-03-lgb-feats-selection-test-kfold.csv\n",
      " 3 model-03-lgb-feats-selection-test-one.csv\n",
      " 4 model-04-lgb-PCA-cv.csv\n",
      " 4 model-04-lgb-PCA-test-kfold.csv\n",
      " 4 model-04-lgb-PCA-test-one.csv\n",
      " 5 model-05-lgb-wo-per-area-cv.csv\n",
      " 5 model-05-lgb-wo-per-area-test-kfold.csv\n",
      " 5 model-05-lgb-wo-per-area-test-one.csv\n",
      " 6 model-06-lgb-lr0.001-cv.csv\n",
      " 6 model-06-lgb-lr0.001-test-kfold.csv\n",
      " 6 model-06-lgb-lr0.001-test-one.csv\n",
      " 7 model-07-keras-embedding-cv.csv\n",
      " 7 model-07-keras-embedding-test-kfold.csv\n",
      " 7 model-07-keras-embedding-test-one.csv\n",
      " 8 model-08-keras-search-long-cv.csv\n",
      " 8 model-08-keras-search-long-test-kfold.csv\n",
      " 8 model-08-keras-search-long-test-one.csv\n",
      " 9 model-09-lgb-feats-selection-75-cv.csv\n",
      " 9 model-09-lgb-feats-selection-75-test-kfold.csv\n",
      " 9 model-09-lgb-feats-selection-75-test-one.csv\n",
      "10 model-10-lgb-feats-selection-75-lr-0.001-cv.csv\n",
      "10 model-10-lgb-feats-selection-75-lr-0.001-test-kfold.csv\n",
      "10 model-10-lgb-feats-selection-75-lr-0.001-test-one.csv\n",
      "12 model-12-predict-keras-search-prelu-cv.csv\n",
      "12 model-12-predict-keras-search-prelu-test-kfold.csv\n",
      "12 model-12-predict-keras-search-prelu-test-one.csv\n",
      "13 model-13-predict-keras-he_uni-cv.csv\n",
      "13 model-13-predict-keras-he_uni-test-kfold.csv\n",
      "13 model-13-predict-keras-he_uni-test-one.csv\n",
      "14 model-14-lgb-feats-selection-75-lr-0.001-rand-cv.csv\n",
      "14 model-14-lgb-feats-selection-75-lr-0.001-rand-test-kfold.csv\n",
      "14 model-14-lgb-feats-selection-75-lr-0.001-rand-test-one.csv\n",
      "15 model-15-lgb-feats-selection-75-lr-0.001-rand323-cv.csv\n",
      "15 model-15-lgb-feats-selection-75-lr-0.001-rand323-test-kfold.csv\n",
      "15 model-15-lgb-feats-selection-75-lr-0.001-rand323-test-one.csv\n",
      "16 model-16-lgb-feats-selection-68-lr-0.001-mix5-cv.csv\n",
      "16 model-16-lgb-feats-selection-68-lr-0.001-mix5-test-kfold.csv\n",
      "16 model-16-lgb-feats-selection-68-lr-0.001-mix5-test-one.csv\n",
      "17 model-17-lgb-feats-selection-70-lr-0.001-mix5-cv.csv\n",
      "17 model-17-lgb-feats-selection-70-lr-0.001-mix5-test-kfold.csv\n",
      "17 model-17-lgb-feats-selection-70-lr-0.001-mix5-test-one.csv\n",
      "18 model-18-lgb-feats-selection-70-lr-0.001-p5-cv.csv\n",
      "18 model-18-lgb-feats-selection-70-lr-0.001-p5-test-kfold.csv\n",
      "18 model-18-lgb-feats-selection-70-lr-0.001-p5-test-one.csv\n",
      "19 model-19-lgb-search-bins-lr-0.0005-cv.csv\n",
      "19 model-19-lgb-search-bins-lr-0.0005-test-kfold.csv\n",
      "19 model-19-lgb-search-bins-lr-0.0005-test-one.csv\n",
      "20 model-20-lgb-lr-0.0008-mix5-cv.csv\n",
      "20 model-20-lgb-lr-0.0008-mix5-test-kfold.csv\n",
      "20 model-20-lgb-lr-0.0008-mix5-test-one.csv\n",
      "21 model-21-lgb-wo-per-area-long-cv.csv\n",
      "21 model-21-lgb-wo-per-area-long-test-kfold.csv\n",
      "21 model-21-lgb-wo-per-area-long-test-one.csv\n",
      "22 model-22-lgb-wo-per-area-long-2-cv.csv\n",
      "22 model-22-lgb-wo-per-area-long-2-test-kfold.csv\n",
      "22 model-22-lgb-wo-per-area-long-2-test-one.csv\n",
      "24 model-24-lgb-binary-augment-cv.csv\n",
      "24 model-24-lgb-binary-augment-test-kfold.csv\n",
      "24 model-24-lgb-binary-augment-test-one.csv\n",
      "25 model-25-lgb-search-bins-lr-0.0005-250-cv.csv\n",
      "25 model-25-lgb-search-bins-lr-0.0005-250-test-kfold.csv\n",
      "25 model-25-lgb-search-bins-lr-0.0005-250-test-one.csv\n",
      "26 model-26-lgb-search-bins-lr-0.0005-350-cv.csv\n",
      "26 model-26-lgb-search-bins-lr-0.0005-350-test-kfold.csv\n",
      "26 model-26-lgb-search-bins-lr-0.0005-350-test-one.csv\n",
      "27 model-27-lgb-feat_rm_new-cv.csv\n",
      "27 model-27-lgb-feat_rm_new-test-kfold.csv\n",
      "27 model-27-lgb-feat_rm_new-test-one.csv\n",
      "28 model-28-lgb-search-bins-lr-0.0005-255-cv.csv\n",
      "28 model-28-lgb-search-bins-lr-0.0005-255-test-kfold.csv\n",
      "28 model-28-lgb-search-bins-lr-0.0005-255-test-one.csv\n",
      "29 model-29-lgb-building_age-fillna-cv.csv\n",
      "29 model-29-lgb-building_age-fillna-test-kfold.csv\n",
      "29 model-29-lgb-building_age-fillna-test-one.csv\n"
     ]
    }
   ],
   "source": [
    "for k in files_cv: \n",
    "    print('%2d'%k, files_cv[k])\n",
    "    print('%2d'%k, files_test_kf[k])\n",
    "    print('%2d'%k, files_test_one[k])"
   ]
  },
  {
   "cell_type": "markdown",
   "metadata": {},
   "source": [
    "#### Load area"
   ]
  },
  {
   "cell_type": "code",
   "execution_count": 7,
   "metadata": {},
   "outputs": [],
   "source": [
    "df_train = pd.read_csv('dataset/train.csv')\n",
    "df_test = pd.read_csv('dataset/test.csv')"
   ]
  },
  {
   "cell_type": "code",
   "execution_count": 8,
   "metadata": {},
   "outputs": [],
   "source": [
    "cv = df_train[['building_id', 'building_area', 'total_price']]\n",
    "test = df_test[['building_id', 'building_area']]"
   ]
  },
  {
   "cell_type": "code",
   "execution_count": 9,
   "metadata": {},
   "outputs": [
    {
     "name": "stdout",
     "output_type": "stream",
     "text": [
      "CV predictions:\n",
      "27\n",
      "model-01-lgb-cv.csv\n",
      "model-02-keras-search-cv.csv\n",
      "model-03-lgb-feats-selection-cv.csv\n",
      "model-04-lgb-PCA-cv.csv\n",
      "model-05-lgb-wo-per-area-cv.csv\n",
      "model-06-lgb-lr0.001-cv.csv\n",
      "model-07-keras-embedding-cv.csv\n",
      "model-08-keras-search-long-cv.csv\n",
      "model-09-lgb-feats-selection-75-cv.csv\n",
      "model-10-lgb-feats-selection-75-lr-0.001-cv.csv\n",
      "model-12-predict-keras-search-prelu-cv.csv\n",
      "model-13-predict-keras-he_uni-cv.csv\n",
      "model-14-lgb-feats-selection-75-lr-0.001-rand-cv.csv\n",
      "model-15-lgb-feats-selection-75-lr-0.001-rand323-cv.csv\n",
      "model-16-lgb-feats-selection-68-lr-0.001-mix5-cv.csv\n",
      "model-17-lgb-feats-selection-70-lr-0.001-mix5-cv.csv\n",
      "model-18-lgb-feats-selection-70-lr-0.001-p5-cv.csv\n",
      "model-19-lgb-search-bins-lr-0.0005-cv.csv\n",
      "model-20-lgb-lr-0.0008-mix5-cv.csv\n",
      "model-21-lgb-wo-per-area-long-cv.csv\n",
      "model-22-lgb-wo-per-area-long-2-cv.csv\n",
      "model-24-lgb-binary-augment-cv.csv\n",
      "model-25-lgb-search-bins-lr-0.0005-250-cv.csv\n",
      "model-26-lgb-search-bins-lr-0.0005-350-cv.csv\n",
      "model-27-lgb-feat_rm_new-cv.csv\n",
      "model-28-lgb-search-bins-lr-0.0005-255-cv.csv\n",
      "model-29-lgb-building_age-fillna-cv.csv\n"
     ]
    }
   ],
   "source": [
    "print('CV predictions:')\n",
    "print(len(idx_models))\n",
    "for i, idx_model in enumerate(idx_models):\n",
    "    f = files_cv[idx_model]\n",
    "    print(f)\n",
    "#    print('No. {} file: {}'.format(i, f))\n",
    "    df = pd.read_csv('output/'+f)\n",
    "    \n",
    "    cv = pd.merge(cv, df[['building_id', 'total_price_predict']], on='building_id')\n",
    "    \n",
    "    cv = cv.rename(columns = {'total_price_predict': 'pred_{}'.format(idx_model)})\n",
    "    cv[f'log_pred_{idx_model}'] = np.log1p(cv[f'pred_{idx_model}'])\n",
    "    cv[f'log_parea_pred_{idx_model}'] = np.log1p( cv[f'pred_{idx_model}'] / cv['building_area'] )"
   ]
  },
  {
   "cell_type": "code",
   "execution_count": 10,
   "metadata": {},
   "outputs": [
    {
     "name": "stdout",
     "output_type": "stream",
     "text": [
      "Test predictions:\n",
      "No. 0 file: model-01-lgb-test-one.csv\n",
      "No. 1 file: model-02-keras-search-test-kfold.csv\n",
      "No. 2 file: model-03-lgb-feats-selection-test-one.csv\n",
      "No. 3 file: model-04-lgb-PCA-test-one.csv\n",
      "No. 4 file: model-05-lgb-wo-per-area-test-one.csv\n",
      "No. 5 file: model-06-lgb-lr0.001-test-one.csv\n",
      "No. 6 file: model-07-keras-embedding-test-kfold.csv\n",
      "No. 7 file: model-08-keras-search-long-test-kfold.csv\n",
      "No. 8 file: model-09-lgb-feats-selection-75-test-one.csv\n",
      "No. 9 file: model-10-lgb-feats-selection-75-lr-0.001-test-one.csv\n",
      "No. 10 file: model-12-predict-keras-search-prelu-test-kfold.csv\n",
      "No. 11 file: model-13-predict-keras-he_uni-test-kfold.csv\n",
      "No. 12 file: model-14-lgb-feats-selection-75-lr-0.001-rand-test-one.csv\n",
      "No. 13 file: model-15-lgb-feats-selection-75-lr-0.001-rand323-test-one.csv\n",
      "No. 14 file: model-16-lgb-feats-selection-68-lr-0.001-mix5-test-one.csv\n",
      "No. 15 file: model-17-lgb-feats-selection-70-lr-0.001-mix5-test-one.csv\n",
      "No. 16 file: model-18-lgb-feats-selection-70-lr-0.001-p5-test-one.csv\n",
      "No. 17 file: model-19-lgb-search-bins-lr-0.0005-test-one.csv\n",
      "No. 18 file: model-20-lgb-lr-0.0008-mix5-test-one.csv\n",
      "No. 19 file: model-21-lgb-wo-per-area-long-test-one.csv\n",
      "No. 20 file: model-22-lgb-wo-per-area-long-2-test-one.csv\n",
      "No. 21 file: model-24-lgb-binary-augment-test-one.csv\n",
      "No. 22 file: model-25-lgb-search-bins-lr-0.0005-250-test-one.csv\n",
      "No. 23 file: model-26-lgb-search-bins-lr-0.0005-350-test-one.csv\n",
      "No. 24 file: model-27-lgb-feat_rm_new-test-one.csv\n",
      "No. 25 file: model-28-lgb-search-bins-lr-0.0005-255-test-one.csv\n",
      "No. 26 file: model-29-lgb-building_age-fillna-test-one.csv\n"
     ]
    }
   ],
   "source": [
    "cv['log_total_price'] = np.log1p(cv['total_price'])\n",
    "cv['log_parea_total_price'] = np.log1p( cv['total_price'] / cv['building_area'] )\n",
    "\n",
    "print('Test predictions:')\n",
    "for i, idx in enumerate(idx_models):\n",
    "    f = files_test_kf[idx] if idx in use_test_kfold else files_test_one[idx]\n",
    "    print('No. {} file: {}'.format(i, f))\n",
    "    df = pd.read_csv('output/'+f)\n",
    "\n",
    "    test = pd.merge(test, df[['building_id','total_price']], on='building_id')\n",
    "        \n",
    "    test = test.rename(columns = {'total_price': 'pred_{}'.format(idx)})\n",
    "    test[f'log_pred_{idx}'] = np.log1p(test[f'pred_{idx}'])\n",
    "    test[f'log_parea_pred_{idx}'] = np.log1p( test[f'pred_{idx}'] / test['building_area'] )"
   ]
  },
  {
   "cell_type": "code",
   "execution_count": 11,
   "metadata": {},
   "outputs": [
    {
     "data": {
      "text/html": [
       "<div>\n",
       "<style scoped>\n",
       "    .dataframe tbody tr th:only-of-type {\n",
       "        vertical-align: middle;\n",
       "    }\n",
       "\n",
       "    .dataframe tbody tr th {\n",
       "        vertical-align: top;\n",
       "    }\n",
       "\n",
       "    .dataframe thead th {\n",
       "        text-align: right;\n",
       "    }\n",
       "</style>\n",
       "<table border=\"1\" class=\"dataframe\">\n",
       "  <thead>\n",
       "    <tr style=\"text-align: right;\">\n",
       "      <th></th>\n",
       "      <th>building_id</th>\n",
       "      <th>building_area</th>\n",
       "      <th>total_price</th>\n",
       "      <th>pred_1</th>\n",
       "      <th>log_pred_1</th>\n",
       "      <th>log_parea_pred_1</th>\n",
       "      <th>pred_2</th>\n",
       "      <th>log_pred_2</th>\n",
       "      <th>log_parea_pred_2</th>\n",
       "      <th>pred_3</th>\n",
       "      <th>...</th>\n",
       "      <th>log_pred_27</th>\n",
       "      <th>log_parea_pred_27</th>\n",
       "      <th>pred_28</th>\n",
       "      <th>log_pred_28</th>\n",
       "      <th>log_parea_pred_28</th>\n",
       "      <th>pred_29</th>\n",
       "      <th>log_pred_29</th>\n",
       "      <th>log_parea_pred_29</th>\n",
       "      <th>log_total_price</th>\n",
       "      <th>log_parea_total_price</th>\n",
       "    </tr>\n",
       "  </thead>\n",
       "  <tbody>\n",
       "    <tr>\n",
       "      <th>0</th>\n",
       "      <td>e3mMIMR3JJqCaXz1</td>\n",
       "      <td>3.418175</td>\n",
       "      <td>6.476038e+05</td>\n",
       "      <td>6.331552e+05</td>\n",
       "      <td>13.358472</td>\n",
       "      <td>12.129369</td>\n",
       "      <td>717209.94</td>\n",
       "      <td>13.483125</td>\n",
       "      <td>12.254022</td>\n",
       "      <td>6.656891e+05</td>\n",
       "      <td>...</td>\n",
       "      <td>13.381324</td>\n",
       "      <td>12.152221</td>\n",
       "      <td>6.374413e+05</td>\n",
       "      <td>13.365219</td>\n",
       "      <td>12.136116</td>\n",
       "      <td>6.274171e+05</td>\n",
       "      <td>13.349368</td>\n",
       "      <td>12.120265</td>\n",
       "      <td>13.381036</td>\n",
       "      <td>12.151933</td>\n",
       "    </tr>\n",
       "    <tr>\n",
       "      <th>1</th>\n",
       "      <td>LgwzgklNvy4QCtq5</td>\n",
       "      <td>4.041309</td>\n",
       "      <td>3.321452e+06</td>\n",
       "      <td>3.064324e+06</td>\n",
       "      <td>14.935338</td>\n",
       "      <td>13.538770</td>\n",
       "      <td>2899842.20</td>\n",
       "      <td>14.880167</td>\n",
       "      <td>13.483600</td>\n",
       "      <td>3.079196e+06</td>\n",
       "      <td>...</td>\n",
       "      <td>14.955716</td>\n",
       "      <td>13.559149</td>\n",
       "      <td>3.160098e+06</td>\n",
       "      <td>14.966114</td>\n",
       "      <td>13.569546</td>\n",
       "      <td>3.145481e+06</td>\n",
       "      <td>14.961478</td>\n",
       "      <td>13.564910</td>\n",
       "      <td>15.015913</td>\n",
       "      <td>13.619345</td>\n",
       "    </tr>\n",
       "    <tr>\n",
       "      <th>2</th>\n",
       "      <td>ucIR2NLLsC3T650L</td>\n",
       "      <td>5.584279</td>\n",
       "      <td>9.570885e+06</td>\n",
       "      <td>9.827776e+06</td>\n",
       "      <td>16.100723</td>\n",
       "      <td>14.380769</td>\n",
       "      <td>9766813.00</td>\n",
       "      <td>16.094501</td>\n",
       "      <td>14.374546</td>\n",
       "      <td>9.814852e+06</td>\n",
       "      <td>...</td>\n",
       "      <td>16.092359</td>\n",
       "      <td>14.372404</td>\n",
       "      <td>9.804749e+06</td>\n",
       "      <td>16.098377</td>\n",
       "      <td>14.378423</td>\n",
       "      <td>9.762486e+06</td>\n",
       "      <td>16.094058</td>\n",
       "      <td>14.374103</td>\n",
       "      <td>16.074236</td>\n",
       "      <td>14.354282</td>\n",
       "    </tr>\n",
       "    <tr>\n",
       "      <th>3</th>\n",
       "      <td>jre1pJhcQj91Kdky</td>\n",
       "      <td>13.563031</td>\n",
       "      <td>1.421501e+07</td>\n",
       "      <td>1.255350e+07</td>\n",
       "      <td>16.345510</td>\n",
       "      <td>13.738164</td>\n",
       "      <td>12699800.00</td>\n",
       "      <td>16.357097</td>\n",
       "      <td>13.749750</td>\n",
       "      <td>1.255981e+07</td>\n",
       "      <td>...</td>\n",
       "      <td>16.348848</td>\n",
       "      <td>13.741502</td>\n",
       "      <td>1.263065e+07</td>\n",
       "      <td>16.351637</td>\n",
       "      <td>13.744290</td>\n",
       "      <td>1.262574e+07</td>\n",
       "      <td>16.351248</td>\n",
       "      <td>13.743901</td>\n",
       "      <td>16.469809</td>\n",
       "      <td>13.862462</td>\n",
       "    </tr>\n",
       "    <tr>\n",
       "      <th>4</th>\n",
       "      <td>rQpYpY9nRG7X5mmr</td>\n",
       "      <td>4.688108</td>\n",
       "      <td>7.627120e+05</td>\n",
       "      <td>1.215194e+06</td>\n",
       "      <td>14.010415</td>\n",
       "      <td>12.465389</td>\n",
       "      <td>2012610.50</td>\n",
       "      <td>14.514944</td>\n",
       "      <td>12.969916</td>\n",
       "      <td>1.128419e+06</td>\n",
       "      <td>...</td>\n",
       "      <td>13.938992</td>\n",
       "      <td>12.393966</td>\n",
       "      <td>1.132637e+06</td>\n",
       "      <td>13.940060</td>\n",
       "      <td>12.395034</td>\n",
       "      <td>1.128514e+06</td>\n",
       "      <td>13.936413</td>\n",
       "      <td>12.391388</td>\n",
       "      <td>13.544637</td>\n",
       "      <td>11.999613</td>\n",
       "    </tr>\n",
       "  </tbody>\n",
       "</table>\n",
       "<p>5 rows × 86 columns</p>\n",
       "</div>"
      ],
      "text/plain": [
       "        building_id  building_area   total_price        pred_1  log_pred_1  \\\n",
       "0  e3mMIMR3JJqCaXz1       3.418175  6.476038e+05  6.331552e+05   13.358472   \n",
       "1  LgwzgklNvy4QCtq5       4.041309  3.321452e+06  3.064324e+06   14.935338   \n",
       "2  ucIR2NLLsC3T650L       5.584279  9.570885e+06  9.827776e+06   16.100723   \n",
       "3  jre1pJhcQj91Kdky      13.563031  1.421501e+07  1.255350e+07   16.345510   \n",
       "4  rQpYpY9nRG7X5mmr       4.688108  7.627120e+05  1.215194e+06   14.010415   \n",
       "\n",
       "   log_parea_pred_1       pred_2  log_pred_2  log_parea_pred_2        pred_3  \\\n",
       "0         12.129369    717209.94   13.483125         12.254022  6.656891e+05   \n",
       "1         13.538770   2899842.20   14.880167         13.483600  3.079196e+06   \n",
       "2         14.380769   9766813.00   16.094501         14.374546  9.814852e+06   \n",
       "3         13.738164  12699800.00   16.357097         13.749750  1.255981e+07   \n",
       "4         12.465389   2012610.50   14.514944         12.969916  1.128419e+06   \n",
       "\n",
       "           ...            log_pred_27  log_parea_pred_27       pred_28  \\\n",
       "0          ...              13.381324          12.152221  6.374413e+05   \n",
       "1          ...              14.955716          13.559149  3.160098e+06   \n",
       "2          ...              16.092359          14.372404  9.804749e+06   \n",
       "3          ...              16.348848          13.741502  1.263065e+07   \n",
       "4          ...              13.938992          12.393966  1.132637e+06   \n",
       "\n",
       "   log_pred_28  log_parea_pred_28       pred_29  log_pred_29  \\\n",
       "0    13.365219          12.136116  6.274171e+05    13.349368   \n",
       "1    14.966114          13.569546  3.145481e+06    14.961478   \n",
       "2    16.098377          14.378423  9.762486e+06    16.094058   \n",
       "3    16.351637          13.744290  1.262574e+07    16.351248   \n",
       "4    13.940060          12.395034  1.128514e+06    13.936413   \n",
       "\n",
       "   log_parea_pred_29  log_total_price  log_parea_total_price  \n",
       "0          12.120265        13.381036              12.151933  \n",
       "1          13.564910        15.015913              13.619345  \n",
       "2          14.374103        16.074236              14.354282  \n",
       "3          13.743901        16.469809              13.862462  \n",
       "4          12.391388        13.544637              11.999613  \n",
       "\n",
       "[5 rows x 86 columns]"
      ]
     },
     "metadata": {},
     "output_type": "display_data"
    },
    {
     "data": {
      "text/html": [
       "<div>\n",
       "<style scoped>\n",
       "    .dataframe tbody tr th:only-of-type {\n",
       "        vertical-align: middle;\n",
       "    }\n",
       "\n",
       "    .dataframe tbody tr th {\n",
       "        vertical-align: top;\n",
       "    }\n",
       "\n",
       "    .dataframe thead th {\n",
       "        text-align: right;\n",
       "    }\n",
       "</style>\n",
       "<table border=\"1\" class=\"dataframe\">\n",
       "  <thead>\n",
       "    <tr style=\"text-align: right;\">\n",
       "      <th></th>\n",
       "      <th>building_id</th>\n",
       "      <th>building_area</th>\n",
       "      <th>pred_1</th>\n",
       "      <th>log_pred_1</th>\n",
       "      <th>log_parea_pred_1</th>\n",
       "      <th>pred_2</th>\n",
       "      <th>log_pred_2</th>\n",
       "      <th>log_parea_pred_2</th>\n",
       "      <th>pred_3</th>\n",
       "      <th>log_pred_3</th>\n",
       "      <th>...</th>\n",
       "      <th>log_parea_pred_26</th>\n",
       "      <th>pred_27</th>\n",
       "      <th>log_pred_27</th>\n",
       "      <th>log_parea_pred_27</th>\n",
       "      <th>pred_28</th>\n",
       "      <th>log_pred_28</th>\n",
       "      <th>log_parea_pred_28</th>\n",
       "      <th>pred_29</th>\n",
       "      <th>log_pred_29</th>\n",
       "      <th>log_parea_pred_29</th>\n",
       "    </tr>\n",
       "  </thead>\n",
       "  <tbody>\n",
       "    <tr>\n",
       "      <th>0</th>\n",
       "      <td>X5gsdTWGS3W7JJQB</td>\n",
       "      <td>3.418175</td>\n",
       "      <td>1.526912e+07</td>\n",
       "      <td>16.541343</td>\n",
       "      <td>15.312236</td>\n",
       "      <td>12470072.0</td>\n",
       "      <td>16.338842</td>\n",
       "      <td>15.109735</td>\n",
       "      <td>1.531685e+07</td>\n",
       "      <td>16.544464</td>\n",
       "      <td>...</td>\n",
       "      <td>15.195091</td>\n",
       "      <td>1.405424e+07</td>\n",
       "      <td>16.458435</td>\n",
       "      <td>15.229328</td>\n",
       "      <td>1.485198e+07</td>\n",
       "      <td>16.513644</td>\n",
       "      <td>15.284537</td>\n",
       "      <td>1.458851e+07</td>\n",
       "      <td>16.495745</td>\n",
       "      <td>15.266638</td>\n",
       "    </tr>\n",
       "    <tr>\n",
       "      <th>1</th>\n",
       "      <td>BTshNOJyKHnT2YIT</td>\n",
       "      <td>7.726227</td>\n",
       "      <td>3.924241e+06</td>\n",
       "      <td>15.182684</td>\n",
       "      <td>13.138065</td>\n",
       "      <td>3916552.2</td>\n",
       "      <td>15.180723</td>\n",
       "      <td>13.136104</td>\n",
       "      <td>3.977095e+06</td>\n",
       "      <td>15.196062</td>\n",
       "      <td>...</td>\n",
       "      <td>13.135851</td>\n",
       "      <td>3.932854e+06</td>\n",
       "      <td>15.184876</td>\n",
       "      <td>13.140257</td>\n",
       "      <td>3.925095e+06</td>\n",
       "      <td>15.182901</td>\n",
       "      <td>13.138282</td>\n",
       "      <td>3.930381e+06</td>\n",
       "      <td>15.184247</td>\n",
       "      <td>13.139628</td>\n",
       "    </tr>\n",
       "    <tr>\n",
       "      <th>2</th>\n",
       "      <td>dhdymr0lV8N5kZOT</td>\n",
       "      <td>12.170581</td>\n",
       "      <td>1.096127e+07</td>\n",
       "      <td>16.209879</td>\n",
       "      <td>13.710858</td>\n",
       "      <td>11912735.0</td>\n",
       "      <td>16.293119</td>\n",
       "      <td>13.794098</td>\n",
       "      <td>1.084967e+07</td>\n",
       "      <td>16.199646</td>\n",
       "      <td>...</td>\n",
       "      <td>13.692710</td>\n",
       "      <td>1.040041e+07</td>\n",
       "      <td>16.157355</td>\n",
       "      <td>13.658335</td>\n",
       "      <td>1.066340e+07</td>\n",
       "      <td>16.182328</td>\n",
       "      <td>13.683307</td>\n",
       "      <td>1.053625e+07</td>\n",
       "      <td>16.170332</td>\n",
       "      <td>13.671312</td>\n",
       "    </tr>\n",
       "    <tr>\n",
       "      <th>3</th>\n",
       "      <td>VEwyGGMcD56w5BOc</td>\n",
       "      <td>2.252256</td>\n",
       "      <td>6.155550e+06</td>\n",
       "      <td>15.632865</td>\n",
       "      <td>14.820933</td>\n",
       "      <td>5940670.0</td>\n",
       "      <td>15.597333</td>\n",
       "      <td>14.785400</td>\n",
       "      <td>6.015238e+06</td>\n",
       "      <td>15.609807</td>\n",
       "      <td>...</td>\n",
       "      <td>14.801146</td>\n",
       "      <td>5.905111e+06</td>\n",
       "      <td>15.591329</td>\n",
       "      <td>14.779397</td>\n",
       "      <td>6.025775e+06</td>\n",
       "      <td>15.611557</td>\n",
       "      <td>14.799625</td>\n",
       "      <td>5.922934e+06</td>\n",
       "      <td>15.594343</td>\n",
       "      <td>14.782410</td>\n",
       "    </tr>\n",
       "    <tr>\n",
       "      <th>4</th>\n",
       "      <td>wmUeMoJZfsqaSX9b</td>\n",
       "      <td>5.813985</td>\n",
       "      <td>1.062995e+06</td>\n",
       "      <td>13.876602</td>\n",
       "      <td>12.116340</td>\n",
       "      <td>1088488.1</td>\n",
       "      <td>13.900301</td>\n",
       "      <td>12.140039</td>\n",
       "      <td>1.027248e+06</td>\n",
       "      <td>13.842395</td>\n",
       "      <td>...</td>\n",
       "      <td>12.147091</td>\n",
       "      <td>1.048505e+06</td>\n",
       "      <td>13.862877</td>\n",
       "      <td>12.102615</td>\n",
       "      <td>1.078927e+06</td>\n",
       "      <td>13.891479</td>\n",
       "      <td>12.131217</td>\n",
       "      <td>1.092658e+06</td>\n",
       "      <td>13.904125</td>\n",
       "      <td>12.143863</td>\n",
       "    </tr>\n",
       "  </tbody>\n",
       "</table>\n",
       "<p>5 rows × 83 columns</p>\n",
       "</div>"
      ],
      "text/plain": [
       "        building_id  building_area        pred_1  log_pred_1  \\\n",
       "0  X5gsdTWGS3W7JJQB       3.418175  1.526912e+07   16.541343   \n",
       "1  BTshNOJyKHnT2YIT       7.726227  3.924241e+06   15.182684   \n",
       "2  dhdymr0lV8N5kZOT      12.170581  1.096127e+07   16.209879   \n",
       "3  VEwyGGMcD56w5BOc       2.252256  6.155550e+06   15.632865   \n",
       "4  wmUeMoJZfsqaSX9b       5.813985  1.062995e+06   13.876602   \n",
       "\n",
       "   log_parea_pred_1      pred_2  log_pred_2  log_parea_pred_2        pred_3  \\\n",
       "0         15.312236  12470072.0   16.338842         15.109735  1.531685e+07   \n",
       "1         13.138065   3916552.2   15.180723         13.136104  3.977095e+06   \n",
       "2         13.710858  11912735.0   16.293119         13.794098  1.084967e+07   \n",
       "3         14.820933   5940670.0   15.597333         14.785400  6.015238e+06   \n",
       "4         12.116340   1088488.1   13.900301         12.140039  1.027248e+06   \n",
       "\n",
       "   log_pred_3        ...          log_parea_pred_26       pred_27  \\\n",
       "0   16.544464        ...                  15.195091  1.405424e+07   \n",
       "1   15.196062        ...                  13.135851  3.932854e+06   \n",
       "2   16.199646        ...                  13.692710  1.040041e+07   \n",
       "3   15.609807        ...                  14.801146  5.905111e+06   \n",
       "4   13.842395        ...                  12.147091  1.048505e+06   \n",
       "\n",
       "   log_pred_27  log_parea_pred_27       pred_28  log_pred_28  \\\n",
       "0    16.458435          15.229328  1.485198e+07    16.513644   \n",
       "1    15.184876          13.140257  3.925095e+06    15.182901   \n",
       "2    16.157355          13.658335  1.066340e+07    16.182328   \n",
       "3    15.591329          14.779397  6.025775e+06    15.611557   \n",
       "4    13.862877          12.102615  1.078927e+06    13.891479   \n",
       "\n",
       "   log_parea_pred_28       pred_29  log_pred_29  log_parea_pred_29  \n",
       "0          15.284537  1.458851e+07    16.495745          15.266638  \n",
       "1          13.138282  3.930381e+06    15.184247          13.139628  \n",
       "2          13.683307  1.053625e+07    16.170332          13.671312  \n",
       "3          14.799625  5.922934e+06    15.594343          14.782410  \n",
       "4          12.131217  1.092658e+06    13.904125          12.143863  \n",
       "\n",
       "[5 rows x 83 columns]"
      ]
     },
     "metadata": {},
     "output_type": "display_data"
    }
   ],
   "source": [
    "display(cv.head())\n",
    "display(test.head())"
   ]
  },
  {
   "cell_type": "markdown",
   "metadata": {},
   "source": [
    "### Check models scores"
   ]
  },
  {
   "cell_type": "code",
   "execution_count": 12,
   "metadata": {},
   "outputs": [
    {
     "name": "stdout",
     "output_type": "stream",
     "text": [
      " 0 model-01 5870.873059\n",
      " 1 model-02 5400.852164\n",
      " 2 model-03 5877.873452\n",
      " 3 model-04 5713.867808\n",
      " 4 model-05 5724.869598\n",
      " 5 model-06 5886.873769\n",
      " 6 model-07 5171.836449\n",
      " 7 model-08 5514.858826\n",
      " 8 model-09 5872.873118\n",
      " 9 model-10 5897.873845\n",
      "10 model-12 5486.856963\n",
      "11 model-13 5506.858055\n",
      "12 model-14 5908.873901\n",
      "13 model-15 5900.873836\n",
      "14 model-16 5907.874126\n",
      "15 model-17 5905.874165\n",
      "16 model-18 5908.874297\n",
      "17 model-19 5911.874156\n",
      "18 model-20 5908.874040\n",
      "19 model-21 5758.870702\n",
      "20 model-22 5752.870671\n",
      "21 model-24 5866.873835\n",
      "22 model-25 5908.874238\n",
      "23 model-26 5918.873998\n",
      "24 model-27 5892.873194\n",
      "25 model-28 5901.874202\n",
      "26 model-29 5884.873848\n"
     ]
    }
   ],
   "source": [
    "for i, idx_model in enumerate(idx_models):\n",
    "    print('%2d'%i, 'model-%02d'%idx_model, '%.6f'%cal_score(cv['total_price'], cv[f'pred_{idx_model}']))"
   ]
  },
  {
   "cell_type": "code",
   "execution_count": 13,
   "metadata": {},
   "outputs": [],
   "source": [
    "cv['constant_1'] = 1\n",
    "test['constant_1'] = 1\n",
    "\n",
    "if is_per_area:\n",
    "    cols_opt = [f'log_parea_pred_{idx}' for idx in idx_models]\n",
    "else:\n",
    "    cols_opt = [f'log_pred_{idx}' for idx in idx_models]\n",
    "\n",
    "if add_intercept:\n",
    "    cols_opt.append('constant_1')"
   ]
  },
  {
   "cell_type": "markdown",
   "metadata": {},
   "source": [
    "### Define opt function"
   ]
  },
  {
   "cell_type": "code",
   "execution_count": 14,
   "metadata": {},
   "outputs": [],
   "source": [
    "def objective(x, cv, metric, best_score, best_coeffs, verbose):\n",
    "    cv_pred_final = cv[cols_opt].dot(x)\n",
    "    \n",
    "    if is_per_area:\n",
    "        cv_pred_final = np.expm1(cv_pred_final) * cv['building_area']\n",
    "    else:\n",
    "        cv_pred_final = np.expm1(cv_pred_final)\n",
    "\n",
    "    score = cal_score(cv['total_price'], cv_pred_final)\n",
    "    if score > best_score[metric]:\n",
    "        best_score[metric] = score\n",
    "        best_coeffs[metric] = x.copy()\n",
    "        if verbose:\n",
    "            print('find better score:')\n",
    "            print('score: ', score)\n",
    "            print('coeffs: ', x)\n",
    "            print()\n",
    "    \n",
    "    if metric == 'mape':\n",
    "        return cal_mape(cv['total_price'], cv_pred_final)\n",
    "    elif metric == 'mse':\n",
    "        return mean_squared_error(cv['total_price'], cv_pred_final)\n",
    "    elif metric == 'mae':\n",
    "        return mean_absolute_error(cv['total_price'], cv_pred_final)\n",
    "    elif metric == 'smooth':\n",
    "        return cal_score_smooth(cv['total_price'], cv_pred_final)\n",
    "    else:\n",
    "        raise Exception('metric unknown: {}'.format(metric))\n",
    "#    return 1 - (cal_score(cv['total_price'], cv_pred_final)/10000)"
   ]
  },
  {
   "cell_type": "markdown",
   "metadata": {},
   "source": [
    "### CV"
   ]
  },
  {
   "cell_type": "code",
   "execution_count": 15,
   "metadata": {},
   "outputs": [
    {
     "name": "stderr",
     "output_type": "stream",
     "text": [
      "/Library/Frameworks/Python.framework/Versions/3.6/lib/python3.6/site-packages/sklearn/model_selection/_split.py:431: FutureWarning: The default value of n_split will change from 3 to 5 in version 0.22. Specify it explicitly to silence this warning.\n",
      "  warnings.warn(NSPLIT_WARNING, FutureWarning)\n"
     ]
    },
    {
     "name": "stdout",
     "output_type": "stream",
     "text": [
      "Optimizing with init x0: [0.03571428571428571, 0.03571428571428571, 0.03571428571428571, 0.03571428571428571, 0.03571428571428571, 0.03571428571428571, 0.03571428571428571, 0.03571428571428571, 0.03571428571428571, 0.03571428571428571, 0.03571428571428571, 0.03571428571428571, 0.03571428571428571, 0.03571428571428571, 0.03571428571428571, 0.03571428571428571, 0.03571428571428571, 0.03571428571428571, 0.03571428571428571, 0.03571428571428571, 0.03571428571428571, 0.03571428571428571, 0.03571428571428571, 0.03571428571428571, 0.03571428571428571, 0.03571428571428571, 0.03571428571428571, 0.03571428571428571]\n",
      "\n",
      "Optimizing with init x0: [0, 0, 0, 0, 0, 0, 0, 0, 0, 0, 0, 0, 0, 0, 0, 0, 0, 0, 0, 0, 0, 0, 0, 0, 0, 0, 0, 0]\n",
      "\n",
      "Optimizing with init x0: [0.1, 0.1, 0.1, 0.1, 0.1, 0.1, 0.1, 0.1, 0.1, 0.1, 0.1, 0.1, 0.1, 0.1, 0.1, 0.1, 0.1, 0.1, 0.1, 0.1, 0.1, 0.1, 0.1, 0.1, 0.1, 0.1, 0.1, 0.1]\n",
      "\n",
      "Optimizing with init x0: [0.2, 0.2, 0.2, 0.2, 0.2, 0.2, 0.2, 0.2, 0.2, 0.2, 0.2, 0.2, 0.2, 0.2, 0.2, 0.2, 0.2, 0.2, 0.2, 0.2, 0.2, 0.2, 0.2, 0.2, 0.2, 0.2, 0.2, 0.2]\n",
      "\n",
      "Optimizing with init x0: [0.5, 0.5, 0.5, 0.5, 0.5, 0.5, 0.5, 0.5, 0.5, 0.5, 0.5, 0.5, 0.5, 0.5, 0.5, 0.5, 0.5, 0.5, 0.5, 0.5, 0.5, 0.5, 0.5, 0.5, 0.5, 0.5, 0.5, 0.5]\n",
      "\n"
     ]
    },
    {
     "name": "stderr",
     "output_type": "stream",
     "text": [
      "/Library/Frameworks/Python.framework/Versions/3.6/lib/python3.6/site-packages/ipykernel_launcher.py:5: RuntimeWarning: overflow encountered in expm1\n",
      "  \"\"\"\n",
      "/Library/Frameworks/Python.framework/Versions/3.6/lib/python3.6/site-packages/scipy/optimize/optimize.py:663: RuntimeWarning: invalid value encountered in double_scalars\n",
      "  grad[k] = (f(*((xk + d,) + args)) - f0) / d[k]\n",
      "/Library/Frameworks/Python.framework/Versions/3.6/lib/python3.6/site-packages/ipykernel_launcher.py:5: RuntimeWarning: overflow encountered in expm1\n",
      "  \"\"\"\n"
     ]
    },
    {
     "name": "stdout",
     "output_type": "stream",
     "text": [
      "Optimizing with init x0: [ 0.03846021  0.00062566 -0.03117297  0.0022633  -0.03071847  0.01749487\n",
      "  0.08838549  0.00329446  0.09265428 -0.0070245   0.04951577  0.07034371\n",
      "  0.05030559  0.03186655  0.03716567  0.01666125 -0.01613149  0.06202454\n",
      "  0.03040203  0.03326463  0.05830177 -0.04199244  0.02952393 -0.00491137\n",
      "  0.02777167  0.00680121 -0.01672517  0.04532399]\n",
      "\n",
      "Optimizing with init x0: [ 0.06978301  0.00716537  0.01933011 -0.04041742  0.03065218 -0.0445668\n",
      "  0.02177403  0.09387119 -0.0091588   0.04360813  0.0228007   0.00906132\n",
      "  0.02944168  0.08750569  0.03127045  0.07687615  0.02886889  0.01880305\n",
      " -0.02339895  0.00698907 -0.03777497  0.03324249  0.05073555  0.02176212\n",
      "  0.07462535  0.06523475 -0.04306402  0.06929561]\n",
      "\n",
      "Optimizing with init x0: [ 0.04733216  0.01769283  0.06722644  0.0327374   0.02392443  0.0763044\n",
      "  0.00937986  0.02932873  0.02586816  0.08313561  0.0832105   0.04584757\n",
      " -0.04382431  0.06313654  0.07997944  0.02523787  0.03105419  0.01871397\n",
      "  0.00151872  0.06255577  0.0190668   0.00805016  0.01590134  0.00189762\n",
      "  0.00588149  0.00291054  0.00714683  0.02285781]\n",
      "\n",
      "Optimizing with init x0: [0.03571428571428571, 0.03571428571428571, 0.03571428571428571, 0.03571428571428571, 0.03571428571428571, 0.03571428571428571, 0.03571428571428571, 0.03571428571428571, 0.03571428571428571, 0.03571428571428571, 0.03571428571428571, 0.03571428571428571, 0.03571428571428571, 0.03571428571428571, 0.03571428571428571, 0.03571428571428571, 0.03571428571428571, 0.03571428571428571, 0.03571428571428571, 0.03571428571428571, 0.03571428571428571, 0.03571428571428571, 0.03571428571428571, 0.03571428571428571, 0.03571428571428571, 0.03571428571428571, 0.03571428571428571, 0.03571428571428571]\n",
      "\n",
      "Optimizing with init x0: [0, 0, 0, 0, 0, 0, 0, 0, 0, 0, 0, 0, 0, 0, 0, 0, 0, 0, 0, 0, 0, 0, 0, 0, 0, 0, 0, 0]\n",
      "\n"
     ]
    },
    {
     "name": "stderr",
     "output_type": "stream",
     "text": [
      "/Library/Frameworks/Python.framework/Versions/3.6/lib/python3.6/site-packages/ipykernel_launcher.py:5: RuntimeWarning: overflow encountered in expm1\n",
      "  \"\"\"\n",
      "/Library/Frameworks/Python.framework/Versions/3.6/lib/python3.6/site-packages/scipy/optimize/optimize.py:663: RuntimeWarning: invalid value encountered in double_scalars\n",
      "  grad[k] = (f(*((xk + d,) + args)) - f0) / d[k]\n",
      "/Library/Frameworks/Python.framework/Versions/3.6/lib/python3.6/site-packages/ipykernel_launcher.py:5: RuntimeWarning: overflow encountered in expm1\n",
      "  \"\"\"\n"
     ]
    },
    {
     "name": "stdout",
     "output_type": "stream",
     "text": [
      "Optimizing with init x0: [0.1, 0.1, 0.1, 0.1, 0.1, 0.1, 0.1, 0.1, 0.1, 0.1, 0.1, 0.1, 0.1, 0.1, 0.1, 0.1, 0.1, 0.1, 0.1, 0.1, 0.1, 0.1, 0.1, 0.1, 0.1, 0.1, 0.1, 0.1]\n",
      "\n",
      "Optimizing with init x0: [0.2, 0.2, 0.2, 0.2, 0.2, 0.2, 0.2, 0.2, 0.2, 0.2, 0.2, 0.2, 0.2, 0.2, 0.2, 0.2, 0.2, 0.2, 0.2, 0.2, 0.2, 0.2, 0.2, 0.2, 0.2, 0.2, 0.2, 0.2]\n",
      "\n",
      "Optimizing with init x0: [0.5, 0.5, 0.5, 0.5, 0.5, 0.5, 0.5, 0.5, 0.5, 0.5, 0.5, 0.5, 0.5, 0.5, 0.5, 0.5, 0.5, 0.5, 0.5, 0.5, 0.5, 0.5, 0.5, 0.5, 0.5, 0.5, 0.5, 0.5]\n",
      "\n"
     ]
    },
    {
     "name": "stderr",
     "output_type": "stream",
     "text": [
      "/Library/Frameworks/Python.framework/Versions/3.6/lib/python3.6/site-packages/ipykernel_launcher.py:5: RuntimeWarning: overflow encountered in expm1\n",
      "  \"\"\"\n",
      "/Library/Frameworks/Python.framework/Versions/3.6/lib/python3.6/site-packages/scipy/optimize/optimize.py:663: RuntimeWarning: invalid value encountered in double_scalars\n",
      "  grad[k] = (f(*((xk + d,) + args)) - f0) / d[k]\n",
      "/Library/Frameworks/Python.framework/Versions/3.6/lib/python3.6/site-packages/ipykernel_launcher.py:5: RuntimeWarning: overflow encountered in expm1\n",
      "  \"\"\"\n"
     ]
    },
    {
     "name": "stdout",
     "output_type": "stream",
     "text": [
      "Optimizing with init x0: [ 0.03846021  0.00062566 -0.03117297  0.0022633  -0.03071847  0.01749487\n",
      "  0.08838549  0.00329446  0.09265428 -0.0070245   0.04951577  0.07034371\n",
      "  0.05030559  0.03186655  0.03716567  0.01666125 -0.01613149  0.06202454\n",
      "  0.03040203  0.03326463  0.05830177 -0.04199244  0.02952393 -0.00491137\n",
      "  0.02777167  0.00680121 -0.01672517  0.04532399]\n",
      "\n",
      "Optimizing with init x0: [ 0.06978301  0.00716537  0.01933011 -0.04041742  0.03065218 -0.0445668\n",
      "  0.02177403  0.09387119 -0.0091588   0.04360813  0.0228007   0.00906132\n",
      "  0.02944168  0.08750569  0.03127045  0.07687615  0.02886889  0.01880305\n",
      " -0.02339895  0.00698907 -0.03777497  0.03324249  0.05073555  0.02176212\n",
      "  0.07462535  0.06523475 -0.04306402  0.06929561]\n",
      "\n",
      "Optimizing with init x0: [ 0.04733216  0.01769283  0.06722644  0.0327374   0.02392443  0.0763044\n",
      "  0.00937986  0.02932873  0.02586816  0.08313561  0.0832105   0.04584757\n",
      " -0.04382431  0.06313654  0.07997944  0.02523787  0.03105419  0.01871397\n",
      "  0.00151872  0.06255577  0.0190668   0.00805016  0.01590134  0.00189762\n",
      "  0.00588149  0.00291054  0.00714683  0.02285781]\n",
      "\n",
      "Optimizing with init x0: [0.03571428571428571, 0.03571428571428571, 0.03571428571428571, 0.03571428571428571, 0.03571428571428571, 0.03571428571428571, 0.03571428571428571, 0.03571428571428571, 0.03571428571428571, 0.03571428571428571, 0.03571428571428571, 0.03571428571428571, 0.03571428571428571, 0.03571428571428571, 0.03571428571428571, 0.03571428571428571, 0.03571428571428571, 0.03571428571428571, 0.03571428571428571, 0.03571428571428571, 0.03571428571428571, 0.03571428571428571, 0.03571428571428571, 0.03571428571428571, 0.03571428571428571, 0.03571428571428571, 0.03571428571428571, 0.03571428571428571]\n",
      "\n",
      "Optimizing with init x0: [0, 0, 0, 0, 0, 0, 0, 0, 0, 0, 0, 0, 0, 0, 0, 0, 0, 0, 0, 0, 0, 0, 0, 0, 0, 0, 0, 0]\n",
      "\n",
      "Optimizing with init x0: [0.1, 0.1, 0.1, 0.1, 0.1, 0.1, 0.1, 0.1, 0.1, 0.1, 0.1, 0.1, 0.1, 0.1, 0.1, 0.1, 0.1, 0.1, 0.1, 0.1, 0.1, 0.1, 0.1, 0.1, 0.1, 0.1, 0.1, 0.1]\n",
      "\n",
      "Optimizing with init x0: [0.2, 0.2, 0.2, 0.2, 0.2, 0.2, 0.2, 0.2, 0.2, 0.2, 0.2, 0.2, 0.2, 0.2, 0.2, 0.2, 0.2, 0.2, 0.2, 0.2, 0.2, 0.2, 0.2, 0.2, 0.2, 0.2, 0.2, 0.2]\n",
      "\n",
      "Optimizing with init x0: [0.5, 0.5, 0.5, 0.5, 0.5, 0.5, 0.5, 0.5, 0.5, 0.5, 0.5, 0.5, 0.5, 0.5, 0.5, 0.5, 0.5, 0.5, 0.5, 0.5, 0.5, 0.5, 0.5, 0.5, 0.5, 0.5, 0.5, 0.5]\n",
      "\n"
     ]
    },
    {
     "name": "stderr",
     "output_type": "stream",
     "text": [
      "/Library/Frameworks/Python.framework/Versions/3.6/lib/python3.6/site-packages/ipykernel_launcher.py:5: RuntimeWarning: overflow encountered in expm1\n",
      "  \"\"\"\n",
      "/Library/Frameworks/Python.framework/Versions/3.6/lib/python3.6/site-packages/scipy/optimize/optimize.py:663: RuntimeWarning: invalid value encountered in double_scalars\n",
      "  grad[k] = (f(*((xk + d,) + args)) - f0) / d[k]\n",
      "/Library/Frameworks/Python.framework/Versions/3.6/lib/python3.6/site-packages/ipykernel_launcher.py:5: RuntimeWarning: overflow encountered in expm1\n",
      "  \"\"\"\n"
     ]
    },
    {
     "name": "stdout",
     "output_type": "stream",
     "text": [
      "Optimizing with init x0: [ 0.03846021  0.00062566 -0.03117297  0.0022633  -0.03071847  0.01749487\n",
      "  0.08838549  0.00329446  0.09265428 -0.0070245   0.04951577  0.07034371\n",
      "  0.05030559  0.03186655  0.03716567  0.01666125 -0.01613149  0.06202454\n",
      "  0.03040203  0.03326463  0.05830177 -0.04199244  0.02952393 -0.00491137\n",
      "  0.02777167  0.00680121 -0.01672517  0.04532399]\n",
      "\n",
      "Optimizing with init x0: [ 0.06978301  0.00716537  0.01933011 -0.04041742  0.03065218 -0.0445668\n",
      "  0.02177403  0.09387119 -0.0091588   0.04360813  0.0228007   0.00906132\n",
      "  0.02944168  0.08750569  0.03127045  0.07687615  0.02886889  0.01880305\n",
      " -0.02339895  0.00698907 -0.03777497  0.03324249  0.05073555  0.02176212\n",
      "  0.07462535  0.06523475 -0.04306402  0.06929561]\n",
      "\n",
      "Optimizing with init x0: [ 0.04733216  0.01769283  0.06722644  0.0327374   0.02392443  0.0763044\n",
      "  0.00937986  0.02932873  0.02586816  0.08313561  0.0832105   0.04584757\n",
      " -0.04382431  0.06313654  0.07997944  0.02523787  0.03105419  0.01871397\n",
      "  0.00151872  0.06255577  0.0190668   0.00805016  0.01590134  0.00189762\n",
      "  0.00588149  0.00291054  0.00714683  0.02285781]\n",
      "\n",
      "CV score ?: 5979.876215571559; [5976.874373263616, 5991.875402853464, 5970.8788705976]\n"
     ]
    }
   ],
   "source": [
    "from sklearn.model_selection import KFold\n",
    "\n",
    "cv = cv.reset_index(drop=True)\n",
    "#cv = cv.head(100)\n",
    "\n",
    "len_x = len(cols_opt)\n",
    "rev_len_x = 1/len_x\n",
    "x0s = [[1/len_x for i in range(len_x)],\n",
    "       [0 for i in range(len_x)],\n",
    "       [0.1 for i in range(len_x)],\n",
    "       [0.2 for i in range(len_x)],\n",
    "       [0.5 for i in range(len_x)],\n",
    "       (np.random.randn(len_x)+1)/len_x,\n",
    "       (np.random.randn(len_x)+1)/len_x,\n",
    "       (np.random.randn(len_x)+1)/len_x,\n",
    "      ]\n",
    "bounds = tuple([(0, 1) for i in range(len_x-1)] + [(-2, 2)])\n",
    "\n",
    "score_list = []\n",
    "\n",
    "kf = KFold(shuffle= True)\n",
    "for idx_train, idx_val in kf.split(cv):\n",
    "\n",
    "    best_score = {}\n",
    "    best_coeffs = {}\n",
    "    \n",
    "    cv_fold_train = cv.loc[idx_train].reset_index(drop=True)\n",
    "    cv_fold_val = cv.loc[idx_train].reset_index(drop=True)\n",
    "    \n",
    "    for metric in ['smooth']:\n",
    "    #for metric in ['mape', 'mae', 'mse']:\n",
    "        best_score[metric] = 0\n",
    "        best_coeffs[metric] = []\n",
    "        for x0 in x0s:\n",
    "            print('Optimizing with init x0: {}'.format(x0))\n",
    "            print()\n",
    "            minimize(objective, x0, args=(cv_fold_train, metric, best_score, best_coeffs, \n",
    "                                          True), \n",
    "                     tol=1e-4) #, bounds=bounds\n",
    "    \n",
    "    val_pred_final = cv_fold_val[cols_opt].dot(best_coeffs['smooth'])\n",
    "    if is_per_area:\n",
    "        val_pred_final = np.expm1(val_pred_final) * cv_fold_val['building_area']\n",
    "    else:\n",
    "        val_pred_final = np.expm1(val_pred_final)\n",
    "    score = cal_score(cv_fold_val['total_price'], val_pred_final)\n",
    "    \n",
    "    score_list.append(score)\n",
    "\n",
    "print('CV score ?: {}; {}'.format(np.mean(score_list), score_list))"
   ]
  },
  {
   "cell_type": "markdown",
   "metadata": {},
   "source": [
    "### Optimize"
   ]
  },
  {
   "cell_type": "code",
   "execution_count": 16,
   "metadata": {
    "scrolled": true
   },
   "outputs": [
    {
     "name": "stdout",
     "output_type": "stream",
     "text": [
      "Optimizing with init x0: [0.03571428571428571, 0.03571428571428571, 0.03571428571428571, 0.03571428571428571, 0.03571428571428571, 0.03571428571428571, 0.03571428571428571, 0.03571428571428571, 0.03571428571428571, 0.03571428571428571, 0.03571428571428571, 0.03571428571428571, 0.03571428571428571, 0.03571428571428571, 0.03571428571428571, 0.03571428571428571, 0.03571428571428571, 0.03571428571428571, 0.03571428571428571, 0.03571428571428571, 0.03571428571428571, 0.03571428571428571, 0.03571428571428571, 0.03571428571428571, 0.03571428571428571, 0.03571428571428571, 0.03571428571428571, 0.03571428571428571]\n",
      "\n",
      "find better score:\n",
      "score:  243.63978883807545\n",
      "coeffs:  [0.03571429 0.03571429 0.03571429 0.03571429 0.03571429 0.03571429\n",
      " 0.03571429 0.03571429 0.03571429 0.03571429 0.03571429 0.03571429\n",
      " 0.03571429 0.03571429 0.03571429 0.03571429 0.03571429 0.03571429\n",
      " 0.03571429 0.03571429 0.03571429 0.03571429 0.03571429 0.03571429\n",
      " 0.03571429 0.03571429 0.03571429 0.03571429]\n",
      "\n",
      "find better score:\n",
      "score:  243.63978895936953\n",
      "coeffs:  [0.0357143  0.03571429 0.03571429 0.03571429 0.03571429 0.03571429\n",
      " 0.03571429 0.03571429 0.03571429 0.03571429 0.03571429 0.03571429\n",
      " 0.03571429 0.03571429 0.03571429 0.03571429 0.03571429 0.03571429\n",
      " 0.03571429 0.03571429 0.03571429 0.03571429 0.03571429 0.03571429\n",
      " 0.03571429 0.03571429 0.03571429 0.03571429]\n",
      "\n",
      "find better score:\n",
      "score:  243.6397889593697\n",
      "coeffs:  [0.03571429 0.03571429 0.0357143  0.03571429 0.03571429 0.03571429\n",
      " 0.03571429 0.03571429 0.03571429 0.03571429 0.03571429 0.03571429\n",
      " 0.03571429 0.03571429 0.03571429 0.03571429 0.03571429 0.03571429\n",
      " 0.03571429 0.03571429 0.03571429 0.03571429 0.03571429 0.03571429\n",
      " 0.03571429 0.03571429 0.03571429 0.03571429]\n",
      "\n",
      "find better score:\n",
      "score:  243.6397889593733\n",
      "coeffs:  [0.03571429 0.03571429 0.03571429 0.0357143  0.03571429 0.03571429\n",
      " 0.03571429 0.03571429 0.03571429 0.03571429 0.03571429 0.03571429\n",
      " 0.03571429 0.03571429 0.03571429 0.03571429 0.03571429 0.03571429\n",
      " 0.03571429 0.03571429 0.03571429 0.03571429 0.03571429 0.03571429\n",
      " 0.03571429 0.03571429 0.03571429 0.03571429]\n",
      "\n",
      "find better score:\n",
      "score:  243.63978895937578\n",
      "coeffs:  [0.03571429 0.03571429 0.03571429 0.03571429 0.0357143  0.03571429\n",
      " 0.03571429 0.03571429 0.03571429 0.03571429 0.03571429 0.03571429\n",
      " 0.03571429 0.03571429 0.03571429 0.03571429 0.03571429 0.03571429\n",
      " 0.03571429 0.03571429 0.03571429 0.03571429 0.03571429 0.03571429\n",
      " 0.03571429 0.03571429 0.03571429 0.03571429]\n",
      "\n",
      "find better score:\n",
      "score:  243.63978895937646\n",
      "coeffs:  [0.03571429 0.03571429 0.03571429 0.03571429 0.03571429 0.03571429\n",
      " 0.03571429 0.0357143  0.03571429 0.03571429 0.03571429 0.03571429\n",
      " 0.03571429 0.03571429 0.03571429 0.03571429 0.03571429 0.03571429\n",
      " 0.03571429 0.03571429 0.03571429 0.03571429 0.03571429 0.03571429\n",
      " 0.03571429 0.03571429 0.03571429 0.03571429]\n",
      "\n",
      "find better score:\n",
      "score:  5692.864716796211\n",
      "coeffs:  [0.03704192 0.03704119 0.03704178 0.03704205 0.03704206 0.03704188\n",
      " 0.03704033 0.03704184 0.03704197 0.03704203 0.03704197 0.03704178\n",
      " 0.037042   0.03704201 0.0370419  0.03704198 0.03704189 0.03704194\n",
      " 0.0370419  0.03704204 0.03704202 0.0370416  0.03704187 0.03704198\n",
      " 0.03704183 0.03704188 0.03704181 0.03581547]\n",
      "\n",
      "find better score:\n",
      "score:  5915.875611393688\n",
      "coeffs:  [0.03689821 0.03689755 0.03689808 0.03689833 0.03689833 0.03689817\n",
      " 0.03689679 0.03689814 0.03689825 0.0368983  0.03689825 0.03689809\n",
      " 0.03689828 0.03689829 0.03689819 0.03689826 0.03689818 0.03689823\n",
      " 0.03689819 0.03689831 0.0368983  0.03689792 0.03689816 0.03689826\n",
      " 0.03689813 0.03689817 0.03689811 0.03580452]\n",
      "\n",
      "find better score:\n",
      "score:  5915.8756114023745\n",
      "coeffs:  [0.03689822 0.03689755 0.03689808 0.03689833 0.03689833 0.03689817\n",
      " 0.03689679 0.03689814 0.03689825 0.0368983  0.03689825 0.03689809\n",
      " 0.03689828 0.03689829 0.03689819 0.03689826 0.03689818 0.03689823\n",
      " 0.03689819 0.03689831 0.0368983  0.03689792 0.03689816 0.03689826\n",
      " 0.03689813 0.03689817 0.03689811 0.03580452]\n",
      "\n",
      "find better score:\n",
      "score:  5915.87561140238\n",
      "coeffs:  [0.03689821 0.03689755 0.0368981  0.03689833 0.03689833 0.03689817\n",
      " 0.03689679 0.03689814 0.03689825 0.0368983  0.03689825 0.03689809\n",
      " 0.03689828 0.03689829 0.03689819 0.03689826 0.03689818 0.03689823\n",
      " 0.03689819 0.03689831 0.0368983  0.03689792 0.03689816 0.03689826\n",
      " 0.03689813 0.03689817 0.03689811 0.03580452]\n",
      "\n",
      "find better score:\n",
      "score:  5915.8756114023945\n",
      "coeffs:  [0.03689821 0.03689755 0.03689808 0.03689833 0.03689835 0.03689817\n",
      " 0.03689679 0.03689814 0.03689825 0.0368983  0.03689825 0.03689809\n",
      " 0.03689828 0.03689829 0.03689819 0.03689826 0.03689818 0.03689823\n",
      " 0.03689819 0.03689831 0.0368983  0.03689792 0.03689816 0.03689826\n",
      " 0.03689813 0.03689817 0.03689811 0.03580452]\n",
      "\n",
      "find better score:\n",
      "score:  5915.875611402401\n",
      "coeffs:  [0.03689821 0.03689755 0.03689808 0.03689833 0.03689833 0.03689817\n",
      " 0.03689679 0.03689814 0.03689825 0.0368983  0.03689825 0.03689809\n",
      " 0.03689828 0.03689829 0.03689819 0.03689826 0.03689818 0.03689823\n",
      " 0.03689819 0.03689831 0.0368983  0.03689794 0.03689816 0.03689826\n",
      " 0.03689813 0.03689817 0.03689811 0.03580452]\n",
      "\n",
      "find better score:\n",
      "score:  5943.875468145889\n",
      "coeffs:  [0.03693374 0.03693306 0.03693361 0.03693386 0.03693387 0.0369337\n",
      " 0.03693228 0.03693366 0.03693378 0.03693383 0.03693378 0.03693361\n",
      " 0.03693381 0.03693382 0.03693372 0.03693379 0.03693371 0.03693376\n",
      " 0.03693372 0.03693384 0.03693383 0.03693344 0.03693369 0.03693379\n",
      " 0.03693366 0.0369337  0.03693364 0.03580723]\n",
      "\n",
      "find better score:\n",
      "score:  5950.875482967443\n",
      "coeffs:  [ 0.0193777   0.01119594  0.0252322   0.03372688  0.04825396  0.02597532\n",
      "  0.04401625  0.06217966  0.02412896  0.02877434  0.01379998  0.02881658\n",
      "  0.02653692  0.02848849  0.0342167   0.03649834  0.04068368  0.04567181\n",
      "  0.03823999  0.03902742  0.0381493   0.0784471   0.04350496  0.05141432\n",
      "  0.06286513  0.03869661  0.03472141 -0.03393908]\n",
      "\n",
      "find better score:\n",
      "score:  5952.875679669616\n",
      "coeffs:  [-0.00079787 -0.00135999  0.01182245  0.03257716  0.0553522   0.01328986\n",
      "  0.06598229  0.0940159   0.0091662   0.01676184  0.00377064  0.0317233\n",
      "  0.01205161  0.01625109  0.02834039  0.0326867   0.04164624  0.05143692\n",
      "  0.03545122  0.03531117  0.0333404   0.11998349  0.04627712  0.06439014\n",
      "  0.08980247  0.03600174  0.02777974 -0.04069678]\n",
      "\n",
      "find better score:\n",
      "score:  5962.875913684061\n",
      "coeffs:  [-0.02924415  0.0061344  -0.00415213  0.0329898   0.06567476 -0.0014211\n",
      "  0.01304156  0.13598188 -0.00741923 -0.00036253 -0.00500941  0.03836942\n",
      " -0.00993059 -0.00181415  0.02333605  0.03106109  0.04798607  0.06470843\n",
      "  0.03201634  0.02224627  0.01806831  0.19180228  0.05302726  0.093281\n",
      "  0.1464025   0.03251317  0.01445676 -0.05146301]\n",
      "\n",
      "find better score:\n",
      "score:  5964.876287376096\n",
      "coeffs:  [-0.04134046  0.08748818 -0.00289215 -0.00566931  0.13252132  0.00576519\n",
      "  0.02027222  0.06820871  0.00296832 -0.03470515  0.01295154  0.0155186\n",
      " -0.05224443 -0.03800283  0.01474441  0.03005548  0.05855252  0.06681062\n",
      " -0.00241641  0.0292103   0.02070569  0.25820693  0.03890941  0.13473983\n",
      "  0.23650899 -0.00221738 -0.04720641 -0.10522723]\n",
      "\n",
      "find better score:\n",
      "score:  5968.876318650867\n",
      "coeffs:  [-0.03826692  0.08247926  0.00140139 -0.00628239  0.12713057  0.01105948\n",
      "  0.02490232  0.06307852  0.00821191 -0.03575259  0.01733278  0.01568867\n",
      " -0.0544173  -0.0391984   0.01676545  0.03348052  0.06295809  0.06806721\n",
      " -0.00620544  0.01711392  0.00810984  0.26149542  0.03795134  0.14164965\n",
      "  0.2484463  -0.00582332 -0.05350103 -0.11144365]\n",
      "\n",
      "find better score:\n",
      "score:  5968.876358877579\n",
      "coeffs:  [-0.03206324  0.0511239   0.00879879 -0.00456486  0.13225328  0.02123334\n",
      "  0.02301297  0.07921566  0.01634692 -0.0386933   0.0257663   0.02876855\n",
      " -0.05968636 -0.04247829  0.01925137  0.03941508  0.07037514  0.06489342\n",
      " -0.01758427  0.01246198  0.00256347  0.25511524  0.03111401  0.14902057\n",
      "  0.25776687 -0.01666088 -0.06871145 -0.11419153]\n",
      "\n",
      "find better score:\n",
      "score:  5972.876276704577\n",
      "coeffs:  [-0.03085731  0.03795679  0.013828    0.00085989  0.1261117   0.03591312\n",
      "  0.02735677  0.12920328  0.020159   -0.03931358 -0.02130135  0.03490065\n",
      " -0.0677944  -0.0451289   0.03128277  0.06389756  0.09596157  0.06546672\n",
      " -0.03429135 -0.00689759 -0.0190364   0.2442936   0.02575166  0.17563355\n",
      "  0.26725987 -0.03090052 -0.09293989 -0.10443861]\n",
      "\n",
      "find better score:\n",
      "score:  5973.876233534753\n",
      "coeffs:  [-0.06481832  0.02029489  0.01150214 -0.01645597  0.14834533  0.06523757\n",
      "  0.02456909  0.11477938  0.00673978 -0.0700295  -0.00412752  0.05089771\n",
      " -0.12394792 -0.06902084  0.05570669  0.14328919  0.15403292  0.0679902\n",
      " -0.11814277 -0.01753184 -0.03442738  0.25283254  0.01972977  0.30131045\n",
      "  0.29102463 -0.09054672 -0.11219087 -0.09960696]\n",
      "\n"
     ]
    },
    {
     "name": "stdout",
     "output_type": "stream",
     "text": [
      "Optimizing with init x0: [0, 0, 0, 0, 0, 0, 0, 0, 0, 0, 0, 0, 0, 0, 0, 0, 0, 0, 0, 0, 0, 0, 0, 0, 0, 0, 0, 0]\n",
      "\n"
     ]
    },
    {
     "name": "stderr",
     "output_type": "stream",
     "text": [
      "/Library/Frameworks/Python.framework/Versions/3.6/lib/python3.6/site-packages/ipykernel_launcher.py:5: RuntimeWarning: overflow encountered in expm1\n",
      "  \"\"\"\n",
      "/Library/Frameworks/Python.framework/Versions/3.6/lib/python3.6/site-packages/scipy/optimize/optimize.py:663: RuntimeWarning: invalid value encountered in double_scalars\n",
      "  grad[k] = (f(*((xk + d,) + args)) - f0) / d[k]\n",
      "/Library/Frameworks/Python.framework/Versions/3.6/lib/python3.6/site-packages/ipykernel_launcher.py:5: RuntimeWarning: overflow encountered in expm1\n",
      "  \"\"\"\n"
     ]
    },
    {
     "name": "stdout",
     "output_type": "stream",
     "text": [
      "Optimizing with init x0: [0.1, 0.1, 0.1, 0.1, 0.1, 0.1, 0.1, 0.1, 0.1, 0.1, 0.1, 0.1, 0.1, 0.1, 0.1, 0.1, 0.1, 0.1, 0.1, 0.1, 0.1, 0.1, 0.1, 0.1, 0.1, 0.1, 0.1, 0.1]\n",
      "\n",
      "Optimizing with init x0: [0.2, 0.2, 0.2, 0.2, 0.2, 0.2, 0.2, 0.2, 0.2, 0.2, 0.2, 0.2, 0.2, 0.2, 0.2, 0.2, 0.2, 0.2, 0.2, 0.2, 0.2, 0.2, 0.2, 0.2, 0.2, 0.2, 0.2, 0.2]\n",
      "\n",
      "Optimizing with init x0: [0.5, 0.5, 0.5, 0.5, 0.5, 0.5, 0.5, 0.5, 0.5, 0.5, 0.5, 0.5, 0.5, 0.5, 0.5, 0.5, 0.5, 0.5, 0.5, 0.5, 0.5, 0.5, 0.5, 0.5, 0.5, 0.5, 0.5, 0.5]\n",
      "\n"
     ]
    },
    {
     "name": "stderr",
     "output_type": "stream",
     "text": [
      "/Library/Frameworks/Python.framework/Versions/3.6/lib/python3.6/site-packages/ipykernel_launcher.py:5: RuntimeWarning: overflow encountered in expm1\n",
      "  \"\"\"\n",
      "/Library/Frameworks/Python.framework/Versions/3.6/lib/python3.6/site-packages/scipy/optimize/optimize.py:663: RuntimeWarning: invalid value encountered in double_scalars\n",
      "  grad[k] = (f(*((xk + d,) + args)) - f0) / d[k]\n",
      "/Library/Frameworks/Python.framework/Versions/3.6/lib/python3.6/site-packages/ipykernel_launcher.py:5: RuntimeWarning: overflow encountered in expm1\n",
      "  \"\"\"\n"
     ]
    },
    {
     "name": "stdout",
     "output_type": "stream",
     "text": [
      "Optimizing with init x0: [ 0.03846021  0.00062566 -0.03117297  0.0022633  -0.03071847  0.01749487\n",
      "  0.08838549  0.00329446  0.09265428 -0.0070245   0.04951577  0.07034371\n",
      "  0.05030559  0.03186655  0.03716567  0.01666125 -0.01613149  0.06202454\n",
      "  0.03040203  0.03326463  0.05830177 -0.04199244  0.02952393 -0.00491137\n",
      "  0.02777167  0.00680121 -0.01672517  0.04532399]\n",
      "\n",
      "Optimizing with init x0: [ 0.06978301  0.00716537  0.01933011 -0.04041742  0.03065218 -0.0445668\n",
      "  0.02177403  0.09387119 -0.0091588   0.04360813  0.0228007   0.00906132\n",
      "  0.02944168  0.08750569  0.03127045  0.07687615  0.02886889  0.01880305\n",
      " -0.02339895  0.00698907 -0.03777497  0.03324249  0.05073555  0.02176212\n",
      "  0.07462535  0.06523475 -0.04306402  0.06929561]\n",
      "\n",
      "Optimizing with init x0: [ 0.04733216  0.01769283  0.06722644  0.0327374   0.02392443  0.0763044\n",
      "  0.00937986  0.02932873  0.02586816  0.08313561  0.0832105   0.04584757\n",
      " -0.04382431  0.06313654  0.07997944  0.02523787  0.03105419  0.01871397\n",
      "  0.00151872  0.06255577  0.0190668   0.00805016  0.01590134  0.00189762\n",
      "  0.00588149  0.00291054  0.00714683  0.02285781]\n",
      "\n"
     ]
    }
   ],
   "source": [
    "best_score = {}\n",
    "best_coeffs = {}\n",
    "\n",
    "for metric in ['smooth']:\n",
    "#for metric in ['mape', 'mae', 'mse']:\n",
    "    best_score[metric] = 0\n",
    "    best_coeffs[metric] = []\n",
    "    for x0 in x0s:\n",
    "        print('Optimizing with init x0: {}'.format(x0))\n",
    "        print()\n",
    "        minimize(objective, x0, args=(cv, metric, best_score, best_coeffs, True), tol=1e-4)"
   ]
  },
  {
   "cell_type": "code",
   "execution_count": 17,
   "metadata": {},
   "outputs": [
    {
     "data": {
      "text/plain": [
       "{'smooth': 5973.876233534753}"
      ]
     },
     "metadata": {},
     "output_type": "display_data"
    },
    {
     "data": {
      "text/plain": [
       "{'smooth': array([-0.06481832,  0.02029489,  0.01150214, -0.01645597,  0.14834533,\n",
       "         0.06523757,  0.02456909,  0.11477938,  0.00673978, -0.0700295 ,\n",
       "        -0.00412752,  0.05089771, -0.12394792, -0.06902084,  0.05570669,\n",
       "         0.14328919,  0.15403292,  0.0679902 , -0.11814277, -0.01753184,\n",
       "        -0.03442738,  0.25283254,  0.01972977,  0.30131045,  0.29102463,\n",
       "        -0.09054672, -0.11219087, -0.09960696])}"
      ]
     },
     "metadata": {},
     "output_type": "display_data"
    }
   ],
   "source": [
    "display(best_score)\n",
    "display(best_coeffs)"
   ]
  },
  {
   "cell_type": "markdown",
   "metadata": {},
   "source": [
    "### Compute submission"
   ]
  },
  {
   "cell_type": "code",
   "execution_count": 19,
   "metadata": {},
   "outputs": [],
   "source": [
    "test_pred_final = pd.DataFrame({'building_id': test['building_id']})\n",
    "\n",
    "test_pred_final['total_price'] = test.loc[:,cols_opt].dot(best_coeffs['smooth'])\n",
    "\n",
    "if is_per_area:\n",
    "    test_pred_final['total_price'] = np.expm1(test_pred_final['total_price']) * test['building_area'] \n",
    "else:\n",
    "    test_pred_final['total_price'] = np.expm1(test_pred_final['total_price'])\n",
    "    \n",
    "test_pred_final['total_price'] = np.clip(test_pred_final['total_price'], 0, None)"
   ]
  },
  {
   "cell_type": "code",
   "execution_count": 20,
   "metadata": {},
   "outputs": [],
   "source": [
    "unique_prices = np.sort(df_train['total_price'].unique())\n",
    "\n",
    "def find_nearest(array, value):\n",
    "    return array[(np.fabs(array - value)).argmin()]\n",
    "\n",
    "def correct_prices(sq):\n",
    "    return [find_nearest(unique_prices, x) for x in sq]"
   ]
  },
  {
   "cell_type": "code",
   "execution_count": 21,
   "metadata": {},
   "outputs": [],
   "source": [
    "test_pred_final['total_price'] = correct_prices(test_pred_final['total_price'])"
   ]
  },
  {
   "cell_type": "code",
   "execution_count": 22,
   "metadata": {},
   "outputs": [],
   "source": [
    "if is_per_area:\n",
    "    test_pred_final.to_csv('output/stack_spopt-parea_{}_{}_smoothobj.csv'.format(stack_idx, models), index=False)\n",
    "else:\n",
    "    test_pred_final.to_csv('output/stack_spopt_{}_{}_smoothobj.csv'.format(stack_idx, models), index=False)"
   ]
  },
  {
   "cell_type": "markdown",
   "metadata": {},
   "source": [
    "### Plots"
   ]
  },
  {
   "cell_type": "code",
   "execution_count": 23,
   "metadata": {},
   "outputs": [],
   "source": [
    "import matplotlib.pyplot as plt"
   ]
  },
  {
   "cell_type": "code",
   "execution_count": 24,
   "metadata": {},
   "outputs": [
    {
     "name": "stderr",
     "output_type": "stream",
     "text": [
      "/Library/Frameworks/Python.framework/Versions/3.6/lib/python3.6/site-packages/matplotlib/axes/_axes.py:6571: UserWarning: The 'normed' kwarg is deprecated, and has been replaced by the 'density' kwarg.\n",
      "  warnings.warn(\"The 'normed' kwarg is deprecated, and has been \"\n"
     ]
    },
    {
     "data": {
      "image/png": "[encoded data removed]",
      "text/plain": [
       "<Figure size 432x288 with 1 Axes>"
      ]
     },
     "metadata": {
      "needs_background": "light"
     },
     "output_type": "display_data"
    }
   ],
   "source": [
    "plt.hist(cv['log_parea_total_price'], bins=100, label='train true', normed=True)\n",
    "plt.hist(np.log1p(test_pred_final['total_price'] / test['building_area']), bins=100, label='test',\n",
    "         normed=True, alpha=0.7)\n",
    "plt.xlabel('log(price/area + 1)'); plt.ylabel('ratio')\n",
    "plt.legend(); plt.grid(); plt.show()"
   ]
  },
  {
   "cell_type": "code",
   "execution_count": 25,
   "metadata": {},
   "outputs": [
    {
     "name": "stderr",
     "output_type": "stream",
     "text": [
      "/Library/Frameworks/Python.framework/Versions/3.6/lib/python3.6/site-packages/matplotlib/axes/_axes.py:6571: UserWarning: The 'normed' kwarg is deprecated, and has been replaced by the 'density' kwarg.\n",
      "  warnings.warn(\"The 'normed' kwarg is deprecated, and has been \"\n"
     ]
    },
    {
     "data": {
      "image/png": "[encoded data removed]",
      "text/plain": [
       "<Figure size 432x288 with 1 Axes>"
      ]
     },
     "metadata": {
      "needs_background": "light"
     },
     "output_type": "display_data"
    }
   ],
   "source": [
    "plt.hist(cv['log_total_price'], bins=100, label='train true', normed=True)\n",
    "plt.hist(np.log1p(test_pred_final['total_price']), bins=100, label='test', normed=True, alpha=0.7)\n",
    "plt.xlabel('log(price + 1)'); plt.ylabel('ratio')\n",
    "plt.legend(); plt.grid(); plt.show()"
   ]
  },
  {
   "cell_type": "code",
   "execution_count": 26,
   "metadata": {},
   "outputs": [
    {
     "name": "stderr",
     "output_type": "stream",
     "text": [
      "/Library/Frameworks/Python.framework/Versions/3.6/lib/python3.6/site-packages/matplotlib/axes/_axes.py:6571: UserWarning: The 'normed' kwarg is deprecated, and has been replaced by the 'density' kwarg.\n",
      "  warnings.warn(\"The 'normed' kwarg is deprecated, and has been \"\n"
     ]
    },
    {
     "data": {
      "image/png": "[encoded data removed]",
      "text/plain": [
       "<Figure size 432x288 with 1 Axes>"
      ]
     },
     "metadata": {
      "needs_background": "light"
     },
     "output_type": "display_data"
    }
   ],
   "source": [
    "plt.hist(np.log1p(cv['building_area']), bins=100, label='train', normed=True)\n",
    "plt.hist(np.log1p(test['building_area']), bins=100, label='test', normed=True, alpha=0.7)\n",
    "plt.xlabel('log(building_area + 1)'); plt.ylabel('ratio'); plt.yscale('log')\n",
    "plt.legend(); plt.grid(); plt.show()"
   ]
  },
  {
   "cell_type": "markdown",
   "metadata": {},
   "source": [
    "### mean-log"
   ]
  },
  {
   "cell_type": "code",
   "execution_count": null,
   "metadata": {},
   "outputs": [],
   "source": [
    "idxs = [3, 5, 8, 12, 13, 14, 15, 16, 17, 18, 19, 20, 22, 24, 26, 27, 28, 29]\n",
    "print([1/len(idxs) if i in idxs else 0 for i in range(1,32)])"
   ]
  },
  {
   "cell_type": "markdown",
   "metadata": {},
   "source": [
    "### mean"
   ]
  },
  {
   "cell_type": "code",
   "execution_count": null,
   "metadata": {},
   "outputs": [],
   "source": [
    "idxs = [5, 12, 16, 23, 24, 25, 27, 31]\n",
    "print([1/len(idxs) if i in idxs else 0 for i in range(1,32)])"
   ]
  }
 ],
 "metadata": {
  "kernelspec": {
   "display_name": "Python 3",
   "language": "python",
   "name": "python3"
  },
  "language_info": {
   "codemirror_mode": {
    "name": "ipython",
    "version": 3
   },
   "file_extension": ".py",
   "mimetype": "text/x-python",
   "name": "python",
   "nbconvert_exporter": "python",
   "pygments_lexer": "ipython3",
   "version": "3.7.3"
  },
  "toc": {
   "base_numbering": 1,
   "nav_menu": {},
   "number_sections": true,
   "sideBar": true,
   "skip_h1_title": true,
   "title_cell": "Table of Contents",
   "title_sidebar": "Contents",
   "toc_cell": false,
   "toc_position": {},
   "toc_section_display": true,
   "toc_window_display": true
  }
 },
 "nbformat": 4,
 "nbformat_minor": 2
}
