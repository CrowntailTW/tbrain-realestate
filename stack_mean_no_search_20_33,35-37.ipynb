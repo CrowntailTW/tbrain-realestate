{
 "cells": [
  {
   "cell_type": "code",
   "execution_count": 1,
   "metadata": {},
   "outputs": [],
   "source": [
    "import os\n",
    "import numpy as np\n",
    "import pandas as pd\n",
    "from utilities import cal_score"
   ]
  },
  {
   "cell_type": "code",
   "execution_count": 2,
   "metadata": {},
   "outputs": [],
   "source": [
    "stack_idx = '20'\n",
    "models = '33,35-37'\n",
    "use_test_kfold = set([2, 7, 8, 12, 13])"
   ]
  },
  {
   "cell_type": "markdown",
   "metadata": {},
   "source": [
    "### Read CV predictions and test"
   ]
  },
  {
   "cell_type": "code",
   "execution_count": 3,
   "metadata": {},
   "outputs": [],
   "source": [
    "def parse_models(exp):\n",
    "    exp_split = exp.split(',')\n",
    "    idx_models = []\n",
    "    for e in exp_split:\n",
    "        if '-' in e:\n",
    "            n0, n1 = e.split('-')\n",
    "            idx_models.extend(list(range(int(n0), int(n1)+1, 1)))\n",
    "        else:\n",
    "            idx_models.append(int(e))\n",
    "    return idx_models"
   ]
  },
  {
   "cell_type": "code",
   "execution_count": 4,
   "metadata": {},
   "outputs": [
    {
     "name": "stdout",
     "output_type": "stream",
     "text": [
      "[33, 35, 36, 37]\n"
     ]
    }
   ],
   "source": [
    "idx_models = parse_models(models)\n",
    "print(idx_models)"
   ]
  },
  {
   "cell_type": "code",
   "execution_count": 45,
   "metadata": {},
   "outputs": [
    {
     "data": {
      "text/plain": [
       "{33: ['model-33-lgb-remove_outlier_03-test-one.csv'],\n",
       " 35: ['model-35-lgb-remove_outlier_03-2-test-one.csv'],\n",
       " 36: ['model-36-lgb-remove_outlier_03-0.001-2-test-one.csv'],\n",
       " 37: ['model-37-lgb-remove_outlier_05-test-one.csv']}"
      ]
     },
     "execution_count": 45,
     "metadata": {},
     "output_type": "execute_result"
    }
   ],
   "source": [
    "# File candidate\n",
    "files_in_output = [f for f in os.listdir('output/') if os.path.isfile('output/'+f)]\n",
    "{idx: [f for f in files_in_output \n",
    "       if f.startswith('model-%02d-' % idx) and f.endswith('test-one.csv')]\n",
    " for idx in idx_models}"
   ]
  },
  {
   "cell_type": "code",
   "execution_count": 8,
   "metadata": {},
   "outputs": [],
   "source": [
    "# files_in_output = [f for f in os.listdir('output/') if os.path.isfile('output/'+f)]\n",
    "# # files_cv = {idx: [f for f in files_in_output \n",
    "# #                   if f.startswith('model-%02d-' % idx) and f.endswith('cv.csv')][0] \n",
    "# #             for idx in idx_models}\n",
    "# files_test_one = {idx: [f for f in files_in_output \n",
    "#                         if f.startswith('model-%02d-' % idx) and f.endswith('test-one.csv')][0]\n",
    "#                   for idx in idx_models}\n",
    "# files_test_kf = {idx: [f for f in files_in_output \n",
    "#                        if f.startswith('model-%02d-' % idx) and f.endswith('test-kfold.csv')][0]\n",
    "#                  for idx in idx_models}\n",
    "files_test_one = {\n",
    "    33: 'model-33-lgb-remove_outlier_03-test-one.csv',\n",
    "    35: 'model-35-lgb-remove_outlier_03-2-test-one-400000.csv',\n",
    "    36: 'model-36-lgb-remove_outlier_03-0.001-2-test-one.csv',\n",
    "    37: 'model-37-lgb-remove_outlier_05-test-one.csv',\n",
    "}"
   ]
  },
  {
   "cell_type": "code",
   "execution_count": 24,
   "metadata": {},
   "outputs": [],
   "source": [
    "dfs = [pd.read_csv('output/'+f).rename({'total_price': 'pred_'+str(i)}, axis=1) \n",
    "       for i, f in files_test_one.items()]\n",
    "df = dfs[0]\n",
    "for df_i in dfs[1:]:\n",
    "    df = df.merge(df_i, on='building_id', how='inner')\n",
    "\n",
    "cols_pred = ['pred_'+str(i) for i in files_test_one]\n",
    "print(cols_pred)"
   ]
  },
  {
   "cell_type": "code",
   "execution_count": 25,
   "metadata": {},
   "outputs": [
    {
     "data": {
      "text/html": [
       "<div>\n",
       "<style scoped>\n",
       "    .dataframe tbody tr th:only-of-type {\n",
       "        vertical-align: middle;\n",
       "    }\n",
       "\n",
       "    .dataframe tbody tr th {\n",
       "        vertical-align: top;\n",
       "    }\n",
       "\n",
       "    .dataframe thead th {\n",
       "        text-align: right;\n",
       "    }\n",
       "</style>\n",
       "<table border=\"1\" class=\"dataframe\">\n",
       "  <thead>\n",
       "    <tr style=\"text-align: right;\">\n",
       "      <th></th>\n",
       "      <th>building_id</th>\n",
       "      <th>pred_33</th>\n",
       "      <th>pred_35</th>\n",
       "      <th>pred_36</th>\n",
       "      <th>pred_37</th>\n",
       "    </tr>\n",
       "  </thead>\n",
       "  <tbody>\n",
       "    <tr>\n",
       "      <th>0</th>\n",
       "      <td>X5gsdTWGS3W7JJQB</td>\n",
       "      <td>1.334910e+07</td>\n",
       "      <td>1.313244e+07</td>\n",
       "      <td>1.298618e+07</td>\n",
       "      <td>1.304845e+07</td>\n",
       "    </tr>\n",
       "    <tr>\n",
       "      <th>1</th>\n",
       "      <td>BTshNOJyKHnT2YIT</td>\n",
       "      <td>3.890587e+06</td>\n",
       "      <td>3.896216e+06</td>\n",
       "      <td>3.897411e+06</td>\n",
       "      <td>3.897545e+06</td>\n",
       "    </tr>\n",
       "    <tr>\n",
       "      <th>2</th>\n",
       "      <td>dhdymr0lV8N5kZOT</td>\n",
       "      <td>1.059390e+07</td>\n",
       "      <td>1.078764e+07</td>\n",
       "      <td>1.049745e+07</td>\n",
       "      <td>1.035078e+07</td>\n",
       "    </tr>\n",
       "    <tr>\n",
       "      <th>3</th>\n",
       "      <td>VEwyGGMcD56w5BOc</td>\n",
       "      <td>6.119229e+06</td>\n",
       "      <td>6.102227e+06</td>\n",
       "      <td>6.139949e+06</td>\n",
       "      <td>6.120593e+06</td>\n",
       "    </tr>\n",
       "    <tr>\n",
       "      <th>4</th>\n",
       "      <td>wmUeMoJZfsqaSX9b</td>\n",
       "      <td>1.110317e+06</td>\n",
       "      <td>1.104233e+06</td>\n",
       "      <td>1.106728e+06</td>\n",
       "      <td>1.098338e+06</td>\n",
       "    </tr>\n",
       "    <tr>\n",
       "      <th>9995</th>\n",
       "      <td>UEeCDaAJzPwdKKKA</td>\n",
       "      <td>1.181563e+06</td>\n",
       "      <td>1.191904e+06</td>\n",
       "      <td>1.191593e+06</td>\n",
       "      <td>1.175668e+06</td>\n",
       "    </tr>\n",
       "    <tr>\n",
       "      <th>9996</th>\n",
       "      <td>i0fgbPaQsDWs7Q87</td>\n",
       "      <td>4.817584e+07</td>\n",
       "      <td>4.858715e+07</td>\n",
       "      <td>4.826300e+07</td>\n",
       "      <td>4.830921e+07</td>\n",
       "    </tr>\n",
       "    <tr>\n",
       "      <th>9997</th>\n",
       "      <td>YunNwAhcqkf6YclI</td>\n",
       "      <td>1.094032e+06</td>\n",
       "      <td>1.108525e+06</td>\n",
       "      <td>1.114377e+06</td>\n",
       "      <td>1.142751e+06</td>\n",
       "    </tr>\n",
       "    <tr>\n",
       "      <th>9998</th>\n",
       "      <td>A2NotxtRY9MYoWMl</td>\n",
       "      <td>2.970882e+06</td>\n",
       "      <td>2.962741e+06</td>\n",
       "      <td>2.973267e+06</td>\n",
       "      <td>2.933060e+06</td>\n",
       "    </tr>\n",
       "    <tr>\n",
       "      <th>9999</th>\n",
       "      <td>kKvgBXiA50gRmQhP</td>\n",
       "      <td>3.129095e+06</td>\n",
       "      <td>3.118331e+06</td>\n",
       "      <td>3.102721e+06</td>\n",
       "      <td>3.067082e+06</td>\n",
       "    </tr>\n",
       "  </tbody>\n",
       "</table>\n",
       "</div>"
      ],
      "text/plain": [
       "           building_id       pred_33       pred_35       pred_36       pred_37\n",
       "0     X5gsdTWGS3W7JJQB  1.334910e+07  1.313244e+07  1.298618e+07  1.304845e+07\n",
       "1     BTshNOJyKHnT2YIT  3.890587e+06  3.896216e+06  3.897411e+06  3.897545e+06\n",
       "2     dhdymr0lV8N5kZOT  1.059390e+07  1.078764e+07  1.049745e+07  1.035078e+07\n",
       "3     VEwyGGMcD56w5BOc  6.119229e+06  6.102227e+06  6.139949e+06  6.120593e+06\n",
       "4     wmUeMoJZfsqaSX9b  1.110317e+06  1.104233e+06  1.106728e+06  1.098338e+06\n",
       "9995  UEeCDaAJzPwdKKKA  1.181563e+06  1.191904e+06  1.191593e+06  1.175668e+06\n",
       "9996  i0fgbPaQsDWs7Q87  4.817584e+07  4.858715e+07  4.826300e+07  4.830921e+07\n",
       "9997  YunNwAhcqkf6YclI  1.094032e+06  1.108525e+06  1.114377e+06  1.142751e+06\n",
       "9998  A2NotxtRY9MYoWMl  2.970882e+06  2.962741e+06  2.973267e+06  2.933060e+06\n",
       "9999  kKvgBXiA50gRmQhP  3.129095e+06  3.118331e+06  3.102721e+06  3.067082e+06"
      ]
     },
     "metadata": {},
     "output_type": "display_data"
    },
    {
     "name": "stdout",
     "output_type": "stream",
     "text": [
      "shape = (10000, 5)\n"
     ]
    }
   ],
   "source": [
    "df.check()"
   ]
  },
  {
   "cell_type": "code",
   "execution_count": 30,
   "metadata": {},
   "outputs": [],
   "source": [
    "assert not (df == 0).any().any()\n",
    "\n",
    "# to log\n",
    "for c in cols_pred:\n",
    "    df['log_'+c] = np.log(df[c])\n",
    "cols_log_pred = ['log_'+c for c in cols_pred]\n",
    "cols_log_pred\n",
    "\n",
    "df['log_total_price'] = df.loc[:, cols_log_pred].mean(axis=1)\n",
    "df['total_price'] = np.exp(df['log_total_price'])"
   ]
  },
  {
   "cell_type": "code",
   "execution_count": 37,
   "metadata": {},
   "outputs": [
    {
     "data": {
      "text/html": [
       "<div>\n",
       "<style scoped>\n",
       "    .dataframe tbody tr th:only-of-type {\n",
       "        vertical-align: middle;\n",
       "    }\n",
       "\n",
       "    .dataframe tbody tr th {\n",
       "        vertical-align: top;\n",
       "    }\n",
       "\n",
       "    .dataframe thead th {\n",
       "        text-align: right;\n",
       "    }\n",
       "</style>\n",
       "<table border=\"1\" class=\"dataframe\">\n",
       "  <thead>\n",
       "    <tr style=\"text-align: right;\">\n",
       "      <th></th>\n",
       "      <th>building_id</th>\n",
       "      <th>pred_33</th>\n",
       "      <th>pred_35</th>\n",
       "      <th>pred_36</th>\n",
       "      <th>pred_37</th>\n",
       "      <th>log_pred_33</th>\n",
       "      <th>log_pred_35</th>\n",
       "      <th>log_pred_36</th>\n",
       "      <th>log_pred_37</th>\n",
       "      <th>log_total_price</th>\n",
       "      <th>total_price</th>\n",
       "    </tr>\n",
       "  </thead>\n",
       "  <tbody>\n",
       "    <tr>\n",
       "      <th>0</th>\n",
       "      <td>X5gsdTWGS3W7JJQB</td>\n",
       "      <td>1.334910e+07</td>\n",
       "      <td>1.313244e+07</td>\n",
       "      <td>1.298618e+07</td>\n",
       "      <td>1.304845e+07</td>\n",
       "      <td>16.406960</td>\n",
       "      <td>16.390596</td>\n",
       "      <td>16.379396</td>\n",
       "      <td>16.384180</td>\n",
       "      <td>16.390283</td>\n",
       "      <td>1.312833e+07</td>\n",
       "    </tr>\n",
       "    <tr>\n",
       "      <th>1</th>\n",
       "      <td>BTshNOJyKHnT2YIT</td>\n",
       "      <td>3.890587e+06</td>\n",
       "      <td>3.896216e+06</td>\n",
       "      <td>3.897411e+06</td>\n",
       "      <td>3.897545e+06</td>\n",
       "      <td>15.174070</td>\n",
       "      <td>15.175516</td>\n",
       "      <td>15.175823</td>\n",
       "      <td>15.175857</td>\n",
       "      <td>15.175317</td>\n",
       "      <td>3.895439e+06</td>\n",
       "    </tr>\n",
       "    <tr>\n",
       "      <th>2</th>\n",
       "      <td>dhdymr0lV8N5kZOT</td>\n",
       "      <td>1.059390e+07</td>\n",
       "      <td>1.078764e+07</td>\n",
       "      <td>1.049745e+07</td>\n",
       "      <td>1.035078e+07</td>\n",
       "      <td>16.175789</td>\n",
       "      <td>16.193911</td>\n",
       "      <td>16.166643</td>\n",
       "      <td>16.152573</td>\n",
       "      <td>16.172229</td>\n",
       "      <td>1.055625e+07</td>\n",
       "    </tr>\n",
       "    <tr>\n",
       "      <th>3</th>\n",
       "      <td>VEwyGGMcD56w5BOc</td>\n",
       "      <td>6.119229e+06</td>\n",
       "      <td>6.102227e+06</td>\n",
       "      <td>6.139949e+06</td>\n",
       "      <td>6.120593e+06</td>\n",
       "      <td>15.626947</td>\n",
       "      <td>15.624164</td>\n",
       "      <td>15.630327</td>\n",
       "      <td>15.627169</td>\n",
       "      <td>15.627152</td>\n",
       "      <td>6.120485e+06</td>\n",
       "    </tr>\n",
       "    <tr>\n",
       "      <th>4</th>\n",
       "      <td>wmUeMoJZfsqaSX9b</td>\n",
       "      <td>1.110317e+06</td>\n",
       "      <td>1.104233e+06</td>\n",
       "      <td>1.106728e+06</td>\n",
       "      <td>1.098338e+06</td>\n",
       "      <td>13.920156</td>\n",
       "      <td>13.914661</td>\n",
       "      <td>13.916918</td>\n",
       "      <td>13.909309</td>\n",
       "      <td>13.915261</td>\n",
       "      <td>1.104895e+06</td>\n",
       "    </tr>\n",
       "    <tr>\n",
       "      <th>9995</th>\n",
       "      <td>UEeCDaAJzPwdKKKA</td>\n",
       "      <td>1.181563e+06</td>\n",
       "      <td>1.191904e+06</td>\n",
       "      <td>1.191593e+06</td>\n",
       "      <td>1.175668e+06</td>\n",
       "      <td>13.982349</td>\n",
       "      <td>13.991063</td>\n",
       "      <td>13.990802</td>\n",
       "      <td>13.977347</td>\n",
       "      <td>13.985390</td>\n",
       "      <td>1.185162e+06</td>\n",
       "    </tr>\n",
       "    <tr>\n",
       "      <th>9996</th>\n",
       "      <td>i0fgbPaQsDWs7Q87</td>\n",
       "      <td>4.817584e+07</td>\n",
       "      <td>4.858715e+07</td>\n",
       "      <td>4.826300e+07</td>\n",
       "      <td>4.830921e+07</td>\n",
       "      <td>17.690368</td>\n",
       "      <td>17.698870</td>\n",
       "      <td>17.692176</td>\n",
       "      <td>17.693133</td>\n",
       "      <td>17.693637</td>\n",
       "      <td>4.833355e+07</td>\n",
       "    </tr>\n",
       "    <tr>\n",
       "      <th>9997</th>\n",
       "      <td>YunNwAhcqkf6YclI</td>\n",
       "      <td>1.094032e+06</td>\n",
       "      <td>1.108525e+06</td>\n",
       "      <td>1.114377e+06</td>\n",
       "      <td>1.142751e+06</td>\n",
       "      <td>13.905380</td>\n",
       "      <td>13.918541</td>\n",
       "      <td>13.923806</td>\n",
       "      <td>13.948949</td>\n",
       "      <td>13.924169</td>\n",
       "      <td>1.114782e+06</td>\n",
       "    </tr>\n",
       "    <tr>\n",
       "      <th>9998</th>\n",
       "      <td>A2NotxtRY9MYoWMl</td>\n",
       "      <td>2.970882e+06</td>\n",
       "      <td>2.962741e+06</td>\n",
       "      <td>2.973267e+06</td>\n",
       "      <td>2.933060e+06</td>\n",
       "      <td>14.904369</td>\n",
       "      <td>14.901625</td>\n",
       "      <td>14.905172</td>\n",
       "      <td>14.891557</td>\n",
       "      <td>14.900681</td>\n",
       "      <td>2.959944e+06</td>\n",
       "    </tr>\n",
       "    <tr>\n",
       "      <th>9999</th>\n",
       "      <td>kKvgBXiA50gRmQhP</td>\n",
       "      <td>3.129095e+06</td>\n",
       "      <td>3.118331e+06</td>\n",
       "      <td>3.102721e+06</td>\n",
       "      <td>3.067082e+06</td>\n",
       "      <td>14.956254</td>\n",
       "      <td>14.952809</td>\n",
       "      <td>14.947790</td>\n",
       "      <td>14.936237</td>\n",
       "      <td>14.948272</td>\n",
       "      <td>3.104218e+06</td>\n",
       "    </tr>\n",
       "  </tbody>\n",
       "</table>\n",
       "</div>"
      ],
      "text/plain": [
       "           building_id       pred_33       pred_35       pred_36  \\\n",
       "0     X5gsdTWGS3W7JJQB  1.334910e+07  1.313244e+07  1.298618e+07   \n",
       "1     BTshNOJyKHnT2YIT  3.890587e+06  3.896216e+06  3.897411e+06   \n",
       "2     dhdymr0lV8N5kZOT  1.059390e+07  1.078764e+07  1.049745e+07   \n",
       "3     VEwyGGMcD56w5BOc  6.119229e+06  6.102227e+06  6.139949e+06   \n",
       "4     wmUeMoJZfsqaSX9b  1.110317e+06  1.104233e+06  1.106728e+06   \n",
       "9995  UEeCDaAJzPwdKKKA  1.181563e+06  1.191904e+06  1.191593e+06   \n",
       "9996  i0fgbPaQsDWs7Q87  4.817584e+07  4.858715e+07  4.826300e+07   \n",
       "9997  YunNwAhcqkf6YclI  1.094032e+06  1.108525e+06  1.114377e+06   \n",
       "9998  A2NotxtRY9MYoWMl  2.970882e+06  2.962741e+06  2.973267e+06   \n",
       "9999  kKvgBXiA50gRmQhP  3.129095e+06  3.118331e+06  3.102721e+06   \n",
       "\n",
       "           pred_37  log_pred_33  log_pred_35  log_pred_36  log_pred_37  \\\n",
       "0     1.304845e+07    16.406960    16.390596    16.379396    16.384180   \n",
       "1     3.897545e+06    15.174070    15.175516    15.175823    15.175857   \n",
       "2     1.035078e+07    16.175789    16.193911    16.166643    16.152573   \n",
       "3     6.120593e+06    15.626947    15.624164    15.630327    15.627169   \n",
       "4     1.098338e+06    13.920156    13.914661    13.916918    13.909309   \n",
       "9995  1.175668e+06    13.982349    13.991063    13.990802    13.977347   \n",
       "9996  4.830921e+07    17.690368    17.698870    17.692176    17.693133   \n",
       "9997  1.142751e+06    13.905380    13.918541    13.923806    13.948949   \n",
       "9998  2.933060e+06    14.904369    14.901625    14.905172    14.891557   \n",
       "9999  3.067082e+06    14.956254    14.952809    14.947790    14.936237   \n",
       "\n",
       "      log_total_price   total_price  \n",
       "0           16.390283  1.312833e+07  \n",
       "1           15.175317  3.895439e+06  \n",
       "2           16.172229  1.055625e+07  \n",
       "3           15.627152  6.120485e+06  \n",
       "4           13.915261  1.104895e+06  \n",
       "9995        13.985390  1.185162e+06  \n",
       "9996        17.693637  4.833355e+07  \n",
       "9997        13.924169  1.114782e+06  \n",
       "9998        14.900681  2.959944e+06  \n",
       "9999        14.948272  3.104218e+06  "
      ]
     },
     "metadata": {},
     "output_type": "display_data"
    },
    {
     "name": "stdout",
     "output_type": "stream",
     "text": [
      "shape = (10000, 11)\n"
     ]
    }
   ],
   "source": [
    "df.check()"
   ]
  },
  {
   "cell_type": "code",
   "execution_count": 63,
   "metadata": {},
   "outputs": [
    {
     "data": {
      "text/html": [
       "<div>\n",
       "<style scoped>\n",
       "    .dataframe tbody tr th:only-of-type {\n",
       "        vertical-align: middle;\n",
       "    }\n",
       "\n",
       "    .dataframe tbody tr th {\n",
       "        vertical-align: top;\n",
       "    }\n",
       "\n",
       "    .dataframe thead th {\n",
       "        text-align: right;\n",
       "    }\n",
       "</style>\n",
       "<table border=\"1\" class=\"dataframe\">\n",
       "  <thead>\n",
       "    <tr style=\"text-align: right;\">\n",
       "      <th></th>\n",
       "      <th>building_id</th>\n",
       "      <th>total_price</th>\n",
       "    </tr>\n",
       "  </thead>\n",
       "  <tbody>\n",
       "    <tr>\n",
       "      <th>0</th>\n",
       "      <td>X5gsdTWGS3W7JJQB</td>\n",
       "      <td>1.312833e+07</td>\n",
       "    </tr>\n",
       "    <tr>\n",
       "      <th>1</th>\n",
       "      <td>BTshNOJyKHnT2YIT</td>\n",
       "      <td>3.895439e+06</td>\n",
       "    </tr>\n",
       "    <tr>\n",
       "      <th>2</th>\n",
       "      <td>dhdymr0lV8N5kZOT</td>\n",
       "      <td>1.055625e+07</td>\n",
       "    </tr>\n",
       "    <tr>\n",
       "      <th>3</th>\n",
       "      <td>VEwyGGMcD56w5BOc</td>\n",
       "      <td>6.120485e+06</td>\n",
       "    </tr>\n",
       "    <tr>\n",
       "      <th>4</th>\n",
       "      <td>wmUeMoJZfsqaSX9b</td>\n",
       "      <td>1.104895e+06</td>\n",
       "    </tr>\n",
       "    <tr>\n",
       "      <th>9995</th>\n",
       "      <td>UEeCDaAJzPwdKKKA</td>\n",
       "      <td>1.185162e+06</td>\n",
       "    </tr>\n",
       "    <tr>\n",
       "      <th>9996</th>\n",
       "      <td>i0fgbPaQsDWs7Q87</td>\n",
       "      <td>4.833355e+07</td>\n",
       "    </tr>\n",
       "    <tr>\n",
       "      <th>9997</th>\n",
       "      <td>YunNwAhcqkf6YclI</td>\n",
       "      <td>1.114782e+06</td>\n",
       "    </tr>\n",
       "    <tr>\n",
       "      <th>9998</th>\n",
       "      <td>A2NotxtRY9MYoWMl</td>\n",
       "      <td>2.959944e+06</td>\n",
       "    </tr>\n",
       "    <tr>\n",
       "      <th>9999</th>\n",
       "      <td>kKvgBXiA50gRmQhP</td>\n",
       "      <td>3.104218e+06</td>\n",
       "    </tr>\n",
       "  </tbody>\n",
       "</table>\n",
       "</div>"
      ],
      "text/plain": [
       "           building_id   total_price\n",
       "0     X5gsdTWGS3W7JJQB  1.312833e+07\n",
       "1     BTshNOJyKHnT2YIT  3.895439e+06\n",
       "2     dhdymr0lV8N5kZOT  1.055625e+07\n",
       "3     VEwyGGMcD56w5BOc  6.120485e+06\n",
       "4     wmUeMoJZfsqaSX9b  1.104895e+06\n",
       "9995  UEeCDaAJzPwdKKKA  1.185162e+06\n",
       "9996  i0fgbPaQsDWs7Q87  4.833355e+07\n",
       "9997  YunNwAhcqkf6YclI  1.114782e+06\n",
       "9998  A2NotxtRY9MYoWMl  2.959944e+06\n",
       "9999  kKvgBXiA50gRmQhP  3.104218e+06"
      ]
     },
     "metadata": {},
     "output_type": "display_data"
    },
    {
     "name": "stdout",
     "output_type": "stream",
     "text": [
      "shape = (10000, 2)\n"
     ]
    }
   ],
   "source": [
    "df[['building_id', 'total_price']].check()"
   ]
  },
  {
   "cell_type": "code",
   "execution_count": 41,
   "metadata": {},
   "outputs": [
    {
     "name": "stdout",
     "output_type": "stream",
     "text": [
      "Output file to: output/stack_meanlog_no_search_20_33,35-37.csv\n"
     ]
    }
   ],
   "source": [
    "# Output\n",
    "output_filename = 'output/stack_meanlog_no_search_{}_{}.csv'.format(stack_idx, models)\n",
    "print('Output file to:', output_filename)"
   ]
  },
  {
   "cell_type": "code",
   "execution_count": 42,
   "metadata": {},
   "outputs": [],
   "source": [
    "df[['building_id', 'total_price']].to_csv(output_filename, index=False)"
   ]
  },
  {
   "cell_type": "code",
   "execution_count": 65,
   "metadata": {},
   "outputs": [
    {
     "data": {
      "text/plain": [
       "building_id        False\n",
       "pred_33            False\n",
       "pred_35            False\n",
       "pred_36            False\n",
       "pred_37            False\n",
       "log_pred_33        False\n",
       "log_pred_35        False\n",
       "log_pred_36        False\n",
       "log_pred_37        False\n",
       "log_total_price    False\n",
       "total_price        False\n",
       "dtype: bool"
      ]
     },
     "execution_count": 65,
     "metadata": {},
     "output_type": "execute_result"
    }
   ],
   "source": [
    "# Check null\n",
    "df.isnull().any()"
   ]
  },
  {
   "cell_type": "markdown",
   "metadata": {},
   "source": [
    "### Compare distribution"
   ]
  },
  {
   "cell_type": "code",
   "execution_count": 43,
   "metadata": {},
   "outputs": [],
   "source": [
    "import matplotlib.pyplot as plt"
   ]
  },
  {
   "cell_type": "code",
   "execution_count": 57,
   "metadata": {},
   "outputs": [],
   "source": [
    "df_train = pd.read_csv('dataset/train.csv')\n",
    "df_test = pd.read_csv('dataset/test.csv')"
   ]
  },
  {
   "cell_type": "code",
   "execution_count": 67,
   "metadata": {},
   "outputs": [
    {
     "data": {
      "text/plain": [
       "count    6.000000e+04\n",
       "mean     1.293727e+07\n",
       "std      5.522463e+07\n",
       "min      2.261495e+05\n",
       "25%      2.433114e+06\n",
       "50%      5.240482e+06\n",
       "75%      1.123932e+07\n",
       "max      5.088279e+09\n",
       "Name: total_price, dtype: float64"
      ]
     },
     "execution_count": 67,
     "metadata": {},
     "output_type": "execute_result"
    }
   ],
   "source": [
    "df_train['total_price'].describe()"
   ]
  },
  {
   "cell_type": "code",
   "execution_count": 68,
   "metadata": {},
   "outputs": [
    {
     "data": {
      "text/plain": [
       "count    1.000000e+04\n",
       "mean     1.289628e+07\n",
       "std      5.464583e+07\n",
       "min      2.052908e+05\n",
       "25%      2.443947e+06\n",
       "50%      5.151208e+06\n",
       "75%      1.082656e+07\n",
       "max      3.024236e+09\n",
       "Name: total_price, dtype: float64"
      ]
     },
     "execution_count": 68,
     "metadata": {},
     "output_type": "execute_result"
    }
   ],
   "source": [
    "df_test['total_price'].describe()"
   ]
  },
  {
   "cell_type": "code",
   "execution_count": 58,
   "metadata": {},
   "outputs": [],
   "source": [
    "df_test = df_test.merge(df, on='building_id', how='inner')"
   ]
  },
  {
   "cell_type": "code",
   "execution_count": 59,
   "metadata": {},
   "outputs": [],
   "source": [
    "df_train['log_total_price'] = np.log(df_train['total_price'])\n",
    "df_train['parea_total_price'] = df_train['total_price'] / df_train['building_area']\n",
    "df_train['log_parea_total_price'] = np.log(df_train['parea_total_price'])"
   ]
  },
  {
   "cell_type": "code",
   "execution_count": 62,
   "metadata": {},
   "outputs": [
    {
     "name": "stderr",
     "output_type": "stream",
     "text": [
      "/Library/Frameworks/Python.framework/Versions/3.6/lib/python3.6/site-packages/matplotlib/axes/_axes.py:6571: UserWarning: The 'normed' kwarg is deprecated, and has been replaced by the 'density' kwarg.\n",
      "  warnings.warn(\"The 'normed' kwarg is deprecated, and has been \"\n"
     ]
    },
    {
     "data": {
      "image/png": "[encoded data removed]",
      "text/plain": [
       "<Figure size 432x288 with 1 Axes>"
      ]
     },
     "metadata": {
      "needs_background": "light"
     },
     "output_type": "display_data"
    },
    {
     "data": {
      "image/png": "[encoded data removed]",
      "text/plain": [
       "<Figure size 432x288 with 1 Axes>"
      ]
     },
     "metadata": {
      "needs_background": "light"
     },
     "output_type": "display_data"
    }
   ],
   "source": [
    "plt.hist(df_train['log_parea_total_price'], bins=100, label='train true', normed=True)\n",
    "plt.hist(np.log(df_test['total_price'] / df_test['building_area']), bins=100, label='test',\n",
    "         normed=True, alpha=0.7)\n",
    "plt.xlabel('log(price/area)'); plt.ylabel('ratio')\n",
    "plt.legend(); plt.grid(); plt.show()\n",
    "\n",
    "plt.hist(df_train['log_total_price'], bins=100, label='train true', normed=True)\n",
    "plt.hist(np.log(df_test['total_price']), bins=100, label='test', normed=True, alpha=0.7)\n",
    "plt.xlabel('log(price)'); plt.ylabel('ratio')\n",
    "plt.legend(); plt.grid(); plt.show()"
   ]
  },
  {
   "cell_type": "code",
   "execution_count": null,
   "metadata": {},
   "outputs": [],
   "source": []
  }
 ],
 "metadata": {
  "kernelspec": {
   "display_name": "Python 3",
   "language": "python",
   "name": "python3"
  },
  "language_info": {
   "codemirror_mode": {
    "name": "ipython",
    "version": 3
   },
   "file_extension": ".py",
   "mimetype": "text/x-python",
   "name": "python",
   "nbconvert_exporter": "python",
   "pygments_lexer": "ipython3",
   "version": "3.6.6"
  },
  "toc": {
   "base_numbering": 1,
   "nav_menu": {},
   "number_sections": true,
   "sideBar": true,
   "skip_h1_title": true,
   "title_cell": "Table of Contents",
   "title_sidebar": "Contents",
   "toc_cell": false,
   "toc_position": {
    "height": "calc(100% - 180px)",
    "left": "10px",
    "top": "150px",
    "width": "247px"
   },
   "toc_section_display": true,
   "toc_window_display": true
  }
 },
 "nbformat": 4,
 "nbformat_minor": 2
}
