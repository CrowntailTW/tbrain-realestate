{
 "cells": [
  {
   "cell_type": "code",
   "execution_count": 1,
   "metadata": {},
   "outputs": [],
   "source": [
    "import pandas as pd\n",
    "import numpy as np"
   ]
  },
  {
   "cell_type": "code",
   "execution_count": 2,
   "metadata": {},
   "outputs": [],
   "source": [
    "files = [\n",
    "    'model-01-lgb-test-one.csv', \n",
    "    'model-03-lgb-feats-selection-test-one.csv', \n",
    "    'model-04-lgb-PCA-test-one.csv', \n",
    "    'model-05-lgb-wo-per-area-test-one.csv',\n",
    "    'model-06-lgb-lr0.001-test-one.csv', \n",
    "    'model-07-keras-embedding-test-kfold.csv'\n",
    "]"
   ]
  },
  {
   "cell_type": "code",
   "execution_count": 3,
   "metadata": {},
   "outputs": [],
   "source": [
    "dfs = [pd.read_csv('output/'+f) for f in files]"
   ]
  },
  {
   "cell_type": "code",
   "execution_count": 4,
   "metadata": {},
   "outputs": [],
   "source": [
    "for df in dfs:\n",
    "    assert (df['building_id'] == dfs[0]['building_id']).all()"
   ]
  },
  {
   "cell_type": "code",
   "execution_count": 5,
   "metadata": {},
   "outputs": [],
   "source": [
    "df_merge = dfs[0][['building_id']].copy()"
   ]
  },
  {
   "cell_type": "code",
   "execution_count": 6,
   "metadata": {},
   "outputs": [],
   "source": [
    "for i, df in enumerate(dfs):\n",
    "    df_merge[str(i)] = np.log1p(df['total_price'])"
   ]
  },
  {
   "cell_type": "code",
   "execution_count": 8,
   "metadata": {},
   "outputs": [],
   "source": [
    "df_merge['total_price'] = np.expm1(df_merge.loc[:, [str(i) for i, df in enumerate(dfs)]].mean(axis=1))"
   ]
  },
  {
   "cell_type": "code",
   "execution_count": 9,
   "metadata": {},
   "outputs": [
    {
     "data": {
      "text/html": [
       "<div>\n",
       "<style scoped>\n",
       "    .dataframe tbody tr th:only-of-type {\n",
       "        vertical-align: middle;\n",
       "    }\n",
       "\n",
       "    .dataframe tbody tr th {\n",
       "        vertical-align: top;\n",
       "    }\n",
       "\n",
       "    .dataframe thead th {\n",
       "        text-align: right;\n",
       "    }\n",
       "</style>\n",
       "<table border=\"1\" class=\"dataframe\">\n",
       "  <thead>\n",
       "    <tr style=\"text-align: right;\">\n",
       "      <th></th>\n",
       "      <th>building_id</th>\n",
       "      <th>0</th>\n",
       "      <th>1</th>\n",
       "      <th>2</th>\n",
       "      <th>3</th>\n",
       "      <th>4</th>\n",
       "      <th>5</th>\n",
       "      <th>total_price</th>\n",
       "    </tr>\n",
       "  </thead>\n",
       "  <tbody>\n",
       "    <tr>\n",
       "      <th>0</th>\n",
       "      <td>X5gsdTWGS3W7JJQB</td>\n",
       "      <td>16.541343</td>\n",
       "      <td>16.544464</td>\n",
       "      <td>16.268698</td>\n",
       "      <td>16.373828</td>\n",
       "      <td>16.482795</td>\n",
       "      <td>16.506966</td>\n",
       "      <td>1.397829e+07</td>\n",
       "    </tr>\n",
       "    <tr>\n",
       "      <th>1</th>\n",
       "      <td>BTshNOJyKHnT2YIT</td>\n",
       "      <td>15.182684</td>\n",
       "      <td>15.196062</td>\n",
       "      <td>15.202014</td>\n",
       "      <td>15.183385</td>\n",
       "      <td>15.191124</td>\n",
       "      <td>15.149925</td>\n",
       "      <td>3.930191e+06</td>\n",
       "    </tr>\n",
       "    <tr>\n",
       "      <th>2</th>\n",
       "      <td>dhdymr0lV8N5kZOT</td>\n",
       "      <td>16.209879</td>\n",
       "      <td>16.199646</td>\n",
       "      <td>16.326825</td>\n",
       "      <td>16.245796</td>\n",
       "      <td>16.208905</td>\n",
       "      <td>16.254825</td>\n",
       "      <td>1.130753e+07</td>\n",
       "    </tr>\n",
       "    <tr>\n",
       "      <th>3</th>\n",
       "      <td>VEwyGGMcD56w5BOc</td>\n",
       "      <td>15.632865</td>\n",
       "      <td>15.609807</td>\n",
       "      <td>15.605771</td>\n",
       "      <td>15.579007</td>\n",
       "      <td>15.614263</td>\n",
       "      <td>15.625781</td>\n",
       "      <td>6.023919e+06</td>\n",
       "    </tr>\n",
       "    <tr>\n",
       "      <th>4</th>\n",
       "      <td>wmUeMoJZfsqaSX9b</td>\n",
       "      <td>13.876602</td>\n",
       "      <td>13.842395</td>\n",
       "      <td>13.937332</td>\n",
       "      <td>13.846228</td>\n",
       "      <td>13.870488</td>\n",
       "      <td>13.854095</td>\n",
       "      <td>1.057258e+06</td>\n",
       "    </tr>\n",
       "  </tbody>\n",
       "</table>\n",
       "</div>"
      ],
      "text/plain": [
       "        building_id          0          1          2          3          4  \\\n",
       "0  X5gsdTWGS3W7JJQB  16.541343  16.544464  16.268698  16.373828  16.482795   \n",
       "1  BTshNOJyKHnT2YIT  15.182684  15.196062  15.202014  15.183385  15.191124   \n",
       "2  dhdymr0lV8N5kZOT  16.209879  16.199646  16.326825  16.245796  16.208905   \n",
       "3  VEwyGGMcD56w5BOc  15.632865  15.609807  15.605771  15.579007  15.614263   \n",
       "4  wmUeMoJZfsqaSX9b  13.876602  13.842395  13.937332  13.846228  13.870488   \n",
       "\n",
       "           5   total_price  \n",
       "0  16.506966  1.397829e+07  \n",
       "1  15.149925  3.930191e+06  \n",
       "2  16.254825  1.130753e+07  \n",
       "3  15.625781  6.023919e+06  \n",
       "4  13.854095  1.057258e+06  "
      ]
     },
     "execution_count": 9,
     "metadata": {},
     "output_type": "execute_result"
    }
   ],
   "source": [
    "df_merge.head()"
   ]
  },
  {
   "cell_type": "code",
   "execution_count": 14,
   "metadata": {},
   "outputs": [
    {
     "data": {
      "text/html": [
       "<div>\n",
       "<style scoped>\n",
       "    .dataframe tbody tr th:only-of-type {\n",
       "        vertical-align: middle;\n",
       "    }\n",
       "\n",
       "    .dataframe tbody tr th {\n",
       "        vertical-align: top;\n",
       "    }\n",
       "\n",
       "    .dataframe thead th {\n",
       "        text-align: right;\n",
       "    }\n",
       "</style>\n",
       "<table border=\"1\" class=\"dataframe\">\n",
       "  <thead>\n",
       "    <tr style=\"text-align: right;\">\n",
       "      <th></th>\n",
       "      <th>building_id</th>\n",
       "      <th>0</th>\n",
       "      <th>1</th>\n",
       "      <th>2</th>\n",
       "      <th>3</th>\n",
       "      <th>4</th>\n",
       "      <th>5</th>\n",
       "      <th>total_price</th>\n",
       "    </tr>\n",
       "  </thead>\n",
       "  <tbody>\n",
       "    <tr>\n",
       "      <th>9995</th>\n",
       "      <td>UEeCDaAJzPwdKKKA</td>\n",
       "      <td>14.027735</td>\n",
       "      <td>14.032509</td>\n",
       "      <td>14.010654</td>\n",
       "      <td>14.079754</td>\n",
       "      <td>14.013976</td>\n",
       "      <td>13.984596</td>\n",
       "      <td>1.232888e+06</td>\n",
       "    </tr>\n",
       "    <tr>\n",
       "      <th>9996</th>\n",
       "      <td>i0fgbPaQsDWs7Q87</td>\n",
       "      <td>17.710780</td>\n",
       "      <td>17.714823</td>\n",
       "      <td>17.722841</td>\n",
       "      <td>17.607063</td>\n",
       "      <td>17.707522</td>\n",
       "      <td>17.651077</td>\n",
       "      <td>4.795071e+07</td>\n",
       "    </tr>\n",
       "    <tr>\n",
       "      <th>9997</th>\n",
       "      <td>YunNwAhcqkf6YclI</td>\n",
       "      <td>13.891861</td>\n",
       "      <td>13.882116</td>\n",
       "      <td>13.910557</td>\n",
       "      <td>13.930125</td>\n",
       "      <td>13.900494</td>\n",
       "      <td>13.878740</td>\n",
       "      <td>1.087053e+06</td>\n",
       "    </tr>\n",
       "    <tr>\n",
       "      <th>9998</th>\n",
       "      <td>A2NotxtRY9MYoWMl</td>\n",
       "      <td>14.908307</td>\n",
       "      <td>14.897929</td>\n",
       "      <td>14.910499</td>\n",
       "      <td>14.903969</td>\n",
       "      <td>14.891862</td>\n",
       "      <td>14.908981</td>\n",
       "      <td>2.968570e+06</td>\n",
       "    </tr>\n",
       "    <tr>\n",
       "      <th>9999</th>\n",
       "      <td>kKvgBXiA50gRmQhP</td>\n",
       "      <td>14.955457</td>\n",
       "      <td>14.965798</td>\n",
       "      <td>15.031608</td>\n",
       "      <td>14.843194</td>\n",
       "      <td>14.971763</td>\n",
       "      <td>14.869160</td>\n",
       "      <td>3.077094e+06</td>\n",
       "    </tr>\n",
       "  </tbody>\n",
       "</table>\n",
       "</div>"
      ],
      "text/plain": [
       "           building_id          0          1          2          3          4  \\\n",
       "9995  UEeCDaAJzPwdKKKA  14.027735  14.032509  14.010654  14.079754  14.013976   \n",
       "9996  i0fgbPaQsDWs7Q87  17.710780  17.714823  17.722841  17.607063  17.707522   \n",
       "9997  YunNwAhcqkf6YclI  13.891861  13.882116  13.910557  13.930125  13.900494   \n",
       "9998  A2NotxtRY9MYoWMl  14.908307  14.897929  14.910499  14.903969  14.891862   \n",
       "9999  kKvgBXiA50gRmQhP  14.955457  14.965798  15.031608  14.843194  14.971763   \n",
       "\n",
       "              5   total_price  \n",
       "9995  13.984596  1.232888e+06  \n",
       "9996  17.651077  4.795071e+07  \n",
       "9997  13.878740  1.087053e+06  \n",
       "9998  14.908981  2.968570e+06  \n",
       "9999  14.869160  3.077094e+06  "
      ]
     },
     "execution_count": 14,
     "metadata": {},
     "output_type": "execute_result"
    }
   ],
   "source": [
    "df_merge.tail()"
   ]
  },
  {
   "cell_type": "code",
   "execution_count": 10,
   "metadata": {},
   "outputs": [
    {
     "data": {
      "text/plain": [
       "(211128.5276567009, 2146896965.3398123)"
      ]
     },
     "execution_count": 10,
     "metadata": {},
     "output_type": "execute_result"
    }
   ],
   "source": [
    "df_merge['total_price'].min(), df_merge['total_price'].max()"
   ]
  },
  {
   "cell_type": "code",
   "execution_count": 13,
   "metadata": {},
   "outputs": [],
   "source": [
    "assert df_merge['total_price'].isnull().sum() == 0, 'some null value!'"
   ]
  },
  {
   "cell_type": "code",
   "execution_count": 15,
   "metadata": {},
   "outputs": [],
   "source": [
    "df_merge.loc[:, ['building_id', 'total_price']].to_csv(\n",
    "    'output/stack_mean_04_1,3-7_model7-kfold.csv', index=False)"
   ]
  },
  {
   "cell_type": "code",
   "execution_count": null,
   "metadata": {},
   "outputs": [],
   "source": []
  }
 ],
 "metadata": {
  "kernelspec": {
   "display_name": "Python 3",
   "language": "python",
   "name": "python3"
  },
  "language_info": {
   "codemirror_mode": {
    "name": "ipython",
    "version": 3
   },
   "file_extension": ".py",
   "mimetype": "text/x-python",
   "name": "python",
   "nbconvert_exporter": "python",
   "pygments_lexer": "ipython3",
   "version": "3.6.6"
  },
  "toc": {
   "base_numbering": 1,
   "nav_menu": {},
   "number_sections": true,
   "sideBar": true,
   "skip_h1_title": true,
   "title_cell": "Table of Contents",
   "title_sidebar": "Contents",
   "toc_cell": false,
   "toc_position": {},
   "toc_section_display": true,
   "toc_window_display": true
  }
 },
 "nbformat": 4,
 "nbformat_minor": 2
}
