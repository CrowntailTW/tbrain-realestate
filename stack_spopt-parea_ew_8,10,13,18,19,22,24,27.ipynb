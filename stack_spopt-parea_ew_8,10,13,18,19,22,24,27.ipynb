{
 "cells": [
  {
   "cell_type": "code",
   "execution_count": 1,
   "metadata": {},
   "outputs": [
    {
     "data": {
      "application/javascript": [
       "IPython.notebook.set_autosave_interval(0)"
      ]
     },
     "metadata": {},
     "output_type": "display_data"
    },
    {
     "name": "stdout",
     "output_type": "stream",
     "text": [
      "Autosave disabled\n"
     ]
    }
   ],
   "source": [
    "%autosave 0"
   ]
  },
  {
   "cell_type": "code",
   "execution_count": 2,
   "metadata": {},
   "outputs": [],
   "source": [
    "import os\n",
    "import numpy as np\n",
    "import pandas as pd\n",
    "from scipy.optimize import minimize\n",
    "from sklearn.metrics import mean_squared_error, mean_absolute_error\n",
    "from utilities import cal_score, cal_mape"
   ]
  },
  {
   "cell_type": "code",
   "execution_count": 3,
   "metadata": {},
   "outputs": [],
   "source": [
    "stack_idx = 'ew'\n",
    "models = '8,10,13,18,19,22,24,27'\n",
    "use_test_kfold = set([2, 7, 8, 12, 13])\n",
    "\n",
    "is_per_area = True\n",
    "add_intercept = True"
   ]
  },
  {
   "cell_type": "markdown",
   "metadata": {},
   "source": [
    "### Read CV predictions and test"
   ]
  },
  {
   "cell_type": "code",
   "execution_count": 4,
   "metadata": {},
   "outputs": [],
   "source": [
    "def parse_models(exp):\n",
    "    exp_split = exp.split(',')\n",
    "    idx_models = []\n",
    "    for e in exp_split:\n",
    "        if '-' in e:\n",
    "            n0, n1 = e.split('-')\n",
    "            idx_models.extend(list(range(int(n0), int(n1)+1, 1)))\n",
    "        else:\n",
    "            idx_models.append(int(e))\n",
    "    return idx_models"
   ]
  },
  {
   "cell_type": "code",
   "execution_count": 5,
   "metadata": {},
   "outputs": [
    {
     "name": "stdout",
     "output_type": "stream",
     "text": [
      "[8, 10, 13, 18, 19, 22, 24, 27]\n"
     ]
    }
   ],
   "source": [
    "idx_models = parse_models(models)\n",
    "print(idx_models)"
   ]
  },
  {
   "cell_type": "code",
   "execution_count": 6,
   "metadata": {},
   "outputs": [],
   "source": [
    "files_in_output = [f for f in os.listdir('output/') if os.path.isfile('output/'+f)]\n",
    "files_cv = {idx: [f for f in files_in_output \n",
    "                  if f.startswith('model-%02d-' % idx) and f.endswith('cv.csv')][0] \n",
    "            for idx in idx_models}\n",
    "files_test_one = {idx: [f for f in files_in_output \n",
    "                        if f.startswith('model-%02d-' % idx) and f.endswith('test-one.csv')][0]\n",
    "                  for idx in idx_models}\n",
    "files_test_kf = {idx: [f for f in files_in_output \n",
    "                       if f.startswith('model-%02d-' % idx) and f.endswith('test-kfold.csv')][0]\n",
    "                 for idx in idx_models}"
   ]
  },
  {
   "cell_type": "code",
   "execution_count": 7,
   "metadata": {
    "scrolled": true
   },
   "outputs": [
    {
     "name": "stdout",
     "output_type": "stream",
     "text": [
      " 8 model-08-keras-search-long-cv.csv\n",
      " 8 model-08-keras-search-long-test-kfold.csv\n",
      " 8 model-08-keras-search-long-test-one.csv\n",
      "10 model-10-lgb-feats-selection-75-lr-0.001-cv.csv\n",
      "10 model-10-lgb-feats-selection-75-lr-0.001-test-kfold.csv\n",
      "10 model-10-lgb-feats-selection-75-lr-0.001-test-one.csv\n",
      "13 model-13-predict-keras-he_uni-cv.csv\n",
      "13 model-13-predict-keras-he_uni-test-kfold.csv\n",
      "13 model-13-predict-keras-he_uni-test-one.csv\n",
      "18 model-18-lgb-feats-selection-70-lr-0.001-p5-cv.csv\n",
      "18 model-18-lgb-feats-selection-70-lr-0.001-p5-test-kfold.csv\n",
      "18 model-18-lgb-feats-selection-70-lr-0.001-p5-test-one.csv\n",
      "19 model-19-lgb-search-bins-lr-0.0005-cv.csv\n",
      "19 model-19-lgb-search-bins-lr-0.0005-test-kfold.csv\n",
      "19 model-19-lgb-search-bins-lr-0.0005-test-one.csv\n",
      "22 model-22-lgb-wo-per-area-long-2-cv.csv\n",
      "22 model-22-lgb-wo-per-area-long-2-test-kfold.csv\n",
      "22 model-22-lgb-wo-per-area-long-2-test-one.csv\n",
      "24 model-24-lgb-binary-augment-cv.csv\n",
      "24 model-24-lgb-binary-augment-test-kfold.csv\n",
      "24 model-24-lgb-binary-augment-test-one.csv\n",
      "27 model-27-lgb-feat_rm_new-cv.csv\n",
      "27 model-27-lgb-feat_rm_new-test-kfold.csv\n",
      "27 model-27-lgb-feat_rm_new-test-one.csv\n"
     ]
    }
   ],
   "source": [
    "for k in files_cv: \n",
    "    print('%2d'%k, files_cv[k])\n",
    "    print('%2d'%k, files_test_kf[k])\n",
    "    print('%2d'%k, files_test_one[k])"
   ]
  },
  {
   "cell_type": "markdown",
   "metadata": {},
   "source": [
    "#### Load area"
   ]
  },
  {
   "cell_type": "code",
   "execution_count": 8,
   "metadata": {},
   "outputs": [],
   "source": [
    "df_train = pd.read_csv('dataset/train.csv')\n",
    "df_test = pd.read_csv('dataset/test.csv')"
   ]
  },
  {
   "cell_type": "code",
   "execution_count": 9,
   "metadata": {},
   "outputs": [],
   "source": [
    "cv = df_train[['building_id', 'building_area', 'total_price']]\n",
    "test = df_test[['building_id', 'building_area']]"
   ]
  },
  {
   "cell_type": "code",
   "execution_count": 10,
   "metadata": {},
   "outputs": [
    {
     "name": "stdout",
     "output_type": "stream",
     "text": [
      "CV predictions:\n",
      "8\n",
      "model-08-keras-search-long-cv.csv\n",
      "model-10-lgb-feats-selection-75-lr-0.001-cv.csv\n",
      "model-13-predict-keras-he_uni-cv.csv\n",
      "model-18-lgb-feats-selection-70-lr-0.001-p5-cv.csv\n",
      "model-19-lgb-search-bins-lr-0.0005-cv.csv\n",
      "model-22-lgb-wo-per-area-long-2-cv.csv\n",
      "model-24-lgb-binary-augment-cv.csv\n",
      "model-27-lgb-feat_rm_new-cv.csv\n"
     ]
    }
   ],
   "source": [
    "print('CV predictions:')\n",
    "print(len(idx_models))\n",
    "for i, idx_model in enumerate(idx_models):\n",
    "    f = files_cv[idx_model]\n",
    "    print(f)\n",
    "#    print('No. {} file: {}'.format(i, f))\n",
    "    df = pd.read_csv('output/'+f)\n",
    "    \n",
    "    cv = pd.merge(cv, df[['building_id', 'total_price_predict']], on='building_id')\n",
    "    \n",
    "    cv = cv.rename(columns = {'total_price_predict': 'pred_{}'.format(idx_model)})\n",
    "    cv[f'log_pred_{idx_model}'] = np.log1p(cv[f'pred_{idx_model}'])\n",
    "    cv[f'log_parea_pred_{idx_model}'] = np.log1p( cv[f'pred_{idx_model}'] / cv['building_area'] )"
   ]
  },
  {
   "cell_type": "code",
   "execution_count": 11,
   "metadata": {},
   "outputs": [
    {
     "name": "stdout",
     "output_type": "stream",
     "text": [
      "Test predictions:\n",
      "No. 0 file: model-08-keras-search-long-test-kfold.csv\n",
      "No. 1 file: model-10-lgb-feats-selection-75-lr-0.001-test-one.csv\n",
      "No. 2 file: model-13-predict-keras-he_uni-test-kfold.csv\n",
      "No. 3 file: model-18-lgb-feats-selection-70-lr-0.001-p5-test-one.csv\n",
      "No. 4 file: model-19-lgb-search-bins-lr-0.0005-test-one.csv\n",
      "No. 5 file: model-22-lgb-wo-per-area-long-2-test-one.csv\n",
      "No. 6 file: model-24-lgb-binary-augment-test-one.csv\n",
      "No. 7 file: model-27-lgb-feat_rm_new-test-one.csv\n"
     ]
    }
   ],
   "source": [
    "cv['log_total_price'] = np.log1p(cv['total_price'])\n",
    "cv['log_parea_total_price'] = np.log1p( cv['total_price'] / cv['building_area'] )\n",
    "\n",
    "print('Test predictions:')\n",
    "for i, idx in enumerate(idx_models):\n",
    "    f = files_test_kf[idx] if idx in use_test_kfold else files_test_one[idx]\n",
    "    print('No. {} file: {}'.format(i, f))\n",
    "    df = pd.read_csv('output/'+f)\n",
    "\n",
    "    test = pd.merge(test, df[['building_id','total_price']], on='building_id')\n",
    "        \n",
    "    test = test.rename(columns = {'total_price': 'pred_{}'.format(idx)})\n",
    "    test[f'log_pred_{idx}'] = np.log1p(test[f'pred_{idx}'])\n",
    "    test[f'log_parea_pred_{idx}'] = np.log1p( test[f'pred_{idx}'] / test['building_area'] )"
   ]
  },
  {
   "cell_type": "code",
   "execution_count": 12,
   "metadata": {},
   "outputs": [
    {
     "data": {
      "text/html": [
       "<div>\n",
       "<style scoped>\n",
       "    .dataframe tbody tr th:only-of-type {\n",
       "        vertical-align: middle;\n",
       "    }\n",
       "\n",
       "    .dataframe tbody tr th {\n",
       "        vertical-align: top;\n",
       "    }\n",
       "\n",
       "    .dataframe thead th {\n",
       "        text-align: right;\n",
       "    }\n",
       "</style>\n",
       "<table border=\"1\" class=\"dataframe\">\n",
       "  <thead>\n",
       "    <tr style=\"text-align: right;\">\n",
       "      <th></th>\n",
       "      <th>building_id</th>\n",
       "      <th>building_area</th>\n",
       "      <th>total_price</th>\n",
       "      <th>pred_8</th>\n",
       "      <th>log_pred_8</th>\n",
       "      <th>log_parea_pred_8</th>\n",
       "      <th>pred_10</th>\n",
       "      <th>log_pred_10</th>\n",
       "      <th>log_parea_pred_10</th>\n",
       "      <th>pred_13</th>\n",
       "      <th>...</th>\n",
       "      <th>log_pred_22</th>\n",
       "      <th>log_parea_pred_22</th>\n",
       "      <th>pred_24</th>\n",
       "      <th>log_pred_24</th>\n",
       "      <th>log_parea_pred_24</th>\n",
       "      <th>pred_27</th>\n",
       "      <th>log_pred_27</th>\n",
       "      <th>log_parea_pred_27</th>\n",
       "      <th>log_total_price</th>\n",
       "      <th>log_parea_total_price</th>\n",
       "    </tr>\n",
       "  </thead>\n",
       "  <tbody>\n",
       "    <tr>\n",
       "      <th>0</th>\n",
       "      <td>e3mMIMR3JJqCaXz1</td>\n",
       "      <td>3.418175</td>\n",
       "      <td>6.476038e+05</td>\n",
       "      <td>725253.9</td>\n",
       "      <td>13.494278</td>\n",
       "      <td>12.265175</td>\n",
       "      <td>6.666997e+05</td>\n",
       "      <td>13.410097</td>\n",
       "      <td>12.180993</td>\n",
       "      <td>633171.2</td>\n",
       "      <td>...</td>\n",
       "      <td>13.451562</td>\n",
       "      <td>12.222459</td>\n",
       "      <td>6.305493e+05</td>\n",
       "      <td>13.354348</td>\n",
       "      <td>12.125245</td>\n",
       "      <td>6.477905e+05</td>\n",
       "      <td>13.381324</td>\n",
       "      <td>12.152221</td>\n",
       "      <td>13.381036</td>\n",
       "      <td>12.151933</td>\n",
       "    </tr>\n",
       "    <tr>\n",
       "      <th>1</th>\n",
       "      <td>LgwzgklNvy4QCtq5</td>\n",
       "      <td>4.041309</td>\n",
       "      <td>3.321452e+06</td>\n",
       "      <td>2841281.8</td>\n",
       "      <td>14.859766</td>\n",
       "      <td>13.463199</td>\n",
       "      <td>3.161088e+06</td>\n",
       "      <td>14.966427</td>\n",
       "      <td>13.569860</td>\n",
       "      <td>3101206.5</td>\n",
       "      <td>...</td>\n",
       "      <td>14.956756</td>\n",
       "      <td>13.560188</td>\n",
       "      <td>3.058136e+06</td>\n",
       "      <td>14.933317</td>\n",
       "      <td>13.536749</td>\n",
       "      <td>3.127411e+06</td>\n",
       "      <td>14.955716</td>\n",
       "      <td>13.559149</td>\n",
       "      <td>15.015913</td>\n",
       "      <td>13.619345</td>\n",
       "    </tr>\n",
       "    <tr>\n",
       "      <th>2</th>\n",
       "      <td>ucIR2NLLsC3T650L</td>\n",
       "      <td>5.584279</td>\n",
       "      <td>9.570885e+06</td>\n",
       "      <td>9507449.0</td>\n",
       "      <td>16.067586</td>\n",
       "      <td>14.347631</td>\n",
       "      <td>9.737051e+06</td>\n",
       "      <td>16.091449</td>\n",
       "      <td>14.371494</td>\n",
       "      <td>9499881.0</td>\n",
       "      <td>...</td>\n",
       "      <td>16.109236</td>\n",
       "      <td>14.389281</td>\n",
       "      <td>9.860001e+06</td>\n",
       "      <td>16.103997</td>\n",
       "      <td>14.384042</td>\n",
       "      <td>9.745913e+06</td>\n",
       "      <td>16.092359</td>\n",
       "      <td>14.372404</td>\n",
       "      <td>16.074236</td>\n",
       "      <td>14.354282</td>\n",
       "    </tr>\n",
       "    <tr>\n",
       "      <th>3</th>\n",
       "      <td>jre1pJhcQj91Kdky</td>\n",
       "      <td>13.563031</td>\n",
       "      <td>1.421501e+07</td>\n",
       "      <td>12914970.0</td>\n",
       "      <td>16.373898</td>\n",
       "      <td>13.766551</td>\n",
       "      <td>1.269176e+07</td>\n",
       "      <td>16.356463</td>\n",
       "      <td>13.749117</td>\n",
       "      <td>12871026.0</td>\n",
       "      <td>...</td>\n",
       "      <td>16.364881</td>\n",
       "      <td>13.757534</td>\n",
       "      <td>1.276711e+07</td>\n",
       "      <td>16.362383</td>\n",
       "      <td>13.755036</td>\n",
       "      <td>1.259548e+07</td>\n",
       "      <td>16.348848</td>\n",
       "      <td>13.741502</td>\n",
       "      <td>16.469809</td>\n",
       "      <td>13.862462</td>\n",
       "    </tr>\n",
       "    <tr>\n",
       "      <th>4</th>\n",
       "      <td>rQpYpY9nRG7X5mmr</td>\n",
       "      <td>4.688108</td>\n",
       "      <td>7.627120e+05</td>\n",
       "      <td>1351634.2</td>\n",
       "      <td>14.116826</td>\n",
       "      <td>12.571799</td>\n",
       "      <td>1.122204e+06</td>\n",
       "      <td>13.930806</td>\n",
       "      <td>12.385780</td>\n",
       "      <td>1657203.4</td>\n",
       "      <td>...</td>\n",
       "      <td>14.030033</td>\n",
       "      <td>12.485007</td>\n",
       "      <td>1.113243e+06</td>\n",
       "      <td>13.922789</td>\n",
       "      <td>12.377763</td>\n",
       "      <td>1.131428e+06</td>\n",
       "      <td>13.938992</td>\n",
       "      <td>12.393966</td>\n",
       "      <td>13.544637</td>\n",
       "      <td>11.999613</td>\n",
       "    </tr>\n",
       "  </tbody>\n",
       "</table>\n",
       "<p>5 rows × 29 columns</p>\n",
       "</div>"
      ],
      "text/plain": [
       "        building_id  building_area   total_price      pred_8  log_pred_8  \\\n",
       "0  e3mMIMR3JJqCaXz1       3.418175  6.476038e+05    725253.9   13.494278   \n",
       "1  LgwzgklNvy4QCtq5       4.041309  3.321452e+06   2841281.8   14.859766   \n",
       "2  ucIR2NLLsC3T650L       5.584279  9.570885e+06   9507449.0   16.067586   \n",
       "3  jre1pJhcQj91Kdky      13.563031  1.421501e+07  12914970.0   16.373898   \n",
       "4  rQpYpY9nRG7X5mmr       4.688108  7.627120e+05   1351634.2   14.116826   \n",
       "\n",
       "   log_parea_pred_8       pred_10  log_pred_10  log_parea_pred_10     pred_13  \\\n",
       "0         12.265175  6.666997e+05    13.410097          12.180993    633171.2   \n",
       "1         13.463199  3.161088e+06    14.966427          13.569860   3101206.5   \n",
       "2         14.347631  9.737051e+06    16.091449          14.371494   9499881.0   \n",
       "3         13.766551  1.269176e+07    16.356463          13.749117  12871026.0   \n",
       "4         12.571799  1.122204e+06    13.930806          12.385780   1657203.4   \n",
       "\n",
       "   ...  log_pred_22  log_parea_pred_22       pred_24  log_pred_24  \\\n",
       "0  ...    13.451562          12.222459  6.305493e+05    13.354348   \n",
       "1  ...    14.956756          13.560188  3.058136e+06    14.933317   \n",
       "2  ...    16.109236          14.389281  9.860001e+06    16.103997   \n",
       "3  ...    16.364881          13.757534  1.276711e+07    16.362383   \n",
       "4  ...    14.030033          12.485007  1.113243e+06    13.922789   \n",
       "\n",
       "   log_parea_pred_24       pred_27  log_pred_27  log_parea_pred_27  \\\n",
       "0          12.125245  6.477905e+05    13.381324          12.152221   \n",
       "1          13.536749  3.127411e+06    14.955716          13.559149   \n",
       "2          14.384042  9.745913e+06    16.092359          14.372404   \n",
       "3          13.755036  1.259548e+07    16.348848          13.741502   \n",
       "4          12.377763  1.131428e+06    13.938992          12.393966   \n",
       "\n",
       "   log_total_price  log_parea_total_price  \n",
       "0        13.381036              12.151933  \n",
       "1        15.015913              13.619345  \n",
       "2        16.074236              14.354282  \n",
       "3        16.469809              13.862462  \n",
       "4        13.544637              11.999613  \n",
       "\n",
       "[5 rows x 29 columns]"
      ]
     },
     "metadata": {},
     "output_type": "display_data"
    },
    {
     "data": {
      "text/html": [
       "<div>\n",
       "<style scoped>\n",
       "    .dataframe tbody tr th:only-of-type {\n",
       "        vertical-align: middle;\n",
       "    }\n",
       "\n",
       "    .dataframe tbody tr th {\n",
       "        vertical-align: top;\n",
       "    }\n",
       "\n",
       "    .dataframe thead th {\n",
       "        text-align: right;\n",
       "    }\n",
       "</style>\n",
       "<table border=\"1\" class=\"dataframe\">\n",
       "  <thead>\n",
       "    <tr style=\"text-align: right;\">\n",
       "      <th></th>\n",
       "      <th>building_id</th>\n",
       "      <th>building_area</th>\n",
       "      <th>pred_8</th>\n",
       "      <th>log_pred_8</th>\n",
       "      <th>log_parea_pred_8</th>\n",
       "      <th>pred_10</th>\n",
       "      <th>log_pred_10</th>\n",
       "      <th>log_parea_pred_10</th>\n",
       "      <th>pred_13</th>\n",
       "      <th>log_pred_13</th>\n",
       "      <th>...</th>\n",
       "      <th>log_parea_pred_19</th>\n",
       "      <th>pred_22</th>\n",
       "      <th>log_pred_22</th>\n",
       "      <th>log_parea_pred_22</th>\n",
       "      <th>pred_24</th>\n",
       "      <th>log_pred_24</th>\n",
       "      <th>log_parea_pred_24</th>\n",
       "      <th>pred_27</th>\n",
       "      <th>log_pred_27</th>\n",
       "      <th>log_parea_pred_27</th>\n",
       "    </tr>\n",
       "  </thead>\n",
       "  <tbody>\n",
       "    <tr>\n",
       "      <th>0</th>\n",
       "      <td>X5gsdTWGS3W7JJQB</td>\n",
       "      <td>3.418175</td>\n",
       "      <td>12899050.0</td>\n",
       "      <td>16.372664</td>\n",
       "      <td>15.143558</td>\n",
       "      <td>1.427889e+07</td>\n",
       "      <td>16.474293</td>\n",
       "      <td>15.245186</td>\n",
       "      <td>12507661.0</td>\n",
       "      <td>16.341852</td>\n",
       "      <td>...</td>\n",
       "      <td>15.245864</td>\n",
       "      <td>1.201060e+07</td>\n",
       "      <td>16.301300</td>\n",
       "      <td>15.072193</td>\n",
       "      <td>1.351205e+07</td>\n",
       "      <td>16.419093</td>\n",
       "      <td>15.189986</td>\n",
       "      <td>1.405424e+07</td>\n",
       "      <td>16.458435</td>\n",
       "      <td>15.229328</td>\n",
       "    </tr>\n",
       "    <tr>\n",
       "      <th>1</th>\n",
       "      <td>BTshNOJyKHnT2YIT</td>\n",
       "      <td>7.726227</td>\n",
       "      <td>3933929.2</td>\n",
       "      <td>15.185150</td>\n",
       "      <td>13.140531</td>\n",
       "      <td>3.920610e+06</td>\n",
       "      <td>15.181758</td>\n",
       "      <td>13.137139</td>\n",
       "      <td>3950855.8</td>\n",
       "      <td>15.189443</td>\n",
       "      <td>...</td>\n",
       "      <td>13.134906</td>\n",
       "      <td>3.933533e+06</td>\n",
       "      <td>15.185049</td>\n",
       "      <td>13.140430</td>\n",
       "      <td>3.933543e+06</td>\n",
       "      <td>15.185051</td>\n",
       "      <td>13.140432</td>\n",
       "      <td>3.932854e+06</td>\n",
       "      <td>15.184876</td>\n",
       "      <td>13.140257</td>\n",
       "    </tr>\n",
       "    <tr>\n",
       "      <th>2</th>\n",
       "      <td>dhdymr0lV8N5kZOT</td>\n",
       "      <td>12.170581</td>\n",
       "      <td>11718318.0</td>\n",
       "      <td>16.276664</td>\n",
       "      <td>13.777643</td>\n",
       "      <td>1.067153e+07</td>\n",
       "      <td>16.183090</td>\n",
       "      <td>13.684070</td>\n",
       "      <td>11867083.0</td>\n",
       "      <td>16.289279</td>\n",
       "      <td>...</td>\n",
       "      <td>13.686933</td>\n",
       "      <td>1.146014e+07</td>\n",
       "      <td>16.254386</td>\n",
       "      <td>13.755365</td>\n",
       "      <td>1.024997e+07</td>\n",
       "      <td>16.142786</td>\n",
       "      <td>13.643765</td>\n",
       "      <td>1.040041e+07</td>\n",
       "      <td>16.157355</td>\n",
       "      <td>13.658335</td>\n",
       "    </tr>\n",
       "    <tr>\n",
       "      <th>3</th>\n",
       "      <td>VEwyGGMcD56w5BOc</td>\n",
       "      <td>2.252256</td>\n",
       "      <td>5997081.0</td>\n",
       "      <td>15.606784</td>\n",
       "      <td>14.794851</td>\n",
       "      <td>6.082243e+06</td>\n",
       "      <td>15.620884</td>\n",
       "      <td>14.808952</td>\n",
       "      <td>5886018.5</td>\n",
       "      <td>15.588091</td>\n",
       "      <td>...</td>\n",
       "      <td>14.796868</td>\n",
       "      <td>5.778982e+06</td>\n",
       "      <td>15.569738</td>\n",
       "      <td>14.757806</td>\n",
       "      <td>5.898278e+06</td>\n",
       "      <td>15.590171</td>\n",
       "      <td>14.778239</td>\n",
       "      <td>5.905111e+06</td>\n",
       "      <td>15.591329</td>\n",
       "      <td>14.779397</td>\n",
       "    </tr>\n",
       "    <tr>\n",
       "      <th>4</th>\n",
       "      <td>wmUeMoJZfsqaSX9b</td>\n",
       "      <td>5.813985</td>\n",
       "      <td>1074525.1</td>\n",
       "      <td>13.887390</td>\n",
       "      <td>12.127129</td>\n",
       "      <td>1.059463e+06</td>\n",
       "      <td>13.873273</td>\n",
       "      <td>12.113012</td>\n",
       "      <td>1085330.8</td>\n",
       "      <td>13.897396</td>\n",
       "      <td>...</td>\n",
       "      <td>12.138313</td>\n",
       "      <td>9.995482e+05</td>\n",
       "      <td>13.815060</td>\n",
       "      <td>12.054798</td>\n",
       "      <td>1.142096e+06</td>\n",
       "      <td>13.948376</td>\n",
       "      <td>12.188114</td>\n",
       "      <td>1.048505e+06</td>\n",
       "      <td>13.862877</td>\n",
       "      <td>12.102615</td>\n",
       "    </tr>\n",
       "  </tbody>\n",
       "</table>\n",
       "<p>5 rows × 26 columns</p>\n",
       "</div>"
      ],
      "text/plain": [
       "        building_id  building_area      pred_8  log_pred_8  log_parea_pred_8  \\\n",
       "0  X5gsdTWGS3W7JJQB       3.418175  12899050.0   16.372664         15.143558   \n",
       "1  BTshNOJyKHnT2YIT       7.726227   3933929.2   15.185150         13.140531   \n",
       "2  dhdymr0lV8N5kZOT      12.170581  11718318.0   16.276664         13.777643   \n",
       "3  VEwyGGMcD56w5BOc       2.252256   5997081.0   15.606784         14.794851   \n",
       "4  wmUeMoJZfsqaSX9b       5.813985   1074525.1   13.887390         12.127129   \n",
       "\n",
       "        pred_10  log_pred_10  log_parea_pred_10     pred_13  log_pred_13  ...  \\\n",
       "0  1.427889e+07    16.474293          15.245186  12507661.0    16.341852  ...   \n",
       "1  3.920610e+06    15.181758          13.137139   3950855.8    15.189443  ...   \n",
       "2  1.067153e+07    16.183090          13.684070  11867083.0    16.289279  ...   \n",
       "3  6.082243e+06    15.620884          14.808952   5886018.5    15.588091  ...   \n",
       "4  1.059463e+06    13.873273          12.113012   1085330.8    13.897396  ...   \n",
       "\n",
       "   log_parea_pred_19       pred_22  log_pred_22  log_parea_pred_22  \\\n",
       "0          15.245864  1.201060e+07    16.301300          15.072193   \n",
       "1          13.134906  3.933533e+06    15.185049          13.140430   \n",
       "2          13.686933  1.146014e+07    16.254386          13.755365   \n",
       "3          14.796868  5.778982e+06    15.569738          14.757806   \n",
       "4          12.138313  9.995482e+05    13.815060          12.054798   \n",
       "\n",
       "        pred_24  log_pred_24  log_parea_pred_24       pred_27  log_pred_27  \\\n",
       "0  1.351205e+07    16.419093          15.189986  1.405424e+07    16.458435   \n",
       "1  3.933543e+06    15.185051          13.140432  3.932854e+06    15.184876   \n",
       "2  1.024997e+07    16.142786          13.643765  1.040041e+07    16.157355   \n",
       "3  5.898278e+06    15.590171          14.778239  5.905111e+06    15.591329   \n",
       "4  1.142096e+06    13.948376          12.188114  1.048505e+06    13.862877   \n",
       "\n",
       "   log_parea_pred_27  \n",
       "0          15.229328  \n",
       "1          13.140257  \n",
       "2          13.658335  \n",
       "3          14.779397  \n",
       "4          12.102615  \n",
       "\n",
       "[5 rows x 26 columns]"
      ]
     },
     "metadata": {},
     "output_type": "display_data"
    }
   ],
   "source": [
    "display(cv.head())\n",
    "display(test.head())"
   ]
  },
  {
   "cell_type": "markdown",
   "metadata": {},
   "source": [
    "### Check models scores"
   ]
  },
  {
   "cell_type": "code",
   "execution_count": 13,
   "metadata": {},
   "outputs": [
    {
     "name": "stdout",
     "output_type": "stream",
     "text": [
      " 0 model-08 5514.858826\n",
      " 1 model-10 5897.873845\n",
      " 2 model-13 5506.858055\n",
      " 3 model-18 5908.874297\n",
      " 4 model-19 5911.874156\n",
      " 5 model-22 5752.870671\n",
      " 6 model-24 5866.873835\n",
      " 7 model-27 5892.873194\n"
     ]
    }
   ],
   "source": [
    "for i, idx_model in enumerate(idx_models):\n",
    "    print('%2d'%i, 'model-%02d'%idx_model, '%.6f'%cal_score(cv['total_price'], cv[f'pred_{idx_model}']))"
   ]
  },
  {
   "cell_type": "code",
   "execution_count": 14,
   "metadata": {},
   "outputs": [],
   "source": [
    "cv['constant_1'] = 1\n",
    "test['constant_1'] = 1\n",
    "\n",
    "if is_per_area:\n",
    "    cols_opt = [f'log_parea_pred_{idx}' for idx in idx_models]\n",
    "else:\n",
    "    cols_opt = [f'log_pred_{idx}' for idx in idx_models]\n",
    "\n",
    "if add_intercept:\n",
    "    cols_opt.append('constant_1')"
   ]
  },
  {
   "cell_type": "markdown",
   "metadata": {},
   "source": [
    "### Define opt function"
   ]
  },
  {
   "cell_type": "code",
   "execution_count": 15,
   "metadata": {},
   "outputs": [],
   "source": [
    "def objective(x, metric):\n",
    "    cv_pred_final = cv.loc[:,cols_opt].dot(x)\n",
    "    \n",
    "    if is_per_area:\n",
    "        cv_pred_final = np.expm1(cv_pred_final) * cv['building_area']\n",
    "    else:\n",
    "        cv_pred_final = np.expm1(cv_pred_final)\n",
    "\n",
    "    global best_score\n",
    "    global best_coeffs\n",
    "    score = cal_score(cv['total_price'], cv_pred_final)\n",
    "    if score > best_score[metric]:\n",
    "        best_score[metric] = score\n",
    "        best_coeffs[metric] = x.copy()\n",
    "        print('find better score:')\n",
    "        print('score: ', score)\n",
    "        print('coeffs: ', x)\n",
    "        print()\n",
    "    \n",
    "    if metric == 'mape':\n",
    "        return cal_mape(cv['total_price'], cv_pred_final)\n",
    "    elif metric == 'mse':\n",
    "        return mean_squared_error(cv['total_price'], cv_pred_final)\n",
    "    elif metric == 'mae':\n",
    "        return mean_absolute_error(cv['total_price'], cv_pred_final)\n",
    "    else:\n",
    "        raise Exception('metric unknown: {}'.format(metric))\n",
    "#    return 1 - (cal_score(cv['total_price'], cv_pred_final)/10000)"
   ]
  },
  {
   "cell_type": "markdown",
   "metadata": {},
   "source": [
    "### Optimize"
   ]
  },
  {
   "cell_type": "code",
   "execution_count": 16,
   "metadata": {
    "scrolled": false
   },
   "outputs": [
    {
     "name": "stdout",
     "output_type": "stream",
     "text": [
      "Optimizing with init x0: [0.1111111111111111, 0.1111111111111111, 0.1111111111111111, 0.1111111111111111, 0.1111111111111111, 0.1111111111111111, 0.1111111111111111, 0.1111111111111111, 0.1111111111111111]\n",
      "\n",
      "find better score:\n",
      "score:  4.2543606882936755\n",
      "coeffs:  [0.11111111 0.11111111 0.11111111 0.11111111 0.11111111 0.11111111\n",
      " 0.11111111 0.11111111 0.11111111]\n",
      "\n",
      "find better score:\n",
      "score:  4.254360738890983\n",
      "coeffs:  [0.11111113 0.11111111 0.11111111 0.11111111 0.11111111 0.11111111\n",
      " 0.11111111 0.11111111 0.11111111]\n",
      "\n",
      "find better score:\n",
      "score:  139.58461830186516\n",
      "coeffs:  [0.11895224 0.11895173 0.11895158 0.11895181 0.11895182 0.11895179\n",
      " 0.11895169 0.11895169 0.11169588]\n",
      "\n",
      "find better score:\n",
      "score:  139.58461841479712\n",
      "coeffs:  [0.11895225 0.11895173 0.11895158 0.11895181 0.11895182 0.11895179\n",
      " 0.11895169 0.11895169 0.11169588]\n",
      "\n",
      "find better score:\n",
      "score:  2423.781425048323\n",
      "coeffs:  [0.12537028 0.12536937 0.12536908 0.12536951 0.12536952 0.12536947\n",
      " 0.12536929 0.12536928 0.11217452]\n",
      "\n",
      "find better score:\n",
      "score:  5903.874999809679\n",
      "coeffs:  [0.12383887 0.12383806 0.1238378  0.12383819 0.12383819 0.12383815\n",
      " 0.12383799 0.12383799 0.11206031]\n",
      "\n",
      "find better score:\n",
      "score:  5903.874999815854\n",
      "coeffs:  [0.12383889 0.12383806 0.1238378  0.12383819 0.12383819 0.12383815\n",
      " 0.12383799 0.12383799 0.11206031]\n",
      "\n",
      "find better score:\n",
      "score:  5903.874999815895\n",
      "coeffs:  [0.12383887 0.12383808 0.1238378  0.12383819 0.12383819 0.12383815\n",
      " 0.12383799 0.12383799 0.11206031]\n",
      "\n",
      "find better score:\n",
      "score:  5903.874999815898\n",
      "coeffs:  [0.12383887 0.12383806 0.1238378  0.1238382  0.12383819 0.12383815\n",
      " 0.12383799 0.12383799 0.11206031]\n",
      "\n",
      "find better score:\n",
      "score:  5903.8749998159055\n",
      "coeffs:  [0.12383887 0.12383806 0.1238378  0.12383819 0.12383819 0.12383817\n",
      " 0.12383799 0.12383799 0.11206031]\n",
      "\n",
      "find better score:\n",
      "score:  5903.874999815909\n",
      "coeffs:  [0.12383887 0.12383806 0.1238378  0.12383819 0.12383819 0.12383815\n",
      " 0.123838   0.12383799 0.11206031]\n",
      "\n",
      "find better score:\n",
      "score:  5917.875059523737\n",
      "coeffs:  [0.12382629 0.12388222 0.1238089  0.12388659 0.12388499 0.1238963\n",
      " 0.12390123 0.12388619 0.11185435]\n",
      "\n",
      "find better score:\n",
      "score:  5917.875059524242\n",
      "coeffs:  [0.1238263  0.12388222 0.1238089  0.12388659 0.12388499 0.1238963\n",
      " 0.12390123 0.12388619 0.11185435]\n",
      "\n",
      "find better score:\n",
      "score:  5917.875059524283\n",
      "coeffs:  [0.12382629 0.12388223 0.1238089  0.12388659 0.12388499 0.1238963\n",
      " 0.12390123 0.12388619 0.11185435]\n",
      "\n",
      "find better score:\n",
      "score:  5917.8750595242855\n",
      "coeffs:  [0.12382629 0.12388222 0.1238089  0.1238866  0.12388499 0.1238963\n",
      " 0.12390123 0.12388619 0.11185435]\n",
      "\n",
      "find better score:\n",
      "score:  5917.875059524292\n",
      "coeffs:  [0.12382629 0.12388222 0.1238089  0.12388659 0.12388499 0.12389631\n",
      " 0.12390123 0.12388619 0.11185435]\n",
      "\n",
      "find better score:\n",
      "score:  5917.875059524296\n",
      "coeffs:  [0.12382629 0.12388222 0.1238089  0.12388659 0.12388499 0.1238963\n",
      " 0.12390124 0.12388619 0.11185435]\n",
      "\n",
      "find better score:\n",
      "score:  5920.875177220111\n",
      "coeffs:  [0.12186342 0.12447166 0.12100558 0.12467646 0.12460288 0.12507301\n",
      " 0.1253905  0.12464229 0.10213335]\n",
      "\n",
      "find better score:\n",
      "score:  5935.875580881911\n",
      "coeffs:  [0.11401194 0.12682943 0.10979232 0.12783593 0.12747443 0.12977984\n",
      " 0.13134758 0.1276667  0.06324931]\n",
      "\n",
      "find better score:\n",
      "score:  5953.876301608117\n",
      "coeffs:  [ 0.09267329  0.13297899  0.07885852  0.13635682  0.13514317  0.14286874\n",
      "  0.14794681  0.13593722 -0.04507572]\n",
      "\n",
      "find better score:\n",
      "score:  5958.8765269426085\n",
      "coeffs:  [ 0.09329217  0.12739199  0.06582384  0.13660215  0.13294808  0.15228738\n",
      "  0.16414453  0.13688261 -0.13986219]\n",
      "\n",
      "find better score:\n",
      "score:  5958.876526943827\n",
      "coeffs:  [ 0.09329218  0.12739199  0.06582384  0.13660215  0.13294808  0.15228738\n",
      "  0.16414453  0.13688261 -0.13986219]\n",
      "\n",
      "find better score:\n",
      "score:  5960.876537574481\n",
      "coeffs:  [ 0.10439582  0.12030114  0.07267112  0.13245275  0.12744803  0.15194307\n",
      "  0.16701208  0.13350023 -0.14422081]\n",
      "\n",
      "find better score:\n",
      "score:  5960.876537574804\n",
      "coeffs:  [ 0.10439584  0.12030114  0.07267112  0.13245275  0.12744803  0.15194307\n",
      "  0.16701208  0.13350023 -0.14422081]\n",
      "\n",
      "find better score:\n",
      "score:  5960.876537574807\n",
      "coeffs:  [ 0.10439582  0.12030114  0.07267112  0.13245275  0.12744803  0.15194309\n",
      "  0.16701208  0.13350023 -0.14422081]\n",
      "\n",
      "find better score:\n",
      "score:  5960.876537574812\n",
      "coeffs:  [ 0.10439582  0.12030114  0.07267112  0.13245275  0.12744803  0.15194307\n",
      "  0.1670121   0.13350023 -0.14422081]\n",
      "\n",
      "find better score:\n",
      "score:  5963.876539036116\n",
      "coeffs:  [ 0.10556279  0.11911425  0.07314979  0.1319201   0.12660899  0.1520091\n",
      "  0.16788005  0.13326697 -0.1409767 ]\n",
      "\n",
      "find better score:\n",
      "score:  5964.876540285844\n",
      "coeffs:  [ 0.10658138  0.11765483  0.07303595  0.13140701  0.12565818  0.15241618\n",
      "  0.16942075  0.13316314 -0.13838929]\n",
      "\n",
      "Optimizing with init x0: [0, 0, 0, 0, 0, 0, 0, 0, 0]\n",
      "\n",
      "Optimizing with init x0: [0.1, 0.1, 0.1, 0.1, 0.1, 0.1, 0.1, 0.1, 0.1]\n",
      "\n",
      "find better score:\n",
      "score:  5964.87654464238\n",
      "coeffs:  [ 0.10823691  0.11276671  0.07002347  0.13022661  0.12272676  0.1554293\n",
      "  0.17636585  0.13341075 -0.13582172]\n",
      "\n",
      "Optimizing with init x0: [0.2, 0.2, 0.2, 0.2, 0.2, 0.2, 0.2, 0.2, 0.2]\n",
      "\n",
      "Optimizing with init x0: [0.5, 0.5, 0.5, 0.5, 0.5, 0.5, 0.5, 0.5, 0.5]\n",
      "\n",
      "Optimizing with init x0: [0.8956551278772109, -1.0285195173215687, 0.38543785234326516, -0.46017564902778635, -0.3930726653189293, -0.10584037356045634, 0.17653228509071647, -1.3169951915869487, 0.37321013797746794]\n",
      "\n",
      "Optimizing with init x0: [1.0110687555575342, 1.5151836166472397, 0.20454152789723468, 0.6441296777246979, 0.5944668996702459, 1.2943866985561074, -0.4852959262171263, 0.010819389679636152, -1.5598734840146542]\n",
      "\n"
     ]
    },
    {
     "name": "stderr",
     "output_type": "stream",
     "text": [
      "/usr/local/lib/python3.7/site-packages/ipykernel_launcher.py:5: RuntimeWarning: overflow encountered in expm1\n",
      "  \"\"\"\n",
      "/usr/local/lib/python3.7/site-packages/scipy/optimize/optimize.py:670: RuntimeWarning: invalid value encountered in double_scalars\n",
      "  grad[k] = (f(*((xk + d,) + args)) - f0) / d[k]\n",
      "/usr/local/lib/python3.7/site-packages/ipykernel_launcher.py:5: RuntimeWarning: overflow encountered in expm1\n",
      "  \"\"\"\n"
     ]
    },
    {
     "name": "stdout",
     "output_type": "stream",
     "text": [
      "Optimizing with init x0: [0.4810220451423805, 0.47000149155950555, 0.20808148340662824, 1.6139199623274152, -0.28958379384262023, -1.067275553142491, 1.6802378941569467, -0.2524135149035508, 0.727677538942908]\n",
      "\n"
     ]
    }
   ],
   "source": [
    "best_score = {}\n",
    "best_coeffs = {}\n",
    "\n",
    "len_x = len(cols_opt)\n",
    "rev_len_x = 1/len_x\n",
    "x0s = [ [1/len_x for i in range(len_x)],\n",
    "       [0 for i in range(len_x)],\n",
    "       [0.1 for i in range(len_x)],\n",
    "       [0.2 for i in range(len_x)],\n",
    "       [0.5 for i in range(len_x)],\n",
    "       [np.random.randn()+1/len_x for i in range(len_x)],\n",
    "       [np.random.randn()+1/len_x for i in range(len_x)],\n",
    "       [np.random.randn()+1/len_x for i in range(len_x)] ]\n",
    "\n",
    "for metric in ['mape']:\n",
    "#for metric in ['mape', 'mae', 'mse']:\n",
    "    best_score[metric] = 0\n",
    "    best_coeffs[metric] = []\n",
    "    for x0 in x0s:\n",
    "        print('Optimizing with init x0: {}'.format(x0))\n",
    "        print()\n",
    "        minimize(objective, x0, args=(metric), tol=1e-4)"
   ]
  },
  {
   "cell_type": "code",
   "execution_count": 17,
   "metadata": {},
   "outputs": [
    {
     "data": {
      "text/plain": [
       "{'mape': 5964.87654464238}"
      ]
     },
     "metadata": {},
     "output_type": "display_data"
    },
    {
     "data": {
      "text/plain": [
       "{'mape': array([ 0.10823691,  0.11276671,  0.07002347,  0.13022661,  0.12272676,\n",
       "         0.1554293 ,  0.17636585,  0.13341075, -0.13582172])}"
      ]
     },
     "metadata": {},
     "output_type": "display_data"
    }
   ],
   "source": [
    "display(best_score)\n",
    "display(best_coeffs)"
   ]
  },
  {
   "cell_type": "markdown",
   "metadata": {},
   "source": [
    "### Compute submission"
   ]
  },
  {
   "cell_type": "code",
   "execution_count": 18,
   "metadata": {},
   "outputs": [],
   "source": [
    "test_pred_final = pd.DataFrame({'building_id': test['building_id']})\n",
    "\n",
    "test_pred_final['total_price'] = test.loc[:,cols_opt].dot(best_coeffs['mape'])\n",
    "\n",
    "if is_per_area:\n",
    "    test_pred_final['total_price'] = np.expm1(test_pred_final['total_price']) * test['building_area'] \n",
    "else:\n",
    "    test_pred_final['total_price'] = np.expm1(test_pred_final['total_price'])\n",
    "    \n",
    "test_pred_final['total_price'] = np.clip(test_pred_final['total_price'], 0, None)\n",
    "\n",
    "if is_per_area:\n",
    "    test_pred_final.to_csv('output/stack_spopt-parea_{}_{}.csv'.format(stack_idx, models), index=False)\n",
    "else:\n",
    "    test_pred_final.to_csv('output/stack_spopt_{}_{}.csv'.format(stack_idx, models), index=False)"
   ]
  },
  {
   "cell_type": "markdown",
   "metadata": {},
   "source": [
    "### Plots"
   ]
  },
  {
   "cell_type": "code",
   "execution_count": 19,
   "metadata": {},
   "outputs": [],
   "source": [
    "import matplotlib.pyplot as plt"
   ]
  },
  {
   "cell_type": "code",
   "execution_count": 20,
   "metadata": {},
   "outputs": [
    {
     "name": "stderr",
     "output_type": "stream",
     "text": [
      "/usr/local/lib/python3.7/site-packages/matplotlib/axes/_axes.py:6521: MatplotlibDeprecationWarning: \n",
      "The 'normed' kwarg was deprecated in Matplotlib 2.1 and will be removed in 3.1. Use 'density' instead.\n",
      "  alternative=\"'density'\", removal=\"3.1\")\n"
     ]
    },
    {
     "data": {
      "image/png": "[encoded data removed]",
      "text/plain": [
       "<Figure size 432x288 with 1 Axes>"
      ]
     },
     "metadata": {
      "needs_background": "light"
     },
     "output_type": "display_data"
    }
   ],
   "source": [
    "plt.hist(cv['log_parea_total_price'], bins=100, label='train true', normed=True)\n",
    "plt.hist(np.log1p(test_pred_final['total_price'] / test['building_area']), bins=100, label='test',\n",
    "         normed=True, alpha=0.7)\n",
    "plt.xlabel('log(price/area + 1)'); plt.ylabel('ratio')\n",
    "plt.legend(); plt.grid(); plt.show()"
   ]
  },
  {
   "cell_type": "code",
   "execution_count": 21,
   "metadata": {},
   "outputs": [
    {
     "data": {
      "image/png": "[encoded data removed]",
      "text/plain": [
       "<Figure size 432x288 with 1 Axes>"
      ]
     },
     "metadata": {
      "needs_background": "light"
     },
     "output_type": "display_data"
    }
   ],
   "source": [
    "plt.hist(cv['log_total_price'], bins=100, label='train true', normed=True)\n",
    "plt.hist(np.log1p(test_pred_final['total_price']), bins=100, label='test', normed=True, alpha=0.7)\n",
    "plt.xlabel('log(price + 1)'); plt.ylabel('ratio')\n",
    "plt.legend(); plt.grid(); plt.show()"
   ]
  },
  {
   "cell_type": "code",
   "execution_count": 22,
   "metadata": {},
   "outputs": [
    {
     "data": {
      "image/png": "[encoded data removed]",
      "text/plain": [
       "<Figure size 432x288 with 1 Axes>"
      ]
     },
     "metadata": {
      "needs_background": "light"
     },
     "output_type": "display_data"
    }
   ],
   "source": [
    "plt.hist(np.log1p(cv['building_area']), bins=100, label='train', normed=True)\n",
    "plt.hist(np.log1p(test['building_area']), bins=100, label='test', normed=True, alpha=0.7)\n",
    "plt.xlabel('log(building_area + 1)'); plt.ylabel('ratio'); plt.yscale('log')\n",
    "plt.legend(); plt.grid(); plt.show()"
   ]
  },
  {
   "cell_type": "code",
   "execution_count": 23,
   "metadata": {},
   "outputs": [
    {
     "name": "stdout",
     "output_type": "stream",
     "text": [
      "[0, 0, 0.058823529411764705, 0.058823529411764705, 0, 0, 0.058823529411764705, 0.058823529411764705, 0, 0, 0, 0.058823529411764705, 0.058823529411764705, 0, 0.058823529411764705, 0.058823529411764705, 0.058823529411764705, 0.058823529411764705, 0.058823529411764705, 0.058823529411764705, 0.058823529411764705, 0.058823529411764705, 0.058823529411764705, 0.058823529411764705, 0.058823529411764705, 0]\n"
     ]
    }
   ],
   "source": [
    "print([1/17 if i in [3, 4, 7, 8, 12, 13, 15, 16, 17, 18, 19, 20, 21, 22, 23, 25, 26] else 0 \\\n",
    " for i in list(range(1,24)) + list(range(25,28))])"
   ]
  },
  {
   "cell_type": "code",
   "execution_count": null,
   "metadata": {},
   "outputs": [],
   "source": []
  }
 ],
 "metadata": {
  "kernelspec": {
   "display_name": "Python 3",
   "language": "python",
   "name": "python3"
  },
  "language_info": {
   "codemirror_mode": {
    "name": "ipython",
    "version": 3
   },
   "file_extension": ".py",
   "mimetype": "text/x-python",
   "name": "python",
   "nbconvert_exporter": "python",
   "pygments_lexer": "ipython3",
   "version": "3.7.3"
  },
  "toc": {
   "base_numbering": 1,
   "nav_menu": {},
   "number_sections": true,
   "sideBar": true,
   "skip_h1_title": true,
   "title_cell": "Table of Contents",
   "title_sidebar": "Contents",
   "toc_cell": false,
   "toc_position": {},
   "toc_section_display": true,
   "toc_window_display": true
  }
 },
 "nbformat": 4,
 "nbformat_minor": 2
}
