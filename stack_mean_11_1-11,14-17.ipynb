{
 "cells": [
  {
   "cell_type": "code",
   "execution_count": 1,
   "metadata": {},
   "outputs": [
    {
     "data": {
      "application/javascript": [
       "IPython.notebook.set_autosave_interval(0)"
      ]
     },
     "metadata": {},
     "output_type": "display_data"
    },
    {
     "name": "stdout",
     "output_type": "stream",
     "text": [
      "Autosave disabled\n"
     ]
    }
   ],
   "source": [
    "%autosave 0"
   ]
  },
  {
   "cell_type": "code",
   "execution_count": 2,
   "metadata": {},
   "outputs": [],
   "source": [
    "import os\n",
    "import numpy as np\n",
    "import pandas as pd\n",
    "#from sklearn.linear_model import Lasso, LassoCV, LinearRegression\n",
    "#from sklearn.model_selection import KFold\n",
    "from utilities import cal_score"
   ]
  },
  {
   "cell_type": "code",
   "execution_count": 3,
   "metadata": {},
   "outputs": [],
   "source": [
    "stack_idx = '11'\n",
    "models = '1-11,14-17'\n",
    "use_test_kfold = set([2, 7, 8])\n",
    "\n",
    "#is_per_area = False\n",
    "#is_log = False"
   ]
  },
  {
   "cell_type": "markdown",
   "metadata": {},
   "source": [
    "### Read CV predictions and test"
   ]
  },
  {
   "cell_type": "code",
   "execution_count": 4,
   "metadata": {},
   "outputs": [],
   "source": [
    "def parse_models(exp):\n",
    "    exp_split = exp.split(',')\n",
    "    idx_models = []\n",
    "    for e in exp_split:\n",
    "        if '-' in e:\n",
    "            n0, n1 = e.split('-')\n",
    "            idx_models.extend(list(range(int(n0), int(n1)+1, 1)))\n",
    "        else:\n",
    "            idx_models.append(int(e))\n",
    "    return idx_models"
   ]
  },
  {
   "cell_type": "code",
   "execution_count": 5,
   "metadata": {},
   "outputs": [
    {
     "name": "stdout",
     "output_type": "stream",
     "text": [
      "[1, 2, 3, 4, 5, 6, 7, 8, 9, 10, 11, 14, 15, 16, 17]\n"
     ]
    }
   ],
   "source": [
    "idx_models = parse_models(models)\n",
    "print(idx_models)"
   ]
  },
  {
   "cell_type": "code",
   "execution_count": 6,
   "metadata": {},
   "outputs": [],
   "source": [
    "files_in_output = [f for f in os.listdir('output/') if os.path.isfile('output/'+f)]\n",
    "files_cv = {idx: [f for f in files_in_output \n",
    "                  if f.startswith('model-%02d-' % idx) and f.endswith('cv.csv')][0] \n",
    "            for idx in idx_models}\n",
    "files_test_one = {idx: [f for f in files_in_output \n",
    "                        if f.startswith('model-%02d-' % idx) and f.endswith('test-one.csv')][0]\n",
    "                  for idx in idx_models}\n",
    "files_test_kf = {idx: [f for f in files_in_output \n",
    "                       if f.startswith('model-%02d-' % idx) and f.endswith('test-kfold.csv')][0]\n",
    "                 for idx in idx_models}"
   ]
  },
  {
   "cell_type": "code",
   "execution_count": 7,
   "metadata": {
    "scrolled": true
   },
   "outputs": [
    {
     "name": "stdout",
     "output_type": "stream",
     "text": [
      " 1 model-01-lgb-cv.csv\n",
      " 1 model-01-lgb-test-kfold.csv\n",
      " 1 model-01-lgb-test-one.csv\n",
      " 2 model-02-keras-search-cv.csv\n",
      " 2 model-02-keras-search-test-kfold.csv\n",
      " 2 model-02-keras-search-test-one.csv\n",
      " 3 model-03-lgb-feats-selection-cv.csv\n",
      " 3 model-03-lgb-feats-selection-test-kfold.csv\n",
      " 3 model-03-lgb-feats-selection-test-one.csv\n",
      " 4 model-04-lgb-PCA-cv.csv\n",
      " 4 model-04-lgb-PCA-test-kfold.csv\n",
      " 4 model-04-lgb-PCA-test-one.csv\n",
      " 5 model-05-lgb-wo-per-area-cv.csv\n",
      " 5 model-05-lgb-wo-per-area-test-kfold.csv\n",
      " 5 model-05-lgb-wo-per-area-test-one.csv\n",
      " 6 model-06-lgb-lr0.001-cv.csv\n",
      " 6 model-06-lgb-lr0.001-test-kfold.csv\n",
      " 6 model-06-lgb-lr0.001-test-one.csv\n",
      " 7 model-07-keras-embedding-cv.csv\n",
      " 7 model-07-keras-embedding-test-kfold.csv\n",
      " 7 model-07-keras-embedding-test-one.csv\n",
      " 8 model-08-keras-search-long-cv.csv\n",
      " 8 model-08-keras-search-long-test-kfold.csv\n",
      " 8 model-08-keras-search-long-test-one.csv\n",
      " 9 model-09-lgb-feats-selection-75-cv.csv\n",
      " 9 model-09-lgb-feats-selection-75-test-kfold.csv\n",
      " 9 model-09-lgb-feats-selection-75-test-one.csv\n",
      "10 model-10-lgb-feats-selection-75-lr-0.001-cv.csv\n",
      "10 model-10-lgb-feats-selection-75-lr-0.001-test-kfold.csv\n",
      "10 model-10-lgb-feats-selection-75-lr-0.001-test-one.csv\n",
      "11 model-11-rf-cv.csv\n",
      "11 model-11-rf-test-kfold.csv\n",
      "11 model-11-rf-test-one.csv\n",
      "14 model-14-lgb-feats-selection-75-lr-0.001-rand-cv.csv\n",
      "14 model-14-lgb-feats-selection-75-lr-0.001-rand-test-kfold.csv\n",
      "14 model-14-lgb-feats-selection-75-lr-0.001-rand-test-one.csv\n",
      "15 model-15-lgb-feats-selection-75-lr-0.001-rand323-cv.csv\n",
      "15 model-15-lgb-feats-selection-75-lr-0.001-rand323-test-kfold.csv\n",
      "15 model-15-lgb-feats-selection-75-lr-0.001-rand323-test-one.csv\n",
      "16 model-16-lgb-feats-selection-68-lr-0.001-mix5-cv.csv\n",
      "16 model-16-lgb-feats-selection-68-lr-0.001-mix5-test-kfold.csv\n",
      "16 model-16-lgb-feats-selection-68-lr-0.001-mix5-test-one.csv\n",
      "17 model-17-lgb-feats-selection-70-lr-0.001-mix5-cv.csv\n",
      "17 model-17-lgb-feats-selection-70-lr-0.001-mix5-test-kfold.csv\n",
      "17 model-17-lgb-feats-selection-70-lr-0.001-mix5-test-one.csv\n"
     ]
    }
   ],
   "source": [
    "for k in files_cv: \n",
    "    print('%2d'%k, files_cv[k])\n",
    "    print('%2d'%k, files_test_kf[k])\n",
    "    print('%2d'%k, files_test_one[k])"
   ]
  },
  {
   "cell_type": "markdown",
   "metadata": {},
   "source": [
    "#### Load area"
   ]
  },
  {
   "cell_type": "code",
   "execution_count": 8,
   "metadata": {},
   "outputs": [],
   "source": [
    "df_train = pd.read_csv('dataset/train.csv')\n",
    "df_test = pd.read_csv('dataset/test.csv')"
   ]
  },
  {
   "cell_type": "code",
   "execution_count": 9,
   "metadata": {},
   "outputs": [
    {
     "name": "stdout",
     "output_type": "stream",
     "text": [
      "CV predictions:\n",
      "No. 0 file: model-01-lgb-cv.csv\n",
      "No. 1 file: model-02-keras-search-cv.csv\n",
      "No. 2 file: model-03-lgb-feats-selection-cv.csv\n",
      "No. 3 file: model-04-lgb-PCA-cv.csv\n",
      "No. 4 file: model-05-lgb-wo-per-area-cv.csv\n",
      "No. 5 file: model-06-lgb-lr0.001-cv.csv\n",
      "No. 6 file: model-07-keras-embedding-cv.csv\n",
      "No. 7 file: model-08-keras-search-long-cv.csv\n",
      "No. 8 file: model-09-lgb-feats-selection-75-cv.csv\n",
      "No. 9 file: model-10-lgb-feats-selection-75-lr-0.001-cv.csv\n",
      "No. 10 file: model-11-rf-cv.csv\n",
      "No. 11 file: model-14-lgb-feats-selection-75-lr-0.001-rand-cv.csv\n",
      "No. 12 file: model-15-lgb-feats-selection-75-lr-0.001-rand323-cv.csv\n",
      "No. 13 file: model-16-lgb-feats-selection-68-lr-0.001-mix5-cv.csv\n",
      "No. 14 file: model-17-lgb-feats-selection-70-lr-0.001-mix5-cv.csv\n",
      "Test predictions:\n",
      "No. 0 file: model-01-lgb-test-one.csv\n",
      "No. 1 file: model-02-keras-search-test-kfold.csv\n",
      "No. 2 file: model-03-lgb-feats-selection-test-one.csv\n",
      "No. 3 file: model-04-lgb-PCA-test-one.csv\n",
      "No. 4 file: model-05-lgb-wo-per-area-test-one.csv\n",
      "No. 5 file: model-06-lgb-lr0.001-test-one.csv\n",
      "No. 6 file: model-07-keras-embedding-test-kfold.csv\n",
      "No. 7 file: model-08-keras-search-long-test-kfold.csv\n",
      "No. 8 file: model-09-lgb-feats-selection-75-test-one.csv\n",
      "No. 9 file: model-10-lgb-feats-selection-75-lr-0.001-test-one.csv\n",
      "No. 10 file: model-11-rf-test-one.csv\n",
      "No. 11 file: model-14-lgb-feats-selection-75-lr-0.001-rand-test-one.csv\n",
      "No. 12 file: model-15-lgb-feats-selection-75-lr-0.001-rand323-test-one.csv\n",
      "No. 13 file: model-16-lgb-feats-selection-68-lr-0.001-mix5-test-one.csv\n",
      "No. 14 file: model-17-lgb-feats-selection-70-lr-0.001-mix5-test-one.csv\n"
     ]
    }
   ],
   "source": [
    "cv = df_train[['building_id', 'building_area', 'total_price']]\n",
    "test = df_test[['building_id', 'building_area']]\n",
    "\n",
    "print('CV predictions:')\n",
    "for i, idx_model in enumerate(idx_models):\n",
    "    f = files_cv[idx_model]\n",
    "    print('No. {} file: {}'.format(i, f))\n",
    "    df = pd.read_csv('output/'+f)\n",
    "    \n",
    "    cv = pd.merge(cv, df[['building_id', 'total_price_predict']], on='building_id')\n",
    "    \n",
    "    cv = cv.rename(columns = {'total_price_predict': 'pred_{}'.format(idx_model)})\n",
    "    cv[f'log_pred_{idx_model}'] = np.log1p(cv[f'pred_{idx_model}'])\n",
    "    cv[f'log_parea_pred_{idx_model}'] = np.log1p( cv[f'pred_{idx_model}'] / cv['building_area'] )\n",
    "\n",
    "cv['log_total_price'] = np.log1p(cv['total_price'])\n",
    "cv['log_parea_total_price'] = np.log1p( cv['total_price'] / cv['building_area'] )\n",
    "\n",
    "print('Test predictions:')\n",
    "for i, idx in enumerate(idx_models):\n",
    "    f = files_test_kf[idx] if idx in use_test_kfold else files_test_one[idx]\n",
    "    print('No. {} file: {}'.format(i, f))\n",
    "    df = pd.read_csv('output/'+f)\n",
    "\n",
    "    test = pd.merge(test, df[['building_id','total_price']], on='building_id')\n",
    "        \n",
    "    test = test.rename(columns = {'total_price': 'pred_{}'.format(idx)})\n",
    "    test[f'log_pred_{idx}'] = np.log1p(test[f'pred_{idx}'])\n",
    "    test[f'log_parea_pred_{idx}'] = np.log1p( test[f'pred_{idx}'] / test['building_area'] )"
   ]
  },
  {
   "cell_type": "code",
   "execution_count": 10,
   "metadata": {},
   "outputs": [
    {
     "data": {
      "text/html": [
       "<div>\n",
       "<style scoped>\n",
       "    .dataframe tbody tr th:only-of-type {\n",
       "        vertical-align: middle;\n",
       "    }\n",
       "\n",
       "    .dataframe tbody tr th {\n",
       "        vertical-align: top;\n",
       "    }\n",
       "\n",
       "    .dataframe thead th {\n",
       "        text-align: right;\n",
       "    }\n",
       "</style>\n",
       "<table border=\"1\" class=\"dataframe\">\n",
       "  <thead>\n",
       "    <tr style=\"text-align: right;\">\n",
       "      <th></th>\n",
       "      <th>building_id</th>\n",
       "      <th>building_area</th>\n",
       "      <th>total_price</th>\n",
       "      <th>pred_1</th>\n",
       "      <th>log_pred_1</th>\n",
       "      <th>log_parea_pred_1</th>\n",
       "      <th>pred_2</th>\n",
       "      <th>log_pred_2</th>\n",
       "      <th>log_parea_pred_2</th>\n",
       "      <th>pred_3</th>\n",
       "      <th>...</th>\n",
       "      <th>log_pred_15</th>\n",
       "      <th>log_parea_pred_15</th>\n",
       "      <th>pred_16</th>\n",
       "      <th>log_pred_16</th>\n",
       "      <th>log_parea_pred_16</th>\n",
       "      <th>pred_17</th>\n",
       "      <th>log_pred_17</th>\n",
       "      <th>log_parea_pred_17</th>\n",
       "      <th>log_total_price</th>\n",
       "      <th>log_parea_total_price</th>\n",
       "    </tr>\n",
       "  </thead>\n",
       "  <tbody>\n",
       "    <tr>\n",
       "      <th>0</th>\n",
       "      <td>e3mMIMR3JJqCaXz1</td>\n",
       "      <td>3.418175</td>\n",
       "      <td>6.476038e+05</td>\n",
       "      <td>6.331552e+05</td>\n",
       "      <td>13.358472</td>\n",
       "      <td>12.129369</td>\n",
       "      <td>717209.94</td>\n",
       "      <td>13.483125</td>\n",
       "      <td>12.254022</td>\n",
       "      <td>6.656891e+05</td>\n",
       "      <td>...</td>\n",
       "      <td>13.411432</td>\n",
       "      <td>12.182328</td>\n",
       "      <td>6.542462e+05</td>\n",
       "      <td>13.391241</td>\n",
       "      <td>12.162137</td>\n",
       "      <td>6.552449e+05</td>\n",
       "      <td>13.392766</td>\n",
       "      <td>12.163663</td>\n",
       "      <td>13.381036</td>\n",
       "      <td>12.151933</td>\n",
       "    </tr>\n",
       "    <tr>\n",
       "      <th>1</th>\n",
       "      <td>LgwzgklNvy4QCtq5</td>\n",
       "      <td>4.041309</td>\n",
       "      <td>3.321452e+06</td>\n",
       "      <td>3.064324e+06</td>\n",
       "      <td>14.935338</td>\n",
       "      <td>13.538770</td>\n",
       "      <td>2899842.20</td>\n",
       "      <td>14.880167</td>\n",
       "      <td>13.483600</td>\n",
       "      <td>3.079196e+06</td>\n",
       "      <td>...</td>\n",
       "      <td>14.963920</td>\n",
       "      <td>13.567353</td>\n",
       "      <td>3.128284e+06</td>\n",
       "      <td>14.955995</td>\n",
       "      <td>13.559428</td>\n",
       "      <td>3.130186e+06</td>\n",
       "      <td>14.956603</td>\n",
       "      <td>13.560036</td>\n",
       "      <td>15.015913</td>\n",
       "      <td>13.619345</td>\n",
       "    </tr>\n",
       "    <tr>\n",
       "      <th>2</th>\n",
       "      <td>ucIR2NLLsC3T650L</td>\n",
       "      <td>5.584279</td>\n",
       "      <td>9.570885e+06</td>\n",
       "      <td>9.827776e+06</td>\n",
       "      <td>16.100723</td>\n",
       "      <td>14.380769</td>\n",
       "      <td>9766813.00</td>\n",
       "      <td>16.094501</td>\n",
       "      <td>14.374546</td>\n",
       "      <td>9.814852e+06</td>\n",
       "      <td>...</td>\n",
       "      <td>16.091430</td>\n",
       "      <td>14.371475</td>\n",
       "      <td>9.758797e+06</td>\n",
       "      <td>16.093680</td>\n",
       "      <td>14.373725</td>\n",
       "      <td>9.787304e+06</td>\n",
       "      <td>16.096597</td>\n",
       "      <td>14.376642</td>\n",
       "      <td>16.074236</td>\n",
       "      <td>14.354282</td>\n",
       "    </tr>\n",
       "    <tr>\n",
       "      <th>3</th>\n",
       "      <td>jre1pJhcQj91Kdky</td>\n",
       "      <td>13.563031</td>\n",
       "      <td>1.421501e+07</td>\n",
       "      <td>1.255350e+07</td>\n",
       "      <td>16.345510</td>\n",
       "      <td>13.738164</td>\n",
       "      <td>12699800.00</td>\n",
       "      <td>16.357097</td>\n",
       "      <td>13.749750</td>\n",
       "      <td>1.255981e+07</td>\n",
       "      <td>...</td>\n",
       "      <td>16.351229</td>\n",
       "      <td>13.743883</td>\n",
       "      <td>1.266868e+07</td>\n",
       "      <td>16.354644</td>\n",
       "      <td>13.747297</td>\n",
       "      <td>1.270893e+07</td>\n",
       "      <td>16.357815</td>\n",
       "      <td>13.750469</td>\n",
       "      <td>16.469809</td>\n",
       "      <td>13.862462</td>\n",
       "    </tr>\n",
       "    <tr>\n",
       "      <th>4</th>\n",
       "      <td>rQpYpY9nRG7X5mmr</td>\n",
       "      <td>4.688108</td>\n",
       "      <td>7.627120e+05</td>\n",
       "      <td>1.215194e+06</td>\n",
       "      <td>14.010415</td>\n",
       "      <td>12.465389</td>\n",
       "      <td>2012610.50</td>\n",
       "      <td>14.514944</td>\n",
       "      <td>12.969916</td>\n",
       "      <td>1.128419e+06</td>\n",
       "      <td>...</td>\n",
       "      <td>13.923267</td>\n",
       "      <td>12.378241</td>\n",
       "      <td>1.122232e+06</td>\n",
       "      <td>13.930831</td>\n",
       "      <td>12.385805</td>\n",
       "      <td>1.110012e+06</td>\n",
       "      <td>13.919882</td>\n",
       "      <td>12.374856</td>\n",
       "      <td>13.544637</td>\n",
       "      <td>11.999613</td>\n",
       "    </tr>\n",
       "  </tbody>\n",
       "</table>\n",
       "<p>5 rows × 50 columns</p>\n",
       "</div>"
      ],
      "text/plain": [
       "        building_id  building_area   total_price        pred_1  log_pred_1  \\\n",
       "0  e3mMIMR3JJqCaXz1       3.418175  6.476038e+05  6.331552e+05   13.358472   \n",
       "1  LgwzgklNvy4QCtq5       4.041309  3.321452e+06  3.064324e+06   14.935338   \n",
       "2  ucIR2NLLsC3T650L       5.584279  9.570885e+06  9.827776e+06   16.100723   \n",
       "3  jre1pJhcQj91Kdky      13.563031  1.421501e+07  1.255350e+07   16.345510   \n",
       "4  rQpYpY9nRG7X5mmr       4.688108  7.627120e+05  1.215194e+06   14.010415   \n",
       "\n",
       "   log_parea_pred_1       pred_2  log_pred_2  log_parea_pred_2        pred_3  \\\n",
       "0         12.129369    717209.94   13.483125         12.254022  6.656891e+05   \n",
       "1         13.538770   2899842.20   14.880167         13.483600  3.079196e+06   \n",
       "2         14.380769   9766813.00   16.094501         14.374546  9.814852e+06   \n",
       "3         13.738164  12699800.00   16.357097         13.749750  1.255981e+07   \n",
       "4         12.465389   2012610.50   14.514944         12.969916  1.128419e+06   \n",
       "\n",
       "           ...            log_pred_15  log_parea_pred_15       pred_16  \\\n",
       "0          ...              13.411432          12.182328  6.542462e+05   \n",
       "1          ...              14.963920          13.567353  3.128284e+06   \n",
       "2          ...              16.091430          14.371475  9.758797e+06   \n",
       "3          ...              16.351229          13.743883  1.266868e+07   \n",
       "4          ...              13.923267          12.378241  1.122232e+06   \n",
       "\n",
       "   log_pred_16  log_parea_pred_16       pred_17  log_pred_17  \\\n",
       "0    13.391241          12.162137  6.552449e+05    13.392766   \n",
       "1    14.955995          13.559428  3.130186e+06    14.956603   \n",
       "2    16.093680          14.373725  9.787304e+06    16.096597   \n",
       "3    16.354644          13.747297  1.270893e+07    16.357815   \n",
       "4    13.930831          12.385805  1.110012e+06    13.919882   \n",
       "\n",
       "   log_parea_pred_17  log_total_price  log_parea_total_price  \n",
       "0          12.163663        13.381036              12.151933  \n",
       "1          13.560036        15.015913              13.619345  \n",
       "2          14.376642        16.074236              14.354282  \n",
       "3          13.750469        16.469809              13.862462  \n",
       "4          12.374856        13.544637              11.999613  \n",
       "\n",
       "[5 rows x 50 columns]"
      ]
     },
     "execution_count": 10,
     "metadata": {},
     "output_type": "execute_result"
    }
   ],
   "source": [
    "cv.head()"
   ]
  },
  {
   "cell_type": "code",
   "execution_count": 11,
   "metadata": {},
   "outputs": [
    {
     "data": {
      "text/html": [
       "<div>\n",
       "<style scoped>\n",
       "    .dataframe tbody tr th:only-of-type {\n",
       "        vertical-align: middle;\n",
       "    }\n",
       "\n",
       "    .dataframe tbody tr th {\n",
       "        vertical-align: top;\n",
       "    }\n",
       "\n",
       "    .dataframe thead th {\n",
       "        text-align: right;\n",
       "    }\n",
       "</style>\n",
       "<table border=\"1\" class=\"dataframe\">\n",
       "  <thead>\n",
       "    <tr style=\"text-align: right;\">\n",
       "      <th></th>\n",
       "      <th>building_id</th>\n",
       "      <th>building_area</th>\n",
       "      <th>pred_1</th>\n",
       "      <th>log_pred_1</th>\n",
       "      <th>log_parea_pred_1</th>\n",
       "      <th>pred_2</th>\n",
       "      <th>log_pred_2</th>\n",
       "      <th>log_parea_pred_2</th>\n",
       "      <th>pred_3</th>\n",
       "      <th>log_pred_3</th>\n",
       "      <th>...</th>\n",
       "      <th>log_parea_pred_14</th>\n",
       "      <th>pred_15</th>\n",
       "      <th>log_pred_15</th>\n",
       "      <th>log_parea_pred_15</th>\n",
       "      <th>pred_16</th>\n",
       "      <th>log_pred_16</th>\n",
       "      <th>log_parea_pred_16</th>\n",
       "      <th>pred_17</th>\n",
       "      <th>log_pred_17</th>\n",
       "      <th>log_parea_pred_17</th>\n",
       "    </tr>\n",
       "  </thead>\n",
       "  <tbody>\n",
       "    <tr>\n",
       "      <th>0</th>\n",
       "      <td>X5gsdTWGS3W7JJQB</td>\n",
       "      <td>3.418175</td>\n",
       "      <td>1.526912e+07</td>\n",
       "      <td>16.541343</td>\n",
       "      <td>15.312236</td>\n",
       "      <td>12470072.0</td>\n",
       "      <td>16.338842</td>\n",
       "      <td>15.109735</td>\n",
       "      <td>1.531685e+07</td>\n",
       "      <td>16.544464</td>\n",
       "      <td>...</td>\n",
       "      <td>15.270289</td>\n",
       "      <td>1.476388e+07</td>\n",
       "      <td>16.507694</td>\n",
       "      <td>15.278587</td>\n",
       "      <td>1.388634e+07</td>\n",
       "      <td>16.446416</td>\n",
       "      <td>15.217310</td>\n",
       "      <td>1.449905e+07</td>\n",
       "      <td>16.489594</td>\n",
       "      <td>15.260487</td>\n",
       "    </tr>\n",
       "    <tr>\n",
       "      <th>1</th>\n",
       "      <td>BTshNOJyKHnT2YIT</td>\n",
       "      <td>7.726227</td>\n",
       "      <td>3.924241e+06</td>\n",
       "      <td>15.182684</td>\n",
       "      <td>13.138065</td>\n",
       "      <td>3916552.2</td>\n",
       "      <td>15.180723</td>\n",
       "      <td>13.136104</td>\n",
       "      <td>3.977095e+06</td>\n",
       "      <td>15.196062</td>\n",
       "      <td>...</td>\n",
       "      <td>13.144670</td>\n",
       "      <td>3.928353e+06</td>\n",
       "      <td>15.183731</td>\n",
       "      <td>13.139112</td>\n",
       "      <td>3.918650e+06</td>\n",
       "      <td>15.181258</td>\n",
       "      <td>13.136639</td>\n",
       "      <td>3.917960e+06</td>\n",
       "      <td>15.181082</td>\n",
       "      <td>13.136463</td>\n",
       "    </tr>\n",
       "    <tr>\n",
       "      <th>2</th>\n",
       "      <td>dhdymr0lV8N5kZOT</td>\n",
       "      <td>12.170581</td>\n",
       "      <td>1.096127e+07</td>\n",
       "      <td>16.209879</td>\n",
       "      <td>13.710858</td>\n",
       "      <td>11912735.0</td>\n",
       "      <td>16.293119</td>\n",
       "      <td>13.794098</td>\n",
       "      <td>1.084967e+07</td>\n",
       "      <td>16.199646</td>\n",
       "      <td>...</td>\n",
       "      <td>13.677153</td>\n",
       "      <td>1.062900e+07</td>\n",
       "      <td>16.179096</td>\n",
       "      <td>13.680076</td>\n",
       "      <td>1.073546e+07</td>\n",
       "      <td>16.189063</td>\n",
       "      <td>13.690042</td>\n",
       "      <td>1.063343e+07</td>\n",
       "      <td>16.179513</td>\n",
       "      <td>13.680493</td>\n",
       "    </tr>\n",
       "    <tr>\n",
       "      <th>3</th>\n",
       "      <td>VEwyGGMcD56w5BOc</td>\n",
       "      <td>2.252256</td>\n",
       "      <td>6.155550e+06</td>\n",
       "      <td>15.632865</td>\n",
       "      <td>14.820933</td>\n",
       "      <td>5940670.0</td>\n",
       "      <td>15.597333</td>\n",
       "      <td>14.785400</td>\n",
       "      <td>6.015238e+06</td>\n",
       "      <td>15.609807</td>\n",
       "      <td>...</td>\n",
       "      <td>14.815150</td>\n",
       "      <td>6.085773e+06</td>\n",
       "      <td>15.621464</td>\n",
       "      <td>14.809532</td>\n",
       "      <td>6.080935e+06</td>\n",
       "      <td>15.620669</td>\n",
       "      <td>14.808737</td>\n",
       "      <td>6.119193e+06</td>\n",
       "      <td>15.626941</td>\n",
       "      <td>14.815009</td>\n",
       "    </tr>\n",
       "    <tr>\n",
       "      <th>4</th>\n",
       "      <td>wmUeMoJZfsqaSX9b</td>\n",
       "      <td>5.813985</td>\n",
       "      <td>1.062995e+06</td>\n",
       "      <td>13.876602</td>\n",
       "      <td>12.116340</td>\n",
       "      <td>1088488.1</td>\n",
       "      <td>13.900301</td>\n",
       "      <td>12.140039</td>\n",
       "      <td>1.027248e+06</td>\n",
       "      <td>13.842395</td>\n",
       "      <td>...</td>\n",
       "      <td>12.116189</td>\n",
       "      <td>1.061918e+06</td>\n",
       "      <td>13.875588</td>\n",
       "      <td>12.115326</td>\n",
       "      <td>1.072461e+06</td>\n",
       "      <td>13.885468</td>\n",
       "      <td>12.125206</td>\n",
       "      <td>1.084776e+06</td>\n",
       "      <td>13.896885</td>\n",
       "      <td>12.136623</td>\n",
       "    </tr>\n",
       "  </tbody>\n",
       "</table>\n",
       "<p>5 rows × 47 columns</p>\n",
       "</div>"
      ],
      "text/plain": [
       "        building_id  building_area        pred_1  log_pred_1  \\\n",
       "0  X5gsdTWGS3W7JJQB       3.418175  1.526912e+07   16.541343   \n",
       "1  BTshNOJyKHnT2YIT       7.726227  3.924241e+06   15.182684   \n",
       "2  dhdymr0lV8N5kZOT      12.170581  1.096127e+07   16.209879   \n",
       "3  VEwyGGMcD56w5BOc       2.252256  6.155550e+06   15.632865   \n",
       "4  wmUeMoJZfsqaSX9b       5.813985  1.062995e+06   13.876602   \n",
       "\n",
       "   log_parea_pred_1      pred_2  log_pred_2  log_parea_pred_2        pred_3  \\\n",
       "0         15.312236  12470072.0   16.338842         15.109735  1.531685e+07   \n",
       "1         13.138065   3916552.2   15.180723         13.136104  3.977095e+06   \n",
       "2         13.710858  11912735.0   16.293119         13.794098  1.084967e+07   \n",
       "3         14.820933   5940670.0   15.597333         14.785400  6.015238e+06   \n",
       "4         12.116340   1088488.1   13.900301         12.140039  1.027248e+06   \n",
       "\n",
       "   log_pred_3        ...          log_parea_pred_14       pred_15  \\\n",
       "0   16.544464        ...                  15.270289  1.476388e+07   \n",
       "1   15.196062        ...                  13.144670  3.928353e+06   \n",
       "2   16.199646        ...                  13.677153  1.062900e+07   \n",
       "3   15.609807        ...                  14.815150  6.085773e+06   \n",
       "4   13.842395        ...                  12.116189  1.061918e+06   \n",
       "\n",
       "   log_pred_15  log_parea_pred_15       pred_16  log_pred_16  \\\n",
       "0    16.507694          15.278587  1.388634e+07    16.446416   \n",
       "1    15.183731          13.139112  3.918650e+06    15.181258   \n",
       "2    16.179096          13.680076  1.073546e+07    16.189063   \n",
       "3    15.621464          14.809532  6.080935e+06    15.620669   \n",
       "4    13.875588          12.115326  1.072461e+06    13.885468   \n",
       "\n",
       "   log_parea_pred_16       pred_17  log_pred_17  log_parea_pred_17  \n",
       "0          15.217310  1.449905e+07    16.489594          15.260487  \n",
       "1          13.136639  3.917960e+06    15.181082          13.136463  \n",
       "2          13.690042  1.063343e+07    16.179513          13.680493  \n",
       "3          14.808737  6.119193e+06    15.626941          14.815009  \n",
       "4          12.125206  1.084776e+06    13.896885          12.136623  \n",
       "\n",
       "[5 rows x 47 columns]"
      ]
     },
     "execution_count": 11,
     "metadata": {},
     "output_type": "execute_result"
    }
   ],
   "source": [
    "test.head()"
   ]
  },
  {
   "cell_type": "markdown",
   "metadata": {},
   "source": [
    "### Check models scores"
   ]
  },
  {
   "cell_type": "code",
   "execution_count": 21,
   "metadata": {},
   "outputs": [],
   "source": [
    "scores_models = {idx_model: cal_score(cv['total_price'], cv[f'pred_{idx_model}'])\n",
    "                 for idx_model in idx_models}"
   ]
  },
  {
   "cell_type": "code",
   "execution_count": 23,
   "metadata": {},
   "outputs": [
    {
     "name": "stdout",
     "output_type": "stream",
     "text": [
      " 0 model-01 5870.873059\n",
      " 1 model-02 5400.852164\n",
      " 2 model-03 5877.873452\n",
      " 3 model-04 5713.867808\n",
      " 4 model-05 5724.869598\n",
      " 5 model-06 5886.873769\n",
      " 6 model-07 5171.836449\n",
      " 7 model-08 5514.858826\n",
      " 8 model-09 5872.873118\n",
      " 9 model-10 5897.873845\n",
      "10 model-11 5075.838018\n",
      "11 model-14 5908.873901\n",
      "12 model-15 5900.873836\n",
      "13 model-16 5907.874126\n",
      "14 model-17 5905.874165\n"
     ]
    }
   ],
   "source": [
    "for i, (idx_model, s) in enumerate(scores_models.items()):\n",
    "    print('%2d'%i, 'model-%02d'%idx_model, '%.6f'%s)"
   ]
  },
  {
   "cell_type": "markdown",
   "metadata": {},
   "source": [
    "### Search subset model mean "
   ]
  },
  {
   "cell_type": "code",
   "execution_count": 13,
   "metadata": {},
   "outputs": [],
   "source": [
    "def get_prefix(is_per_area, is_log):\n",
    "    if is_log:\n",
    "        if is_per_area:\n",
    "            col_prefix = 'log_parea_pred'\n",
    "        else:\n",
    "            col_prefix = 'log_pred'\n",
    "    else:\n",
    "        if is_per_area:\n",
    "            raise 'Not support'\n",
    "        else:\n",
    "            col_prefix = 'pred'\n",
    "    return col_prefix"
   ]
  },
  {
   "cell_type": "code",
   "execution_count": 14,
   "metadata": {},
   "outputs": [],
   "source": [
    "def mean_subset(df, idx_models, is_per_area, is_log):\n",
    "    col_prefix = get_prefix(is_per_area, is_log)\n",
    "    cols_models = [col_prefix+'_'+str(i) for i in idx_models]\n",
    "    return df[cols_models].mean(axis=1)"
   ]
  },
  {
   "cell_type": "code",
   "execution_count": 15,
   "metadata": {},
   "outputs": [],
   "source": [
    "def predict_mean_subset(df, idx_models, is_per_area, is_log):\n",
    "    y_pred = mean_subset(df, idx_models, is_per_area, is_log)\n",
    "    y_pred_final = y_pred\n",
    "    if is_log:\n",
    "        y_pred_final = np.expm1(y_pred_final)\n",
    "    if is_per_area:\n",
    "        y_pred_final = y_pred_final * df['building_area']\n",
    "    return y_pred_final"
   ]
  },
  {
   "cell_type": "code",
   "execution_count": 16,
   "metadata": {},
   "outputs": [],
   "source": [
    "def search_mean_subset(cv, idx_models, is_per_area, is_log):\n",
    "    idx_models_subset = idx_models.copy()\n",
    "    result_list = []\n",
    "    y_pred_cv = predict_mean_subset(cv, idx_models_subset, is_per_area=is_per_area, is_log=is_log)\n",
    "    score = cal_score(cv['total_price'], y_pred_cv)\n",
    "    print('%.6f'%score, idx_models_subset)\n",
    "    result_list.append([score, idx_models_subset])\n",
    "    while len(idx_models_subset) > 1:\n",
    "        print('N models remained:', len(idx_models_subset))\n",
    "        result_list_subset = []\n",
    "        for i_rm in range(len(idx_models_subset)):\n",
    "            idx_models_subset_next = idx_models_subset[:i_rm]+idx_models_subset[i_rm+1:]\n",
    "            y_pred_cv = predict_mean_subset(cv, idx_models_subset_next, is_per_area=is_per_area, is_log=is_log)\n",
    "            score = cal_score(cv['total_price'], y_pred_cv)\n",
    "            print('%.6f'%score, idx_models_subset_next)\n",
    "            result_list_subset.append([score, idx_models_subset_next])\n",
    "        result_list.extend(result_list_subset)\n",
    "        result_list_subset.sort(key=lambda x: x[0], reverse=True)\n",
    "        print('Best of the round:', result_list_subset[0][0], result_list_subset[0][1])\n",
    "        idx_models_subset = result_list_subset[0][1]\n",
    "        print()\n",
    "    result_list.sort(key=lambda x: x[0], reverse=True)\n",
    "    return result_list"
   ]
  },
  {
   "cell_type": "markdown",
   "metadata": {},
   "source": [
    "#### Log mean"
   ]
  },
  {
   "cell_type": "code",
   "execution_count": 17,
   "metadata": {},
   "outputs": [
    {
     "name": "stdout",
     "output_type": "stream",
     "text": [
      "5919.874467 [1, 2, 3, 4, 5, 6, 7, 8, 9, 10, 11, 14, 15, 16, 17]\n",
      "N models remained: 15\n",
      "5921.874399 [2, 3, 4, 5, 6, 7, 8, 9, 10, 11, 14, 15, 16, 17]\n",
      "5924.874373 [1, 3, 4, 5, 6, 7, 8, 9, 10, 11, 14, 15, 16, 17]\n",
      "5914.874372 [1, 2, 4, 5, 6, 7, 8, 9, 10, 11, 14, 15, 16, 17]\n",
      "5916.874420 [1, 2, 3, 5, 6, 7, 8, 9, 10, 11, 14, 15, 16, 17]\n",
      "5917.874232 [1, 2, 3, 4, 6, 7, 8, 9, 10, 11, 14, 15, 16, 17]\n",
      "5921.874386 [1, 2, 3, 4, 5, 7, 8, 9, 10, 11, 14, 15, 16, 17]\n",
      "5913.874387 [1, 2, 3, 4, 5, 6, 8, 9, 10, 11, 14, 15, 16, 17]\n",
      "5911.874336 [1, 2, 3, 4, 5, 6, 7, 9, 10, 11, 14, 15, 16, 17]\n",
      "5923.874398 [1, 2, 3, 4, 5, 6, 7, 8, 10, 11, 14, 15, 16, 17]\n",
      "5916.874371 [1, 2, 3, 4, 5, 6, 7, 8, 9, 11, 14, 15, 16, 17]\n",
      "5936.875176 [1, 2, 3, 4, 5, 6, 7, 8, 9, 10, 14, 15, 16, 17]\n",
      "5919.874366 [1, 2, 3, 4, 5, 6, 7, 8, 9, 10, 11, 15, 16, 17]\n",
      "5918.874371 [1, 2, 3, 4, 5, 6, 7, 8, 9, 10, 11, 14, 16, 17]\n",
      "5917.874356 [1, 2, 3, 4, 5, 6, 7, 8, 9, 10, 11, 14, 15, 17]\n",
      "5918.874352 [1, 2, 3, 4, 5, 6, 7, 8, 9, 10, 11, 14, 15, 16]\n",
      "Best of the round: 5936.875176322402 [1, 2, 3, 4, 5, 6, 7, 8, 9, 10, 14, 15, 16, 17]\n",
      "\n",
      "N models remained: 14\n",
      "5937.875168 [2, 3, 4, 5, 6, 7, 8, 9, 10, 14, 15, 16, 17]\n",
      "5936.875144 [1, 3, 4, 5, 6, 7, 8, 9, 10, 14, 15, 16, 17]\n",
      "5937.875136 [1, 2, 4, 5, 6, 7, 8, 9, 10, 14, 15, 16, 17]\n",
      "5933.875153 [1, 2, 3, 5, 6, 7, 8, 9, 10, 14, 15, 16, 17]\n",
      "5931.874989 [1, 2, 3, 4, 6, 7, 8, 9, 10, 14, 15, 16, 17]\n",
      "5937.875153 [1, 2, 3, 4, 5, 7, 8, 9, 10, 14, 15, 16, 17]\n",
      "5928.875182 [1, 2, 3, 4, 5, 6, 8, 9, 10, 14, 15, 16, 17]\n",
      "5928.875097 [1, 2, 3, 4, 5, 6, 7, 9, 10, 14, 15, 16, 17]\n",
      "5937.875164 [1, 2, 3, 4, 5, 6, 7, 8, 10, 14, 15, 16, 17]\n",
      "5933.875135 [1, 2, 3, 4, 5, 6, 7, 8, 9, 14, 15, 16, 17]\n",
      "5934.875130 [1, 2, 3, 4, 5, 6, 7, 8, 9, 10, 15, 16, 17]\n",
      "5935.875136 [1, 2, 3, 4, 5, 6, 7, 8, 9, 10, 14, 16, 17]\n",
      "5934.875119 [1, 2, 3, 4, 5, 6, 7, 8, 9, 10, 14, 15, 17]\n",
      "5933.875116 [1, 2, 3, 4, 5, 6, 7, 8, 9, 10, 14, 15, 16]\n",
      "Best of the round: 5937.875168450763 [2, 3, 4, 5, 6, 7, 8, 9, 10, 14, 15, 16, 17]\n",
      "\n",
      "N models remained: 13\n",
      "5936.875180 [3, 4, 5, 6, 7, 8, 9, 10, 14, 15, 16, 17]\n",
      "5938.875102 [2, 4, 5, 6, 7, 8, 9, 10, 14, 15, 16, 17]\n",
      "5932.875134 [2, 3, 5, 6, 7, 8, 9, 10, 14, 15, 16, 17]\n",
      "5936.874956 [2, 3, 4, 6, 7, 8, 9, 10, 14, 15, 16, 17]\n",
      "5938.875120 [2, 3, 4, 5, 7, 8, 9, 10, 14, 15, 16, 17]\n",
      "5925.875221 [2, 3, 4, 5, 6, 8, 9, 10, 14, 15, 16, 17]\n",
      "5928.875120 [2, 3, 4, 5, 6, 7, 9, 10, 14, 15, 16, 17]\n",
      "5938.875134 [2, 3, 4, 5, 6, 7, 8, 10, 14, 15, 16, 17]\n",
      "5938.875106 [2, 3, 4, 5, 6, 7, 8, 9, 14, 15, 16, 17]\n",
      "5938.875100 [2, 3, 4, 5, 6, 7, 8, 9, 10, 15, 16, 17]\n",
      "5938.875107 [2, 3, 4, 5, 6, 7, 8, 9, 10, 14, 16, 17]\n",
      "5938.875088 [2, 3, 4, 5, 6, 7, 8, 9, 10, 14, 15, 17]\n",
      "5938.875085 [2, 3, 4, 5, 6, 7, 8, 9, 10, 14, 15, 16]\n",
      "Best of the round: 5938.8751336909745 [2, 3, 4, 5, 6, 7, 8, 10, 14, 15, 16, 17]\n",
      "\n",
      "N models remained: 12\n",
      "5940.875197 [3, 4, 5, 6, 7, 8, 10, 14, 15, 16, 17]\n",
      "5940.875030 [2, 4, 5, 6, 7, 8, 10, 14, 15, 16, 17]\n",
      "5936.875081 [2, 3, 5, 6, 7, 8, 10, 14, 15, 16, 17]\n",
      "5936.874889 [2, 3, 4, 6, 7, 8, 10, 14, 15, 16, 17]\n",
      "5940.875049 [2, 3, 4, 5, 7, 8, 10, 14, 15, 16, 17]\n",
      "5928.875246 [2, 3, 4, 5, 6, 8, 10, 14, 15, 16, 17]\n",
      "5927.875125 [2, 3, 4, 5, 6, 7, 10, 14, 15, 16, 17]\n",
      "5940.875038 [2, 3, 4, 5, 6, 7, 8, 14, 15, 16, 17]\n",
      "5939.875032 [2, 3, 4, 5, 6, 7, 8, 10, 15, 16, 17]\n",
      "5941.875039 [2, 3, 4, 5, 6, 7, 8, 10, 14, 16, 17]\n",
      "5939.875020 [2, 3, 4, 5, 6, 7, 8, 10, 14, 15, 17]\n",
      "5938.875017 [2, 3, 4, 5, 6, 7, 8, 10, 14, 15, 16]\n",
      "Best of the round: 5941.875038789146 [2, 3, 4, 5, 6, 7, 8, 10, 14, 16, 17]\n",
      "\n",
      "N models remained: 11\n",
      "5940.875173 [3, 4, 5, 6, 7, 8, 10, 14, 16, 17]\n",
      "5938.874882 [2, 4, 5, 6, 7, 8, 10, 14, 16, 17]\n",
      "5936.874956 [2, 3, 5, 6, 7, 8, 10, 14, 16, 17]\n",
      "5933.874743 [2, 3, 4, 6, 7, 8, 10, 14, 16, 17]\n",
      "5938.874902 [2, 3, 4, 5, 7, 8, 10, 14, 16, 17]\n",
      "5929.875227 [2, 3, 4, 5, 6, 8, 10, 14, 16, 17]\n",
      "5928.875082 [2, 3, 4, 5, 6, 7, 10, 14, 16, 17]\n",
      "5934.874880 [2, 3, 4, 5, 6, 7, 8, 14, 16, 17]\n",
      "5935.874872 [2, 3, 4, 5, 6, 7, 8, 10, 16, 17]\n",
      "5935.874862 [2, 3, 4, 5, 6, 7, 8, 10, 14, 17]\n",
      "5934.874859 [2, 3, 4, 5, 6, 7, 8, 10, 14, 16]\n",
      "Best of the round: 5940.875172702243 [3, 4, 5, 6, 7, 8, 10, 14, 16, 17]\n",
      "\n",
      "N models remained: 10\n",
      "5940.875098 [4, 5, 6, 7, 8, 10, 14, 16, 17]\n",
      "5937.875154 [3, 5, 6, 7, 8, 10, 14, 16, 17]\n",
      "5936.874936 [3, 4, 6, 7, 8, 10, 14, 16, 17]\n",
      "5942.875122 [3, 4, 5, 7, 8, 10, 14, 16, 17]\n",
      "5930.875173 [3, 4, 5, 6, 8, 10, 14, 16, 17]\n",
      "5927.874961 [3, 4, 5, 6, 7, 10, 14, 16, 17]\n",
      "5940.875106 [3, 4, 5, 6, 7, 8, 14, 16, 17]\n",
      "5939.875098 [3, 4, 5, 6, 7, 8, 10, 16, 17]\n",
      "5939.875087 [3, 4, 5, 6, 7, 8, 10, 14, 17]\n",
      "5940.875083 [3, 4, 5, 6, 7, 8, 10, 14, 16]\n",
      "Best of the round: 5942.875121834004 [3, 4, 5, 7, 8, 10, 14, 16, 17]\n",
      "\n",
      "N models remained: 9\n",
      "5942.874980 [4, 5, 7, 8, 10, 14, 16, 17]\n",
      "5939.875078 [3, 5, 7, 8, 10, 14, 16, 17]\n",
      "5936.874831 [3, 4, 7, 8, 10, 14, 16, 17]\n",
      "5939.875212 [3, 4, 5, 8, 10, 14, 16, 17]\n",
      "5924.874941 [3, 4, 5, 7, 10, 14, 16, 17]\n",
      "5935.874998 [3, 4, 5, 7, 8, 14, 16, 17]\n",
      "5938.874989 [3, 4, 5, 7, 8, 10, 16, 17]\n",
      "5938.874977 [3, 4, 5, 7, 8, 10, 14, 17]\n",
      "5937.874973 [3, 4, 5, 7, 8, 10, 14, 16]\n",
      "Best of the round: 5942.8749798044755 [4, 5, 7, 8, 10, 14, 16, 17]\n",
      "\n",
      "N models remained: 8\n",
      "5937.874875 [5, 7, 8, 10, 14, 16, 17]\n",
      "5927.874593 [4, 7, 8, 10, 14, 16, 17]\n",
      "5934.875201 [4, 5, 8, 10, 14, 16, 17]\n",
      "5929.874837 [4, 5, 7, 10, 14, 16, 17]\n",
      "5936.874750 [4, 5, 7, 8, 14, 16, 17]\n",
      "5934.874740 [4, 5, 7, 8, 10, 16, 17]\n",
      "5936.874728 [4, 5, 7, 8, 10, 14, 17]\n",
      "5933.874725 [4, 5, 7, 8, 10, 14, 16]\n",
      "Best of the round: 5937.874875382356 [5, 7, 8, 10, 14, 16, 17]\n",
      "\n",
      "N models remained: 7\n",
      "5924.874347 [7, 8, 10, 14, 16, 17]\n",
      "5930.875266 [5, 8, 10, 14, 16, 17]\n",
      "5925.874736 [5, 7, 10, 14, 16, 17]\n",
      "5927.874521 [5, 7, 8, 14, 16, 17]\n",
      "5926.874510 [5, 7, 8, 10, 16, 17]\n",
      "5924.874497 [5, 7, 8, 10, 14, 17]\n",
      "5926.874493 [5, 7, 8, 10, 14, 16]\n",
      "Best of the round: 5930.875265810579 [5, 8, 10, 14, 16, 17]\n",
      "\n",
      "N models remained: 6\n",
      "5936.874970 [8, 10, 14, 16, 17]\n",
      "5913.874535 [5, 10, 14, 16, 17]\n",
      "5932.875261 [5, 8, 14, 16, 17]\n",
      "5933.875248 [5, 8, 10, 16, 17]\n",
      "5935.875223 [5, 8, 10, 14, 17]\n",
      "5932.875216 [5, 8, 10, 14, 16]\n",
      "Best of the round: 5936.874970078768 [8, 10, 14, 16, 17]\n",
      "\n",
      "N models remained: 5\n",
      "5910.874090 [10, 14, 16, 17]\n",
      "5932.874903 [8, 14, 16, 17]\n",
      "5934.874891 [8, 10, 16, 17]\n",
      "5933.874846 [8, 10, 14, 17]\n",
      "5933.874836 [8, 10, 14, 16]\n",
      "Best of the round: 5934.874891281447 [8, 10, 16, 17]\n",
      "\n",
      "N models remained: 4\n",
      "5913.874117 [10, 16, 17]\n",
      "5920.874487 [8, 16, 17]\n",
      "5916.874433 [8, 10, 17]\n",
      "5922.874418 [8, 10, 16]\n",
      "Best of the round: 5922.874418381022 [8, 10, 16]\n",
      "\n",
      "N models remained: 3\n",
      "5909.874045 [10, 16]\n",
      "5885.872540 [8, 16]\n",
      "5880.872459 [8, 10]\n",
      "Best of the round: 5909.874044790506 [10, 16]\n",
      "\n",
      "N models remained: 2\n",
      "5907.874126 [16]\n",
      "5897.873845 [10]\n",
      "Best of the round: 5907.874126200278 [16]\n",
      "\n"
     ]
    }
   ],
   "source": [
    "result_list_log = search_mean_subset(cv, idx_models, is_per_area=False, is_log=True)"
   ]
  },
  {
   "cell_type": "code",
   "execution_count": 18,
   "metadata": {},
   "outputs": [
    {
     "data": {
      "text/plain": [
       "[[5942.875121834004, [3, 4, 5, 7, 8, 10, 14, 16, 17]],\n",
       " [5942.8749798044755, [4, 5, 7, 8, 10, 14, 16, 17]],\n",
       " [5941.875038789146, [2, 3, 4, 5, 6, 7, 8, 10, 14, 16, 17]],\n",
       " [5940.87519730079, [3, 4, 5, 6, 7, 8, 10, 14, 15, 16, 17]],\n",
       " [5940.875172702243, [3, 4, 5, 6, 7, 8, 10, 14, 16, 17]],\n",
       " [5940.875106267237, [3, 4, 5, 6, 7, 8, 14, 16, 17]],\n",
       " [5940.875098400611, [4, 5, 6, 7, 8, 10, 14, 16, 17]],\n",
       " [5940.875083220059, [3, 4, 5, 6, 7, 8, 10, 14, 16]],\n",
       " [5940.875048671748, [2, 3, 4, 5, 7, 8, 10, 14, 15, 16, 17]],\n",
       " [5940.875038001536, [2, 3, 4, 5, 6, 7, 8, 14, 15, 16, 17]]]"
      ]
     },
     "metadata": {},
     "output_type": "display_data"
    }
   ],
   "source": [
    "display(result_list_log[:10])"
   ]
  },
  {
   "cell_type": "code",
   "execution_count": 24,
   "metadata": {},
   "outputs": [
    {
     "name": "stdout",
     "output_type": "stream",
     "text": [
      "Best score and subset: 5942.875122 [3, 4, 5, 7, 8, 10, 14, 16, 17]\n",
      "model-03 5877.873452\n",
      "model-04 5713.867808\n",
      "model-05 5724.869598\n",
      "model-07 5171.836449\n",
      "model-08 5514.858826\n",
      "model-10 5897.873845\n",
      "model-14 5908.873901\n",
      "model-16 5907.874126\n",
      "model-17 5905.874165\n"
     ]
    }
   ],
   "source": [
    "best_models_subset_log = result_list_log[0][1]\n",
    "print('Best score and subset:', '%.6f'%result_list_log[0][0], best_models_subset_log)\n",
    "for idx_model in best_models_subset_log:\n",
    "    print('model-%02d'%idx_model, '%.6f'%scores_models[idx_model])"
   ]
  },
  {
   "cell_type": "code",
   "execution_count": 20,
   "metadata": {},
   "outputs": [],
   "source": [
    "# per area or not for the mean ensemble model are the same\n",
    "#result_list_per_area_log = search_mean_subset(cv, idx_models, is_per_area=True, is_log=True)\n",
    "#result_list_per_area_log"
   ]
  },
  {
   "cell_type": "markdown",
   "metadata": {},
   "source": [
    "#### Linear mean"
   ]
  },
  {
   "cell_type": "code",
   "execution_count": 25,
   "metadata": {},
   "outputs": [
    {
     "name": "stdout",
     "output_type": "stream",
     "text": [
      "5916.873085 [1, 2, 3, 4, 5, 6, 7, 8, 9, 10, 11, 14, 15, 16, 17]\n",
      "N models remained: 15\n",
      "5916.872927 [2, 3, 4, 5, 6, 7, 8, 9, 10, 11, 14, 15, 16, 17]\n",
      "5923.873096 [1, 3, 4, 5, 6, 7, 8, 9, 10, 11, 14, 15, 16, 17]\n",
      "5915.872900 [1, 2, 4, 5, 6, 7, 8, 9, 10, 11, 14, 15, 16, 17]\n",
      "5912.872976 [1, 2, 3, 5, 6, 7, 8, 9, 10, 11, 14, 15, 16, 17]\n",
      "5915.872784 [1, 2, 3, 4, 6, 7, 8, 9, 10, 11, 14, 15, 16, 17]\n",
      "5919.872912 [1, 2, 3, 4, 5, 7, 8, 9, 10, 11, 14, 15, 16, 17]\n",
      "5913.873733 [1, 2, 3, 4, 5, 6, 8, 9, 10, 11, 14, 15, 16, 17]\n",
      "5910.872969 [1, 2, 3, 4, 5, 6, 7, 9, 10, 11, 14, 15, 16, 17]\n",
      "5920.872926 [1, 2, 3, 4, 5, 6, 7, 8, 10, 11, 14, 15, 16, 17]\n",
      "5916.872895 [1, 2, 3, 4, 5, 6, 7, 8, 9, 11, 14, 15, 16, 17]\n",
      "5931.873926 [1, 2, 3, 4, 5, 6, 7, 8, 9, 10, 14, 15, 16, 17]\n",
      "5915.872891 [1, 2, 3, 4, 5, 6, 7, 8, 9, 10, 11, 15, 16, 17]\n",
      "5917.872897 [1, 2, 3, 4, 5, 6, 7, 8, 9, 10, 11, 14, 16, 17]\n",
      "5918.872881 [1, 2, 3, 4, 5, 6, 7, 8, 9, 10, 11, 14, 15, 17]\n",
      "5916.872877 [1, 2, 3, 4, 5, 6, 7, 8, 9, 10, 11, 14, 15, 16]\n",
      "Best of the round: 5931.873926118575 [1, 2, 3, 4, 5, 6, 7, 8, 9, 10, 14, 15, 16, 17]\n",
      "\n",
      "N models remained: 14\n",
      "5934.873838 [2, 3, 4, 5, 6, 7, 8, 9, 10, 14, 15, 16, 17]\n",
      "5930.874015 [1, 3, 4, 5, 6, 7, 8, 9, 10, 14, 15, 16, 17]\n",
      "5936.873805 [1, 2, 4, 5, 6, 7, 8, 9, 10, 14, 15, 16, 17]\n",
      "5926.873856 [1, 2, 3, 5, 6, 7, 8, 9, 10, 14, 15, 16, 17]\n",
      "5925.873679 [1, 2, 3, 4, 6, 7, 8, 9, 10, 14, 15, 16, 17]\n",
      "5937.873818 [1, 2, 3, 4, 5, 7, 8, 9, 10, 14, 15, 16, 17]\n",
      "5926.874709 [1, 2, 3, 4, 5, 6, 8, 9, 10, 14, 15, 16, 17]\n",
      "5920.873872 [1, 2, 3, 4, 5, 6, 7, 9, 10, 14, 15, 16, 17]\n",
      "5935.873831 [1, 2, 3, 4, 5, 6, 7, 8, 10, 14, 15, 16, 17]\n",
      "5932.873801 [1, 2, 3, 4, 5, 6, 7, 8, 9, 14, 15, 16, 17]\n",
      "5932.873797 [1, 2, 3, 4, 5, 6, 7, 8, 9, 10, 15, 16, 17]\n",
      "5933.873803 [1, 2, 3, 4, 5, 6, 7, 8, 9, 10, 14, 16, 17]\n",
      "5934.873785 [1, 2, 3, 4, 5, 6, 7, 8, 9, 10, 14, 15, 17]\n",
      "5934.873781 [1, 2, 3, 4, 5, 6, 7, 8, 9, 10, 14, 15, 16]\n",
      "Best of the round: 5937.873818359761 [1, 2, 3, 4, 5, 7, 8, 9, 10, 14, 15, 16, 17]\n",
      "\n",
      "N models remained: 13\n",
      "5938.873694 [2, 3, 4, 5, 7, 8, 9, 10, 14, 15, 16, 17]\n",
      "5931.873942 [1, 3, 4, 5, 7, 8, 9, 10, 14, 15, 16, 17]\n",
      "5936.873660 [1, 2, 4, 5, 7, 8, 9, 10, 14, 15, 16, 17]\n",
      "5928.873727 [1, 2, 3, 5, 7, 8, 9, 10, 14, 15, 16, 17]\n",
      "5925.873533 [1, 2, 3, 4, 7, 8, 9, 10, 14, 15, 16, 17]\n",
      "5932.874693 [1, 2, 3, 4, 5, 8, 9, 10, 14, 15, 16, 17]\n",
      "5924.873781 [1, 2, 3, 4, 5, 7, 9, 10, 14, 15, 16, 17]\n",
      "5935.873687 [1, 2, 3, 4, 5, 7, 8, 10, 14, 15, 16, 17]\n",
      "5934.873659 [1, 2, 3, 4, 5, 7, 8, 9, 14, 15, 16, 17]\n",
      "5937.873654 [1, 2, 3, 4, 5, 7, 8, 9, 10, 15, 16, 17]\n",
      "5936.873660 [1, 2, 3, 4, 5, 7, 8, 9, 10, 14, 16, 17]\n",
      "5935.873642 [1, 2, 3, 4, 5, 7, 8, 9, 10, 14, 15, 17]\n",
      "5933.873638 [1, 2, 3, 4, 5, 7, 8, 9, 10, 14, 15, 16]\n",
      "Best of the round: 5938.873694147015 [2, 3, 4, 5, 7, 8, 9, 10, 14, 15, 16, 17]\n",
      "\n",
      "N models remained: 12\n",
      "5937.873865 [3, 4, 5, 7, 8, 9, 10, 14, 15, 16, 17]\n",
      "5936.873483 [2, 4, 5, 7, 8, 9, 10, 14, 15, 16, 17]\n",
      "5928.873571 [2, 3, 5, 7, 8, 9, 10, 14, 15, 16, 17]\n",
      "5932.873359 [2, 3, 4, 7, 8, 9, 10, 14, 15, 16, 17]\n",
      "5930.874683 [2, 3, 4, 5, 8, 9, 10, 14, 15, 16, 17]\n",
      "5926.873682 [2, 3, 4, 5, 7, 9, 10, 14, 15, 16, 17]\n",
      "5935.873514 [2, 3, 4, 5, 7, 8, 10, 14, 15, 16, 17]\n",
      "5936.873487 [2, 3, 4, 5, 7, 8, 9, 14, 15, 16, 17]\n",
      "5939.873482 [2, 3, 4, 5, 7, 8, 9, 10, 15, 16, 17]\n",
      "5938.873489 [2, 3, 4, 5, 7, 8, 9, 10, 14, 16, 17]\n",
      "5937.873468 [2, 3, 4, 5, 7, 8, 9, 10, 14, 15, 17]\n",
      "5937.873465 [2, 3, 4, 5, 7, 8, 9, 10, 14, 15, 16]\n",
      "Best of the round: 5939.873481553874 [2, 3, 4, 5, 7, 8, 9, 10, 15, 16, 17]\n",
      "\n",
      "N models remained: 11\n",
      "5940.873714 [3, 4, 5, 7, 8, 9, 10, 15, 16, 17]\n",
      "5934.873195 [2, 4, 5, 7, 8, 9, 10, 15, 16, 17]\n",
      "5938.873314 [2, 3, 5, 7, 8, 9, 10, 15, 16, 17]\n",
      "5930.873078 [2, 3, 4, 7, 8, 9, 10, 15, 16, 17]\n",
      "5932.874614 [2, 3, 4, 5, 8, 9, 10, 15, 16, 17]\n",
      "5928.873506 [2, 3, 4, 5, 7, 9, 10, 15, 16, 17]\n",
      "5937.873230 [2, 3, 4, 5, 7, 8, 10, 15, 16, 17]\n",
      "5933.873192 [2, 3, 4, 5, 7, 8, 9, 15, 16, 17]\n",
      "5934.873193 [2, 3, 4, 5, 7, 8, 9, 10, 16, 17]\n",
      "5934.873173 [2, 3, 4, 5, 7, 8, 9, 10, 15, 17]\n",
      "5932.873169 [2, 3, 4, 5, 7, 8, 9, 10, 15, 16]\n",
      "Best of the round: 5940.873714031534 [3, 4, 5, 7, 8, 9, 10, 15, 16, 17]\n",
      "\n",
      "N models remained: 10\n",
      "5940.873495 [4, 5, 7, 8, 9, 10, 15, 16, 17]\n",
      "5935.873596 [3, 5, 7, 8, 9, 10, 15, 16, 17]\n",
      "5930.873358 [3, 4, 7, 8, 9, 10, 15, 16, 17]\n",
      "5934.874821 [3, 4, 5, 8, 9, 10, 15, 16, 17]\n",
      "5926.873509 [3, 4, 5, 7, 9, 10, 15, 16, 17]\n",
      "5943.873534 [3, 4, 5, 7, 8, 10, 15, 16, 17]\n",
      "5940.873503 [3, 4, 5, 7, 8, 9, 15, 16, 17]\n",
      "5939.873504 [3, 4, 5, 7, 8, 9, 10, 16, 17]\n",
      "5937.873482 [3, 4, 5, 7, 8, 9, 10, 15, 17]\n",
      "5937.873478 [3, 4, 5, 7, 8, 9, 10, 15, 16]\n",
      "Best of the round: 5943.873533816494 [3, 4, 5, 7, 8, 10, 15, 16, 17]\n",
      "\n",
      "N models remained: 9\n",
      "5940.873220 [4, 5, 7, 8, 10, 15, 16, 17]\n",
      "5936.873368 [3, 5, 7, 8, 10, 15, 16, 17]\n",
      "5932.873094 [3, 4, 7, 8, 10, 15, 16, 17]\n",
      "5936.874849 [3, 4, 5, 8, 10, 15, 16, 17]\n",
      "5926.873341 [3, 4, 5, 7, 10, 15, 16, 17]\n",
      "5935.873233 [3, 4, 5, 7, 8, 15, 16, 17]\n",
      "5936.873235 [3, 4, 5, 7, 8, 10, 16, 17]\n",
      "5938.873211 [3, 4, 5, 7, 8, 10, 15, 17]\n",
      "5937.873208 [3, 4, 5, 7, 8, 10, 15, 16]\n",
      "Best of the round: 5940.8732204836515 [4, 5, 7, 8, 10, 15, 16, 17]\n",
      "\n",
      "N models remained: 8\n",
      "5931.872967 [5, 7, 8, 10, 15, 16, 17]\n",
      "5928.872641 [4, 7, 8, 10, 15, 16, 17]\n",
      "5937.874802 [4, 5, 8, 10, 15, 16, 17]\n",
      "5931.873029 [4, 5, 7, 10, 15, 16, 17]\n",
      "5938.872772 [4, 5, 7, 8, 15, 16, 17]\n",
      "5938.872774 [4, 5, 7, 8, 10, 16, 17]\n",
      "5933.872750 [4, 5, 7, 8, 10, 15, 17]\n",
      "5934.872747 [4, 5, 7, 8, 10, 15, 16]\n",
      "Best of the round: 5938.872774309543 [4, 5, 7, 8, 10, 16, 17]\n",
      "\n",
      "N models remained: 7\n",
      "5928.872357 [5, 7, 8, 10, 16, 17]\n",
      "5921.871980 [4, 7, 8, 10, 16, 17]\n",
      "5935.874727 [4, 5, 8, 10, 16, 17]\n",
      "5928.872591 [4, 5, 7, 10, 16, 17]\n",
      "5921.872041 [4, 5, 7, 8, 16, 17]\n",
      "5919.872023 [4, 5, 7, 8, 10, 17]\n",
      "5921.872020 [4, 5, 7, 8, 10, 16]\n",
      "Best of the round: 5935.8747267182725 [4, 5, 8, 10, 16, 17]\n",
      "\n",
      "N models remained: 6\n",
      "5932.874817 [5, 8, 10, 16, 17]\n",
      "5931.874391 [4, 8, 10, 16, 17]\n",
      "5913.874405 [4, 5, 10, 16, 17]\n",
      "5932.874504 [4, 5, 8, 16, 17]\n",
      "5930.874479 [4, 5, 8, 10, 17]\n",
      "5931.874472 [4, 5, 8, 10, 16]\n",
      "Best of the round: 5932.874817027132 [5, 8, 10, 16, 17]\n",
      "\n",
      "N models remained: 5\n",
      "5934.874450 [8, 10, 16, 17]\n",
      "5907.874465 [5, 10, 16, 17]\n",
      "5932.874560 [5, 8, 16, 17]\n",
      "5934.874529 [5, 8, 10, 17]\n",
      "5932.874519 [5, 8, 10, 16]\n",
      "Best of the round: 5934.874528638981 [5, 8, 10, 17]\n",
      "\n",
      "N models remained: 4\n",
      "5918.873897 [8, 10, 17]\n",
      "5901.874328 [5, 10, 17]\n",
      "5910.873697 [5, 8, 17]\n",
      "5908.873651 [5, 8, 10]\n",
      "Best of the round: 5918.873897313872 [8, 10, 17]\n",
      "\n",
      "N models remained: 3\n",
      "5906.874070 [10, 17]\n",
      "5882.871928 [8, 17]\n",
      "5879.871833 [8, 10]\n",
      "Best of the round: 5906.874069510736 [10, 17]\n",
      "\n",
      "N models remained: 2\n",
      "5905.874165 [17]\n",
      "5897.873845 [10]\n",
      "Best of the round: 5905.874164864382 [17]\n",
      "\n"
     ]
    }
   ],
   "source": [
    "result_list_none = search_mean_subset(cv, idx_models, is_per_area=False, is_log=False)"
   ]
  },
  {
   "cell_type": "code",
   "execution_count": 27,
   "metadata": {},
   "outputs": [
    {
     "data": {
      "text/plain": [
       "[[5943.873533816494, [3, 4, 5, 7, 8, 10, 15, 16, 17]],\n",
       " [5940.873714031534, [3, 4, 5, 7, 8, 9, 10, 15, 16, 17]],\n",
       " [5940.873502974041, [3, 4, 5, 7, 8, 9, 15, 16, 17]],\n",
       " [5940.87349497661, [4, 5, 7, 8, 9, 10, 15, 16, 17]],\n",
       " [5940.8732204836515, [4, 5, 7, 8, 10, 15, 16, 17]],\n",
       " [5939.873504113526, [3, 4, 5, 7, 8, 9, 10, 16, 17]],\n",
       " [5939.873481553874, [2, 3, 4, 5, 7, 8, 9, 10, 15, 16, 17]],\n",
       " [5938.873694147015, [2, 3, 4, 5, 7, 8, 9, 10, 14, 15, 16, 17]],\n",
       " [5938.873488950203, [2, 3, 4, 5, 7, 8, 9, 10, 14, 16, 17]],\n",
       " [5938.873313590779, [2, 3, 5, 7, 8, 9, 10, 15, 16, 17]]]"
      ]
     },
     "metadata": {},
     "output_type": "display_data"
    }
   ],
   "source": [
    "display(result_list_none[:10])"
   ]
  },
  {
   "cell_type": "code",
   "execution_count": 28,
   "metadata": {},
   "outputs": [
    {
     "name": "stdout",
     "output_type": "stream",
     "text": [
      "Best score and subset: 5943.873534 [3, 4, 5, 7, 8, 10, 15, 16, 17]\n",
      "model-03 5877.873452\n",
      "model-04 5713.867808\n",
      "model-05 5724.869598\n",
      "model-07 5171.836449\n",
      "model-08 5514.858826\n",
      "model-10 5897.873845\n",
      "model-15 5900.873836\n",
      "model-16 5907.874126\n",
      "model-17 5905.874165\n"
     ]
    }
   ],
   "source": [
    "best_models_subset_none = result_list_none[0][1]\n",
    "print('Best score and subset:', '%.6f'%result_list_none[0][0], best_models_subset_none)\n",
    "for idx_model in best_models_subset_none:\n",
    "    print('model-%02d'%idx_model, '%.6f'%scores_models[idx_model])"
   ]
  },
  {
   "cell_type": "markdown",
   "metadata": {},
   "source": [
    "### Compute submission for mean log"
   ]
  },
  {
   "cell_type": "code",
   "execution_count": 29,
   "metadata": {},
   "outputs": [],
   "source": [
    "import matplotlib.pyplot as plt"
   ]
  },
  {
   "cell_type": "code",
   "execution_count": 30,
   "metadata": {},
   "outputs": [
    {
     "name": "stdout",
     "output_type": "stream",
     "text": [
      "Predict for mean log with [3, 4, 5, 7, 8, 10, 14, 16, 17]\n"
     ]
    }
   ],
   "source": [
    "print('Predict for mean log with', best_models_subset_log)\n",
    "test['total_price'] = predict_mean_subset(test, best_models_subset_log, is_per_area=False, is_log=True)"
   ]
  },
  {
   "cell_type": "code",
   "execution_count": 31,
   "metadata": {},
   "outputs": [
    {
     "name": "stderr",
     "output_type": "stream",
     "text": [
      "/Library/Frameworks/Python.framework/Versions/3.6/lib/python3.6/site-packages/matplotlib/axes/_axes.py:6571: UserWarning: The 'normed' kwarg is deprecated, and has been replaced by the 'density' kwarg.\n",
      "  warnings.warn(\"The 'normed' kwarg is deprecated, and has been \"\n"
     ]
    },
    {
     "data": {
      "image/png": "[encoded data removed]",
      "text/plain": [
       "<Figure size 432x288 with 1 Axes>"
      ]
     },
     "metadata": {
      "needs_background": "light"
     },
     "output_type": "display_data"
    },
    {
     "data": {
      "image/png": "[encoded data removed]",
      "text/plain": [
       "<Figure size 432x288 with 1 Axes>"
      ]
     },
     "metadata": {
      "needs_background": "light"
     },
     "output_type": "display_data"
    }
   ],
   "source": [
    "plt.hist(cv['log_parea_total_price'], bins=100, label='train true', normed=True)\n",
    "plt.hist(np.log1p(test['total_price'] / test['building_area']), bins=100, label='test',\n",
    "         normed=True, alpha=0.7)\n",
    "plt.xlabel('log(price/area + 1)'); plt.ylabel('ratio')\n",
    "plt.legend(); plt.grid(); plt.show()\n",
    "\n",
    "plt.hist(cv['log_total_price'], bins=100, label='train true', normed=True)\n",
    "plt.hist(np.log1p(test['total_price']), bins=100, label='test', normed=True, alpha=0.7)\n",
    "plt.xlabel('log(price + 1)'); plt.ylabel('ratio')\n",
    "plt.legend(); plt.grid(); plt.show()"
   ]
  },
  {
   "cell_type": "markdown",
   "metadata": {},
   "source": [
    "plt.hist(np.log1p(cv['building_area']), bins=100, label='train', normed=True)\n",
    "plt.hist(np.log1p(test['building_area']), bins=100, label='test', normed=True, alpha=0.7)\n",
    "plt.xlabel('log(building_area + 1)'); plt.ylabel('ratio'); plt.yscale('log')\n",
    "plt.legend(); plt.grid(); plt.show()"
   ]
  },
  {
   "cell_type": "code",
   "execution_count": 32,
   "metadata": {},
   "outputs": [
    {
     "data": {
      "text/html": [
       "<div>\n",
       "<style scoped>\n",
       "    .dataframe tbody tr th:only-of-type {\n",
       "        vertical-align: middle;\n",
       "    }\n",
       "\n",
       "    .dataframe tbody tr th {\n",
       "        vertical-align: top;\n",
       "    }\n",
       "\n",
       "    .dataframe thead th {\n",
       "        text-align: right;\n",
       "    }\n",
       "</style>\n",
       "<table border=\"1\" class=\"dataframe\">\n",
       "  <thead>\n",
       "    <tr style=\"text-align: right;\">\n",
       "      <th></th>\n",
       "      <th>building_id</th>\n",
       "      <th>total_price</th>\n",
       "    </tr>\n",
       "  </thead>\n",
       "  <tbody>\n",
       "    <tr>\n",
       "      <th>0</th>\n",
       "      <td>X5gsdTWGS3W7JJQB</td>\n",
       "      <td>1.382257e+07</td>\n",
       "    </tr>\n",
       "    <tr>\n",
       "      <th>1</th>\n",
       "      <td>BTshNOJyKHnT2YIT</td>\n",
       "      <td>3.926757e+06</td>\n",
       "    </tr>\n",
       "    <tr>\n",
       "      <th>2</th>\n",
       "      <td>dhdymr0lV8N5kZOT</td>\n",
       "      <td>1.113643e+07</td>\n",
       "    </tr>\n",
       "    <tr>\n",
       "      <th>3</th>\n",
       "      <td>VEwyGGMcD56w5BOc</td>\n",
       "      <td>6.038317e+06</td>\n",
       "    </tr>\n",
       "    <tr>\n",
       "      <th>4</th>\n",
       "      <td>wmUeMoJZfsqaSX9b</td>\n",
       "      <td>1.064189e+06</td>\n",
       "    </tr>\n",
       "    <tr>\n",
       "      <th>9995</th>\n",
       "      <td>UEeCDaAJzPwdKKKA</td>\n",
       "      <td>1.235242e+06</td>\n",
       "    </tr>\n",
       "    <tr>\n",
       "      <th>9996</th>\n",
       "      <td>i0fgbPaQsDWs7Q87</td>\n",
       "      <td>4.741861e+07</td>\n",
       "    </tr>\n",
       "    <tr>\n",
       "      <th>9997</th>\n",
       "      <td>YunNwAhcqkf6YclI</td>\n",
       "      <td>1.095633e+06</td>\n",
       "    </tr>\n",
       "    <tr>\n",
       "      <th>9998</th>\n",
       "      <td>A2NotxtRY9MYoWMl</td>\n",
       "      <td>2.973214e+06</td>\n",
       "    </tr>\n",
       "    <tr>\n",
       "      <th>9999</th>\n",
       "      <td>kKvgBXiA50gRmQhP</td>\n",
       "      <td>3.112596e+06</td>\n",
       "    </tr>\n",
       "  </tbody>\n",
       "</table>\n",
       "</div>"
      ],
      "text/plain": [
       "           building_id   total_price\n",
       "0     X5gsdTWGS3W7JJQB  1.382257e+07\n",
       "1     BTshNOJyKHnT2YIT  3.926757e+06\n",
       "2     dhdymr0lV8N5kZOT  1.113643e+07\n",
       "3     VEwyGGMcD56w5BOc  6.038317e+06\n",
       "4     wmUeMoJZfsqaSX9b  1.064189e+06\n",
       "9995  UEeCDaAJzPwdKKKA  1.235242e+06\n",
       "9996  i0fgbPaQsDWs7Q87  4.741861e+07\n",
       "9997  YunNwAhcqkf6YclI  1.095633e+06\n",
       "9998  A2NotxtRY9MYoWMl  2.973214e+06\n",
       "9999  kKvgBXiA50gRmQhP  3.112596e+06"
      ]
     },
     "metadata": {},
     "output_type": "display_data"
    },
    {
     "name": "stdout",
     "output_type": "stream",
     "text": [
      "shape = (10000, 2)\n"
     ]
    }
   ],
   "source": [
    "test[['building_id', 'total_price']].check()"
   ]
  },
  {
   "cell_type": "code",
   "execution_count": 33,
   "metadata": {},
   "outputs": [
    {
     "name": "stdout",
     "output_type": "stream",
     "text": [
      "Output file to: output/stack_meanlog_11_1-11,14-17.csv\n"
     ]
    }
   ],
   "source": [
    "output_filename = 'output/stack_meanlog_{}_{}.csv'.format(stack_idx, models)\n",
    "print('Output file to:', output_filename)"
   ]
  },
  {
   "cell_type": "code",
   "execution_count": 34,
   "metadata": {},
   "outputs": [],
   "source": [
    "test[['building_id', 'total_price']].to_csv(output_filename, index=False)"
   ]
  },
  {
   "cell_type": "code",
   "execution_count": 35,
   "metadata": {},
   "outputs": [
    {
     "data": {
      "text/html": [
       "<div>\n",
       "<style scoped>\n",
       "    .dataframe tbody tr th:only-of-type {\n",
       "        vertical-align: middle;\n",
       "    }\n",
       "\n",
       "    .dataframe tbody tr th {\n",
       "        vertical-align: top;\n",
       "    }\n",
       "\n",
       "    .dataframe thead th {\n",
       "        text-align: right;\n",
       "    }\n",
       "</style>\n",
       "<table border=\"1\" class=\"dataframe\">\n",
       "  <thead>\n",
       "    <tr style=\"text-align: right;\">\n",
       "      <th></th>\n",
       "      <th>building_id</th>\n",
       "      <th>total_price</th>\n",
       "    </tr>\n",
       "  </thead>\n",
       "  <tbody>\n",
       "    <tr>\n",
       "      <th>0</th>\n",
       "      <td>X5gsdTWGS3W7JJQB</td>\n",
       "      <td>1.382257e+07</td>\n",
       "    </tr>\n",
       "    <tr>\n",
       "      <th>1</th>\n",
       "      <td>BTshNOJyKHnT2YIT</td>\n",
       "      <td>3.926757e+06</td>\n",
       "    </tr>\n",
       "    <tr>\n",
       "      <th>2</th>\n",
       "      <td>dhdymr0lV8N5kZOT</td>\n",
       "      <td>1.113643e+07</td>\n",
       "    </tr>\n",
       "    <tr>\n",
       "      <th>3</th>\n",
       "      <td>VEwyGGMcD56w5BOc</td>\n",
       "      <td>6.038317e+06</td>\n",
       "    </tr>\n",
       "    <tr>\n",
       "      <th>4</th>\n",
       "      <td>wmUeMoJZfsqaSX9b</td>\n",
       "      <td>1.064189e+06</td>\n",
       "    </tr>\n",
       "    <tr>\n",
       "      <th>9995</th>\n",
       "      <td>UEeCDaAJzPwdKKKA</td>\n",
       "      <td>1.235242e+06</td>\n",
       "    </tr>\n",
       "    <tr>\n",
       "      <th>9996</th>\n",
       "      <td>i0fgbPaQsDWs7Q87</td>\n",
       "      <td>4.741861e+07</td>\n",
       "    </tr>\n",
       "    <tr>\n",
       "      <th>9997</th>\n",
       "      <td>YunNwAhcqkf6YclI</td>\n",
       "      <td>1.095633e+06</td>\n",
       "    </tr>\n",
       "    <tr>\n",
       "      <th>9998</th>\n",
       "      <td>A2NotxtRY9MYoWMl</td>\n",
       "      <td>2.973214e+06</td>\n",
       "    </tr>\n",
       "    <tr>\n",
       "      <th>9999</th>\n",
       "      <td>kKvgBXiA50gRmQhP</td>\n",
       "      <td>3.112596e+06</td>\n",
       "    </tr>\n",
       "  </tbody>\n",
       "</table>\n",
       "</div>"
      ],
      "text/plain": [
       "           building_id   total_price\n",
       "0     X5gsdTWGS3W7JJQB  1.382257e+07\n",
       "1     BTshNOJyKHnT2YIT  3.926757e+06\n",
       "2     dhdymr0lV8N5kZOT  1.113643e+07\n",
       "3     VEwyGGMcD56w5BOc  6.038317e+06\n",
       "4     wmUeMoJZfsqaSX9b  1.064189e+06\n",
       "9995  UEeCDaAJzPwdKKKA  1.235242e+06\n",
       "9996  i0fgbPaQsDWs7Q87  4.741861e+07\n",
       "9997  YunNwAhcqkf6YclI  1.095633e+06\n",
       "9998  A2NotxtRY9MYoWMl  2.973214e+06\n",
       "9999  kKvgBXiA50gRmQhP  3.112596e+06"
      ]
     },
     "metadata": {},
     "output_type": "display_data"
    },
    {
     "name": "stdout",
     "output_type": "stream",
     "text": [
      "shape = (10000, 2)\n"
     ]
    }
   ],
   "source": [
    "pd.read_csv(output_filename).check()"
   ]
  },
  {
   "cell_type": "markdown",
   "metadata": {},
   "source": [
    "### Compute submission for linear mean"
   ]
  },
  {
   "cell_type": "code",
   "execution_count": 36,
   "metadata": {},
   "outputs": [],
   "source": [
    "import matplotlib.pyplot as plt"
   ]
  },
  {
   "cell_type": "code",
   "execution_count": 37,
   "metadata": {},
   "outputs": [
    {
     "name": "stdout",
     "output_type": "stream",
     "text": [
      "Predict for liear mean with [3, 4, 5, 7, 8, 10, 15, 16, 17]\n"
     ]
    }
   ],
   "source": [
    "print('Predict for liear mean with', best_models_subset_none)\n",
    "test['total_price'] = predict_mean_subset(test, best_models_subset_none, is_per_area=False, is_log=False)"
   ]
  },
  {
   "cell_type": "code",
   "execution_count": 38,
   "metadata": {},
   "outputs": [
    {
     "name": "stderr",
     "output_type": "stream",
     "text": [
      "/Library/Frameworks/Python.framework/Versions/3.6/lib/python3.6/site-packages/matplotlib/axes/_axes.py:6571: UserWarning: The 'normed' kwarg is deprecated, and has been replaced by the 'density' kwarg.\n",
      "  warnings.warn(\"The 'normed' kwarg is deprecated, and has been \"\n"
     ]
    },
    {
     "data": {
      "image/png": "[encoded data removed]",
      "text/plain": [
       "<Figure size 432x288 with 1 Axes>"
      ]
     },
     "metadata": {
      "needs_background": "light"
     },
     "output_type": "display_data"
    },
    {
     "data": {
      "image/png": "[encoded data removed]",
      "text/plain": [
       "<Figure size 432x288 with 1 Axes>"
      ]
     },
     "metadata": {
      "needs_background": "light"
     },
     "output_type": "display_data"
    }
   ],
   "source": [
    "plt.hist(cv['log_parea_total_price'], bins=100, label='train true', normed=True)\n",
    "plt.hist(np.log1p(test['total_price'] / test['building_area']), bins=100, label='test',\n",
    "         normed=True, alpha=0.7)\n",
    "plt.xlabel('log(price/area + 1)'); plt.ylabel('ratio')\n",
    "plt.legend(); plt.grid(); plt.show()\n",
    "\n",
    "plt.hist(cv['log_total_price'], bins=100, label='train true', normed=True)\n",
    "plt.hist(np.log1p(test['total_price']), bins=100, label='test', normed=True, alpha=0.7)\n",
    "plt.xlabel('log(price + 1)'); plt.ylabel('ratio')\n",
    "plt.legend(); plt.grid(); plt.show()"
   ]
  },
  {
   "cell_type": "code",
   "execution_count": 39,
   "metadata": {},
   "outputs": [
    {
     "data": {
      "text/html": [
       "<div>\n",
       "<style scoped>\n",
       "    .dataframe tbody tr th:only-of-type {\n",
       "        vertical-align: middle;\n",
       "    }\n",
       "\n",
       "    .dataframe tbody tr th {\n",
       "        vertical-align: top;\n",
       "    }\n",
       "\n",
       "    .dataframe thead th {\n",
       "        text-align: right;\n",
       "    }\n",
       "</style>\n",
       "<table border=\"1\" class=\"dataframe\">\n",
       "  <thead>\n",
       "    <tr style=\"text-align: right;\">\n",
       "      <th></th>\n",
       "      <th>building_id</th>\n",
       "      <th>total_price</th>\n",
       "    </tr>\n",
       "  </thead>\n",
       "  <tbody>\n",
       "    <tr>\n",
       "      <th>0</th>\n",
       "      <td>X5gsdTWGS3W7JJQB</td>\n",
       "      <td>1.388185e+07</td>\n",
       "    </tr>\n",
       "    <tr>\n",
       "      <th>1</th>\n",
       "      <td>BTshNOJyKHnT2YIT</td>\n",
       "      <td>3.924688e+06</td>\n",
       "    </tr>\n",
       "    <tr>\n",
       "      <th>2</th>\n",
       "      <td>dhdymr0lV8N5kZOT</td>\n",
       "      <td>1.115398e+07</td>\n",
       "    </tr>\n",
       "    <tr>\n",
       "      <th>3</th>\n",
       "      <td>VEwyGGMcD56w5BOc</td>\n",
       "      <td>6.035152e+06</td>\n",
       "    </tr>\n",
       "    <tr>\n",
       "      <th>4</th>\n",
       "      <td>wmUeMoJZfsqaSX9b</td>\n",
       "      <td>1.064497e+06</td>\n",
       "    </tr>\n",
       "    <tr>\n",
       "      <th>9995</th>\n",
       "      <td>UEeCDaAJzPwdKKKA</td>\n",
       "      <td>1.236378e+06</td>\n",
       "    </tr>\n",
       "    <tr>\n",
       "      <th>9996</th>\n",
       "      <td>i0fgbPaQsDWs7Q87</td>\n",
       "      <td>4.749268e+07</td>\n",
       "    </tr>\n",
       "    <tr>\n",
       "      <th>9997</th>\n",
       "      <td>YunNwAhcqkf6YclI</td>\n",
       "      <td>1.095208e+06</td>\n",
       "    </tr>\n",
       "    <tr>\n",
       "      <th>9998</th>\n",
       "      <td>A2NotxtRY9MYoWMl</td>\n",
       "      <td>2.974268e+06</td>\n",
       "    </tr>\n",
       "    <tr>\n",
       "      <th>9999</th>\n",
       "      <td>kKvgBXiA50gRmQhP</td>\n",
       "      <td>3.117081e+06</td>\n",
       "    </tr>\n",
       "  </tbody>\n",
       "</table>\n",
       "</div>"
      ],
      "text/plain": [
       "           building_id   total_price\n",
       "0     X5gsdTWGS3W7JJQB  1.388185e+07\n",
       "1     BTshNOJyKHnT2YIT  3.924688e+06\n",
       "2     dhdymr0lV8N5kZOT  1.115398e+07\n",
       "3     VEwyGGMcD56w5BOc  6.035152e+06\n",
       "4     wmUeMoJZfsqaSX9b  1.064497e+06\n",
       "9995  UEeCDaAJzPwdKKKA  1.236378e+06\n",
       "9996  i0fgbPaQsDWs7Q87  4.749268e+07\n",
       "9997  YunNwAhcqkf6YclI  1.095208e+06\n",
       "9998  A2NotxtRY9MYoWMl  2.974268e+06\n",
       "9999  kKvgBXiA50gRmQhP  3.117081e+06"
      ]
     },
     "metadata": {},
     "output_type": "display_data"
    },
    {
     "name": "stdout",
     "output_type": "stream",
     "text": [
      "shape = (10000, 2)\n"
     ]
    }
   ],
   "source": [
    "test[['building_id', 'total_price']].check()"
   ]
  },
  {
   "cell_type": "code",
   "execution_count": 40,
   "metadata": {},
   "outputs": [
    {
     "name": "stdout",
     "output_type": "stream",
     "text": [
      "Output file to: output/stack_mean_11_1-11,14-17.csv\n"
     ]
    }
   ],
   "source": [
    "output_filename = 'output/stack_mean_{}_{}.csv'.format(stack_idx, models)\n",
    "print('Output file to:', output_filename)"
   ]
  },
  {
   "cell_type": "code",
   "execution_count": 41,
   "metadata": {},
   "outputs": [],
   "source": [
    "test[['building_id', 'total_price']].to_csv(output_filename, index=False)"
   ]
  },
  {
   "cell_type": "code",
   "execution_count": 42,
   "metadata": {},
   "outputs": [
    {
     "data": {
      "text/html": [
       "<div>\n",
       "<style scoped>\n",
       "    .dataframe tbody tr th:only-of-type {\n",
       "        vertical-align: middle;\n",
       "    }\n",
       "\n",
       "    .dataframe tbody tr th {\n",
       "        vertical-align: top;\n",
       "    }\n",
       "\n",
       "    .dataframe thead th {\n",
       "        text-align: right;\n",
       "    }\n",
       "</style>\n",
       "<table border=\"1\" class=\"dataframe\">\n",
       "  <thead>\n",
       "    <tr style=\"text-align: right;\">\n",
       "      <th></th>\n",
       "      <th>building_id</th>\n",
       "      <th>total_price</th>\n",
       "    </tr>\n",
       "  </thead>\n",
       "  <tbody>\n",
       "    <tr>\n",
       "      <th>0</th>\n",
       "      <td>X5gsdTWGS3W7JJQB</td>\n",
       "      <td>1.388185e+07</td>\n",
       "    </tr>\n",
       "    <tr>\n",
       "      <th>1</th>\n",
       "      <td>BTshNOJyKHnT2YIT</td>\n",
       "      <td>3.924688e+06</td>\n",
       "    </tr>\n",
       "    <tr>\n",
       "      <th>2</th>\n",
       "      <td>dhdymr0lV8N5kZOT</td>\n",
       "      <td>1.115398e+07</td>\n",
       "    </tr>\n",
       "    <tr>\n",
       "      <th>3</th>\n",
       "      <td>VEwyGGMcD56w5BOc</td>\n",
       "      <td>6.035152e+06</td>\n",
       "    </tr>\n",
       "    <tr>\n",
       "      <th>4</th>\n",
       "      <td>wmUeMoJZfsqaSX9b</td>\n",
       "      <td>1.064497e+06</td>\n",
       "    </tr>\n",
       "    <tr>\n",
       "      <th>9995</th>\n",
       "      <td>UEeCDaAJzPwdKKKA</td>\n",
       "      <td>1.236378e+06</td>\n",
       "    </tr>\n",
       "    <tr>\n",
       "      <th>9996</th>\n",
       "      <td>i0fgbPaQsDWs7Q87</td>\n",
       "      <td>4.749268e+07</td>\n",
       "    </tr>\n",
       "    <tr>\n",
       "      <th>9997</th>\n",
       "      <td>YunNwAhcqkf6YclI</td>\n",
       "      <td>1.095208e+06</td>\n",
       "    </tr>\n",
       "    <tr>\n",
       "      <th>9998</th>\n",
       "      <td>A2NotxtRY9MYoWMl</td>\n",
       "      <td>2.974268e+06</td>\n",
       "    </tr>\n",
       "    <tr>\n",
       "      <th>9999</th>\n",
       "      <td>kKvgBXiA50gRmQhP</td>\n",
       "      <td>3.117081e+06</td>\n",
       "    </tr>\n",
       "  </tbody>\n",
       "</table>\n",
       "</div>"
      ],
      "text/plain": [
       "           building_id   total_price\n",
       "0     X5gsdTWGS3W7JJQB  1.388185e+07\n",
       "1     BTshNOJyKHnT2YIT  3.924688e+06\n",
       "2     dhdymr0lV8N5kZOT  1.115398e+07\n",
       "3     VEwyGGMcD56w5BOc  6.035152e+06\n",
       "4     wmUeMoJZfsqaSX9b  1.064497e+06\n",
       "9995  UEeCDaAJzPwdKKKA  1.236378e+06\n",
       "9996  i0fgbPaQsDWs7Q87  4.749268e+07\n",
       "9997  YunNwAhcqkf6YclI  1.095208e+06\n",
       "9998  A2NotxtRY9MYoWMl  2.974268e+06\n",
       "9999  kKvgBXiA50gRmQhP  3.117081e+06"
      ]
     },
     "metadata": {},
     "output_type": "display_data"
    },
    {
     "name": "stdout",
     "output_type": "stream",
     "text": [
      "shape = (10000, 2)\n"
     ]
    }
   ],
   "source": [
    "pd.read_csv(output_filename).check()"
   ]
  },
  {
   "cell_type": "code",
   "execution_count": null,
   "metadata": {},
   "outputs": [],
   "source": []
  }
 ],
 "metadata": {
  "kernelspec": {
   "display_name": "Python 3",
   "language": "python",
   "name": "python3"
  },
  "language_info": {
   "codemirror_mode": {
    "name": "ipython",
    "version": 3
   },
   "file_extension": ".py",
   "mimetype": "text/x-python",
   "name": "python",
   "nbconvert_exporter": "python",
   "pygments_lexer": "ipython3",
   "version": "3.6.1"
  },
  "toc": {
   "base_numbering": 1,
   "nav_menu": {},
   "number_sections": true,
   "sideBar": true,
   "skip_h1_title": true,
   "title_cell": "Table of Contents",
   "title_sidebar": "Contents",
   "toc_cell": false,
   "toc_position": {},
   "toc_section_display": true,
   "toc_window_display": true
  }
 },
 "nbformat": 4,
 "nbformat_minor": 2
}
