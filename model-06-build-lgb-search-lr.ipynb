{
 "cells": [
  {
   "cell_type": "markdown",
   "metadata": {},
   "source": [
    "### Import packages"
   ]
  },
  {
   "cell_type": "code",
   "execution_count": 1,
   "metadata": {},
   "outputs": [
    {
     "name": "stderr",
     "output_type": "stream",
     "text": [
      "/Library/Frameworks/Python.framework/Versions/3.6/lib/python3.6/site-packages/lightgbm/__init__.py:45: FutureWarning: Starting from version 2.2.1, the library file in distribution wheels for macOS will be built by the Apple Clang compiler.\n",
      "This means that in case of installing LightGBM from PyPI via the ``pip install lightgbm`` command, you won't need to install the gcc compiler anymore.\n",
      "Instead of that, you'll need to install the OpenMP library, which is required for running LightGBM on the system with the Apple Clang compiler.\n",
      "You can install the OpenMP library by the following command: ``brew install libomp``.\n",
      "  \"You can install the OpenMP library by the following command: ``brew install libomp``.\", FutureWarning)\n"
     ]
    }
   ],
   "source": [
    "import time\n",
    "import pickle\n",
    "import itertools\n",
    "import numpy as np\n",
    "import pandas as pd\n",
    "import lightgbm as lgb\n",
    "import matplotlib.pyplot as plt\n",
    "from sklearn.model_selection import KFold\n",
    "from sklearn.model_selection import train_test_split\n",
    "from sklearn.metrics import mean_squared_error\n",
    "from sklearn.metrics import mean_absolute_error\n",
    "from utilities import cal_mape\n",
    "\n",
    "from utilities import cal_score, convert_types, create_dt_feats"
   ]
  },
  {
   "cell_type": "markdown",
   "metadata": {},
   "source": [
    "### Params"
   ]
  },
  {
   "cell_type": "code",
   "execution_count": 2,
   "metadata": {},
   "outputs": [],
   "source": [
    "is_log_target = True\n",
    "is_per_area_target = True\n",
    "\n",
    "map_target = {\n",
    "    (True, True):   'log_per_area_total_price',\n",
    "    (True, False):  'log_total_price',\n",
    "    (False, True):  'per_area_total_price',\n",
    "    (False, False): 'total_price'\n",
    "}\n",
    "col_target = map_target[(is_log_target, is_per_area_target)]\n",
    "\n",
    "#cols_feats_add = ['encoded_latlon', 'building_per_land_area'] # add feats into model\n",
    "cols_num_add = ['building_per_land_area']\n",
    "cols_cat_add = ['encoded_latlon']\n",
    "\n",
    "#cols_feats_rm = [] # TODO: implement before using it\n",
    "#['day_in_year_txn_dt', 'day_in_year_building_complete_dt', 'dt_diff_building_complete_dt_txn_dt'] # dt num feats\n",
    "#['dow_txn_dt', 'dow_building_complete_dt', 'month_txn_dt', 'month_building_complete_dt',\n",
    "# 'quarter_txn_dt', 'quarter_building_complete_dt', 'year_txn_dt', 'year_building_complete_dt'] # dt cat feats"
   ]
  },
  {
   "cell_type": "markdown",
   "metadata": {},
   "source": [
    "### Processing"
   ]
  },
  {
   "cell_type": "code",
   "execution_count": 3,
   "metadata": {},
   "outputs": [],
   "source": [
    "def pre_processing(df, cols_num, cols_cat): #, cols_feats\n",
    "    # Convert types\n",
    "    df[cols_num] = df[cols_num].astype('float32')\n",
    "    \n",
    "    # generate target\n",
    "    if 'total_price' in df:\n",
    "        df['total_price'] = df['total_price'].astype('float32')\n",
    "        df['log_total_price'] = np.log1p(df['total_price'])\n",
    "        df['per_area_total_price'] = df['total_price'] / df['building_area']\n",
    "        df['log_per_area_total_price'] = np.log1p(df['per_area_total_price'])\n",
    "        df['target'] = df[col_target]\n",
    "\n",
    "    # generate lat/lon encoded\n",
    "    kmeans = pickle.load(open('./object_kmeans_k6_combined.pkl', 'rb'))\n",
    "    df['encoded_latlon'] = kmeans.predict(df[['lat','lon']])\n",
    "    \n",
    "    # generate dt feats\n",
    "    df = create_dt_feats(df, 'txn_dt')\n",
    "    df = create_dt_feats(df, 'building_complete_dt')\n",
    "    df['dt_diff_building_complete_dt_txn_dt'] = df['txn_dt'] - df['building_complete_dt']\n",
    "    \n",
    "    # generate building to land ratio\n",
    "    df['building_per_land_area'] = df['building_area'] / df['land_area']\n",
    " \n",
    "    #cols_feats = cols_num + cols_cat + cols_feats_add\n",
    "    \n",
    "    return df  #, cols_feats"
   ]
  },
  {
   "cell_type": "code",
   "execution_count": 4,
   "metadata": {},
   "outputs": [],
   "source": [
    "from feature_engineering import CategoricalColumnsEncoder\n",
    "from feature_engineering import TargetMeanEncoding\n",
    "from feature_engineering import MultiLabelEncoding\n",
    "\n",
    "class FeatureEngineering():\n",
    "    def __init__(self, cols_num, cols_cat, cols_feats, col_target, n_ran_encode=4):\n",
    "        # cols\n",
    "        self.cols_num = cols_num\n",
    "        self.cols_cat = cols_cat\n",
    "        self.cols_feats = cols_feats\n",
    "        self.col_target = col_target\n",
    "        \n",
    "        # Numbers\n",
    "        self.n_ran_encode = n_ran_encode\n",
    "        \n",
    "        # encoders\n",
    "        #self.tar_encoder = TargetMeanEncoding(col_target = self.col_target)\n",
    "        #self.ran_encoder = MultiLabelEncoding(self.n_ran_encode)\n",
    "        self.cat_astyper = CategoricalColumnsEncoder(mode='pandas')\n",
    "        \n",
    "    def fit_transform(self, df):\n",
    "        df = df.copy()\n",
    "    \n",
    "#        encoded1 = self.tar_encoder.fit_transform(df[self.cols_cat], df[self.col_target])\n",
    "#        encoded2 = self.ran_encoder.fit_transform(df[self.cols_cat])\n",
    "        self.cat_astyper.fit_transform(df, self.cols_cat)\n",
    "    \n",
    "        return df\n",
    "#        return pd.concat([df, encoded1, encoded2], axis=1)\n",
    "    \n",
    "    def transform(self, df):\n",
    "        df = df.copy()\n",
    "#        encoded1 = self.tar_encoder.transform(df[self.cols_cat])\n",
    "#        encoded2 = self.ran_encoder.transform(df[self.cols_cat])     # TODO: add generated feats into cols_feats\n",
    "        self.cat_astyper.transform(df)\n",
    "\n",
    "        return df\n",
    "#        return pd.concat([df, encoded1, encoded2], axis=1)\n"
   ]
  },
  {
   "cell_type": "code",
   "execution_count": 5,
   "metadata": {},
   "outputs": [],
   "source": [
    "def post_processing(y_pred, df):\n",
    "    \"\"\"Args: \n",
    "          y_pred (1d np.array): raw prediction y\n",
    "          df (pd.Dataframe): input feature df\n",
    "       Return: np.array\n",
    "    \"\"\"\n",
    "    y_pred_final = y_pred.copy()\n",
    "    \n",
    "    if is_log_target:\n",
    "        y_pred_final = np.expm1(y_pred_final)\n",
    "        y_pred_final = np.clip(y_pred_final, 0, None)\n",
    "\n",
    "    if is_per_area_target:\n",
    "        y_pred_final = y_pred_final * df['building_area'].values\n",
    "        \n",
    "    return y_pred_final"
   ]
  },
  {
   "cell_type": "markdown",
   "metadata": {},
   "source": [
    "### Columns"
   ]
  },
  {
   "cell_type": "code",
   "execution_count": 6,
   "metadata": {},
   "outputs": [],
   "source": [
    "cols_num = ['txn_dt', 'total_floor', 'building_complete_dt', 'parking_area', 'parking_price', 'txn_floor',\n",
    "            'land_area', 'building_area', 'lat', 'lon', 'village_income_median', 'town_population', 'town_area',\n",
    "            'town_population_density', 'doc_rate', 'master_rate', 'bachelor_rate', 'jobschool_rate',\n",
    "            'highschool_rate', 'junior_rate', 'elementary_rate', 'born_rate', 'death_rate', 'marriage_rate',\n",
    "            'divorce_rate', 'N_50', 'N_500', 'N_1000', 'N_5000', 'N_10000', 'I_10', 'I_50', 'I_100', 'I_250',\n",
    "            'I_500', 'I_1000', 'I_5000', 'I_10000', 'I_MIN', 'II_10', 'II_50', 'II_100', 'II_250', 'II_500',\n",
    "            'II_1000', 'II_5000', 'II_10000', 'II_MIN', 'III_10', 'III_50', 'III_100', 'III_250', 'III_500',\n",
    "            'III_1000', 'III_5000', 'III_10000', 'III_MIN', 'IV_10', 'IV_50', 'IV_100', 'IV_250', 'IV_500',\n",
    "            'IV_1000', 'IV_5000', 'IV_10000', 'IV_MIN', 'V_10', 'V_50', 'V_100', 'V_250', 'V_500', 'V_1000',\n",
    "            'V_5000', 'V_10000', 'V_MIN', 'VI_50', 'VI_100', 'VI_250', 'VI_500', 'VI_1000', 'VI_5000', 'VI_10000',\n",
    "            'VI_MIN', 'VII_10', 'VII_50', 'VII_100', 'VII_250', 'VII_500', 'VII_1000', 'VII_5000', 'VII_10000',\n",
    "            'VII_MIN', 'VIII_10', 'VIII_50', 'VIII_100', 'VIII_250', 'VIII_500', 'VIII_1000', 'VIII_5000',\n",
    "            'VIII_10000', 'VIII_MIN', 'IX_10', 'IX_50', 'IX_100', 'IX_250', 'IX_500', 'IX_1000', 'IX_5000',\n",
    "            'IX_10000', 'IX_MIN', 'X_10', 'X_50', 'X_100', 'X_250', 'X_500', 'X_1000', 'X_5000', 'X_10000', 'X_MIN',\n",
    "            'XI_10', 'XI_50', 'XI_100', 'XI_250', 'XI_500', 'XI_1000', 'XI_5000', 'XI_10000', 'XI_MIN', 'XII_10',\n",
    "            'XII_50', 'XII_100', 'XII_250', 'XII_500', 'XII_1000', 'XII_5000', 'XII_10000', 'XII_MIN', 'XIII_10',\n",
    "            'XIII_50', 'XIII_100', 'XIII_250', 'XIII_500', 'XIII_1000', 'XIII_5000', 'XIII_10000', 'XIII_MIN',\n",
    "            'XIV_10', 'XIV_50', 'XIV_100', 'XIV_250', 'XIV_500', 'XIV_1000', 'XIV_5000', 'XIV_10000', 'XIV_MIN']\n",
    "cols_cat = ['building_material', 'city', 'building_type', 'building_use', 'parking_way', 'town', 'village',\n",
    "            'I_index_50', 'I_index_500', 'I_index_1000', 'II_index_50', 'II_index_500', 'II_index_1000',\n",
    "            'III_index_50', 'III_index_500', 'III_index_1000', 'IV_index_50', 'IV_index_500', 'IV_index_1000',\n",
    "            'IV_index_5000', 'V_index_50', 'V_index_500', 'V_index_1000', 'VI_10', 'VI_index_50', 'VI_index_500',\n",
    "            'VI_index_1000', 'VII_index_50', 'VII_index_500', 'VII_index_1000', 'VIII_index_50', 'VIII_index_500',\n",
    "            'VIII_index_1000', 'IX_index_50', 'IX_index_500', 'IX_index_1000', 'IX_index_5000', 'X_index_50',\n",
    "            'X_index_500', 'X_index_1000', 'XI_index_50', 'XI_index_500', 'XI_index_1000', 'XI_index_5000',\n",
    "            'XI_index_10000', 'XII_index_50', 'XII_index_500', 'XII_index_1000', 'XIII_index_50', 'XIII_index_500',\n",
    "            'XIII_index_1000', 'XIII_index_5000', 'XIII_index_10000', 'XIV_index_50', 'XIV_index_500',\n",
    "            'XIV_index_1000']\n",
    "cols_feats = cols_num + cols_cat\n",
    "\n",
    "# informational cols\n",
    "cols_dt = ['txn_dt', 'building_complete_dt']\n",
    "cols_bin = ['I_index_50', 'I_index_500', 'I_index_1000', 'II_index_50', 'II_index_500', 'II_index_1000',\n",
    "            'III_index_50', 'III_index_500', 'III_index_1000', 'IV_index_50', 'IV_index_500', 'IV_index_1000',\n",
    "            'IV_index_5000', 'V_index_50', 'V_index_500', 'V_index_1000', 'VI_10', 'VI_index_50', 'VI_index_500',\n",
    "            'VI_index_1000', 'VII_index_50', 'VII_index_500', 'VII_index_1000', 'VIII_index_50', 'VIII_index_500',\n",
    "            'VIII_index_1000', 'IX_index_50', 'IX_index_500', 'IX_index_1000', 'IX_index_5000', 'X_index_50',\n",
    "            'X_index_500', 'X_index_1000', 'XI_index_50', 'XI_index_500', 'XI_index_1000', 'XI_index_5000',\n",
    "            'XI_index_10000', 'XII_index_50', 'XII_index_500', 'XII_index_1000', 'XIII_index_50', 'XIII_index_500',\n",
    "            'XIII_index_1000', 'XIII_index_5000', 'XIII_index_10000', 'XIV_index_50', 'XIV_index_500',\n",
    "            'XIV_index_1000']"
   ]
  },
  {
   "cell_type": "markdown",
   "metadata": {},
   "source": [
    "### Read data"
   ]
  },
  {
   "cell_type": "code",
   "execution_count": 7,
   "metadata": {},
   "outputs": [
    {
     "data": {
      "text/html": [
       "<div>\n",
       "<style scoped>\n",
       "    .dataframe tbody tr th:only-of-type {\n",
       "        vertical-align: middle;\n",
       "    }\n",
       "\n",
       "    .dataframe tbody tr th {\n",
       "        vertical-align: top;\n",
       "    }\n",
       "\n",
       "    .dataframe thead th {\n",
       "        text-align: right;\n",
       "    }\n",
       "</style>\n",
       "<table border=\"1\" class=\"dataframe\">\n",
       "  <thead>\n",
       "    <tr style=\"text-align: right;\">\n",
       "      <th></th>\n",
       "      <th>building_id</th>\n",
       "      <th>building_material</th>\n",
       "      <th>city</th>\n",
       "      <th>txn_dt</th>\n",
       "      <th>total_floor</th>\n",
       "      <th>building_type</th>\n",
       "      <th>building_use</th>\n",
       "      <th>building_complete_dt</th>\n",
       "      <th>parking_way</th>\n",
       "      <th>parking_area</th>\n",
       "      <th>...</th>\n",
       "      <th>XIV_500</th>\n",
       "      <th>XIV_index_500</th>\n",
       "      <th>XIV_1000</th>\n",
       "      <th>XIV_index_1000</th>\n",
       "      <th>XIV_5000</th>\n",
       "      <th>XIV_index_5000</th>\n",
       "      <th>XIV_10000</th>\n",
       "      <th>XIV_index_10000</th>\n",
       "      <th>XIV_MIN</th>\n",
       "      <th>total_price</th>\n",
       "    </tr>\n",
       "  </thead>\n",
       "  <tbody>\n",
       "    <tr>\n",
       "      <th>0</th>\n",
       "      <td>e3mMIMR3JJqCaXz1</td>\n",
       "      <td>8</td>\n",
       "      <td>21</td>\n",
       "      <td>18674</td>\n",
       "      <td>4</td>\n",
       "      <td>3</td>\n",
       "      <td>2</td>\n",
       "      <td>6271</td>\n",
       "      <td>2</td>\n",
       "      <td>NaN</td>\n",
       "      <td>...</td>\n",
       "      <td>58</td>\n",
       "      <td>1</td>\n",
       "      <td>157</td>\n",
       "      <td>1</td>\n",
       "      <td>2483</td>\n",
       "      <td>1</td>\n",
       "      <td>6011</td>\n",
       "      <td>1</td>\n",
       "      <td>34.469802848528126</td>\n",
       "      <td>647603.7704719775</td>\n",
       "    </tr>\n",
       "    <tr>\n",
       "      <th>1</th>\n",
       "      <td>LgwzgklNvy4QCtq5</td>\n",
       "      <td>8</td>\n",
       "      <td>7</td>\n",
       "      <td>18800</td>\n",
       "      <td>5</td>\n",
       "      <td>1</td>\n",
       "      <td>2</td>\n",
       "      <td>7885</td>\n",
       "      <td>2</td>\n",
       "      <td>NaN</td>\n",
       "      <td>...</td>\n",
       "      <td>28</td>\n",
       "      <td>1</td>\n",
       "      <td>115</td>\n",
       "      <td>1</td>\n",
       "      <td>15872</td>\n",
       "      <td>1</td>\n",
       "      <td>32221</td>\n",
       "      <td>1</td>\n",
       "      <td>40.07357348973039</td>\n",
       "      <td>3321452.0</td>\n",
       "    </tr>\n",
       "    <tr>\n",
       "      <th>2</th>\n",
       "      <td>ucIR2NLLsC3T650L</td>\n",
       "      <td>8</td>\n",
       "      <td>7</td>\n",
       "      <td>19289</td>\n",
       "      <td>4</td>\n",
       "      <td>1</td>\n",
       "      <td>2</td>\n",
       "      <td>6028</td>\n",
       "      <td>2</td>\n",
       "      <td>NaN</td>\n",
       "      <td>...</td>\n",
       "      <td>78</td>\n",
       "      <td>1</td>\n",
       "      <td>212</td>\n",
       "      <td>1</td>\n",
       "      <td>15760</td>\n",
       "      <td>1</td>\n",
       "      <td>32228</td>\n",
       "      <td>1</td>\n",
       "      <td>54.46208108983661</td>\n",
       "      <td>9570885.316206373</td>\n",
       "    </tr>\n",
       "    <tr>\n",
       "      <th>3</th>\n",
       "      <td>jre1pJhcQj91Kdky</td>\n",
       "      <td>8</td>\n",
       "      <td>21</td>\n",
       "      <td>20385</td>\n",
       "      <td>24</td>\n",
       "      <td>0</td>\n",
       "      <td>2</td>\n",
       "      <td>18325</td>\n",
       "      <td>0</td>\n",
       "      <td>NaN</td>\n",
       "      <td>...</td>\n",
       "      <td>20</td>\n",
       "      <td>1</td>\n",
       "      <td>125</td>\n",
       "      <td>1</td>\n",
       "      <td>2568</td>\n",
       "      <td>1</td>\n",
       "      <td>7271</td>\n",
       "      <td>1</td>\n",
       "      <td>99.62896580763416</td>\n",
       "      <td>14215011.127100045</td>\n",
       "    </tr>\n",
       "    <tr>\n",
       "      <th>4</th>\n",
       "      <td>rQpYpY9nRG7X5mmr</td>\n",
       "      <td>1</td>\n",
       "      <td>21</td>\n",
       "      <td>20657</td>\n",
       "      <td>2</td>\n",
       "      <td>4</td>\n",
       "      <td>2</td>\n",
       "      <td>6880</td>\n",
       "      <td>2</td>\n",
       "      <td>NaN</td>\n",
       "      <td>...</td>\n",
       "      <td>18</td>\n",
       "      <td>1</td>\n",
       "      <td>47</td>\n",
       "      <td>1</td>\n",
       "      <td>2587</td>\n",
       "      <td>1</td>\n",
       "      <td>7442</td>\n",
       "      <td>1</td>\n",
       "      <td>124.1312362968124</td>\n",
       "      <td>762711.9757135696</td>\n",
       "    </tr>\n",
       "  </tbody>\n",
       "</table>\n",
       "<p>5 rows × 235 columns</p>\n",
       "</div>"
      ],
      "text/plain": [
       "        building_id building_material city txn_dt total_floor building_type  \\\n",
       "0  e3mMIMR3JJqCaXz1                 8   21  18674           4             3   \n",
       "1  LgwzgklNvy4QCtq5                 8    7  18800           5             1   \n",
       "2  ucIR2NLLsC3T650L                 8    7  19289           4             1   \n",
       "3  jre1pJhcQj91Kdky                 8   21  20385          24             0   \n",
       "4  rQpYpY9nRG7X5mmr                 1   21  20657           2             4   \n",
       "\n",
       "  building_use building_complete_dt parking_way parking_area  \\\n",
       "0            2                 6271           2          NaN   \n",
       "1            2                 7885           2          NaN   \n",
       "2            2                 6028           2          NaN   \n",
       "3            2                18325           0          NaN   \n",
       "4            2                 6880           2          NaN   \n",
       "\n",
       "          ...         XIV_500 XIV_index_500 XIV_1000 XIV_index_1000 XIV_5000  \\\n",
       "0         ...              58             1      157              1     2483   \n",
       "1         ...              28             1      115              1    15872   \n",
       "2         ...              78             1      212              1    15760   \n",
       "3         ...              20             1      125              1     2568   \n",
       "4         ...              18             1       47              1     2587   \n",
       "\n",
       "  XIV_index_5000 XIV_10000 XIV_index_10000             XIV_MIN  \\\n",
       "0              1      6011               1  34.469802848528126   \n",
       "1              1     32221               1   40.07357348973039   \n",
       "2              1     32228               1   54.46208108983661   \n",
       "3              1      7271               1   99.62896580763416   \n",
       "4              1      7442               1   124.1312362968124   \n",
       "\n",
       "          total_price  \n",
       "0   647603.7704719775  \n",
       "1           3321452.0  \n",
       "2   9570885.316206373  \n",
       "3  14215011.127100045  \n",
       "4   762711.9757135696  \n",
       "\n",
       "[5 rows x 235 columns]"
      ]
     },
     "execution_count": 7,
     "metadata": {},
     "output_type": "execute_result"
    }
   ],
   "source": [
    "df = pd.read_csv('dataset/train.csv', dtype=object)\n",
    "df.head(5)"
   ]
  },
  {
   "cell_type": "markdown",
   "metadata": {},
   "source": [
    "### Preprocessing"
   ]
  },
  {
   "cell_type": "code",
   "execution_count": 8,
   "metadata": {},
   "outputs": [
    {
     "name": "stderr",
     "output_type": "stream",
     "text": [
      "/Library/Frameworks/Python.framework/Versions/3.6/lib/python3.6/site-packages/sklearn/base.py:251: UserWarning: Trying to unpickle estimator KMeans from version 0.20.3 when using version 0.20.1. This might lead to breaking code or invalid results. Use at your own risk.\n",
      "  UserWarning)\n"
     ]
    }
   ],
   "source": [
    "df = pre_processing(df, cols_num, cols_cat)"
   ]
  },
  {
   "cell_type": "code",
   "execution_count": 9,
   "metadata": {},
   "outputs": [],
   "source": [
    "cols_num = cols_num + [c for c in cols_num_add if c not in cols_num]\n",
    "cols_cat = cols_cat + [c for c in cols_cat_add if c not in cols_cat]\n",
    "cols_feats = cols_num + cols_cat"
   ]
  },
  {
   "cell_type": "markdown",
   "metadata": {},
   "source": [
    "### Grid search"
   ]
  },
  {
   "cell_type": "code",
   "execution_count": 10,
   "metadata": {},
   "outputs": [],
   "source": [
    "# grid search\n",
    "params_fix = {'task': 'train',\n",
    "              'boosting_type': 'gbdt',\n",
    "              'objective': 'mse',\n",
    "              'metric': 'mape',}\n",
    "#              'learning_rate': 0.01 }\n",
    "\n",
    "lgb_other_params = {'num_boost_round': 500000,\n",
    "                    'verbose_eval': 2000,\n",
    "                    'early_stopping_rounds': 1000 }\n",
    "\n",
    "# prvs baseline best estimator\n",
    "# ('objective', 'mse'), ('metric', 'mape'),\n",
    "# ('learning_rate', 0.015), ('num_leaves', 255),\n",
    "# ('feature_fraction', 0.5), ('min_data_in_leaf', 5),\n",
    "# ('lambda_l1', 0.1), ('lambda_l2', 0.1)),\n",
    "# 5524.863045737181,\n",
    "# [5528.862755759428, 5530.862894274216, 5514.863487177898]]\n",
    "\n",
    "#params_gsearch = {'max_depth':[-1, 8],\n",
    "#                  'num_leaves': [200, 255]}\n",
    "\n",
    "params_gsearch = {'learning_rate': [0.1, 0.07, 0.05, 0.03, 0.01, 0.007, 0.005, 0.003],\n",
    "                  'max_depth': [16],\n",
    "                  'num_leaves': [300],\n",
    "                  'feature_fraction': [0.5],\n",
    "                  'min_data_in_leaf': [10],\n",
    "                  'lambda_l1': [0.01],\n",
    "                  'lambda_l2': [0.1]\n",
    "                 }\n",
    "\n",
    "#params_gsearch = {'max_depth': [-1, 8, 16, 24],\n",
    "#                  'num_leaves': [200, 255, 300],           # may reduce in dim-reduction exp\n",
    "#                  'feature_fraction': [0.5, 0.75, 1.0],\n",
    "#                  'min_data_in_leaf': [5, 10, 20],\n",
    "#                  'lambda_l1': [0, 0.01, 0.1],\n",
    "#                  'lambda_l2': [0, 0.01, 0.1],\n",
    "#                 }\n",
    "N_fold = 3\n",
    "N_iter = 8\n",
    "score_low_bound = 5600 # if score smaller than this, skip the param set"
   ]
  },
  {
   "cell_type": "markdown",
   "metadata": {},
   "source": [
    "#### Round 1"
   ]
  },
  {
   "cell_type": "code",
   "execution_count": 11,
   "metadata": {},
   "outputs": [],
   "source": [
    "# Round 1\n",
    "rand_params_set = []\n",
    "for i in range(N_iter):\n",
    "    params_rand = {key: np.random.choice(params_gsearch[key]) for key in params_gsearch}\n",
    "    while params_rand in rand_params_set:\n",
    "        params_rand = {key: np.random.choice(params_gsearch[key]) for key in params_gsearch}\n",
    "    rand_params_set.append(params_rand)\n",
    "gsearch = {}"
   ]
  },
  {
   "cell_type": "code",
   "execution_count": 12,
   "metadata": {},
   "outputs": [],
   "source": [
    "#rand_params_set"
   ]
  },
  {
   "cell_type": "code",
   "execution_count": 13,
   "metadata": {
    "scrolled": true
   },
   "outputs": [
    {
     "name": "stdout",
     "output_type": "stream",
     "text": [
      "==== Fold 1 ====\n",
      "Training until validation scores don't improve for 1000 rounds.\n",
      "[2000]\tvalid_0's mape: 0.00971187\n",
      "[4000]\tvalid_0's mape: 0.00952097\n",
      "[6000]\tvalid_0's mape: 0.00947285\n",
      "[8000]\tvalid_0's mape: 0.00945633\n",
      "[10000]\tvalid_0's mape: 0.00944843\n",
      "[12000]\tvalid_0's mape: 0.00944395\n",
      "[14000]\tvalid_0's mape: 0.00944167\n",
      "[16000]\tvalid_0's mape: 0.0094401\n",
      "[18000]\tvalid_0's mape: 0.0094391\n",
      "[20000]\tvalid_0's mape: 0.00943832\n",
      "[22000]\tvalid_0's mape: 0.00943779\n",
      "[24000]\tvalid_0's mape: 0.00943744\n",
      "[26000]\tvalid_0's mape: 0.00943733\n",
      "Early stopping, best iteration is:\n",
      "[25049]\tvalid_0's mape: 0.00943733\n",
      "params: {'task': 'train', 'boosting_type': 'gbdt', 'objective': 'mse', 'metric': 'mape', 'learning_rate': 0.01, 'max_depth': 16, 'num_leaves': 300, 'feature_fraction': 0.5, 'min_data_in_leaf': 10, 'lambda_l1': 0.01, 'lambda_l2': 0.1}\n",
      "score, mse, mae, mape: 5767.86923, 0.03853, 0.12549, 0.00943.\n",
      "Training until validation scores don't improve for 1000 rounds.\n",
      "[2000]\tvalid_0's mape: 0.0106538\n",
      "[4000]\tvalid_0's mape: 0.00995857\n",
      "[6000]\tvalid_0's mape: 0.00972948\n",
      "[8000]\tvalid_0's mape: 0.00961535\n",
      "[10000]\tvalid_0's mape: 0.00954961\n",
      "[12000]\tvalid_0's mape: 0.00950767\n",
      "[14000]\tvalid_0's mape: 0.00947989\n",
      "[16000]\tvalid_0's mape: 0.00946103\n",
      "[18000]\tvalid_0's mape: 0.00944874\n",
      "[20000]\tvalid_0's mape: 0.00943993\n",
      "[22000]\tvalid_0's mape: 0.00943344\n",
      "[24000]\tvalid_0's mape: 0.00942863\n",
      "[26000]\tvalid_0's mape: 0.00942461\n",
      "[28000]\tvalid_0's mape: 0.00942137\n",
      "[30000]\tvalid_0's mape: 0.00941896\n",
      "[32000]\tvalid_0's mape: 0.00941703\n",
      "[34000]\tvalid_0's mape: 0.0094153\n",
      "[36000]\tvalid_0's mape: 0.0094138\n",
      "[38000]\tvalid_0's mape: 0.0094125\n",
      "[40000]\tvalid_0's mape: 0.00941137\n",
      "[42000]\tvalid_0's mape: 0.00941039\n",
      "[44000]\tvalid_0's mape: 0.00940962\n",
      "[46000]\tvalid_0's mape: 0.009409\n",
      "[48000]\tvalid_0's mape: 0.00940832\n",
      "[50000]\tvalid_0's mape: 0.00940781\n",
      "[52000]\tvalid_0's mape: 0.0094074\n",
      "[54000]\tvalid_0's mape: 0.00940698\n",
      "[56000]\tvalid_0's mape: 0.0094066\n",
      "[58000]\tvalid_0's mape: 0.00940625\n",
      "[60000]\tvalid_0's mape: 0.009406\n",
      "[62000]\tvalid_0's mape: 0.00940578\n",
      "[64000]\tvalid_0's mape: 0.00940554\n",
      "[66000]\tvalid_0's mape: 0.00940536\n",
      "[68000]\tvalid_0's mape: 0.0094052\n",
      "[70000]\tvalid_0's mape: 0.00940503\n",
      "[72000]\tvalid_0's mape: 0.00940488\n",
      "[74000]\tvalid_0's mape: 0.00940475\n",
      "[76000]\tvalid_0's mape: 0.00940463\n",
      "[78000]\tvalid_0's mape: 0.00940453\n",
      "[80000]\tvalid_0's mape: 0.00940448\n",
      "[82000]\tvalid_0's mape: 0.00940444\n",
      "Early stopping, best iteration is:\n",
      "[81323]\tvalid_0's mape: 0.00940444\n",
      "params: {'task': 'train', 'boosting_type': 'gbdt', 'objective': 'mse', 'metric': 'mape', 'learning_rate': 0.003, 'max_depth': 16, 'num_leaves': 300, 'feature_fraction': 0.5, 'min_data_in_leaf': 10, 'lambda_l1': 0.01, 'lambda_l2': 0.1}\n",
      "score, mse, mae, mape: 5760.86973, 0.03824, 0.12506, 0.00940.\n",
      "Training until validation scores don't improve for 1000 rounds.\n",
      "[2000]\tvalid_0's mape: 0.00955048\n",
      "[4000]\tvalid_0's mape: 0.00952073\n",
      "[6000]\tvalid_0's mape: 0.00951583\n",
      "[8000]\tvalid_0's mape: 0.00951423\n",
      "Early stopping, best iteration is:\n",
      "[8742]\tvalid_0's mape: 0.00951397\n",
      "params: {'task': 'train', 'boosting_type': 'gbdt', 'objective': 'mse', 'metric': 'mape', 'learning_rate': 0.03, 'max_depth': 16, 'num_leaves': 300, 'feature_fraction': 0.5, 'min_data_in_leaf': 10, 'lambda_l1': 0.01, 'lambda_l2': 0.1}\n",
      "score, mse, mae, mape: 5729.86817, 0.03907, 0.12650, 0.00951.\n",
      "Training until validation scores don't improve for 1000 rounds.\n",
      "[2000]\tvalid_0's mape: 0.0098718\n",
      "[4000]\tvalid_0's mape: 0.00958185\n",
      "[6000]\tvalid_0's mape: 0.0094941\n",
      "[8000]\tvalid_0's mape: 0.00945903\n",
      "[10000]\tvalid_0's mape: 0.00944223\n",
      "[12000]\tvalid_0's mape: 0.00943385\n",
      "[14000]\tvalid_0's mape: 0.00942833\n",
      "[16000]\tvalid_0's mape: 0.00942447\n",
      "[18000]\tvalid_0's mape: 0.00942192\n",
      "[20000]\tvalid_0's mape: 0.00942007\n",
      "[22000]\tvalid_0's mape: 0.0094187\n",
      "[24000]\tvalid_0's mape: 0.00941768\n",
      "[26000]\tvalid_0's mape: 0.00941697\n",
      "[28000]\tvalid_0's mape: 0.00941639\n",
      "[30000]\tvalid_0's mape: 0.00941598\n",
      "[32000]\tvalid_0's mape: 0.00941566\n",
      "[34000]\tvalid_0's mape: 0.00941545\n",
      "Early stopping, best iteration is:\n",
      "[34816]\tvalid_0's mape: 0.00941538\n",
      "params: {'task': 'train', 'boosting_type': 'gbdt', 'objective': 'mse', 'metric': 'mape', 'learning_rate': 0.007, 'max_depth': 16, 'num_leaves': 300, 'feature_fraction': 0.5, 'min_data_in_leaf': 10, 'lambda_l1': 0.01, 'lambda_l2': 0.1}\n",
      "score, mse, mae, mape: 5756.86956, 0.03841, 0.12518, 0.00941.\n",
      "Training until validation scores don't improve for 1000 rounds.\n",
      "[2000]\tvalid_0's mape: 0.0101011\n",
      "[4000]\tvalid_0's mape: 0.00968896\n",
      "[6000]\tvalid_0's mape: 0.009555\n",
      "[8000]\tvalid_0's mape: 0.00949212\n",
      "[10000]\tvalid_0's mape: 0.00946018\n",
      "[12000]\tvalid_0's mape: 0.00944391\n",
      "[14000]\tvalid_0's mape: 0.00943264\n",
      "[16000]\tvalid_0's mape: 0.00942558\n",
      "[18000]\tvalid_0's mape: 0.00942074\n",
      "[20000]\tvalid_0's mape: 0.00941716\n",
      "[22000]\tvalid_0's mape: 0.00941476\n",
      "[24000]\tvalid_0's mape: 0.00941319\n",
      "[26000]\tvalid_0's mape: 0.00941174\n",
      "[28000]\tvalid_0's mape: 0.0094106\n",
      "[30000]\tvalid_0's mape: 0.00940964\n",
      "[32000]\tvalid_0's mape: 0.00940893\n",
      "[34000]\tvalid_0's mape: 0.00940829\n",
      "[36000]\tvalid_0's mape: 0.00940776\n",
      "[38000]\tvalid_0's mape: 0.00940744\n",
      "[40000]\tvalid_0's mape: 0.00940707\n",
      "[42000]\tvalid_0's mape: 0.0094068\n",
      "[44000]\tvalid_0's mape: 0.00940661\n",
      "[46000]\tvalid_0's mape: 0.00940643\n",
      "[48000]\tvalid_0's mape: 0.0094063\n",
      "[50000]\tvalid_0's mape: 0.00940618\n",
      "Early stopping, best iteration is:\n",
      "[50229]\tvalid_0's mape: 0.00940617\n",
      "params: {'task': 'train', 'boosting_type': 'gbdt', 'objective': 'mse', 'metric': 'mape', 'learning_rate': 0.005, 'max_depth': 16, 'num_leaves': 300, 'feature_fraction': 0.5, 'min_data_in_leaf': 10, 'lambda_l1': 0.01, 'lambda_l2': 0.1}\n",
      "score, mse, mae, mape: 5764.86972, 0.03833, 0.12508, 0.00940.\n",
      "Training until validation scores don't improve for 1000 rounds.\n",
      "[2000]\tvalid_0's mape: 0.00957238\n",
      "[4000]\tvalid_0's mape: 0.00956263\n",
      "[6000]\tvalid_0's mape: 0.00956142\n",
      "Early stopping, best iteration is:\n",
      "[5556]\tvalid_0's mape: 0.00956142\n",
      "params: {'task': 'train', 'boosting_type': 'gbdt', 'objective': 'mse', 'metric': 'mape', 'learning_rate': 0.05, 'max_depth': 16, 'num_leaves': 300, 'feature_fraction': 0.5, 'min_data_in_leaf': 10, 'lambda_l1': 0.01, 'lambda_l2': 0.1}\n",
      "score, mse, mae, mape: 5704.86741, 0.03940, 0.12712, 0.00955.\n",
      "Training until validation scores don't improve for 1000 rounds.\n",
      "[2000]\tvalid_0's mape: 0.00980767\n",
      "[4000]\tvalid_0's mape: 0.00980586\n",
      "Early stopping, best iteration is:\n",
      "[3110]\tvalid_0's mape: 0.00980586\n",
      "params: {'task': 'train', 'boosting_type': 'gbdt', 'objective': 'mse', 'metric': 'mape', 'learning_rate': 0.1, 'max_depth': 16, 'num_leaves': 300, 'feature_fraction': 0.5, 'min_data_in_leaf': 10, 'lambda_l1': 0.01, 'lambda_l2': 0.1}\n",
      "score, mse, mae, mape: 5554.86431, 0.04076, 0.13040, 0.00980.\n",
      "Training until validation scores don't improve for 1000 rounds.\n",
      "[2000]\tvalid_0's mape: 0.00966466\n",
      "[4000]\tvalid_0's mape: 0.00965937\n",
      "Early stopping, best iteration is:\n",
      "[4088]\tvalid_0's mape: 0.00965933\n",
      "params: {'task': 'train', 'boosting_type': 'gbdt', 'objective': 'mse', 'metric': 'mape', 'learning_rate': 0.07, 'max_depth': 16, 'num_leaves': 300, 'feature_fraction': 0.5, 'min_data_in_leaf': 10, 'lambda_l1': 0.01, 'lambda_l2': 0.1}\n",
      "score, mse, mae, mape: 5625.86616, 0.03979, 0.12843, 0.00965.\n",
      "==== Fold 2 ====\n",
      "Training until validation scores don't improve for 1000 rounds.\n",
      "[2000]\tvalid_0's mape: 0.00973492\n",
      "[4000]\tvalid_0's mape: 0.00955267\n",
      "[6000]\tvalid_0's mape: 0.00950321\n",
      "[8000]\tvalid_0's mape: 0.00948393\n",
      "[10000]\tvalid_0's mape: 0.00947474\n",
      "[12000]\tvalid_0's mape: 0.00946941\n",
      "[14000]\tvalid_0's mape: 0.00946636\n",
      "[16000]\tvalid_0's mape: 0.0094648\n",
      "[18000]\tvalid_0's mape: 0.00946362\n",
      "[20000]\tvalid_0's mape: 0.00946286\n",
      "[22000]\tvalid_0's mape: 0.00946238\n",
      "[24000]\tvalid_0's mape: 0.00946206\n",
      "[26000]\tvalid_0's mape: 0.00946197\n",
      "Early stopping, best iteration is:\n",
      "[25031]\tvalid_0's mape: 0.00946197\n",
      "params: {'task': 'train', 'boosting_type': 'gbdt', 'objective': 'mse', 'metric': 'mape', 'learning_rate': 0.01, 'max_depth': 16, 'num_leaves': 300, 'feature_fraction': 0.5, 'min_data_in_leaf': 10, 'lambda_l1': 0.01, 'lambda_l2': 0.1}\n",
      "score, mse, mae, mape: 5754.87062, 0.04007, 0.12605, 0.00945.\n",
      "Training until validation scores don't improve for 1000 rounds.\n",
      "[2000]\tvalid_0's mape: 0.010594\n",
      "[4000]\tvalid_0's mape: 0.00996317\n",
      "[6000]\tvalid_0's mape: 0.00974526\n"
     ]
    },
    {
     "name": "stdout",
     "output_type": "stream",
     "text": [
      "[8000]\tvalid_0's mape: 0.00963913\n",
      "[10000]\tvalid_0's mape: 0.00958073\n",
      "[12000]\tvalid_0's mape: 0.00954211\n",
      "[14000]\tvalid_0's mape: 0.00951639\n",
      "[16000]\tvalid_0's mape: 0.00949814\n",
      "[18000]\tvalid_0's mape: 0.00948465\n",
      "[20000]\tvalid_0's mape: 0.00947565\n",
      "[22000]\tvalid_0's mape: 0.0094686\n",
      "[24000]\tvalid_0's mape: 0.00946291\n",
      "[26000]\tvalid_0's mape: 0.00945861\n",
      "[28000]\tvalid_0's mape: 0.00945518\n",
      "[30000]\tvalid_0's mape: 0.00945254\n",
      "[32000]\tvalid_0's mape: 0.00945072\n",
      "[34000]\tvalid_0's mape: 0.0094487\n",
      "[36000]\tvalid_0's mape: 0.00944656\n",
      "[38000]\tvalid_0's mape: 0.00944473\n",
      "[40000]\tvalid_0's mape: 0.00944355\n",
      "[42000]\tvalid_0's mape: 0.00944254\n",
      "[44000]\tvalid_0's mape: 0.00944159\n",
      "[46000]\tvalid_0's mape: 0.00944084\n",
      "[48000]\tvalid_0's mape: 0.00944007\n",
      "[50000]\tvalid_0's mape: 0.00943945\n",
      "[52000]\tvalid_0's mape: 0.00943904\n",
      "[54000]\tvalid_0's mape: 0.00943867\n",
      "[56000]\tvalid_0's mape: 0.00943833\n",
      "[58000]\tvalid_0's mape: 0.00943802\n",
      "[60000]\tvalid_0's mape: 0.0094377\n",
      "[62000]\tvalid_0's mape: 0.00943744\n",
      "[64000]\tvalid_0's mape: 0.00943723\n",
      "[66000]\tvalid_0's mape: 0.00943703\n",
      "[68000]\tvalid_0's mape: 0.00943685\n",
      "[70000]\tvalid_0's mape: 0.0094367\n",
      "[72000]\tvalid_0's mape: 0.00943659\n",
      "[74000]\tvalid_0's mape: 0.00943648\n",
      "[76000]\tvalid_0's mape: 0.00943638\n",
      "[78000]\tvalid_0's mape: 0.00943631\n",
      "[80000]\tvalid_0's mape: 0.00943623\n",
      "[82000]\tvalid_0's mape: 0.00943619\n",
      "Early stopping, best iteration is:\n",
      "[81906]\tvalid_0's mape: 0.00943619\n",
      "params: {'task': 'train', 'boosting_type': 'gbdt', 'objective': 'mse', 'metric': 'mape', 'learning_rate': 0.003, 'max_depth': 16, 'num_leaves': 300, 'feature_fraction': 0.5, 'min_data_in_leaf': 10, 'lambda_l1': 0.01, 'lambda_l2': 0.1}\n",
      "score, mse, mae, mape: 5772.87093, 0.03996, 0.12569, 0.00943.\n",
      "Training until validation scores don't improve for 1000 rounds.\n",
      "[2000]\tvalid_0's mape: 0.00959889\n",
      "[4000]\tvalid_0's mape: 0.00956758\n",
      "[6000]\tvalid_0's mape: 0.0095615\n",
      "[8000]\tvalid_0's mape: 0.0095598\n",
      "Early stopping, best iteration is:\n",
      "[8887]\tvalid_0's mape: 0.00955955\n",
      "params: {'task': 'train', 'boosting_type': 'gbdt', 'objective': 'mse', 'metric': 'mape', 'learning_rate': 0.03, 'max_depth': 16, 'num_leaves': 300, 'feature_fraction': 0.5, 'min_data_in_leaf': 10, 'lambda_l1': 0.01, 'lambda_l2': 0.1}\n",
      "score, mse, mae, mape: 5694.86929, 0.04079, 0.12737, 0.00955.\n",
      "Training until validation scores don't improve for 1000 rounds.\n",
      "[2000]\tvalid_0's mape: 0.0098919\n",
      "[4000]\tvalid_0's mape: 0.0096155\n",
      "[6000]\tvalid_0's mape: 0.00953518\n",
      "[8000]\tvalid_0's mape: 0.00950033\n",
      "[10000]\tvalid_0's mape: 0.00948264\n",
      "[12000]\tvalid_0's mape: 0.00947268\n",
      "[14000]\tvalid_0's mape: 0.0094671\n",
      "[16000]\tvalid_0's mape: 0.00946355\n",
      "[18000]\tvalid_0's mape: 0.00946104\n",
      "[20000]\tvalid_0's mape: 0.00945913\n",
      "[22000]\tvalid_0's mape: 0.00945803\n",
      "[24000]\tvalid_0's mape: 0.00945708\n",
      "[26000]\tvalid_0's mape: 0.00945636\n",
      "[28000]\tvalid_0's mape: 0.00945581\n",
      "[30000]\tvalid_0's mape: 0.00945544\n",
      "[32000]\tvalid_0's mape: 0.00945513\n",
      "[34000]\tvalid_0's mape: 0.00945495\n",
      "[36000]\tvalid_0's mape: 0.00945481\n",
      "Early stopping, best iteration is:\n",
      "[35768]\tvalid_0's mape: 0.00945481\n",
      "params: {'task': 'train', 'boosting_type': 'gbdt', 'objective': 'mse', 'metric': 'mape', 'learning_rate': 0.007, 'max_depth': 16, 'num_leaves': 300, 'feature_fraction': 0.5, 'min_data_in_leaf': 10, 'lambda_l1': 0.01, 'lambda_l2': 0.1}\n",
      "score, mse, mae, mape: 5738.87069, 0.04004, 0.12595, 0.00945.\n",
      "Training until validation scores don't improve for 1000 rounds.\n",
      "[2000]\tvalid_0's mape: 0.0101032\n",
      "[4000]\tvalid_0's mape: 0.00971369\n",
      "[6000]\tvalid_0's mape: 0.00959125\n",
      "[8000]\tvalid_0's mape: 0.00953426\n",
      "[10000]\tvalid_0's mape: 0.00950368\n",
      "[12000]\tvalid_0's mape: 0.0094849\n",
      "[14000]\tvalid_0's mape: 0.00947324\n",
      "[16000]\tvalid_0's mape: 0.00946563\n",
      "[18000]\tvalid_0's mape: 0.0094609\n",
      "[20000]\tvalid_0's mape: 0.00945738\n",
      "[22000]\tvalid_0's mape: 0.00945472\n",
      "[24000]\tvalid_0's mape: 0.00945255\n",
      "[26000]\tvalid_0's mape: 0.00945083\n",
      "[28000]\tvalid_0's mape: 0.00944956\n",
      "[30000]\tvalid_0's mape: 0.00944862\n",
      "[32000]\tvalid_0's mape: 0.0094479\n",
      "[34000]\tvalid_0's mape: 0.00944717\n",
      "[36000]\tvalid_0's mape: 0.00944665\n",
      "[38000]\tvalid_0's mape: 0.00944621\n",
      "[40000]\tvalid_0's mape: 0.00944588\n",
      "[42000]\tvalid_0's mape: 0.00944557\n",
      "[44000]\tvalid_0's mape: 0.00944536\n",
      "[46000]\tvalid_0's mape: 0.00944517\n",
      "[48000]\tvalid_0's mape: 0.00944504\n",
      "[50000]\tvalid_0's mape: 0.00944496\n",
      "Early stopping, best iteration is:\n",
      "[49632]\tvalid_0's mape: 0.00944496\n",
      "params: {'task': 'train', 'boosting_type': 'gbdt', 'objective': 'mse', 'metric': 'mape', 'learning_rate': 0.005, 'max_depth': 16, 'num_leaves': 300, 'feature_fraction': 0.5, 'min_data_in_leaf': 10, 'lambda_l1': 0.01, 'lambda_l2': 0.1}\n",
      "score, mse, mae, mape: 5763.87084, 0.04001, 0.12580, 0.00944.\n",
      "Training until validation scores don't improve for 1000 rounds.\n",
      "[2000]\tvalid_0's mape: 0.00962348\n",
      "[4000]\tvalid_0's mape: 0.00961353\n",
      "[6000]\tvalid_0's mape: 0.00961233\n",
      "Early stopping, best iteration is:\n",
      "[5504]\tvalid_0's mape: 0.00961233\n",
      "params: {'task': 'train', 'boosting_type': 'gbdt', 'objective': 'mse', 'metric': 'mape', 'learning_rate': 0.05, 'max_depth': 16, 'num_leaves': 300, 'feature_fraction': 0.5, 'min_data_in_leaf': 10, 'lambda_l1': 0.01, 'lambda_l2': 0.1}\n",
      "score, mse, mae, mape: 5692.86858, 0.04097, 0.12809, 0.00961.\n",
      "Training until validation scores don't improve for 1000 rounds.\n",
      "[2000]\tvalid_0's mape: 0.00971804\n",
      "[4000]\tvalid_0's mape: 0.00971237\n",
      "Early stopping, best iteration is:\n",
      "[4221]\tvalid_0's mape: 0.0097123\n",
      "params: {'task': 'train', 'boosting_type': 'gbdt', 'objective': 'mse', 'metric': 'mape', 'learning_rate': 0.07, 'max_depth': 16, 'num_leaves': 300, 'feature_fraction': 0.5, 'min_data_in_leaf': 10, 'lambda_l1': 0.01, 'lambda_l2': 0.1}\n",
      "score, mse, mae, mape: 5616.86735, 0.04180, 0.12940, 0.00970.\n",
      "==== Fold 3 ====\n",
      "Training until validation scores don't improve for 1000 rounds.\n",
      "[2000]\tvalid_0's mape: 0.00980517\n",
      "[4000]\tvalid_0's mape: 0.00962068\n",
      "[6000]\tvalid_0's mape: 0.00957016\n",
      "[8000]\tvalid_0's mape: 0.00955058\n",
      "[10000]\tvalid_0's mape: 0.00954035\n",
      "[12000]\tvalid_0's mape: 0.00953489\n",
      "[14000]\tvalid_0's mape: 0.00953185\n",
      "[16000]\tvalid_0's mape: 0.00953028\n",
      "[18000]\tvalid_0's mape: 0.00952923\n",
      "[20000]\tvalid_0's mape: 0.00952855\n",
      "[22000]\tvalid_0's mape: 0.00952808\n",
      "[24000]\tvalid_0's mape: 0.00952784\n",
      "Early stopping, best iteration is:\n",
      "[23941]\tvalid_0's mape: 0.00952784\n",
      "params: {'task': 'train', 'boosting_type': 'gbdt', 'objective': 'mse', 'metric': 'mape', 'learning_rate': 0.01, 'max_depth': 16, 'num_leaves': 300, 'feature_fraction': 0.5, 'min_data_in_leaf': 10, 'lambda_l1': 0.01, 'lambda_l2': 0.1}\n",
      "score, mse, mae, mape: 5711.86726, 0.04006, 0.12667, 0.00952.\n",
      "Training until validation scores don't improve for 1000 rounds.\n",
      "[2000]\tvalid_0's mape: 0.0107465\n",
      "[4000]\tvalid_0's mape: 0.0100499\n",
      "[6000]\tvalid_0's mape: 0.0098199\n",
      "[8000]\tvalid_0's mape: 0.0097116\n",
      "[10000]\tvalid_0's mape: 0.00964848\n",
      "[12000]\tvalid_0's mape: 0.00960805\n",
      "[14000]\tvalid_0's mape: 0.00958137\n",
      "[16000]\tvalid_0's mape: 0.00956251\n",
      "[18000]\tvalid_0's mape: 0.00954941\n",
      "[20000]\tvalid_0's mape: 0.00953977\n",
      "[22000]\tvalid_0's mape: 0.00953239\n",
      "[24000]\tvalid_0's mape: 0.00952732\n",
      "[26000]\tvalid_0's mape: 0.00952258\n",
      "[28000]\tvalid_0's mape: 0.00951877\n",
      "[30000]\tvalid_0's mape: 0.00951575\n",
      "[32000]\tvalid_0's mape: 0.00951329\n",
      "[34000]\tvalid_0's mape: 0.00951129\n",
      "[36000]\tvalid_0's mape: 0.00950957\n",
      "[38000]\tvalid_0's mape: 0.00950848\n",
      "[40000]\tvalid_0's mape: 0.00950729\n",
      "[42000]\tvalid_0's mape: 0.00950615\n",
      "[44000]\tvalid_0's mape: 0.00950528\n",
      "[46000]\tvalid_0's mape: 0.00950436\n",
      "[48000]\tvalid_0's mape: 0.00950375\n",
      "[50000]\tvalid_0's mape: 0.00950321\n",
      "[52000]\tvalid_0's mape: 0.00950264\n",
      "[54000]\tvalid_0's mape: 0.00950214\n",
      "[56000]\tvalid_0's mape: 0.00950175\n",
      "[58000]\tvalid_0's mape: 0.00950141\n",
      "[60000]\tvalid_0's mape: 0.00950113\n",
      "[62000]\tvalid_0's mape: 0.00950087\n",
      "[64000]\tvalid_0's mape: 0.00950062\n",
      "[66000]\tvalid_0's mape: 0.00950044\n",
      "[68000]\tvalid_0's mape: 0.00950027\n",
      "[70000]\tvalid_0's mape: 0.00950016\n",
      "[72000]\tvalid_0's mape: 0.00950001\n",
      "[74000]\tvalid_0's mape: 0.00949991\n",
      "[76000]\tvalid_0's mape: 0.00949982\n",
      "[78000]\tvalid_0's mape: 0.00949975\n",
      "[80000]\tvalid_0's mape: 0.0094997\n",
      "[82000]\tvalid_0's mape: 0.00949967\n",
      "Early stopping, best iteration is:\n",
      "[81284]\tvalid_0's mape: 0.00949967\n",
      "params: {'task': 'train', 'boosting_type': 'gbdt', 'objective': 'mse', 'metric': 'mape', 'learning_rate': 0.003, 'max_depth': 16, 'num_leaves': 300, 'feature_fraction': 0.5, 'min_data_in_leaf': 10, 'lambda_l1': 0.01, 'lambda_l2': 0.1}\n",
      "score, mse, mae, mape: 5743.86761, 0.03987, 0.12629, 0.00950.\n",
      "Training until validation scores don't improve for 1000 rounds.\n"
     ]
    },
    {
     "name": "stdout",
     "output_type": "stream",
     "text": [
      "[2000]\tvalid_0's mape: 0.0096626\n",
      "[4000]\tvalid_0's mape: 0.00963002\n",
      "[6000]\tvalid_0's mape: 0.00962412\n",
      "[8000]\tvalid_0's mape: 0.00962251\n",
      "Early stopping, best iteration is:\n",
      "[8695]\tvalid_0's mape: 0.0096223\n",
      "params: {'task': 'train', 'boosting_type': 'gbdt', 'objective': 'mse', 'metric': 'mape', 'learning_rate': 0.03, 'max_depth': 16, 'num_leaves': 300, 'feature_fraction': 0.5, 'min_data_in_leaf': 10, 'lambda_l1': 0.01, 'lambda_l2': 0.1}\n",
      "score, mse, mae, mape: 5669.86588, 0.04071, 0.12787, 0.00962.\n",
      "Training until validation scores don't improve for 1000 rounds.\n",
      "[2000]\tvalid_0's mape: 0.00996592\n",
      "[4000]\tvalid_0's mape: 0.00968257\n",
      "[6000]\tvalid_0's mape: 0.00960197\n",
      "[8000]\tvalid_0's mape: 0.00956819\n",
      "[10000]\tvalid_0's mape: 0.00954956\n",
      "[12000]\tvalid_0's mape: 0.00953995\n",
      "[14000]\tvalid_0's mape: 0.00953436\n",
      "[16000]\tvalid_0's mape: 0.00953043\n",
      "[18000]\tvalid_0's mape: 0.0095274\n",
      "[20000]\tvalid_0's mape: 0.00952561\n",
      "[22000]\tvalid_0's mape: 0.00952419\n",
      "[24000]\tvalid_0's mape: 0.00952327\n",
      "[26000]\tvalid_0's mape: 0.00952262\n",
      "[28000]\tvalid_0's mape: 0.00952204\n",
      "[30000]\tvalid_0's mape: 0.00952165\n",
      "[32000]\tvalid_0's mape: 0.00952137\n",
      "[34000]\tvalid_0's mape: 0.00952121\n",
      "Early stopping, best iteration is:\n",
      "[34439]\tvalid_0's mape: 0.00952119\n",
      "params: {'task': 'train', 'boosting_type': 'gbdt', 'objective': 'mse', 'metric': 'mape', 'learning_rate': 0.007, 'max_depth': 16, 'num_leaves': 300, 'feature_fraction': 0.5, 'min_data_in_leaf': 10, 'lambda_l1': 0.01, 'lambda_l2': 0.1}\n",
      "score, mse, mae, mape: 5724.86731, 0.04006, 0.12658, 0.00952.\n",
      "Training until validation scores don't improve for 1000 rounds.\n",
      "[2000]\tvalid_0's mape: 0.0102113\n",
      "[4000]\tvalid_0's mape: 0.00979483\n",
      "[6000]\tvalid_0's mape: 0.00966828\n",
      "[8000]\tvalid_0's mape: 0.00960772\n",
      "[10000]\tvalid_0's mape: 0.00957706\n",
      "[12000]\tvalid_0's mape: 0.00955871\n",
      "[14000]\tvalid_0's mape: 0.00954663\n",
      "[16000]\tvalid_0's mape: 0.00953909\n",
      "[18000]\tvalid_0's mape: 0.00953378\n",
      "[20000]\tvalid_0's mape: 0.00952965\n",
      "[22000]\tvalid_0's mape: 0.00952685\n",
      "[24000]\tvalid_0's mape: 0.00952441\n",
      "[26000]\tvalid_0's mape: 0.00952272\n",
      "[28000]\tvalid_0's mape: 0.00952134\n",
      "[30000]\tvalid_0's mape: 0.00952031\n",
      "[32000]\tvalid_0's mape: 0.00951946\n",
      "[34000]\tvalid_0's mape: 0.00951882\n",
      "[36000]\tvalid_0's mape: 0.00951834\n",
      "[38000]\tvalid_0's mape: 0.00951792\n",
      "[40000]\tvalid_0's mape: 0.00951757\n",
      "[42000]\tvalid_0's mape: 0.00951733\n",
      "[44000]\tvalid_0's mape: 0.00951715\n",
      "[46000]\tvalid_0's mape: 0.00951704\n",
      "[48000]\tvalid_0's mape: 0.00951697\n",
      "Early stopping, best iteration is:\n",
      "[48057]\tvalid_0's mape: 0.00951697\n",
      "params: {'task': 'train', 'boosting_type': 'gbdt', 'objective': 'mse', 'metric': 'mape', 'learning_rate': 0.005, 'max_depth': 16, 'num_leaves': 300, 'feature_fraction': 0.5, 'min_data_in_leaf': 10, 'lambda_l1': 0.01, 'lambda_l2': 0.1}\n",
      "score, mse, mae, mape: 5724.86732, 0.04004, 0.12651, 0.00951.\n",
      "Training until validation scores don't improve for 1000 rounds.\n",
      "[2000]\tvalid_0's mape: 0.00969479\n",
      "[4000]\tvalid_0's mape: 0.00968325\n",
      "[6000]\tvalid_0's mape: 0.00968218\n",
      "Early stopping, best iteration is:\n",
      "[5515]\tvalid_0's mape: 0.00968218\n",
      "params: {'task': 'train', 'boosting_type': 'gbdt', 'objective': 'mse', 'metric': 'mape', 'learning_rate': 0.05, 'max_depth': 16, 'num_leaves': 300, 'feature_fraction': 0.5, 'min_data_in_leaf': 10, 'lambda_l1': 0.01, 'lambda_l2': 0.1}\n",
      "score, mse, mae, mape: 5638.86482, 0.04105, 0.12874, 0.00968.\n",
      "Training until validation scores don't improve for 1000 rounds.\n",
      "[2000]\tvalid_0's mape: 0.00978592\n",
      "[4000]\tvalid_0's mape: 0.00978037\n",
      "Early stopping, best iteration is:\n",
      "[4192]\tvalid_0's mape: 0.00978032\n",
      "params: {'task': 'train', 'boosting_type': 'gbdt', 'objective': 'mse', 'metric': 'mape', 'learning_rate': 0.07, 'max_depth': 16, 'num_leaves': 300, 'feature_fraction': 0.5, 'min_data_in_leaf': 10, 'lambda_l1': 0.01, 'lambda_l2': 0.1}\n",
      "score, mse, mae, mape: 5614.86361, 0.04145, 0.13006, 0.00978.\n"
     ]
    }
   ],
   "source": [
    "t0 = time.time()\n",
    "gsearch = {}\n",
    "folds = KFold(n_splits=N_fold, shuffle=True, random_state=123)\n",
    "for i_fold, (itrain, ival) in enumerate(folds.split(df)): # kfold\n",
    "    print('==== Fold', i_fold+1, '====')\n",
    "    \n",
    "    # split train, val\n",
    "    df_train = df.loc[itrain]\n",
    "    df_val = df.loc[ival]\n",
    "    \n",
    "    # feat eng\n",
    "    feat_eng = FeatureEngineering(cols_num, cols_cat, cols_feats, col_target)\n",
    "    df_train = feat_eng.fit_transform(df_train)\n",
    "    df_val = feat_eng.transform(df_val)\n",
    "\n",
    "    # Construct lgb dataset\n",
    "    lgb_train = lgb.Dataset(df_train[cols_feats], df_train[col_target]).construct()\n",
    "    lgb_val = lgb.Dataset(df_val[cols_feats], df_val[col_target], reference=lgb_train).construct()\n",
    "        \n",
    "    # random sample - grid search\n",
    "    rand_params_next = []\n",
    "    for params_rand in rand_params_set:\n",
    "        params = params_fix.copy()\n",
    "        params.update( params_rand )\n",
    "\n",
    "        model = lgb.train(params, lgb_train, valid_sets=lgb_val, keep_training_booster=True,\n",
    "                          **lgb_other_params)\n",
    "\n",
    "        y_pred = model.predict(df_val[cols_feats])\n",
    "        mse = mean_squared_error(df_val[col_target], y_pred)\n",
    "        mae = mean_absolute_error(df_val[col_target], y_pred)\n",
    "        mape = cal_mape(df_val[col_target], y_pred)\n",
    "        \n",
    "        y_pred_final = post_processing(y_pred, df_val)\n",
    "        score = cal_score(df_val['total_price'], y_pred_final)\n",
    "\n",
    "        print('params:', params)\n",
    "        print('score, mse, mae, mape: %.5f, %.5f, %.5f, %.5f.' % (score, mse, mae, mape))\n",
    "\n",
    "        if score < score_low_bound:\n",
    "            continue\n",
    "\n",
    "        rand_params_next.append(params_rand)\n",
    "        tuple_params = tuple(params.items())\n",
    "        if tuple_params not in gsearch:\n",
    "            gsearch[tuple_params] = [[], [], [], [], []]\n",
    "        gsearch[tuple_params][0].append(model.best_iteration)\n",
    "        gsearch[tuple_params][1].append(score)\n",
    "        gsearch[tuple_params][2].append(mse)\n",
    "        gsearch[tuple_params][3].append(mae)\n",
    "        gsearch[tuple_params][4].append(mape)\n",
    "        \n",
    "    rand_params_set = rand_params_next\n",
    "# aggregate, sort gsearch results\n",
    "gsearch_results = [[key, *[np.mean(val_i) for val_i in val[1:]], *val] for key, val in gsearch.items()]\n",
    "gsearch_results.sort(key= lambda x: x[1], reverse=True)\n",
    "t1 = time.time()"
   ]
  },
  {
   "cell_type": "code",
   "execution_count": 14,
   "metadata": {},
   "outputs": [
    {
     "name": "stdout",
     "output_type": "stream",
     "text": [
      "Total computing time: 16049.273500204086\n"
     ]
    }
   ],
   "source": [
    "print('Total computing time:', t1-t0)"
   ]
  },
  {
   "cell_type": "markdown",
   "metadata": {},
   "source": [
    "TODO: add lr= 0.001 results here (see how to compare build and predict)"
   ]
  },
  {
   "cell_type": "code",
   "execution_count": 15,
   "metadata": {},
   "outputs": [
    {
     "name": "stdout",
     "output_type": "stream",
     "text": [
      "(('task', 'train'), ('boosting_type', 'gbdt'), ('objective', 'mse'), ('metric', 'mape'), ('learning_rate', 0.003), ('max_depth', 16), ('num_leaves', 300), ('feature_fraction', 0.5), ('min_data_in_leaf', 10), ('lambda_l1', 0.01), ('lambda_l2', 0.1)) 5759.202754425594 0.03935629228200634 0.1256802345112175 0.00944115814180837 [5760.86972615993, 5772.870928085513, 5743.867609031339] [0.03824138609184463, 0.03995908448171842, 0.03986840627245597] [0.12505532226656882, 0.12569174191163468, 0.12629363935544902] [0.00940003315361107, 0.009427576036866952, 0.009495865234947087]\n",
      "(('task', 'train'), ('boosting_type', 'gbdt'), ('objective', 'mse'), ('metric', 'mape'), ('learning_rate', 0.005), ('max_depth', 16), ('num_leaves', 300), ('feature_fraction', 0.5), ('min_data_in_leaf', 10), ('lambda_l1', 0.01), ('lambda_l2', 0.1)) 5751.202629683488 0.03946038448176132 0.1258000685199044 0.009450552656604409 [5764.869723639806, 5763.870840786203, 5724.867324624458] [0.03832758935234754, 0.04001257062937591, 0.04004099346356053] [0.12508459339145825, 0.12580150073126928, 0.1265141114369857] [0.009402448330182177, 0.009436091196589329, 0.009513118443041717]\n",
      "(('task', 'train'), ('boosting_type', 'gbdt'), ('objective', 'mse'), ('metric', 'mape'), ('learning_rate', 0.01), ('max_depth', 16), ('num_leaves', 300), ('feature_fraction', 0.5), ('min_data_in_leaf', 10), ('lambda_l1', 0.01), ('lambda_l2', 0.1)) 5744.86903680761 0.03955470668753225 0.12606760439027134 0.009470130539728958 [5767.869227330606, 5754.870622634057, 5711.86726045817] [0.03853063368951811, 0.04007467974145371, 0.04005880663162492] [0.12548899344325026, 0.12604780984689457, 0.12666600988066917] [0.00943296670105554, 0.009453368113494795, 0.009524056804636537]\n",
      "(('task', 'train'), ('boosting_type', 'gbdt'), ('objective', 'mse'), ('metric', 'mape'), ('learning_rate', 0.007), ('max_depth', 16), ('num_leaves', 300), ('feature_fraction', 0.5), ('min_data_in_leaf', 10), ('lambda_l1', 0.01), ('lambda_l2', 0.1)) 5740.202524692392 0.03950265581374023 0.1259055084574817 0.009458288345624398 [5756.869564111103, 5738.870694974607, 5724.8673149914675] [0.0384083975184408, 0.04003614473864248, 0.04006342518413743] [0.12518139891056254, 0.12595088944856644, 0.12658423701331603] [0.00941061167650365, 0.009446107514660568, 0.009518145845708975]\n",
      "(('task', 'train'), ('boosting_type', 'gbdt'), ('objective', 'mse'), ('metric', 'mape'), ('learning_rate', 0.03), ('max_depth', 16), ('num_leaves', 300), ('feature_fraction', 0.5), ('min_data_in_leaf', 10), ('lambda_l1', 0.01), ('lambda_l2', 0.1)) 5698.201113441514 0.040191575332366815 0.12724324455076158 0.009559747812040173 [5729.868167835901, 5694.869288082981, 5669.865884405659] [0.03907352158511781, 0.04078955042036631, 0.04071165399161632] [0.12649754562155535, 0.1273666820597766, 0.12786550597095275] [0.009509185550019386, 0.00955187034523361, 0.009618187540867525]\n",
      "(('task', 'train'), ('boosting_type', 'gbdt'), ('objective', 'mse'), ('metric', 'mape'), ('learning_rate', 0.05), ('max_depth', 16), ('num_leaves', 300), ('feature_fraction', 0.5), ('min_data_in_leaf', 10), ('lambda_l1', 0.01), ('lambda_l2', 0.1)) 5678.8669385951325 0.04047597297328946 0.12798360239204187 0.009614113372202185 [5704.867412627905, 5692.868581317095, 5638.864821840399] [0.039403938673970865, 0.04097204433871111, 0.04105193590718641] [0.127122343383192, 0.1280897664568802, 0.1287386973360534] [0.00955475841032264, 0.009608143407998957, 0.009679438298284953]\n",
      "(('task', 'train'), ('boosting_type', 'gbdt'), ('objective', 'mse'), ('metric', 'mape'), ('learning_rate', 0.07), ('max_depth', 16), ('num_leaves', 300), ('feature_fraction', 0.5), ('min_data_in_leaf', 10), ('lambda_l1', 0.01), ('lambda_l2', 0.1)) 5619.199039959192 0.041011651972860906 0.1292976781507114 0.009712350845695716 [5625.86616177201, 5616.867352749384, 5614.863605356181] [0.03979322578730114, 0.04179586199592007, 0.04144586813536149] [0.12842956873420117, 0.12940445642916149, 0.1300590092887716] [0.009653736365579093, 0.00970470864168559, 0.009778607529822464]\n"
     ]
    }
   ],
   "source": [
    "for row in gsearch_results:\n",
    "    print(*[x for i, x in enumerate(row) if i != 5])"
   ]
  },
  {
   "cell_type": "code",
   "execution_count": 16,
   "metadata": {},
   "outputs": [],
   "source": [
    "metrics = ['score', 'mse', 'mae', 'mape']"
   ]
  },
  {
   "cell_type": "code",
   "execution_count": 17,
   "metadata": {
    "scrolled": true
   },
   "outputs": [
    {
     "data": {
      "text/html": [
       "<div>\n",
       "<style scoped>\n",
       "    .dataframe tbody tr th:only-of-type {\n",
       "        vertical-align: middle;\n",
       "    }\n",
       "\n",
       "    .dataframe tbody tr th {\n",
       "        vertical-align: top;\n",
       "    }\n",
       "\n",
       "    .dataframe thead th {\n",
       "        text-align: right;\n",
       "    }\n",
       "</style>\n",
       "<table border=\"1\" class=\"dataframe\">\n",
       "  <thead>\n",
       "    <tr style=\"text-align: right;\">\n",
       "      <th></th>\n",
       "      <th>learning_rate</th>\n",
       "      <th>max_depth</th>\n",
       "      <th>num_leaves</th>\n",
       "      <th>feature_fraction</th>\n",
       "      <th>min_data_in_leaf</th>\n",
       "      <th>lambda_l1</th>\n",
       "      <th>lambda_l2</th>\n",
       "      <th>score</th>\n",
       "      <th>mse</th>\n",
       "      <th>mae</th>\n",
       "      <th>mape</th>\n",
       "      <th>best_iteration</th>\n",
       "    </tr>\n",
       "  </thead>\n",
       "  <tbody>\n",
       "    <tr>\n",
       "      <th>0</th>\n",
       "      <td>0.003</td>\n",
       "      <td>16</td>\n",
       "      <td>300</td>\n",
       "      <td>0.5</td>\n",
       "      <td>10</td>\n",
       "      <td>0.01</td>\n",
       "      <td>0.1</td>\n",
       "      <td>5759.202754</td>\n",
       "      <td>0.039356</td>\n",
       "      <td>0.125680</td>\n",
       "      <td>0.009441</td>\n",
       "      <td>81504.333333</td>\n",
       "    </tr>\n",
       "    <tr>\n",
       "      <th>1</th>\n",
       "      <td>0.005</td>\n",
       "      <td>16</td>\n",
       "      <td>300</td>\n",
       "      <td>0.5</td>\n",
       "      <td>10</td>\n",
       "      <td>0.01</td>\n",
       "      <td>0.1</td>\n",
       "      <td>5751.202630</td>\n",
       "      <td>0.039460</td>\n",
       "      <td>0.125800</td>\n",
       "      <td>0.009451</td>\n",
       "      <td>49306.000000</td>\n",
       "    </tr>\n",
       "    <tr>\n",
       "      <th>2</th>\n",
       "      <td>0.010</td>\n",
       "      <td>16</td>\n",
       "      <td>300</td>\n",
       "      <td>0.5</td>\n",
       "      <td>10</td>\n",
       "      <td>0.01</td>\n",
       "      <td>0.1</td>\n",
       "      <td>5744.869037</td>\n",
       "      <td>0.039555</td>\n",
       "      <td>0.126068</td>\n",
       "      <td>0.009470</td>\n",
       "      <td>24673.666667</td>\n",
       "    </tr>\n",
       "    <tr>\n",
       "      <th>3</th>\n",
       "      <td>0.007</td>\n",
       "      <td>16</td>\n",
       "      <td>300</td>\n",
       "      <td>0.5</td>\n",
       "      <td>10</td>\n",
       "      <td>0.01</td>\n",
       "      <td>0.1</td>\n",
       "      <td>5740.202525</td>\n",
       "      <td>0.039503</td>\n",
       "      <td>0.125906</td>\n",
       "      <td>0.009458</td>\n",
       "      <td>35007.666667</td>\n",
       "    </tr>\n",
       "    <tr>\n",
       "      <th>4</th>\n",
       "      <td>0.030</td>\n",
       "      <td>16</td>\n",
       "      <td>300</td>\n",
       "      <td>0.5</td>\n",
       "      <td>10</td>\n",
       "      <td>0.01</td>\n",
       "      <td>0.1</td>\n",
       "      <td>5698.201113</td>\n",
       "      <td>0.040192</td>\n",
       "      <td>0.127243</td>\n",
       "      <td>0.009560</td>\n",
       "      <td>8774.666667</td>\n",
       "    </tr>\n",
       "    <tr>\n",
       "      <th>5</th>\n",
       "      <td>0.050</td>\n",
       "      <td>16</td>\n",
       "      <td>300</td>\n",
       "      <td>0.5</td>\n",
       "      <td>10</td>\n",
       "      <td>0.01</td>\n",
       "      <td>0.1</td>\n",
       "      <td>5678.866939</td>\n",
       "      <td>0.040476</td>\n",
       "      <td>0.127984</td>\n",
       "      <td>0.009614</td>\n",
       "      <td>5525.000000</td>\n",
       "    </tr>\n",
       "    <tr>\n",
       "      <th>6</th>\n",
       "      <td>0.070</td>\n",
       "      <td>16</td>\n",
       "      <td>300</td>\n",
       "      <td>0.5</td>\n",
       "      <td>10</td>\n",
       "      <td>0.01</td>\n",
       "      <td>0.1</td>\n",
       "      <td>5619.199040</td>\n",
       "      <td>0.041012</td>\n",
       "      <td>0.129298</td>\n",
       "      <td>0.009712</td>\n",
       "      <td>4167.000000</td>\n",
       "    </tr>\n",
       "  </tbody>\n",
       "</table>\n",
       "</div>"
      ],
      "text/plain": [
       "   learning_rate  max_depth  num_leaves  feature_fraction  min_data_in_leaf  \\\n",
       "0          0.003         16         300               0.5                10   \n",
       "1          0.005         16         300               0.5                10   \n",
       "2          0.010         16         300               0.5                10   \n",
       "3          0.007         16         300               0.5                10   \n",
       "4          0.030         16         300               0.5                10   \n",
       "5          0.050         16         300               0.5                10   \n",
       "6          0.070         16         300               0.5                10   \n",
       "\n",
       "   lambda_l1  lambda_l2        score       mse       mae      mape  \\\n",
       "0       0.01        0.1  5759.202754  0.039356  0.125680  0.009441   \n",
       "1       0.01        0.1  5751.202630  0.039460  0.125800  0.009451   \n",
       "2       0.01        0.1  5744.869037  0.039555  0.126068  0.009470   \n",
       "3       0.01        0.1  5740.202525  0.039503  0.125906  0.009458   \n",
       "4       0.01        0.1  5698.201113  0.040192  0.127243  0.009560   \n",
       "5       0.01        0.1  5678.866939  0.040476  0.127984  0.009614   \n",
       "6       0.01        0.1  5619.199040  0.041012  0.129298  0.009712   \n",
       "\n",
       "   best_iteration  \n",
       "0    81504.333333  \n",
       "1    49306.000000  \n",
       "2    24673.666667  \n",
       "3    35007.666667  \n",
       "4     8774.666667  \n",
       "5     5525.000000  \n",
       "6     4167.000000  "
      ]
     },
     "metadata": {},
     "output_type": "display_data"
    }
   ],
   "source": [
    "df_gsearch_results = []\n",
    "for row in gsearch_results:\n",
    "    result = dict(row[0])\n",
    "    result['score'] = row[1]\n",
    "    result['mse'] = row[2]\n",
    "    result['mae'] = row[3]\n",
    "    result['mape'] = row[4]\n",
    "    result['best_iteration'] = np.mean(row[5])\n",
    "    df_gsearch_results.append(result)\n",
    "df_gsearch_results = pd.DataFrame(df_gsearch_results)\n",
    "df_gsearch_results = df_gsearch_results[list(params_gsearch.keys())+metrics+['best_iteration']]\n",
    "display(df_gsearch_results)"
   ]
  },
  {
   "cell_type": "code",
   "execution_count": 18,
   "metadata": {},
   "outputs": [
    {
     "data": {
      "image/png": "[encoded data removed]",
      "text/plain": [
       "<Figure size 432x288 with 1 Axes>"
      ]
     },
     "metadata": {
      "needs_background": "light"
     },
     "output_type": "display_data"
    },
    {
     "data": {
      "image/png": "[encoded data removed]",
      "text/plain": [
       "<Figure size 432x288 with 1 Axes>"
      ]
     },
     "metadata": {
      "needs_background": "light"
     },
     "output_type": "display_data"
    },
    {
     "data": {
      "image/png": "[encoded data removed]",
      "text/plain": [
       "<Figure size 432x288 with 1 Axes>"
      ]
     },
     "metadata": {
      "needs_background": "light"
     },
     "output_type": "display_data"
    },
    {
     "data": {
      "image/png": "[encoded data removed]",
      "text/plain": [
       "<Figure size 432x288 with 1 Axes>"
      ]
     },
     "metadata": {
      "needs_background": "light"
     },
     "output_type": "display_data"
    }
   ],
   "source": [
    "for name in metrics:\n",
    "    plt.plot(df_gsearch_results[name])\n",
    "    plt.xlabel('rank'); plt.ylabel(name); plt.show()"
   ]
  },
  {
   "cell_type": "code",
   "execution_count": 19,
   "metadata": {
    "scrolled": false
   },
   "outputs": [
    {
     "data": {
      "image/png": "[encoded data removed]",
      "text/plain": [
       "<Figure size 432x288 with 1 Axes>"
      ]
     },
     "metadata": {
      "needs_background": "light"
     },
     "output_type": "display_data"
    },
    {
     "data": {
      "image/png": "[encoded data removed]",
      "text/plain": [
       "<Figure size 432x288 with 1 Axes>"
      ]
     },
     "metadata": {
      "needs_background": "light"
     },
     "output_type": "display_data"
    },
    {
     "data": {
      "image/png": "[encoded data removed]",
      "text/plain": [
       "<Figure size 432x288 with 1 Axes>"
      ]
     },
     "metadata": {
      "needs_background": "light"
     },
     "output_type": "display_data"
    },
    {
     "data": {
      "image/png": "[encoded data removed]",
      "text/plain": [
       "<Figure size 432x288 with 1 Axes>"
      ]
     },
     "metadata": {
      "needs_background": "light"
     },
     "output_type": "display_data"
    },
    {
     "data": {
      "image/png": "[encoded data removed]",
      "text/plain": [
       "<Figure size 432x288 with 1 Axes>"
      ]
     },
     "metadata": {
      "needs_background": "light"
     },
     "output_type": "display_data"
    },
    {
     "data": {
      "image/png": "[encoded data removed]",
      "text/plain": [
       "<Figure size 432x288 with 1 Axes>"
      ]
     },
     "metadata": {
      "needs_background": "light"
     },
     "output_type": "display_data"
    },
    {
     "data": {
      "image/png": "[encoded data removed]",
      "text/plain": [
       "<Figure size 432x288 with 1 Axes>"
      ]
     },
     "metadata": {
      "needs_background": "light"
     },
     "output_type": "display_data"
    }
   ],
   "source": [
    "for p in params_gsearch.keys():\n",
    "    plt.scatter(df_gsearch_results[p], df_gsearch_results['score'], s=3)\n",
    "    plt.scatter(df_gsearch_results[p][:10], df_gsearch_results['score'][:10], s=3)\n",
    "    plt.xlabel(p); plt.ylabel('score'); plt.show()"
   ]
  },
  {
   "cell_type": "code",
   "execution_count": 20,
   "metadata": {
    "scrolled": true
   },
   "outputs": [
    {
     "data": {
      "image/png": "[encoded data removed]",
      "text/plain": [
       "<Figure size 432x288 with 1 Axes>"
      ]
     },
     "metadata": {
      "needs_background": "light"
     },
     "output_type": "display_data"
    },
    {
     "data": {
      "image/png": "[encoded data removed]",
      "text/plain": [
       "<Figure size 432x288 with 1 Axes>"
      ]
     },
     "metadata": {
      "needs_background": "light"
     },
     "output_type": "display_data"
    },
    {
     "data": {
      "image/png": "[encoded data removed]",
      "text/plain": [
       "<Figure size 432x288 with 1 Axes>"
      ]
     },
     "metadata": {
      "needs_background": "light"
     },
     "output_type": "display_data"
    },
    {
     "data": {
      "image/png": "[encoded data removed]",
      "text/plain": [
       "<Figure size 432x288 with 1 Axes>"
      ]
     },
     "metadata": {
      "needs_background": "light"
     },
     "output_type": "display_data"
    },
    {
     "data": {
      "image/png": "[encoded data removed]",
      "text/plain": [
       "<Figure size 432x288 with 1 Axes>"
      ]
     },
     "metadata": {
      "needs_background": "light"
     },
     "output_type": "display_data"
    },
    {
     "data": {
      "image/png": "[encoded data removed]",
      "text/plain": [
       "<Figure size 432x288 with 1 Axes>"
      ]
     },
     "metadata": {
      "needs_background": "light"
     },
     "output_type": "display_data"
    },
    {
     "data": {
      "image/png": "[encoded data removed]",
      "text/plain": [
       "<Figure size 432x288 with 1 Axes>"
      ]
     },
     "metadata": {
      "needs_background": "light"
     },
     "output_type": "display_data"
    }
   ],
   "source": [
    "for p in params_gsearch.keys():\n",
    "    plt.scatter(df_gsearch_results[p], df_gsearch_results['mae'], s=3)\n",
    "    plt.scatter(df_gsearch_results[p][:10], df_gsearch_results['mae'][:10], s=3)\n",
    "    plt.xlabel(p); plt.ylabel('mae'); plt.show()"
   ]
  },
  {
   "cell_type": "code",
   "execution_count": 21,
   "metadata": {},
   "outputs": [
    {
     "data": {
      "text/plain": [
       "Index(['learning_rate', 'max_depth', 'num_leaves', 'feature_fraction',\n",
       "       'min_data_in_leaf', 'lambda_l1', 'lambda_l2', 'score', 'mse', 'mae',\n",
       "       'mape', 'best_iteration'],\n",
       "      dtype='object')"
      ]
     },
     "execution_count": 21,
     "metadata": {},
     "output_type": "execute_result"
    }
   ],
   "source": [
    "df_gsearch_results.columns"
   ]
  },
  {
   "cell_type": "code",
   "execution_count": 22,
   "metadata": {
    "scrolled": false
   },
   "outputs": [
    {
     "data": {
      "image/png": "[encoded data removed]",
      "text/plain": [
       "<Figure size 432x288 with 1 Axes>"
      ]
     },
     "metadata": {
      "needs_background": "light"
     },
     "output_type": "display_data"
    },
    {
     "data": {
      "image/png": "[encoded data removed]",
      "text/plain": [
       "<Figure size 432x288 with 1 Axes>"
      ]
     },
     "metadata": {
      "needs_background": "light"
     },
     "output_type": "display_data"
    },
    {
     "data": {
      "image/png": "[encoded data removed]",
      "text/plain": [
       "<Figure size 432x288 with 1 Axes>"
      ]
     },
     "metadata": {
      "needs_background": "light"
     },
     "output_type": "display_data"
    },
    {
     "data": {
      "image/png": "[encoded data removed]",
      "text/plain": [
       "<Figure size 432x288 with 1 Axes>"
      ]
     },
     "metadata": {
      "needs_background": "light"
     },
     "output_type": "display_data"
    },
    {
     "data": {
      "image/png": "[encoded data removed]",
      "text/plain": [
       "<Figure size 432x288 with 1 Axes>"
      ]
     },
     "metadata": {
      "needs_background": "light"
     },
     "output_type": "display_data"
    },
    {
     "data": {
      "image/png": "[encoded data removed]",
      "text/plain": [
       "<Figure size 432x288 with 1 Axes>"
      ]
     },
     "metadata": {
      "needs_background": "light"
     },
     "output_type": "display_data"
    },
    {
     "data": {
      "image/png": "[encoded data removed]",
      "text/plain": [
       "<Figure size 432x288 with 1 Axes>"
      ]
     },
     "metadata": {
      "needs_background": "light"
     },
     "output_type": "display_data"
    },
    {
     "data": {
      "image/png": "[encoded data removed]",
      "text/plain": [
       "<Figure size 432x288 with 1 Axes>"
      ]
     },
     "metadata": {
      "needs_background": "light"
     },
     "output_type": "display_data"
    },
    {
     "data": {
      "image/png": "[encoded data removed]",
      "text/plain": [
       "<Figure size 432x288 with 1 Axes>"
      ]
     },
     "metadata": {
      "needs_background": "light"
     },
     "output_type": "display_data"
    },
    {
     "data": {
      "image/png": "[encoded data removed]",
      "text/plain": [
       "<Figure size 432x288 with 1 Axes>"
      ]
     },
     "metadata": {
      "needs_background": "light"
     },
     "output_type": "display_data"
    },
    {
     "data": {
      "image/png": "[encoded data removed]",
      "text/plain": [
       "<Figure size 432x288 with 1 Axes>"
      ]
     },
     "metadata": {
      "needs_background": "light"
     },
     "output_type": "display_data"
    },
    {
     "data": {
      "image/png": "[encoded data removed]",
      "text/plain": [
       "<Figure size 432x288 with 1 Axes>"
      ]
     },
     "metadata": {
      "needs_background": "light"
     },
     "output_type": "display_data"
    }
   ],
   "source": [
    "# best iteration\n",
    "for c in df_gsearch_results.columns:\n",
    "    if c != 'best_iteration':\n",
    "        plt.scatter(df_gsearch_results['best_iteration'], df_gsearch_results[c])\n",
    "        plt.ylabel(c)\n",
    "    else:\n",
    "        plt.hist(df_gsearch_results['best_iteration'], bins=30)\n",
    "        plt.ylabel('N')        \n",
    "    plt.xlabel('best_iteration')\n",
    "    plt.show()"
   ]
  },
  {
   "cell_type": "markdown",
   "metadata": {},
   "source": [
    "### Feature importance"
   ]
  },
  {
   "cell_type": "code",
   "execution_count": 29,
   "metadata": {},
   "outputs": [
    {
     "ename": "TypeError",
     "evalue": "booster must be Booster or LGBMModel.",
     "output_type": "error",
     "traceback": [
      "\u001b[0;31m---------------------------------------------------------------------------\u001b[0m",
      "\u001b[0;31mTypeError\u001b[0m                                 Traceback (most recent call last)",
      "\u001b[0;32m<ipython-input-29-9312abb43a65>\u001b[0m in \u001b[0;36m<module>\u001b[0;34m()\u001b[0m\n\u001b[0;32m----> 1\u001b[0;31m \u001b[0mlgb\u001b[0m\u001b[0;34m.\u001b[0m\u001b[0mplot_importance\u001b[0m\u001b[0;34m(\u001b[0m\u001b[0mgsearch_results\u001b[0m\u001b[0;34m[\u001b[0m\u001b[0;36m0\u001b[0m\u001b[0;34m]\u001b[0m\u001b[0;34m[\u001b[0m\u001b[0;36m5\u001b[0m\u001b[0;34m]\u001b[0m\u001b[0;34m[\u001b[0m\u001b[0;36m0\u001b[0m\u001b[0;34m]\u001b[0m\u001b[0;34m,\u001b[0m \u001b[0mfigsize\u001b[0m\u001b[0;34m=\u001b[0m\u001b[0;34m(\u001b[0m\u001b[0;36m12\u001b[0m\u001b[0;34m,\u001b[0m \u001b[0;36m30\u001b[0m\u001b[0;34m)\u001b[0m\u001b[0;34m,\u001b[0m \u001b[0mheight\u001b[0m\u001b[0;34m=\u001b[0m\u001b[0;36m0.5\u001b[0m\u001b[0;34m)\u001b[0m \u001b[0;31m# 050, 051, 052\u001b[0m\u001b[0;34m\u001b[0m\u001b[0m\n\u001b[0m\u001b[1;32m      2\u001b[0m \u001b[0mplt\u001b[0m\u001b[0;34m.\u001b[0m\u001b[0mshow\u001b[0m\u001b[0;34m(\u001b[0m\u001b[0;34m)\u001b[0m\u001b[0;34m\u001b[0m\u001b[0m\n",
      "\u001b[0;32m/Library/Frameworks/Python.framework/Versions/3.6/lib/python3.6/site-packages/lightgbm/plotting.py\u001b[0m in \u001b[0;36mplot_importance\u001b[0;34m(booster, ax, height, xlim, ylim, title, xlabel, ylabel, importance_type, max_num_features, ignore_zero, figsize, grid, **kwargs)\u001b[0m\n\u001b[1;32m     79\u001b[0m         \u001b[0mbooster\u001b[0m \u001b[0;34m=\u001b[0m \u001b[0mbooster\u001b[0m\u001b[0;34m.\u001b[0m\u001b[0mbooster_\u001b[0m\u001b[0;34m\u001b[0m\u001b[0m\n\u001b[1;32m     80\u001b[0m     \u001b[0;32melif\u001b[0m \u001b[0;32mnot\u001b[0m \u001b[0misinstance\u001b[0m\u001b[0;34m(\u001b[0m\u001b[0mbooster\u001b[0m\u001b[0;34m,\u001b[0m \u001b[0mBooster\u001b[0m\u001b[0;34m)\u001b[0m\u001b[0;34m:\u001b[0m\u001b[0;34m\u001b[0m\u001b[0m\n\u001b[0;32m---> 81\u001b[0;31m         \u001b[0;32mraise\u001b[0m \u001b[0mTypeError\u001b[0m\u001b[0;34m(\u001b[0m\u001b[0;34m'booster must be Booster or LGBMModel.'\u001b[0m\u001b[0;34m)\u001b[0m\u001b[0;34m\u001b[0m\u001b[0m\n\u001b[0m\u001b[1;32m     82\u001b[0m \u001b[0;34m\u001b[0m\u001b[0m\n\u001b[1;32m     83\u001b[0m     \u001b[0mimportance\u001b[0m \u001b[0;34m=\u001b[0m \u001b[0mbooster\u001b[0m\u001b[0;34m.\u001b[0m\u001b[0mfeature_importance\u001b[0m\u001b[0;34m(\u001b[0m\u001b[0mimportance_type\u001b[0m\u001b[0;34m=\u001b[0m\u001b[0mimportance_type\u001b[0m\u001b[0;34m)\u001b[0m\u001b[0;34m\u001b[0m\u001b[0m\n",
      "\u001b[0;31mTypeError\u001b[0m: booster must be Booster or LGBMModel."
     ]
    }
   ],
   "source": [
    "lgb.plot_importance(gsearch_results[0][5][0], figsize=(12, 30), height=0.5) # 050, 051, 052\n",
    "plt.show()"
   ]
  },
  {
   "cell_type": "code",
   "execution_count": 30,
   "metadata": {},
   "outputs": [
    {
     "ename": "TypeError",
     "evalue": "booster must be Booster or LGBMModel.",
     "output_type": "error",
     "traceback": [
      "\u001b[0;31m---------------------------------------------------------------------------\u001b[0m",
      "\u001b[0;31mTypeError\u001b[0m                                 Traceback (most recent call last)",
      "\u001b[0;32m<ipython-input-30-d98df6a9b2c1>\u001b[0m in \u001b[0;36m<module>\u001b[0;34m()\u001b[0m\n\u001b[0;32m----> 1\u001b[0;31m \u001b[0mlgb\u001b[0m\u001b[0;34m.\u001b[0m\u001b[0mplot_importance\u001b[0m\u001b[0;34m(\u001b[0m\u001b[0mgsearch_results\u001b[0m\u001b[0;34m[\u001b[0m\u001b[0;36m0\u001b[0m\u001b[0;34m]\u001b[0m\u001b[0;34m[\u001b[0m\u001b[0;36m5\u001b[0m\u001b[0;34m]\u001b[0m\u001b[0;34m[\u001b[0m\u001b[0;36m0\u001b[0m\u001b[0;34m]\u001b[0m\u001b[0;34m,\u001b[0m \u001b[0mfigsize\u001b[0m\u001b[0;34m=\u001b[0m\u001b[0;34m(\u001b[0m\u001b[0;36m12\u001b[0m\u001b[0;34m,\u001b[0m \u001b[0;36m30\u001b[0m\u001b[0;34m)\u001b[0m\u001b[0;34m,\u001b[0m \u001b[0mheight\u001b[0m\u001b[0;34m=\u001b[0m\u001b[0;36m0.5\u001b[0m\u001b[0;34m,\u001b[0m \u001b[0mimportance_type\u001b[0m\u001b[0;34m=\u001b[0m\u001b[0;34m'gain'\u001b[0m\u001b[0;34m)\u001b[0m \u001b[0;31m# 050, 051, 052\u001b[0m\u001b[0;34m\u001b[0m\u001b[0m\n\u001b[0m\u001b[1;32m      2\u001b[0m \u001b[0mplt\u001b[0m\u001b[0;34m.\u001b[0m\u001b[0mshow\u001b[0m\u001b[0;34m(\u001b[0m\u001b[0;34m)\u001b[0m\u001b[0;34m\u001b[0m\u001b[0m\n",
      "\u001b[0;32m/Library/Frameworks/Python.framework/Versions/3.6/lib/python3.6/site-packages/lightgbm/plotting.py\u001b[0m in \u001b[0;36mplot_importance\u001b[0;34m(booster, ax, height, xlim, ylim, title, xlabel, ylabel, importance_type, max_num_features, ignore_zero, figsize, grid, **kwargs)\u001b[0m\n\u001b[1;32m     79\u001b[0m         \u001b[0mbooster\u001b[0m \u001b[0;34m=\u001b[0m \u001b[0mbooster\u001b[0m\u001b[0;34m.\u001b[0m\u001b[0mbooster_\u001b[0m\u001b[0;34m\u001b[0m\u001b[0m\n\u001b[1;32m     80\u001b[0m     \u001b[0;32melif\u001b[0m \u001b[0;32mnot\u001b[0m \u001b[0misinstance\u001b[0m\u001b[0;34m(\u001b[0m\u001b[0mbooster\u001b[0m\u001b[0;34m,\u001b[0m \u001b[0mBooster\u001b[0m\u001b[0;34m)\u001b[0m\u001b[0;34m:\u001b[0m\u001b[0;34m\u001b[0m\u001b[0m\n\u001b[0;32m---> 81\u001b[0;31m         \u001b[0;32mraise\u001b[0m \u001b[0mTypeError\u001b[0m\u001b[0;34m(\u001b[0m\u001b[0;34m'booster must be Booster or LGBMModel.'\u001b[0m\u001b[0;34m)\u001b[0m\u001b[0;34m\u001b[0m\u001b[0m\n\u001b[0m\u001b[1;32m     82\u001b[0m \u001b[0;34m\u001b[0m\u001b[0m\n\u001b[1;32m     83\u001b[0m     \u001b[0mimportance\u001b[0m \u001b[0;34m=\u001b[0m \u001b[0mbooster\u001b[0m\u001b[0;34m.\u001b[0m\u001b[0mfeature_importance\u001b[0m\u001b[0;34m(\u001b[0m\u001b[0mimportance_type\u001b[0m\u001b[0;34m=\u001b[0m\u001b[0mimportance_type\u001b[0m\u001b[0;34m)\u001b[0m\u001b[0;34m\u001b[0m\u001b[0m\n",
      "\u001b[0;31mTypeError\u001b[0m: booster must be Booster or LGBMModel."
     ]
    }
   ],
   "source": [
    "lgb.plot_importance(gsearch_results[0][5][0], figsize=(12, 30), height=0.5, importance_type='gain') # 050, 051, 052\n",
    "plt.show()"
   ]
  },
  {
   "cell_type": "code",
   "execution_count": null,
   "metadata": {},
   "outputs": [],
   "source": []
  }
 ],
 "metadata": {
  "kernelspec": {
   "display_name": "Python 3",
   "language": "python",
   "name": "python3"
  },
  "language_info": {
   "codemirror_mode": {
    "name": "ipython",
    "version": 3
   },
   "file_extension": ".py",
   "mimetype": "text/x-python",
   "name": "python",
   "nbconvert_exporter": "python",
   "pygments_lexer": "ipython3",
   "version": "3.6.6"
  },
  "toc": {
   "base_numbering": 1,
   "nav_menu": {},
   "number_sections": true,
   "sideBar": true,
   "skip_h1_title": true,
   "title_cell": "Table of Contents",
   "title_sidebar": "Contents",
   "toc_cell": false,
   "toc_position": {
    "height": "calc(100% - 180px)",
    "left": "10px",
    "top": "150px",
    "width": "193.797px"
   },
   "toc_section_display": true,
   "toc_window_display": true
  }
 },
 "nbformat": 4,
 "nbformat_minor": 2
}
