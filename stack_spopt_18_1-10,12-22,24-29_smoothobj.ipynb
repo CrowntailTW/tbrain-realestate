{
 "cells": [
  {
   "cell_type": "code",
   "execution_count": 1,
   "metadata": {},
   "outputs": [],
   "source": [
    "import os\n",
    "import numpy as np\n",
    "import pandas as pd\n",
    "from scipy.optimize import minimize\n",
    "from sklearn.metrics import mean_squared_error, mean_absolute_error\n",
    "from utilities import cal_score, cal_mape, cal_score_smooth"
   ]
  },
  {
   "cell_type": "code",
   "execution_count": 2,
   "metadata": {},
   "outputs": [],
   "source": [
    "stack_idx = '18'\n",
    "models = '1-10,12-22,24-29'\n",
    "use_test_kfold = set([2, 7, 8, 12, 13])\n",
    "\n",
    "is_per_area = False\n",
    "add_intercept = True"
   ]
  },
  {
   "cell_type": "markdown",
   "metadata": {},
   "source": [
    "### Read CV predictions and test"
   ]
  },
  {
   "cell_type": "code",
   "execution_count": 3,
   "metadata": {},
   "outputs": [],
   "source": [
    "def parse_models(exp):\n",
    "    exp_split = exp.split(',')\n",
    "    idx_models = []\n",
    "    for e in exp_split:\n",
    "        if '-' in e:\n",
    "            n0, n1 = e.split('-')\n",
    "            idx_models.extend(list(range(int(n0), int(n1)+1, 1)))\n",
    "        else:\n",
    "            idx_models.append(int(e))\n",
    "    return idx_models"
   ]
  },
  {
   "cell_type": "code",
   "execution_count": 4,
   "metadata": {},
   "outputs": [
    {
     "name": "stdout",
     "output_type": "stream",
     "text": [
      "[1, 2, 3, 4, 5, 6, 7, 8, 9, 10, 12, 13, 14, 15, 16, 17, 18, 19, 20, 21, 22, 24, 25, 26, 27, 28, 29]\n"
     ]
    }
   ],
   "source": [
    "idx_models = parse_models(models)\n",
    "print(idx_models)"
   ]
  },
  {
   "cell_type": "code",
   "execution_count": 5,
   "metadata": {},
   "outputs": [],
   "source": [
    "files_in_output = [f for f in os.listdir('output/') if os.path.isfile('output/'+f)]\n",
    "files_cv = {idx: [f for f in files_in_output \n",
    "                  if f.startswith('model-%02d-' % idx) and f.endswith('cv.csv')][0] \n",
    "            for idx in idx_models}\n",
    "files_test_one = {idx: [f for f in files_in_output \n",
    "                        if f.startswith('model-%02d-' % idx) and f.endswith('test-one.csv')][0]\n",
    "                  for idx in idx_models}\n",
    "files_test_kf = {idx: [f for f in files_in_output \n",
    "                       if f.startswith('model-%02d-' % idx) and f.endswith('test-kfold.csv')][0]\n",
    "                 for idx in idx_models}"
   ]
  },
  {
   "cell_type": "code",
   "execution_count": 6,
   "metadata": {
    "scrolled": true
   },
   "outputs": [
    {
     "name": "stdout",
     "output_type": "stream",
     "text": [
      " 1 model-01-lgb-cv.csv\n",
      " 1 model-01-lgb-test-kfold.csv\n",
      " 1 model-01-lgb-test-one.csv\n",
      " 2 model-02-keras-search-cv.csv\n",
      " 2 model-02-keras-search-test-kfold.csv\n",
      " 2 model-02-keras-search-test-one.csv\n",
      " 3 model-03-lgb-feats-selection-cv.csv\n",
      " 3 model-03-lgb-feats-selection-test-kfold.csv\n",
      " 3 model-03-lgb-feats-selection-test-one.csv\n",
      " 4 model-04-lgb-PCA-cv.csv\n",
      " 4 model-04-lgb-PCA-test-kfold.csv\n",
      " 4 model-04-lgb-PCA-test-one.csv\n",
      " 5 model-05-lgb-wo-per-area-cv.csv\n",
      " 5 model-05-lgb-wo-per-area-test-kfold.csv\n",
      " 5 model-05-lgb-wo-per-area-test-one.csv\n",
      " 6 model-06-lgb-lr0.001-cv.csv\n",
      " 6 model-06-lgb-lr0.001-test-kfold.csv\n",
      " 6 model-06-lgb-lr0.001-test-one.csv\n",
      " 7 model-07-keras-embedding-cv.csv\n",
      " 7 model-07-keras-embedding-test-kfold.csv\n",
      " 7 model-07-keras-embedding-test-one.csv\n",
      " 8 model-08-keras-search-long-cv.csv\n",
      " 8 model-08-keras-search-long-test-kfold.csv\n",
      " 8 model-08-keras-search-long-test-one.csv\n",
      " 9 model-09-lgb-feats-selection-75-cv.csv\n",
      " 9 model-09-lgb-feats-selection-75-test-kfold.csv\n",
      " 9 model-09-lgb-feats-selection-75-test-one.csv\n",
      "10 model-10-lgb-feats-selection-75-lr-0.001-cv.csv\n",
      "10 model-10-lgb-feats-selection-75-lr-0.001-test-kfold.csv\n",
      "10 model-10-lgb-feats-selection-75-lr-0.001-test-one.csv\n",
      "12 model-12-predict-keras-search-prelu-cv.csv\n",
      "12 model-12-predict-keras-search-prelu-test-kfold.csv\n",
      "12 model-12-predict-keras-search-prelu-test-one.csv\n",
      "13 model-13-predict-keras-he_uni-cv.csv\n",
      "13 model-13-predict-keras-he_uni-test-kfold.csv\n",
      "13 model-13-predict-keras-he_uni-test-one.csv\n",
      "14 model-14-lgb-feats-selection-75-lr-0.001-rand-cv.csv\n",
      "14 model-14-lgb-feats-selection-75-lr-0.001-rand-test-kfold.csv\n",
      "14 model-14-lgb-feats-selection-75-lr-0.001-rand-test-one.csv\n",
      "15 model-15-lgb-feats-selection-75-lr-0.001-rand323-cv.csv\n",
      "15 model-15-lgb-feats-selection-75-lr-0.001-rand323-test-kfold.csv\n",
      "15 model-15-lgb-feats-selection-75-lr-0.001-rand323-test-one.csv\n",
      "16 model-16-lgb-feats-selection-68-lr-0.001-mix5-cv.csv\n",
      "16 model-16-lgb-feats-selection-68-lr-0.001-mix5-test-kfold.csv\n",
      "16 model-16-lgb-feats-selection-68-lr-0.001-mix5-test-one.csv\n",
      "17 model-17-lgb-feats-selection-70-lr-0.001-mix5-cv.csv\n",
      "17 model-17-lgb-feats-selection-70-lr-0.001-mix5-test-kfold.csv\n",
      "17 model-17-lgb-feats-selection-70-lr-0.001-mix5-test-one.csv\n",
      "18 model-18-lgb-feats-selection-70-lr-0.001-p5-cv.csv\n",
      "18 model-18-lgb-feats-selection-70-lr-0.001-p5-test-kfold.csv\n",
      "18 model-18-lgb-feats-selection-70-lr-0.001-p5-test-one.csv\n",
      "19 model-19-lgb-search-bins-lr-0.0005-cv.csv\n",
      "19 model-19-lgb-search-bins-lr-0.0005-test-kfold.csv\n",
      "19 model-19-lgb-search-bins-lr-0.0005-test-one.csv\n",
      "20 model-20-lgb-lr-0.0008-mix5-cv.csv\n",
      "20 model-20-lgb-lr-0.0008-mix5-test-kfold.csv\n",
      "20 model-20-lgb-lr-0.0008-mix5-test-one.csv\n",
      "21 model-21-lgb-wo-per-area-long-cv.csv\n",
      "21 model-21-lgb-wo-per-area-long-test-kfold.csv\n",
      "21 model-21-lgb-wo-per-area-long-test-one.csv\n",
      "22 model-22-lgb-wo-per-area-long-2-cv.csv\n",
      "22 model-22-lgb-wo-per-area-long-2-test-kfold.csv\n",
      "22 model-22-lgb-wo-per-area-long-2-test-one.csv\n",
      "24 model-24-lgb-binary-augment-cv.csv\n",
      "24 model-24-lgb-binary-augment-test-kfold.csv\n",
      "24 model-24-lgb-binary-augment-test-one.csv\n",
      "25 model-25-lgb-search-bins-lr-0.0005-250-cv.csv\n",
      "25 model-25-lgb-search-bins-lr-0.0005-250-test-kfold.csv\n",
      "25 model-25-lgb-search-bins-lr-0.0005-250-test-one.csv\n",
      "26 model-26-lgb-search-bins-lr-0.0005-350-cv.csv\n",
      "26 model-26-lgb-search-bins-lr-0.0005-350-test-kfold.csv\n",
      "26 model-26-lgb-search-bins-lr-0.0005-350-test-one.csv\n",
      "27 model-27-lgb-feat_rm_new-cv.csv\n",
      "27 model-27-lgb-feat_rm_new-test-kfold.csv\n",
      "27 model-27-lgb-feat_rm_new-test-one.csv\n",
      "28 model-28-lgb-search-bins-lr-0.0005-255-cv.csv\n",
      "28 model-28-lgb-search-bins-lr-0.0005-255-test-kfold.csv\n",
      "28 model-28-lgb-search-bins-lr-0.0005-255-test-one.csv\n",
      "29 model-29-lgb-building_age-fillna-cv.csv\n",
      "29 model-29-lgb-building_age-fillna-test-kfold.csv\n",
      "29 model-29-lgb-building_age-fillna-test-one.csv\n"
     ]
    }
   ],
   "source": [
    "for k in files_cv: \n",
    "    print('%2d'%k, files_cv[k])\n",
    "    print('%2d'%k, files_test_kf[k])\n",
    "    print('%2d'%k, files_test_one[k])"
   ]
  },
  {
   "cell_type": "markdown",
   "metadata": {},
   "source": [
    "#### Load area"
   ]
  },
  {
   "cell_type": "code",
   "execution_count": 7,
   "metadata": {},
   "outputs": [],
   "source": [
    "df_train = pd.read_csv('dataset/train.csv')\n",
    "df_test = pd.read_csv('dataset/test.csv')"
   ]
  },
  {
   "cell_type": "code",
   "execution_count": 8,
   "metadata": {},
   "outputs": [],
   "source": [
    "cv = df_train[['building_id', 'building_area', 'total_price']]\n",
    "test = df_test[['building_id', 'building_area']]"
   ]
  },
  {
   "cell_type": "code",
   "execution_count": 9,
   "metadata": {},
   "outputs": [
    {
     "name": "stdout",
     "output_type": "stream",
     "text": [
      "CV predictions:\n",
      "27\n",
      "model-01-lgb-cv.csv\n",
      "model-02-keras-search-cv.csv\n",
      "model-03-lgb-feats-selection-cv.csv\n",
      "model-04-lgb-PCA-cv.csv\n",
      "model-05-lgb-wo-per-area-cv.csv\n",
      "model-06-lgb-lr0.001-cv.csv\n",
      "model-07-keras-embedding-cv.csv\n",
      "model-08-keras-search-long-cv.csv\n",
      "model-09-lgb-feats-selection-75-cv.csv\n",
      "model-10-lgb-feats-selection-75-lr-0.001-cv.csv\n",
      "model-12-predict-keras-search-prelu-cv.csv\n",
      "model-13-predict-keras-he_uni-cv.csv\n",
      "model-14-lgb-feats-selection-75-lr-0.001-rand-cv.csv\n",
      "model-15-lgb-feats-selection-75-lr-0.001-rand323-cv.csv\n",
      "model-16-lgb-feats-selection-68-lr-0.001-mix5-cv.csv\n",
      "model-17-lgb-feats-selection-70-lr-0.001-mix5-cv.csv\n",
      "model-18-lgb-feats-selection-70-lr-0.001-p5-cv.csv\n",
      "model-19-lgb-search-bins-lr-0.0005-cv.csv\n",
      "model-20-lgb-lr-0.0008-mix5-cv.csv\n",
      "model-21-lgb-wo-per-area-long-cv.csv\n",
      "model-22-lgb-wo-per-area-long-2-cv.csv\n",
      "model-24-lgb-binary-augment-cv.csv\n",
      "model-25-lgb-search-bins-lr-0.0005-250-cv.csv\n",
      "model-26-lgb-search-bins-lr-0.0005-350-cv.csv\n",
      "model-27-lgb-feat_rm_new-cv.csv\n",
      "model-28-lgb-search-bins-lr-0.0005-255-cv.csv\n",
      "model-29-lgb-building_age-fillna-cv.csv\n"
     ]
    }
   ],
   "source": [
    "print('CV predictions:')\n",
    "print(len(idx_models))\n",
    "for i, idx_model in enumerate(idx_models):\n",
    "    f = files_cv[idx_model]\n",
    "    print(f)\n",
    "#    print('No. {} file: {}'.format(i, f))\n",
    "    df = pd.read_csv('output/'+f)\n",
    "    \n",
    "    cv = pd.merge(cv, df[['building_id', 'total_price_predict']], on='building_id')\n",
    "    \n",
    "    cv = cv.rename(columns = {'total_price_predict': 'pred_{}'.format(idx_model)})\n",
    "    cv[f'log_pred_{idx_model}'] = np.log1p(cv[f'pred_{idx_model}'])\n",
    "    cv[f'log_parea_pred_{idx_model}'] = np.log1p( cv[f'pred_{idx_model}'] / cv['building_area'] )"
   ]
  },
  {
   "cell_type": "code",
   "execution_count": 10,
   "metadata": {},
   "outputs": [
    {
     "name": "stdout",
     "output_type": "stream",
     "text": [
      "Test predictions:\n",
      "No. 0 file: model-01-lgb-test-one.csv\n",
      "No. 1 file: model-02-keras-search-test-kfold.csv\n",
      "No. 2 file: model-03-lgb-feats-selection-test-one.csv\n",
      "No. 3 file: model-04-lgb-PCA-test-one.csv\n",
      "No. 4 file: model-05-lgb-wo-per-area-test-one.csv\n",
      "No. 5 file: model-06-lgb-lr0.001-test-one.csv\n",
      "No. 6 file: model-07-keras-embedding-test-kfold.csv\n",
      "No. 7 file: model-08-keras-search-long-test-kfold.csv\n",
      "No. 8 file: model-09-lgb-feats-selection-75-test-one.csv\n",
      "No. 9 file: model-10-lgb-feats-selection-75-lr-0.001-test-one.csv\n",
      "No. 10 file: model-12-predict-keras-search-prelu-test-kfold.csv\n",
      "No. 11 file: model-13-predict-keras-he_uni-test-kfold.csv\n",
      "No. 12 file: model-14-lgb-feats-selection-75-lr-0.001-rand-test-one.csv\n",
      "No. 13 file: model-15-lgb-feats-selection-75-lr-0.001-rand323-test-one.csv\n",
      "No. 14 file: model-16-lgb-feats-selection-68-lr-0.001-mix5-test-one.csv\n",
      "No. 15 file: model-17-lgb-feats-selection-70-lr-0.001-mix5-test-one.csv\n",
      "No. 16 file: model-18-lgb-feats-selection-70-lr-0.001-p5-test-one.csv\n",
      "No. 17 file: model-19-lgb-search-bins-lr-0.0005-test-one.csv\n",
      "No. 18 file: model-20-lgb-lr-0.0008-mix5-test-one.csv\n",
      "No. 19 file: model-21-lgb-wo-per-area-long-test-one.csv\n",
      "No. 20 file: model-22-lgb-wo-per-area-long-2-test-one.csv\n",
      "No. 21 file: model-24-lgb-binary-augment-test-one.csv\n",
      "No. 22 file: model-25-lgb-search-bins-lr-0.0005-250-test-one.csv\n",
      "No. 23 file: model-26-lgb-search-bins-lr-0.0005-350-test-one.csv\n",
      "No. 24 file: model-27-lgb-feat_rm_new-test-one.csv\n",
      "No. 25 file: model-28-lgb-search-bins-lr-0.0005-255-test-one.csv\n",
      "No. 26 file: model-29-lgb-building_age-fillna-test-one.csv\n"
     ]
    }
   ],
   "source": [
    "cv['log_total_price'] = np.log1p(cv['total_price'])\n",
    "cv['log_parea_total_price'] = np.log1p( cv['total_price'] / cv['building_area'] )\n",
    "\n",
    "print('Test predictions:')\n",
    "for i, idx in enumerate(idx_models):\n",
    "    f = files_test_kf[idx] if idx in use_test_kfold else files_test_one[idx]\n",
    "    print('No. {} file: {}'.format(i, f))\n",
    "    df = pd.read_csv('output/'+f)\n",
    "\n",
    "    test = pd.merge(test, df[['building_id','total_price']], on='building_id')\n",
    "        \n",
    "    test = test.rename(columns = {'total_price': 'pred_{}'.format(idx)})\n",
    "    test[f'log_pred_{idx}'] = np.log1p(test[f'pred_{idx}'])\n",
    "    test[f'log_parea_pred_{idx}'] = np.log1p( test[f'pred_{idx}'] / test['building_area'] )"
   ]
  },
  {
   "cell_type": "code",
   "execution_count": 11,
   "metadata": {},
   "outputs": [
    {
     "data": {
      "text/html": [
       "<div>\n",
       "<style scoped>\n",
       "    .dataframe tbody tr th:only-of-type {\n",
       "        vertical-align: middle;\n",
       "    }\n",
       "\n",
       "    .dataframe tbody tr th {\n",
       "        vertical-align: top;\n",
       "    }\n",
       "\n",
       "    .dataframe thead th {\n",
       "        text-align: right;\n",
       "    }\n",
       "</style>\n",
       "<table border=\"1\" class=\"dataframe\">\n",
       "  <thead>\n",
       "    <tr style=\"text-align: right;\">\n",
       "      <th></th>\n",
       "      <th>building_id</th>\n",
       "      <th>building_area</th>\n",
       "      <th>total_price</th>\n",
       "      <th>pred_1</th>\n",
       "      <th>log_pred_1</th>\n",
       "      <th>log_parea_pred_1</th>\n",
       "      <th>pred_2</th>\n",
       "      <th>log_pred_2</th>\n",
       "      <th>log_parea_pred_2</th>\n",
       "      <th>pred_3</th>\n",
       "      <th>...</th>\n",
       "      <th>log_pred_27</th>\n",
       "      <th>log_parea_pred_27</th>\n",
       "      <th>pred_28</th>\n",
       "      <th>log_pred_28</th>\n",
       "      <th>log_parea_pred_28</th>\n",
       "      <th>pred_29</th>\n",
       "      <th>log_pred_29</th>\n",
       "      <th>log_parea_pred_29</th>\n",
       "      <th>log_total_price</th>\n",
       "      <th>log_parea_total_price</th>\n",
       "    </tr>\n",
       "  </thead>\n",
       "  <tbody>\n",
       "    <tr>\n",
       "      <th>0</th>\n",
       "      <td>e3mMIMR3JJqCaXz1</td>\n",
       "      <td>3.418175</td>\n",
       "      <td>6.476038e+05</td>\n",
       "      <td>6.331552e+05</td>\n",
       "      <td>13.358472</td>\n",
       "      <td>12.129369</td>\n",
       "      <td>717209.94</td>\n",
       "      <td>13.483125</td>\n",
       "      <td>12.254022</td>\n",
       "      <td>6.656891e+05</td>\n",
       "      <td>...</td>\n",
       "      <td>13.381324</td>\n",
       "      <td>12.152221</td>\n",
       "      <td>6.374413e+05</td>\n",
       "      <td>13.365219</td>\n",
       "      <td>12.136116</td>\n",
       "      <td>6.274171e+05</td>\n",
       "      <td>13.349368</td>\n",
       "      <td>12.120265</td>\n",
       "      <td>13.381036</td>\n",
       "      <td>12.151933</td>\n",
       "    </tr>\n",
       "    <tr>\n",
       "      <th>1</th>\n",
       "      <td>LgwzgklNvy4QCtq5</td>\n",
       "      <td>4.041309</td>\n",
       "      <td>3.321452e+06</td>\n",
       "      <td>3.064324e+06</td>\n",
       "      <td>14.935338</td>\n",
       "      <td>13.538770</td>\n",
       "      <td>2899842.20</td>\n",
       "      <td>14.880167</td>\n",
       "      <td>13.483600</td>\n",
       "      <td>3.079196e+06</td>\n",
       "      <td>...</td>\n",
       "      <td>14.955716</td>\n",
       "      <td>13.559149</td>\n",
       "      <td>3.160098e+06</td>\n",
       "      <td>14.966114</td>\n",
       "      <td>13.569546</td>\n",
       "      <td>3.145481e+06</td>\n",
       "      <td>14.961478</td>\n",
       "      <td>13.564910</td>\n",
       "      <td>15.015913</td>\n",
       "      <td>13.619345</td>\n",
       "    </tr>\n",
       "    <tr>\n",
       "      <th>2</th>\n",
       "      <td>ucIR2NLLsC3T650L</td>\n",
       "      <td>5.584279</td>\n",
       "      <td>9.570885e+06</td>\n",
       "      <td>9.827776e+06</td>\n",
       "      <td>16.100723</td>\n",
       "      <td>14.380769</td>\n",
       "      <td>9766813.00</td>\n",
       "      <td>16.094501</td>\n",
       "      <td>14.374546</td>\n",
       "      <td>9.814852e+06</td>\n",
       "      <td>...</td>\n",
       "      <td>16.092359</td>\n",
       "      <td>14.372404</td>\n",
       "      <td>9.804749e+06</td>\n",
       "      <td>16.098377</td>\n",
       "      <td>14.378423</td>\n",
       "      <td>9.762486e+06</td>\n",
       "      <td>16.094058</td>\n",
       "      <td>14.374103</td>\n",
       "      <td>16.074236</td>\n",
       "      <td>14.354282</td>\n",
       "    </tr>\n",
       "    <tr>\n",
       "      <th>3</th>\n",
       "      <td>jre1pJhcQj91Kdky</td>\n",
       "      <td>13.563031</td>\n",
       "      <td>1.421501e+07</td>\n",
       "      <td>1.255350e+07</td>\n",
       "      <td>16.345510</td>\n",
       "      <td>13.738164</td>\n",
       "      <td>12699800.00</td>\n",
       "      <td>16.357097</td>\n",
       "      <td>13.749750</td>\n",
       "      <td>1.255981e+07</td>\n",
       "      <td>...</td>\n",
       "      <td>16.348848</td>\n",
       "      <td>13.741502</td>\n",
       "      <td>1.263065e+07</td>\n",
       "      <td>16.351637</td>\n",
       "      <td>13.744290</td>\n",
       "      <td>1.262574e+07</td>\n",
       "      <td>16.351248</td>\n",
       "      <td>13.743901</td>\n",
       "      <td>16.469809</td>\n",
       "      <td>13.862462</td>\n",
       "    </tr>\n",
       "    <tr>\n",
       "      <th>4</th>\n",
       "      <td>rQpYpY9nRG7X5mmr</td>\n",
       "      <td>4.688108</td>\n",
       "      <td>7.627120e+05</td>\n",
       "      <td>1.215194e+06</td>\n",
       "      <td>14.010415</td>\n",
       "      <td>12.465389</td>\n",
       "      <td>2012610.50</td>\n",
       "      <td>14.514944</td>\n",
       "      <td>12.969916</td>\n",
       "      <td>1.128419e+06</td>\n",
       "      <td>...</td>\n",
       "      <td>13.938992</td>\n",
       "      <td>12.393966</td>\n",
       "      <td>1.132637e+06</td>\n",
       "      <td>13.940060</td>\n",
       "      <td>12.395034</td>\n",
       "      <td>1.128514e+06</td>\n",
       "      <td>13.936413</td>\n",
       "      <td>12.391388</td>\n",
       "      <td>13.544637</td>\n",
       "      <td>11.999613</td>\n",
       "    </tr>\n",
       "  </tbody>\n",
       "</table>\n",
       "<p>5 rows × 86 columns</p>\n",
       "</div>"
      ],
      "text/plain": [
       "        building_id  building_area   total_price        pred_1  log_pred_1  \\\n",
       "0  e3mMIMR3JJqCaXz1       3.418175  6.476038e+05  6.331552e+05   13.358472   \n",
       "1  LgwzgklNvy4QCtq5       4.041309  3.321452e+06  3.064324e+06   14.935338   \n",
       "2  ucIR2NLLsC3T650L       5.584279  9.570885e+06  9.827776e+06   16.100723   \n",
       "3  jre1pJhcQj91Kdky      13.563031  1.421501e+07  1.255350e+07   16.345510   \n",
       "4  rQpYpY9nRG7X5mmr       4.688108  7.627120e+05  1.215194e+06   14.010415   \n",
       "\n",
       "   log_parea_pred_1       pred_2  log_pred_2  log_parea_pred_2        pred_3  \\\n",
       "0         12.129369    717209.94   13.483125         12.254022  6.656891e+05   \n",
       "1         13.538770   2899842.20   14.880167         13.483600  3.079196e+06   \n",
       "2         14.380769   9766813.00   16.094501         14.374546  9.814852e+06   \n",
       "3         13.738164  12699800.00   16.357097         13.749750  1.255981e+07   \n",
       "4         12.465389   2012610.50   14.514944         12.969916  1.128419e+06   \n",
       "\n",
       "           ...            log_pred_27  log_parea_pred_27       pred_28  \\\n",
       "0          ...              13.381324          12.152221  6.374413e+05   \n",
       "1          ...              14.955716          13.559149  3.160098e+06   \n",
       "2          ...              16.092359          14.372404  9.804749e+06   \n",
       "3          ...              16.348848          13.741502  1.263065e+07   \n",
       "4          ...              13.938992          12.393966  1.132637e+06   \n",
       "\n",
       "   log_pred_28  log_parea_pred_28       pred_29  log_pred_29  \\\n",
       "0    13.365219          12.136116  6.274171e+05    13.349368   \n",
       "1    14.966114          13.569546  3.145481e+06    14.961478   \n",
       "2    16.098377          14.378423  9.762486e+06    16.094058   \n",
       "3    16.351637          13.744290  1.262574e+07    16.351248   \n",
       "4    13.940060          12.395034  1.128514e+06    13.936413   \n",
       "\n",
       "   log_parea_pred_29  log_total_price  log_parea_total_price  \n",
       "0          12.120265        13.381036              12.151933  \n",
       "1          13.564910        15.015913              13.619345  \n",
       "2          14.374103        16.074236              14.354282  \n",
       "3          13.743901        16.469809              13.862462  \n",
       "4          12.391388        13.544637              11.999613  \n",
       "\n",
       "[5 rows x 86 columns]"
      ]
     },
     "metadata": {},
     "output_type": "display_data"
    },
    {
     "data": {
      "text/html": [
       "<div>\n",
       "<style scoped>\n",
       "    .dataframe tbody tr th:only-of-type {\n",
       "        vertical-align: middle;\n",
       "    }\n",
       "\n",
       "    .dataframe tbody tr th {\n",
       "        vertical-align: top;\n",
       "    }\n",
       "\n",
       "    .dataframe thead th {\n",
       "        text-align: right;\n",
       "    }\n",
       "</style>\n",
       "<table border=\"1\" class=\"dataframe\">\n",
       "  <thead>\n",
       "    <tr style=\"text-align: right;\">\n",
       "      <th></th>\n",
       "      <th>building_id</th>\n",
       "      <th>building_area</th>\n",
       "      <th>pred_1</th>\n",
       "      <th>log_pred_1</th>\n",
       "      <th>log_parea_pred_1</th>\n",
       "      <th>pred_2</th>\n",
       "      <th>log_pred_2</th>\n",
       "      <th>log_parea_pred_2</th>\n",
       "      <th>pred_3</th>\n",
       "      <th>log_pred_3</th>\n",
       "      <th>...</th>\n",
       "      <th>log_parea_pred_26</th>\n",
       "      <th>pred_27</th>\n",
       "      <th>log_pred_27</th>\n",
       "      <th>log_parea_pred_27</th>\n",
       "      <th>pred_28</th>\n",
       "      <th>log_pred_28</th>\n",
       "      <th>log_parea_pred_28</th>\n",
       "      <th>pred_29</th>\n",
       "      <th>log_pred_29</th>\n",
       "      <th>log_parea_pred_29</th>\n",
       "    </tr>\n",
       "  </thead>\n",
       "  <tbody>\n",
       "    <tr>\n",
       "      <th>0</th>\n",
       "      <td>X5gsdTWGS3W7JJQB</td>\n",
       "      <td>3.418175</td>\n",
       "      <td>1.526912e+07</td>\n",
       "      <td>16.541343</td>\n",
       "      <td>15.312236</td>\n",
       "      <td>12470072.0</td>\n",
       "      <td>16.338842</td>\n",
       "      <td>15.109735</td>\n",
       "      <td>1.531685e+07</td>\n",
       "      <td>16.544464</td>\n",
       "      <td>...</td>\n",
       "      <td>15.195091</td>\n",
       "      <td>1.405424e+07</td>\n",
       "      <td>16.458435</td>\n",
       "      <td>15.229328</td>\n",
       "      <td>1.485198e+07</td>\n",
       "      <td>16.513644</td>\n",
       "      <td>15.284537</td>\n",
       "      <td>1.458851e+07</td>\n",
       "      <td>16.495745</td>\n",
       "      <td>15.266638</td>\n",
       "    </tr>\n",
       "    <tr>\n",
       "      <th>1</th>\n",
       "      <td>BTshNOJyKHnT2YIT</td>\n",
       "      <td>7.726227</td>\n",
       "      <td>3.924241e+06</td>\n",
       "      <td>15.182684</td>\n",
       "      <td>13.138065</td>\n",
       "      <td>3916552.2</td>\n",
       "      <td>15.180723</td>\n",
       "      <td>13.136104</td>\n",
       "      <td>3.977095e+06</td>\n",
       "      <td>15.196062</td>\n",
       "      <td>...</td>\n",
       "      <td>13.135851</td>\n",
       "      <td>3.932854e+06</td>\n",
       "      <td>15.184876</td>\n",
       "      <td>13.140257</td>\n",
       "      <td>3.925095e+06</td>\n",
       "      <td>15.182901</td>\n",
       "      <td>13.138282</td>\n",
       "      <td>3.930381e+06</td>\n",
       "      <td>15.184247</td>\n",
       "      <td>13.139628</td>\n",
       "    </tr>\n",
       "    <tr>\n",
       "      <th>2</th>\n",
       "      <td>dhdymr0lV8N5kZOT</td>\n",
       "      <td>12.170581</td>\n",
       "      <td>1.096127e+07</td>\n",
       "      <td>16.209879</td>\n",
       "      <td>13.710858</td>\n",
       "      <td>11912735.0</td>\n",
       "      <td>16.293119</td>\n",
       "      <td>13.794098</td>\n",
       "      <td>1.084967e+07</td>\n",
       "      <td>16.199646</td>\n",
       "      <td>...</td>\n",
       "      <td>13.692710</td>\n",
       "      <td>1.040041e+07</td>\n",
       "      <td>16.157355</td>\n",
       "      <td>13.658335</td>\n",
       "      <td>1.066340e+07</td>\n",
       "      <td>16.182328</td>\n",
       "      <td>13.683307</td>\n",
       "      <td>1.053625e+07</td>\n",
       "      <td>16.170332</td>\n",
       "      <td>13.671312</td>\n",
       "    </tr>\n",
       "    <tr>\n",
       "      <th>3</th>\n",
       "      <td>VEwyGGMcD56w5BOc</td>\n",
       "      <td>2.252256</td>\n",
       "      <td>6.155550e+06</td>\n",
       "      <td>15.632865</td>\n",
       "      <td>14.820933</td>\n",
       "      <td>5940670.0</td>\n",
       "      <td>15.597333</td>\n",
       "      <td>14.785400</td>\n",
       "      <td>6.015238e+06</td>\n",
       "      <td>15.609807</td>\n",
       "      <td>...</td>\n",
       "      <td>14.801146</td>\n",
       "      <td>5.905111e+06</td>\n",
       "      <td>15.591329</td>\n",
       "      <td>14.779397</td>\n",
       "      <td>6.025775e+06</td>\n",
       "      <td>15.611557</td>\n",
       "      <td>14.799625</td>\n",
       "      <td>5.922934e+06</td>\n",
       "      <td>15.594343</td>\n",
       "      <td>14.782410</td>\n",
       "    </tr>\n",
       "    <tr>\n",
       "      <th>4</th>\n",
       "      <td>wmUeMoJZfsqaSX9b</td>\n",
       "      <td>5.813985</td>\n",
       "      <td>1.062995e+06</td>\n",
       "      <td>13.876602</td>\n",
       "      <td>12.116340</td>\n",
       "      <td>1088488.1</td>\n",
       "      <td>13.900301</td>\n",
       "      <td>12.140039</td>\n",
       "      <td>1.027248e+06</td>\n",
       "      <td>13.842395</td>\n",
       "      <td>...</td>\n",
       "      <td>12.147091</td>\n",
       "      <td>1.048505e+06</td>\n",
       "      <td>13.862877</td>\n",
       "      <td>12.102615</td>\n",
       "      <td>1.078927e+06</td>\n",
       "      <td>13.891479</td>\n",
       "      <td>12.131217</td>\n",
       "      <td>1.092658e+06</td>\n",
       "      <td>13.904125</td>\n",
       "      <td>12.143863</td>\n",
       "    </tr>\n",
       "  </tbody>\n",
       "</table>\n",
       "<p>5 rows × 83 columns</p>\n",
       "</div>"
      ],
      "text/plain": [
       "        building_id  building_area        pred_1  log_pred_1  \\\n",
       "0  X5gsdTWGS3W7JJQB       3.418175  1.526912e+07   16.541343   \n",
       "1  BTshNOJyKHnT2YIT       7.726227  3.924241e+06   15.182684   \n",
       "2  dhdymr0lV8N5kZOT      12.170581  1.096127e+07   16.209879   \n",
       "3  VEwyGGMcD56w5BOc       2.252256  6.155550e+06   15.632865   \n",
       "4  wmUeMoJZfsqaSX9b       5.813985  1.062995e+06   13.876602   \n",
       "\n",
       "   log_parea_pred_1      pred_2  log_pred_2  log_parea_pred_2        pred_3  \\\n",
       "0         15.312236  12470072.0   16.338842         15.109735  1.531685e+07   \n",
       "1         13.138065   3916552.2   15.180723         13.136104  3.977095e+06   \n",
       "2         13.710858  11912735.0   16.293119         13.794098  1.084967e+07   \n",
       "3         14.820933   5940670.0   15.597333         14.785400  6.015238e+06   \n",
       "4         12.116340   1088488.1   13.900301         12.140039  1.027248e+06   \n",
       "\n",
       "   log_pred_3        ...          log_parea_pred_26       pred_27  \\\n",
       "0   16.544464        ...                  15.195091  1.405424e+07   \n",
       "1   15.196062        ...                  13.135851  3.932854e+06   \n",
       "2   16.199646        ...                  13.692710  1.040041e+07   \n",
       "3   15.609807        ...                  14.801146  5.905111e+06   \n",
       "4   13.842395        ...                  12.147091  1.048505e+06   \n",
       "\n",
       "   log_pred_27  log_parea_pred_27       pred_28  log_pred_28  \\\n",
       "0    16.458435          15.229328  1.485198e+07    16.513644   \n",
       "1    15.184876          13.140257  3.925095e+06    15.182901   \n",
       "2    16.157355          13.658335  1.066340e+07    16.182328   \n",
       "3    15.591329          14.779397  6.025775e+06    15.611557   \n",
       "4    13.862877          12.102615  1.078927e+06    13.891479   \n",
       "\n",
       "   log_parea_pred_28       pred_29  log_pred_29  log_parea_pred_29  \n",
       "0          15.284537  1.458851e+07    16.495745          15.266638  \n",
       "1          13.138282  3.930381e+06    15.184247          13.139628  \n",
       "2          13.683307  1.053625e+07    16.170332          13.671312  \n",
       "3          14.799625  5.922934e+06    15.594343          14.782410  \n",
       "4          12.131217  1.092658e+06    13.904125          12.143863  \n",
       "\n",
       "[5 rows x 83 columns]"
      ]
     },
     "metadata": {},
     "output_type": "display_data"
    }
   ],
   "source": [
    "display(cv.head())\n",
    "display(test.head())"
   ]
  },
  {
   "cell_type": "markdown",
   "metadata": {},
   "source": [
    "### Check models scores"
   ]
  },
  {
   "cell_type": "code",
   "execution_count": 12,
   "metadata": {},
   "outputs": [
    {
     "name": "stdout",
     "output_type": "stream",
     "text": [
      " 0 model-01 5870.873059\n",
      " 1 model-02 5400.852164\n",
      " 2 model-03 5877.873452\n",
      " 3 model-04 5713.867808\n",
      " 4 model-05 5724.869598\n",
      " 5 model-06 5886.873769\n",
      " 6 model-07 5171.836449\n",
      " 7 model-08 5514.858826\n",
      " 8 model-09 5872.873118\n",
      " 9 model-10 5897.873845\n",
      "10 model-12 5486.856963\n",
      "11 model-13 5506.858055\n",
      "12 model-14 5908.873901\n",
      "13 model-15 5900.873836\n",
      "14 model-16 5907.874126\n",
      "15 model-17 5905.874165\n",
      "16 model-18 5908.874297\n",
      "17 model-19 5911.874156\n",
      "18 model-20 5908.874040\n",
      "19 model-21 5758.870702\n",
      "20 model-22 5752.870671\n",
      "21 model-24 5866.873835\n",
      "22 model-25 5908.874238\n",
      "23 model-26 5918.873998\n",
      "24 model-27 5892.873194\n",
      "25 model-28 5901.874202\n",
      "26 model-29 5884.873848\n"
     ]
    }
   ],
   "source": [
    "for i, idx_model in enumerate(idx_models):\n",
    "    print('%2d'%i, 'model-%02d'%idx_model, '%.6f'%cal_score(cv['total_price'], cv[f'pred_{idx_model}']))"
   ]
  },
  {
   "cell_type": "code",
   "execution_count": 13,
   "metadata": {},
   "outputs": [],
   "source": [
    "cv['constant_1'] = 1\n",
    "test['constant_1'] = 1\n",
    "\n",
    "if is_per_area:\n",
    "    cols_opt = [f'log_parea_pred_{idx}' for idx in idx_models]\n",
    "else:\n",
    "    cols_opt = [f'log_pred_{idx}' for idx in idx_models]\n",
    "\n",
    "if add_intercept:\n",
    "    cols_opt.append('constant_1')"
   ]
  },
  {
   "cell_type": "markdown",
   "metadata": {},
   "source": [
    "### Define opt function"
   ]
  },
  {
   "cell_type": "code",
   "execution_count": 14,
   "metadata": {},
   "outputs": [],
   "source": [
    "def objective(x, idx, metric, best_score, best_coeffs, verbose):\n",
    "    cv_pred_final = cv.loc[idx,cols_opt].dot(x)\n",
    "    \n",
    "    if is_per_area:\n",
    "        cv_pred_final = np.expm1(cv_pred_final) * cv.loc[idx,'building_area']\n",
    "    else:\n",
    "        cv_pred_final = np.expm1(cv_pred_final)\n",
    "\n",
    "    score = cal_score(cv.loc[idx,'total_price'], cv_pred_final)\n",
    "    if score > best_score[metric]:\n",
    "        best_score[metric] = score\n",
    "        best_coeffs[metric] = x.copy()\n",
    "        if verbose:\n",
    "            print('find better score:')\n",
    "            print('score: ', score)\n",
    "            print('coeffs: ', x)\n",
    "            print()\n",
    "    \n",
    "    if metric == 'mape':\n",
    "        return cal_mape(cv.loc[idx,'total_price'], cv_pred_final)\n",
    "    elif metric == 'mse':\n",
    "        return mean_squared_error(cv.loc[idx,'total_price'], cv_pred_final)\n",
    "    elif metric == 'mae':\n",
    "        return mean_absolute_error(cv.loc[idx,'total_price'], cv_pred_final)\n",
    "    elif metric == 'smooth':\n",
    "        return cal_score_smooth(cv.loc[idx,'total_price'], cv_pred_final)\n",
    "    else:\n",
    "        raise Exception('metric unknown: {}'.format(metric))\n",
    "#    return 1 - (cal_score(cv['total_price'], cv_pred_final)/10000)"
   ]
  },
  {
   "cell_type": "markdown",
   "metadata": {},
   "source": [
    "### CV"
   ]
  },
  {
   "cell_type": "code",
   "execution_count": 15,
   "metadata": {},
   "outputs": [
    {
     "name": "stderr",
     "output_type": "stream",
     "text": [
      "/Library/Frameworks/Python.framework/Versions/3.6/lib/python3.6/site-packages/sklearn/model_selection/_split.py:431: FutureWarning: The default value of n_split will change from 3 to 5 in version 0.22. Specify it explicitly to silence this warning.\n",
      "  warnings.warn(NSPLIT_WARNING, FutureWarning)\n",
      "/Library/Frameworks/Python.framework/Versions/3.6/lib/python3.6/site-packages/ipykernel_launcher.py:7: RuntimeWarning: overflow encountered in expm1\n",
      "  import sys\n",
      "/Library/Frameworks/Python.framework/Versions/3.6/lib/python3.6/site-packages/scipy/optimize/optimize.py:663: RuntimeWarning: invalid value encountered in double_scalars\n",
      "  grad[k] = (f(*((xk + d,) + args)) - f0) / d[k]\n",
      "/Library/Frameworks/Python.framework/Versions/3.6/lib/python3.6/site-packages/ipykernel_launcher.py:7: RuntimeWarning: overflow encountered in expm1\n",
      "  import sys\n",
      "/Library/Frameworks/Python.framework/Versions/3.6/lib/python3.6/site-packages/ipykernel_launcher.py:7: RuntimeWarning: overflow encountered in expm1\n",
      "  import sys\n",
      "/Library/Frameworks/Python.framework/Versions/3.6/lib/python3.6/site-packages/scipy/optimize/optimize.py:663: RuntimeWarning: invalid value encountered in double_scalars\n",
      "  grad[k] = (f(*((xk + d,) + args)) - f0) / d[k]\n",
      "/Library/Frameworks/Python.framework/Versions/3.6/lib/python3.6/site-packages/ipykernel_launcher.py:7: RuntimeWarning: overflow encountered in expm1\n",
      "  import sys\n",
      "/Library/Frameworks/Python.framework/Versions/3.6/lib/python3.6/site-packages/ipykernel_launcher.py:7: RuntimeWarning: overflow encountered in expm1\n",
      "  import sys\n",
      "/Library/Frameworks/Python.framework/Versions/3.6/lib/python3.6/site-packages/scipy/optimize/optimize.py:663: RuntimeWarning: invalid value encountered in double_scalars\n",
      "  grad[k] = (f(*((xk + d,) + args)) - f0) / d[k]\n",
      "/Library/Frameworks/Python.framework/Versions/3.6/lib/python3.6/site-packages/ipykernel_launcher.py:7: RuntimeWarning: overflow encountered in expm1\n",
      "  import sys\n",
      "/Library/Frameworks/Python.framework/Versions/3.6/lib/python3.6/site-packages/ipykernel_launcher.py:7: RuntimeWarning: overflow encountered in expm1\n",
      "  import sys\n",
      "/Library/Frameworks/Python.framework/Versions/3.6/lib/python3.6/site-packages/scipy/optimize/optimize.py:663: RuntimeWarning: invalid value encountered in double_scalars\n",
      "  grad[k] = (f(*((xk + d,) + args)) - f0) / d[k]\n",
      "/Library/Frameworks/Python.framework/Versions/3.6/lib/python3.6/site-packages/ipykernel_launcher.py:7: RuntimeWarning: overflow encountered in expm1\n",
      "  import sys\n"
     ]
    },
    {
     "name": "stdout",
     "output_type": "stream",
     "text": [
      "CV score ?: 5946.87588929046; [5930.8735372190795, 5948.874382324803, 5960.879748327497]\n"
     ]
    }
   ],
   "source": [
    "from sklearn.model_selection import KFold\n",
    "\n",
    "cv = cv.reset_index(drop=True)\n",
    "#cv = cv.head(100)\n",
    "\n",
    "len_x = len(cols_opt)\n",
    "rev_len_x = 1/len_x\n",
    "x0s = [[1/len_x for i in range(len_x)],\n",
    "       [0 for i in range(len_x)],\n",
    "       [0.1 for i in range(len_x)],\n",
    "       [0.2 for i in range(len_x)],\n",
    "       [0.5 for i in range(len_x)],\n",
    "       [np.random.randn()+1/len_x for i in range(len_x)],\n",
    "       [np.random.randn()+1/len_x for i in range(len_x)],\n",
    "       [np.random.randn()+1/len_x for i in range(len_x)] ]\n",
    "\n",
    "score_list = []\n",
    "\n",
    "kf = KFold(shuffle= True)\n",
    "for idx_train, idx_val in kf.split(cv):\n",
    "\n",
    "    best_score = {}\n",
    "    best_coeffs = {}\n",
    "\n",
    "    for metric in ['smooth']:\n",
    "    #for metric in ['mape', 'mae', 'mse']:\n",
    "        best_score[metric] = 0\n",
    "        best_coeffs[metric] = []\n",
    "        for x0 in x0s:\n",
    "#            print('Optimizing with init x0: {}'.format(x0))\n",
    "#            print()\n",
    "            minimize(objective, x0, args=(idx_train, metric, best_score, best_coeffs, False), tol=1e-4)\n",
    "    \n",
    "    val_pred_final = cv.loc[idx_val, cols_opt].dot(best_coeffs['smooth'])\n",
    "    if is_per_area:\n",
    "        val_pred_final = np.expm1(val_pred_final) * cv.loc[idx_val,'building_area']\n",
    "    else:\n",
    "        val_pred_final = np.expm1(val_pred_final)\n",
    "    score = cal_score(cv.loc[idx_val, 'total_price'], val_pred_final)\n",
    "    \n",
    "    score_list.append(score)\n",
    "\n",
    "print('CV score ?: {}; {}'.format(np.mean(score_list), score_list))"
   ]
  },
  {
   "cell_type": "markdown",
   "metadata": {},
   "source": [
    "### Optimize"
   ]
  },
  {
   "cell_type": "code",
   "execution_count": 16,
   "metadata": {
    "scrolled": false
   },
   "outputs": [
    {
     "name": "stdout",
     "output_type": "stream",
     "text": [
      "Optimizing with init x0: [0.03571428571428571, 0.03571428571428571, 0.03571428571428571, 0.03571428571428571, 0.03571428571428571, 0.03571428571428571, 0.03571428571428571, 0.03571428571428571, 0.03571428571428571, 0.03571428571428571, 0.03571428571428571, 0.03571428571428571, 0.03571428571428571, 0.03571428571428571, 0.03571428571428571, 0.03571428571428571, 0.03571428571428571, 0.03571428571428571, 0.03571428571428571, 0.03571428571428571, 0.03571428571428571, 0.03571428571428571, 0.03571428571428571, 0.03571428571428571, 0.03571428571428571, 0.03571428571428571, 0.03571428571428571, 0.03571428571428571]\n",
      "\n",
      "find better score:\n",
      "score:  156.5981583838929\n",
      "coeffs:  [0.03571429 0.03571429 0.03571429 0.03571429 0.03571429 0.03571429\n",
      " 0.03571429 0.03571429 0.03571429 0.03571429 0.03571429 0.03571429\n",
      " 0.03571429 0.03571429 0.03571429 0.03571429 0.03571429 0.03571429\n",
      " 0.03571429 0.03571429 0.03571429 0.03571429 0.03571429 0.03571429\n",
      " 0.03571429 0.03571429 0.03571429 0.03571429]\n",
      "\n",
      "find better score:\n",
      "score:  156.59815851613146\n",
      "coeffs:  [0.0357143  0.03571429 0.03571429 0.03571429 0.03571429 0.03571429\n",
      " 0.03571429 0.03571429 0.03571429 0.03571429 0.03571429 0.03571429\n",
      " 0.03571429 0.03571429 0.03571429 0.03571429 0.03571429 0.03571429\n",
      " 0.03571429 0.03571429 0.03571429 0.03571429 0.03571429 0.03571429\n",
      " 0.03571429 0.03571429 0.03571429 0.03571429]\n",
      "\n",
      "find better score:\n",
      "score:  156.59815851613183\n",
      "coeffs:  [0.03571429 0.03571429 0.0357143  0.03571429 0.03571429 0.03571429\n",
      " 0.03571429 0.03571429 0.03571429 0.03571429 0.03571429 0.03571429\n",
      " 0.03571429 0.03571429 0.03571429 0.03571429 0.03571429 0.03571429\n",
      " 0.03571429 0.03571429 0.03571429 0.03571429 0.03571429 0.03571429\n",
      " 0.03571429 0.03571429 0.03571429 0.03571429]\n",
      "\n",
      "find better score:\n",
      "score:  156.59815851613666\n",
      "coeffs:  [0.03571429 0.03571429 0.03571429 0.0357143  0.03571429 0.03571429\n",
      " 0.03571429 0.03571429 0.03571429 0.03571429 0.03571429 0.03571429\n",
      " 0.03571429 0.03571429 0.03571429 0.03571429 0.03571429 0.03571429\n",
      " 0.03571429 0.03571429 0.03571429 0.03571429 0.03571429 0.03571429\n",
      " 0.03571429 0.03571429 0.03571429 0.03571429]\n",
      "\n",
      "find better score:\n",
      "score:  156.59815851613675\n",
      "coeffs:  [0.03571429 0.03571429 0.03571429 0.03571429 0.0357143  0.03571429\n",
      " 0.03571429 0.03571429 0.03571429 0.03571429 0.03571429 0.03571429\n",
      " 0.03571429 0.03571429 0.03571429 0.03571429 0.03571429 0.03571429\n",
      " 0.03571429 0.03571429 0.03571429 0.03571429 0.03571429 0.03571429\n",
      " 0.03571429 0.03571429 0.03571429 0.03571429]\n",
      "\n",
      "find better score:\n",
      "score:  156.59815851613703\n",
      "coeffs:  [0.03571429 0.03571429 0.03571429 0.03571429 0.03571429 0.03571429\n",
      " 0.03571429 0.03571429 0.03571429 0.03571429 0.03571429 0.03571429\n",
      " 0.03571429 0.03571429 0.03571429 0.03571429 0.03571429 0.03571429\n",
      " 0.03571429 0.03571429 0.0357143  0.03571429 0.03571429 0.03571429\n",
      " 0.03571429 0.03571429 0.03571429 0.03571429]\n",
      "\n",
      "find better score:\n",
      "score:  5918.873819918077\n",
      "coeffs:  [0.03697413 0.03697319 0.03697412 0.03697463 0.03697388 0.03697416\n",
      " 0.03697323 0.03697363 0.03697419 0.03697431 0.0369735  0.03697368\n",
      " 0.03697427 0.03697431 0.03697423 0.03697427 0.03697427 0.03697425\n",
      " 0.03697424 0.03697381 0.03697383 0.03697395 0.03697419 0.0369743\n",
      " 0.03697427 0.0369742  0.0369742  0.03579758]\n",
      "\n",
      "find better score:\n",
      "score:  5942.875762596708\n",
      "coeffs:  [0.0369332  0.0369323  0.03693319 0.03693369 0.03693296 0.03693324\n",
      " 0.03693233 0.03693272 0.03693327 0.03693337 0.03693259 0.03693277\n",
      " 0.03693334 0.03693338 0.0369333  0.03693333 0.03693334 0.03693332\n",
      " 0.03693331 0.03693289 0.03693291 0.03693303 0.03693326 0.03693337\n",
      " 0.03693334 0.03693327 0.03693327 0.03579487]\n",
      "\n",
      "find better score:\n",
      "score:  5946.875524354219\n",
      "coeffs:  [0.03694635 0.03694544 0.03694634 0.03694684 0.03694611 0.03694639\n",
      " 0.03694548 0.03694587 0.03694642 0.03694653 0.03694574 0.03694592\n",
      " 0.03694649 0.03694653 0.03694646 0.03694649 0.03694649 0.03694647\n",
      " 0.03694646 0.03694604 0.03694606 0.03694618 0.03694641 0.03694652\n",
      " 0.0369465  0.03694643 0.03694643 0.03579574]\n",
      "\n",
      "find better score:\n",
      "score:  5952.875710719753\n",
      "coeffs:  [ 0.01746577  0.02015901  0.02378305  0.03082809  0.06476712  0.02444382\n",
      "  0.02052714  0.06862487  0.02260348  0.02657686  0.01738706  0.03353706\n",
      "  0.02439186  0.02633228  0.03192516  0.03425113  0.03852264  0.04237044\n",
      "  0.0359836   0.05501876  0.05401229  0.07366621  0.04068331  0.04775215\n",
      "  0.0571535   0.03642833  0.03188562 -0.01720401]\n",
      "\n",
      "find better score:\n",
      "score:  5954.875818342062\n",
      "coeffs:  [-0.00655305  0.01797627  0.00742147  0.02444935  0.08229602  0.00874645\n",
      "  0.02821296  0.11198316  0.00479702  0.01187416  0.01415887  0.04396636\n",
      "  0.00721798  0.0114407   0.02351646  0.02833377  0.03746634  0.04552957\n",
      "  0.03144813  0.06078749  0.05834409  0.11349115  0.04161047  0.05800415\n",
      "  0.07990736  0.03217623  0.02264203 -0.02047641]\n",
      "\n",
      "find better score:\n",
      "score:  5958.875934212256\n",
      "coeffs:  [-3.17859811e-02  1.64602460e-03 -7.22484006e-03  2.18221885e-02\n",
      "  7.70155478e-02 -4.41583773e-03  3.11159549e-02  1.40589241e-01\n",
      " -9.81687825e-03  9.58957451e-05 -7.39936927e-03  3.60211388e-02\n",
      " -8.25065018e-03 -6.87976477e-04  2.12852038e-02  3.00776622e-02\n",
      "  4.54735169e-02  6.06352405e-02  3.36999713e-02  3.82175768e-02\n",
      "  3.35431962e-02  1.79511467e-01  5.30248124e-02  8.51492645e-02\n",
      "  1.29679337e-01  3.50664467e-02  1.77408131e-02 -3.00257569e-02]\n",
      "\n",
      "find better score:\n",
      "score:  5962.875998934238\n",
      "coeffs:  [-0.04027271  0.03861698 -0.00774465  0.0127952   0.08633461 -0.00273735\n",
      "  0.00153168  0.1293737  -0.00664575 -0.01171204  0.00051479  0.03340038\n",
      " -0.02345583 -0.01317056  0.01958629  0.03245838  0.05254567  0.06595373\n",
      "  0.0252019   0.02460497  0.017357    0.21574932  0.0535084   0.10578972\n",
      "  0.16925711  0.02693909 -0.00299197 -0.04551785]\n",
      "\n",
      "find better score:\n",
      "score:  5964.876107519825\n",
      "coeffs:  [-0.0417829   0.05264466 -0.00091744 -0.00194599  0.11141417  0.00786783\n",
      "  0.03311691  0.09101109  0.00548228 -0.02810836  0.00987988  0.02097518\n",
      " -0.0448302  -0.03047456  0.01776505  0.03673745  0.06323101  0.06675363\n",
      "  0.00633451  0.01621427  0.00590908  0.24787682  0.0470873   0.12927528\n",
      "  0.2143928   0.00891739 -0.04017833 -0.07539128]\n",
      "\n",
      "find better score:\n",
      "score:  5966.876100721796\n",
      "coeffs:  [-0.03012491 -0.00928048  0.01911246  0.00550061  0.13094008  0.03552847\n",
      "  0.01879597  0.10396998  0.03146752 -0.04216189  0.04095677  0.05471006\n",
      " -0.06714551 -0.0457829   0.02396653  0.05354454  0.08728508  0.06226261\n",
      " -0.02697504 -0.00699236 -0.02039498  0.25194154  0.03162479  0.16023194\n",
      "  0.26134419 -0.02234062 -0.09603702 -0.09665465]\n",
      "\n",
      "find better score:\n",
      "score:  5967.876014588178\n",
      "coeffs:  [-0.0877884   0.02753141 -0.01462937  0.00422215  0.16518299  0.07509147\n",
      "  0.02469946  0.11372706  0.017426   -0.09857151 -0.00089694  0.03774388\n",
      " -0.1518604  -0.05447347  0.07379508  0.24430111  0.11883574  0.00352439\n",
      " -0.28588884 -0.03806821 -0.03573206  0.26226443  0.06908582  0.4831876\n",
      "  0.26309184 -0.13709085 -0.07391632 -0.07786157]\n",
      "\n",
      "find better score:\n",
      "score:  5967.876018361552\n",
      "coeffs:  [-8.99462939e-02  2.47992132e-02  1.59820831e-03  2.11569191e-04\n",
      "  1.63926825e-01  7.03731892e-02  2.46047735e-02  1.14655505e-01\n",
      "  9.72531343e-03 -1.09338545e-01  2.22076732e-03  3.59141656e-02\n",
      " -1.44572620e-01 -2.08451398e-02  7.68981462e-02  2.78734430e-01\n",
      "  5.24920892e-02 -6.51589465e-02 -3.54306164e-01 -4.24145261e-02\n",
      " -2.65672371e-02  2.69024111e-01  1.33848033e-01  5.50486211e-01\n",
      "  2.60934109e-01 -1.21965801e-01 -9.05681352e-02 -7.73866151e-02]\n",
      "\n",
      "find better score:\n",
      "score:  5968.876024796799\n",
      "coeffs:  [-0.09264849  0.0245115   0.00496128 -0.00060025  0.15923456  0.07000772\n",
      "  0.02455074  0.11483452  0.01068023 -0.12683806  0.00250031  0.03633979\n",
      " -0.14948864 -0.02109661  0.08517427  0.28458024  0.05465656 -0.10343128\n",
      " -0.36414324 -0.04221339 -0.02129318  0.26579316  0.16716679  0.5505316\n",
      "  0.26931659 -0.09521603 -0.10311372 -0.07729417]\n",
      "\n",
      "find better score:\n",
      "score:  5968.876026700076\n",
      "coeffs:  [-0.08944524  0.02537798 -0.00394453  0.00087074  0.16324141  0.06840751\n",
      "  0.02475537  0.11503147  0.01829216 -0.13688507  0.0015887   0.0362932\n",
      " -0.14965072 -0.02397256  0.0926114   0.28534851  0.05933019 -0.13931479\n",
      " -0.367989   -0.04552393 -0.02236184  0.26438884  0.18525354  0.55447261\n",
      "  0.26788397 -0.08630058 -0.0930142  -0.07710167]\n",
      "\n",
      "Optimizing with init x0: [0, 0, 0, 0, 0, 0, 0, 0, 0, 0, 0, 0, 0, 0, 0, 0, 0, 0, 0, 0, 0, 0, 0, 0, 0, 0, 0, 0]\n",
      "\n"
     ]
    },
    {
     "name": "stdout",
     "output_type": "stream",
     "text": [
      "Optimizing with init x0: [0.1, 0.1, 0.1, 0.1, 0.1, 0.1, 0.1, 0.1, 0.1, 0.1, 0.1, 0.1, 0.1, 0.1, 0.1, 0.1, 0.1, 0.1, 0.1, 0.1, 0.1, 0.1, 0.1, 0.1, 0.1, 0.1, 0.1, 0.1]\n",
      "\n",
      "Optimizing with init x0: [0.2, 0.2, 0.2, 0.2, 0.2, 0.2, 0.2, 0.2, 0.2, 0.2, 0.2, 0.2, 0.2, 0.2, 0.2, 0.2, 0.2, 0.2, 0.2, 0.2, 0.2, 0.2, 0.2, 0.2, 0.2, 0.2, 0.2, 0.2]\n",
      "\n",
      "find better score:\n",
      "score:  5970.876040342699\n",
      "coeffs:  [-0.09076836  0.027367   -0.0062148   0.00059445  0.14634615  0.02468042\n",
      "  0.0273424   0.11254982  0.04304117 -0.15417196 -0.00547647  0.04447155\n",
      " -0.10905533  0.02863779  0.09898718  0.16966845  0.1187453  -0.15844634\n",
      " -0.43496955 -0.05846366  0.009785    0.25771484  0.20539622  0.54049937\n",
      "  0.29205501 -0.01686533 -0.10853864 -0.0797816 ]\n",
      "\n",
      "Optimizing with init x0: [0.5, 0.5, 0.5, 0.5, 0.5, 0.5, 0.5, 0.5, 0.5, 0.5, 0.5, 0.5, 0.5, 0.5, 0.5, 0.5, 0.5, 0.5, 0.5, 0.5, 0.5, 0.5, 0.5, 0.5, 0.5, 0.5, 0.5, 0.5]\n",
      "\n"
     ]
    },
    {
     "name": "stderr",
     "output_type": "stream",
     "text": [
      "/Library/Frameworks/Python.framework/Versions/3.6/lib/python3.6/site-packages/ipykernel_launcher.py:7: RuntimeWarning: overflow encountered in expm1\n",
      "  import sys\n",
      "/Library/Frameworks/Python.framework/Versions/3.6/lib/python3.6/site-packages/scipy/optimize/optimize.py:663: RuntimeWarning: invalid value encountered in double_scalars\n",
      "  grad[k] = (f(*((xk + d,) + args)) - f0) / d[k]\n",
      "/Library/Frameworks/Python.framework/Versions/3.6/lib/python3.6/site-packages/ipykernel_launcher.py:7: RuntimeWarning: overflow encountered in expm1\n",
      "  import sys\n"
     ]
    },
    {
     "name": "stdout",
     "output_type": "stream",
     "text": [
      "Optimizing with init x0: [-1.7717698550153698, 1.1879230289092335, -0.8862622590986257, 0.6671419222220298, -0.7436874860589677, -0.7734427902498198, 0.8593929781184869, 0.06249282545082102, -0.5106601057935645, -1.3202152376612284, -1.5507417808128967, -1.047351340626693, 1.353271889026709, -0.622470331417182, 1.8093871214929753, -0.8497620615114726, -1.81475786464037, -1.2711259622962066, 0.2013319561546556, 0.28303873381670974, 0.3605143669136627, -0.26533877799301975, 1.5292561776069682, 0.2286931053160941, -1.4918201344198467, -1.862498974836027, 0.4070994378756307, 1.385174614202625]\n",
      "\n",
      "Optimizing with init x0: [0.9931235405632884, 1.2022736417570508, -1.776474842954211, -0.8906221561031754, -1.7483614749469059, -1.694024843514193, 0.1011569754047187, 0.6343191568277255, -0.9349649186132718, -0.9738420300140068, -0.12343036755205362, 0.02923056993558066, -2.067990712393214, 0.4306363525085302, -0.40883295272943465, -0.5436225636526409, -0.3638893017599365, -0.8017358568526449, -0.0162426504503631, -0.04221438278976973, 0.6325317266459938, -0.6421828582977785, 0.1821252770669945, -0.1617346179282394, 0.5190614273991294, -0.22287287371585662, -0.7869061342683452, -0.0068243381173250725]\n",
      "\n",
      "Optimizing with init x0: [0.020516490602125348, 0.6059552325604153, 1.5411987254697204, -0.1921729345987696, -0.5367362966061312, -0.7216869544923337, 2.488363671361519, -0.11305803080066952, -0.47741050745849434, -0.2339486462222612, -0.8981118312835179, -0.06016083709227622, -1.526553905696802, 1.7518997641513907, 2.359432138233753, 0.635587276286122, 1.5777791523478635, 0.2098833939318715, 2.28177756350532, -0.09417608219300562, -1.7773514258476155, 0.8623504897699972, 0.09008730711669599, -0.12991692308748454, 0.6402544163202052, 0.8815809027336599, 0.581305138195278, 0.8373677986181618]\n",
      "\n"
     ]
    },
    {
     "name": "stderr",
     "output_type": "stream",
     "text": [
      "/Library/Frameworks/Python.framework/Versions/3.6/lib/python3.6/site-packages/ipykernel_launcher.py:7: RuntimeWarning: overflow encountered in expm1\n",
      "  import sys\n",
      "/Library/Frameworks/Python.framework/Versions/3.6/lib/python3.6/site-packages/scipy/optimize/optimize.py:663: RuntimeWarning: invalid value encountered in double_scalars\n",
      "  grad[k] = (f(*((xk + d,) + args)) - f0) / d[k]\n",
      "/Library/Frameworks/Python.framework/Versions/3.6/lib/python3.6/site-packages/ipykernel_launcher.py:7: RuntimeWarning: overflow encountered in expm1\n",
      "  import sys\n"
     ]
    }
   ],
   "source": [
    "best_score = {}\n",
    "best_coeffs = {}\n",
    "\n",
    "len_x = len(cols_opt)\n",
    "rev_len_x = 1/len_x\n",
    "x0s = [[1/len_x for i in range(len_x)],\n",
    "       [0 for i in range(len_x)],\n",
    "       [0.1 for i in range(len_x)],\n",
    "       [0.2 for i in range(len_x)],\n",
    "       [0.5 for i in range(len_x)],\n",
    "       [np.random.randn()+1/len_x for i in range(len_x)],\n",
    "       [np.random.randn()+1/len_x for i in range(len_x)],\n",
    "       [np.random.randn()+1/len_x for i in range(len_x)] ]\n",
    "\n",
    "for metric in ['smooth']:\n",
    "#for metric in ['mape', 'mae', 'mse']:\n",
    "    best_score[metric] = 0\n",
    "    best_coeffs[metric] = []\n",
    "    for x0 in x0s:\n",
    "        print('Optimizing with init x0: {}'.format(x0))\n",
    "        print()\n",
    "        minimize(objective, x0, args=(cv.index, metric, best_score, best_coeffs, True), tol=1e-4)"
   ]
  },
  {
   "cell_type": "code",
   "execution_count": 17,
   "metadata": {},
   "outputs": [
    {
     "data": {
      "text/plain": [
       "{'smooth': 5970.876040342699}"
      ]
     },
     "metadata": {},
     "output_type": "display_data"
    },
    {
     "data": {
      "text/plain": [
       "{'smooth': array([-0.09076836,  0.027367  , -0.0062148 ,  0.00059445,  0.14634615,\n",
       "         0.02468042,  0.0273424 ,  0.11254982,  0.04304117, -0.15417196,\n",
       "        -0.00547647,  0.04447155, -0.10905533,  0.02863779,  0.09898718,\n",
       "         0.16966845,  0.1187453 , -0.15844634, -0.43496955, -0.05846366,\n",
       "         0.009785  ,  0.25771484,  0.20539622,  0.54049937,  0.29205501,\n",
       "        -0.01686533, -0.10853864, -0.0797816 ])}"
      ]
     },
     "metadata": {},
     "output_type": "display_data"
    }
   ],
   "source": [
    "display(best_score)\n",
    "display(best_coeffs)"
   ]
  },
  {
   "cell_type": "markdown",
   "metadata": {},
   "source": [
    "### Compute submission"
   ]
  },
  {
   "cell_type": "code",
   "execution_count": 18,
   "metadata": {},
   "outputs": [],
   "source": [
    "test_pred_final = pd.DataFrame({'building_id': test['building_id']})\n",
    "\n",
    "test_pred_final['total_price'] = test.loc[:,cols_opt].dot(best_coeffs['smooth'])\n",
    "\n",
    "if is_per_area:\n",
    "    test_pred_final['total_price'] = np.expm1(test_pred_final['total_price']) * test['building_area'] \n",
    "else:\n",
    "    test_pred_final['total_price'] = np.expm1(test_pred_final['total_price'])\n",
    "    \n",
    "test_pred_final['total_price'] = np.clip(test_pred_final['total_price'], 0, None)\n",
    "\n",
    "if is_per_area:\n",
    "    test_pred_final.to_csv('output/stack_spopt-parea_{}_{}_smoothobj.csv'.format(stack_idx, models), index=False)\n",
    "else:\n",
    "    test_pred_final.to_csv('output/stack_spopt_{}_{}_smoothobj.csv'.format(stack_idx, models), index=False)"
   ]
  },
  {
   "cell_type": "markdown",
   "metadata": {},
   "source": [
    "### Plots"
   ]
  },
  {
   "cell_type": "code",
   "execution_count": 19,
   "metadata": {},
   "outputs": [],
   "source": [
    "import matplotlib.pyplot as plt"
   ]
  },
  {
   "cell_type": "code",
   "execution_count": 20,
   "metadata": {},
   "outputs": [
    {
     "name": "stderr",
     "output_type": "stream",
     "text": [
      "/Library/Frameworks/Python.framework/Versions/3.6/lib/python3.6/site-packages/matplotlib/axes/_axes.py:6571: UserWarning: The 'normed' kwarg is deprecated, and has been replaced by the 'density' kwarg.\n",
      "  warnings.warn(\"The 'normed' kwarg is deprecated, and has been \"\n"
     ]
    },
    {
     "data": {
      "image/png": "[encoded data removed]",
      "text/plain": [
       "<Figure size 432x288 with 1 Axes>"
      ]
     },
     "metadata": {
      "needs_background": "light"
     },
     "output_type": "display_data"
    }
   ],
   "source": [
    "plt.hist(cv['log_parea_total_price'], bins=100, label='train true', normed=True)\n",
    "plt.hist(np.log1p(test_pred_final['total_price'] / test['building_area']), bins=100, label='test',\n",
    "         normed=True, alpha=0.7)\n",
    "plt.xlabel('log(price/area + 1)'); plt.ylabel('ratio')\n",
    "plt.legend(); plt.grid(); plt.show()"
   ]
  },
  {
   "cell_type": "code",
   "execution_count": 21,
   "metadata": {},
   "outputs": [
    {
     "name": "stderr",
     "output_type": "stream",
     "text": [
      "/Library/Frameworks/Python.framework/Versions/3.6/lib/python3.6/site-packages/matplotlib/axes/_axes.py:6571: UserWarning: The 'normed' kwarg is deprecated, and has been replaced by the 'density' kwarg.\n",
      "  warnings.warn(\"The 'normed' kwarg is deprecated, and has been \"\n"
     ]
    },
    {
     "data": {
      "image/png": "[encoded data removed]",
      "text/plain": [
       "<Figure size 432x288 with 1 Axes>"
      ]
     },
     "metadata": {
      "needs_background": "light"
     },
     "output_type": "display_data"
    }
   ],
   "source": [
    "plt.hist(cv['log_total_price'], bins=100, label='train true', normed=True)\n",
    "plt.hist(np.log1p(test_pred_final['total_price']), bins=100, label='test', normed=True, alpha=0.7)\n",
    "plt.xlabel('log(price + 1)'); plt.ylabel('ratio')\n",
    "plt.legend(); plt.grid(); plt.show()"
   ]
  },
  {
   "cell_type": "code",
   "execution_count": 22,
   "metadata": {},
   "outputs": [
    {
     "name": "stderr",
     "output_type": "stream",
     "text": [
      "/Library/Frameworks/Python.framework/Versions/3.6/lib/python3.6/site-packages/matplotlib/axes/_axes.py:6571: UserWarning: The 'normed' kwarg is deprecated, and has been replaced by the 'density' kwarg.\n",
      "  warnings.warn(\"The 'normed' kwarg is deprecated, and has been \"\n"
     ]
    },
    {
     "data": {
      "image/png": "[encoded data removed]",
      "text/plain": [
       "<Figure size 432x288 with 1 Axes>"
      ]
     },
     "metadata": {
      "needs_background": "light"
     },
     "output_type": "display_data"
    }
   ],
   "source": [
    "plt.hist(np.log1p(cv['building_area']), bins=100, label='train', normed=True)\n",
    "plt.hist(np.log1p(test['building_area']), bins=100, label='test', normed=True, alpha=0.7)\n",
    "plt.xlabel('log(building_area + 1)'); plt.ylabel('ratio'); plt.yscale('log')\n",
    "plt.legend(); plt.grid(); plt.show()"
   ]
  },
  {
   "cell_type": "markdown",
   "metadata": {},
   "source": [
    "### mean log"
   ]
  },
  {
   "cell_type": "code",
   "execution_count": 23,
   "metadata": {},
   "outputs": [
    {
     "name": "stdout",
     "output_type": "stream",
     "text": [
      "[0, 0, 0.05263157894736842, 0, 0.05263157894736842, 0, 0, 0.05263157894736842, 0, 0, 0, 0.05263157894736842, 0.05263157894736842, 0, 0.05263157894736842, 0.05263157894736842, 0.05263157894736842, 0.05263157894736842, 0, 0.05263157894736842, 0, 0.05263157894736842, 0.05263157894736842, 0.05263157894736842, 0.05263157894736842, 0.05263157894736842, 0.05263157894736842, 0.05263157894736842, 0.05263157894736842, 0, 0.05263157894736842]\n"
     ]
    }
   ],
   "source": [
    "idxs = [3, 5, 8, 12, 13, 15, 16, 17, 18, 20, 22, 23, 24, 25, 26, 27, 28, 29, 31]\n",
    "print([1/len(idxs) if i in idxs else 0 for i in range(1,32)])"
   ]
  },
  {
   "cell_type": "markdown",
   "metadata": {},
   "source": [
    "### mean"
   ]
  },
  {
   "cell_type": "code",
   "execution_count": 24,
   "metadata": {},
   "outputs": [
    {
     "name": "stdout",
     "output_type": "stream",
     "text": [
      "[0, 0, 0, 0, 0.125, 0, 0, 0, 0, 0, 0, 0.125, 0, 0, 0, 0.125, 0, 0, 0, 0, 0, 0, 0.125, 0.125, 0.125, 0, 0.125, 0, 0, 0, 0.125]\n"
     ]
    }
   ],
   "source": [
    "idxs = [5, 12, 16, 23, 24, 25, 27, 31]\n",
    "print([1/len(idxs) if i in idxs else 0 for i in range(1,32)])"
   ]
  },
  {
   "cell_type": "code",
   "execution_count": null,
   "metadata": {},
   "outputs": [],
   "source": []
  }
 ],
 "metadata": {
  "kernelspec": {
   "display_name": "Python 3",
   "language": "python",
   "name": "python3"
  },
  "language_info": {
   "codemirror_mode": {
    "name": "ipython",
    "version": 3
   },
   "file_extension": ".py",
   "mimetype": "text/x-python",
   "name": "python",
   "nbconvert_exporter": "python",
   "pygments_lexer": "ipython3",
   "version": "3.6.6"
  },
  "toc": {
   "base_numbering": 1,
   "nav_menu": {},
   "number_sections": true,
   "sideBar": true,
   "skip_h1_title": true,
   "title_cell": "Table of Contents",
   "title_sidebar": "Contents",
   "toc_cell": false,
   "toc_position": {},
   "toc_section_display": true,
   "toc_window_display": true
  }
 },
 "nbformat": 4,
 "nbformat_minor": 2
}
